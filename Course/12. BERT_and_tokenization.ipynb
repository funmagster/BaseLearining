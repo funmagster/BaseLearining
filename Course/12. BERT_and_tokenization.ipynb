{
  "nbformat": 4,
  "nbformat_minor": 0,
  "metadata": {
    "colab": {
      "provenance": [],
      "gpuType": "T4"
    },
    "kernelspec": {
      "name": "python3",
      "display_name": "Python 3"
    },
    "language_info": {
      "name": "python"
    },
    "accelerator": "GPU"
  },
  "cells": [
    {
      "cell_type": "markdown",
      "source": [
        "# Распаковка файлов"
      ],
      "metadata": {
        "id": "R1qt6c8A8sXv"
      }
    },
    {
      "cell_type": "code",
      "source": [
        "!gdown --fuzzy https://drive.google.com/file/d/1tRrkTL_mo3fqrcppHHOd-y4JMIHh-opz/view?usp=sharing -O comments.json.gz"
      ],
      "metadata": {
        "colab": {
          "base_uri": "https://localhost:8080/"
        },
        "id": "SB4MUydgh_qJ",
        "outputId": "3ecb473a-57c3-41c1-9229-eb0f0ee422a1"
      },
      "execution_count": null,
      "outputs": [
        {
          "output_type": "stream",
          "name": "stdout",
          "text": [
            "Downloading...\n",
            "From (original): https://drive.google.com/uc?id=1tRrkTL_mo3fqrcppHHOd-y4JMIHh-opz\n",
            "From (redirected): https://drive.google.com/uc?id=1tRrkTL_mo3fqrcppHHOd-y4JMIHh-opz&confirm=t&uuid=0f7f6c74-d6bc-48d8-85e0-3c0902c2daaa\n",
            "To: /content/comments.json.gz\n",
            "100% 106M/106M [00:03<00:00, 34.8MB/s]\n"
          ]
        }
      ]
    },
    {
      "cell_type": "code",
      "source": [
        "!gunzip comments.json.gz"
      ],
      "metadata": {
        "id": "j4nMtuii45ck"
      },
      "execution_count": null,
      "outputs": []
    },
    {
      "cell_type": "markdown",
      "source": [
        "# Считываем текстовые данные"
      ],
      "metadata": {
        "id": "WRoLAsHDMHqc"
      }
    },
    {
      "cell_type": "code",
      "source": [
        "import pandas as pd\n",
        "import json\n",
        "\n",
        "with open('comments.json', 'r') as fp:\n",
        "    texts = json.load(fp)\n",
        "\n",
        "texts = [line['content'] for line in texts]\n",
        "texts = pd.Series(texts)\n",
        "texts = texts[texts.notna()]"
      ],
      "metadata": {
        "id": "XmbTma5WB8p7"
      },
      "execution_count": null,
      "outputs": []
    },
    {
      "cell_type": "code",
      "source": [
        "texts.head()"
      ],
      "metadata": {
        "colab": {
          "base_uri": "https://localhost:8080/",
          "height": 241
        },
        "id": "U3-Wu7BG_1GP",
        "outputId": "d292f98d-d2be-42c6-d27a-a75ce8a63e73"
      },
      "execution_count": null,
      "outputs": [
        {
          "output_type": "execute_result",
          "data": {
            "text/plain": [
              "0    Лечила кариес у Литвиновой. Неплохой врач, акк...\n",
              "1    Ставила коронку у доктора Гросул. Ошибок в его...\n",
              "2    Все очень понравилось, после похода в клинику ...\n",
              "3    Боялась зубных врачей. Но пришло время, и сред...\n",
              "4    Врач от бога. Очень благодарна нашему доктору ...\n",
              "dtype: object"
            ],
            "text/html": [
              "<div>\n",
              "<style scoped>\n",
              "    .dataframe tbody tr th:only-of-type {\n",
              "        vertical-align: middle;\n",
              "    }\n",
              "\n",
              "    .dataframe tbody tr th {\n",
              "        vertical-align: top;\n",
              "    }\n",
              "\n",
              "    .dataframe thead th {\n",
              "        text-align: right;\n",
              "    }\n",
              "</style>\n",
              "<table border=\"1\" class=\"dataframe\">\n",
              "  <thead>\n",
              "    <tr style=\"text-align: right;\">\n",
              "      <th></th>\n",
              "      <th>0</th>\n",
              "    </tr>\n",
              "  </thead>\n",
              "  <tbody>\n",
              "    <tr>\n",
              "      <th>0</th>\n",
              "      <td>Лечила кариес у Литвиновой. Неплохой врач, акк...</td>\n",
              "    </tr>\n",
              "    <tr>\n",
              "      <th>1</th>\n",
              "      <td>Ставила коронку у доктора Гросул. Ошибок в его...</td>\n",
              "    </tr>\n",
              "    <tr>\n",
              "      <th>2</th>\n",
              "      <td>Все очень понравилось, после похода в клинику ...</td>\n",
              "    </tr>\n",
              "    <tr>\n",
              "      <th>3</th>\n",
              "      <td>Боялась зубных врачей. Но пришло время, и сред...</td>\n",
              "    </tr>\n",
              "    <tr>\n",
              "      <th>4</th>\n",
              "      <td>Врач от бога. Очень благодарна нашему доктору ...</td>\n",
              "    </tr>\n",
              "  </tbody>\n",
              "</table>\n",
              "</div><br><label><b>dtype:</b> object</label>"
            ]
          },
          "metadata": {},
          "execution_count": 2
        }
      ]
    },
    {
      "cell_type": "code",
      "source": [
        "texts.info()"
      ],
      "metadata": {
        "colab": {
          "base_uri": "https://localhost:8080/"
        },
        "id": "Z4Bnoae6UTd0",
        "outputId": "2012f6e7-49f8-4449-bd4b-d63f636419d7"
      },
      "execution_count": null,
      "outputs": [
        {
          "output_type": "stream",
          "name": "stdout",
          "text": [
            "<class 'pandas.core.series.Series'>\n",
            "Index: 369880 entries, 0 to 388785\n",
            "Series name: None\n",
            "Non-Null Count   Dtype \n",
            "--------------   ----- \n",
            "369880 non-null  object\n",
            "dtypes: object(1)\n",
            "memory usage: 5.6+ MB\n"
          ]
        }
      ]
    },
    {
      "cell_type": "markdown",
      "source": [
        "В зависимости от размеров обучающих данных, будет зависеть время обучения модели.\n",
        "\n",
        "Для примера на 350к данных обучение на Т4 будет проходить 5 часов.\n",
        "\n",
        "Для проверки работы алгоритм возьмем случайный сэмпл данных на 10к значений."
      ],
      "metadata": {
        "id": "O1L8FebWUkjW"
      }
    },
    {
      "cell_type": "code",
      "source": [
        "texts = texts.sample(10_000, random_state=42)"
      ],
      "metadata": {
        "id": "UajvdOCTUkBi"
      },
      "execution_count": null,
      "outputs": []
    },
    {
      "cell_type": "markdown",
      "source": [
        "# Задание 1\n",
        "\n",
        "Обучить WordPiece токенизатор на неразмеченной части корпуса RuDReC, состоящем из отзывов пользователей о лекарственных препаратах на русском языке. Размер словаря - 10 000 токенов. Сохранить токенизатор."
      ],
      "metadata": {
        "id": "oXuqzOmtWaZB"
      }
    },
    {
      "cell_type": "markdown",
      "source": [
        "### Создатим метод для обучения токенайзера\n",
        "\n",
        "Стоит отметить, что для корректной работы модели и токенайзера нам потребуются специальные токены. Они помогают модели лучше понимать структуру и смысл входных данных.\n",
        "\n",
        "В данном примере будут использоваться специальные токены из [BERT-like](https://huggingface.co/docs/transformers/model_doc/bert) моделей.\n",
        "\n",
        "---\n",
        "\n",
        "**Описание токенов:**\n",
        "\n",
        "1. `[PAD]` (Padding Token)\n",
        "\n",
        "**Назначение**: Используется для выравнивания последовательностей до одинаковой длины в батче. Это важно для параллельной обработки данных.\n",
        "\n",
        "**Пример**: Если одна последовательность содержит 10 токенов, а другая — 15, первая будет дополнена 5 `[PAD]` токенами.\n",
        "\n",
        "2. `[UNK]` (Unknown Token)\n",
        "\n",
        "**Назначение**: Замещает неизвестные или редко встречающиеся слова, которые не входят в словарь токенизатора.\n",
        "\n",
        "**Пример**: Если токенизатор наткнулся на слово, которого нет в его словаре, оно будет заменено на `[UNK]`.\n",
        "\n",
        "3. `[CLS]` (Classification Token)\n",
        "\n",
        "**Назначение**: Используется как специальный токен в задачах классификации. Обычно располагается в начале последовательности и служит агрегатором информации для классификационной задачи.\n",
        "\n",
        "**Пример**: В BERT модели `[CLS]` токен используется для получения представления всей последовательности.\n",
        "\n",
        "4. `[SEP]` (Separator Token)\n",
        "\n",
        "**Назначение**: Разделяет разные части входных данных, например, предложения или сегменты текста.\n",
        "\n",
        "**Пример**: В задачах понимания отношений между предложениями `[SEP]` разделяет два предложения.\n",
        "\n",
        "5. `[MASK]` (Mask Token)\n",
        "\n",
        "**Назначение**: Используется в задачах маскированного языкового моделирования, где модель учится предсказывать скрытые (замаскированные) слова.\n",
        "\n",
        "**Пример**: В задаче предсказания пропущенных слов предложение \"Я люблю `[MASK]`\" модель должна предсказать, что на месте `[MASK]` может быть слово \"программировать\"."
      ],
      "metadata": {
        "id": "HJhkvZn7MS2j"
      }
    },
    {
      "cell_type": "code",
      "source": [
        "from tokenizers import Tokenizer, models, trainers, pre_tokenizers, normalizers\n",
        "\n",
        "def train_tokenizer(\n",
        "    texts: list,\n",
        "    vocab_size: int = 10000,\n",
        "    save_path: str = 'tokenizer.json',\n",
        "    special_tokens: list = ['[UNK]', '[PAD]', '[CLS]', '[SEP]', '[MASK]']\n",
        ") -> Tokenizer:\n",
        "    \"\"\"\n",
        "    Обучаем токенайзер на входных данных.\n",
        "\n",
        "    1) Инициализируем токенайзер с моделью WordPiece.\n",
        "    2) Устанавливаем нормализаторы для предобработки текста.\n",
        "    3) Устанавливаем претокенизатор (разбивка по пробелам).\n",
        "    4) Настраиваем trainer для обучения.\n",
        "    5) Обучаем токенайзер на предоставленных текстах.\n",
        "    6) Сохраняем обученный токенайзер.\n",
        "\n",
        "    Входные параметры:\n",
        "    - texts (list): Список текстов для обучения.\n",
        "    - vocab_size (int): Размер словаря.\n",
        "    - save_path (str): Путь для сохранения токенизатора.\n",
        "    - special_tokens (list): Список специальных токенов.\n",
        "\n",
        "    Возвращает:\n",
        "    - Tokenizer: Обученный токенизатор.\n",
        "    \"\"\"\n",
        "    tokenizer = Tokenizer(models.WordPiece(unk_token=special_tokens[0]))\n",
        "\n",
        "    tokenizer.normalizer = normalizers.Sequence([\n",
        "        # Преобразует текст в нормальную форму декомпозиции (NFD),\n",
        "        # разделяя составные символы и диакритические знаки\n",
        "        normalizers.NFD(),\n",
        "\n",
        "        # Преобразует все символы текста в нижний регистр,\n",
        "        # обеспечивая согласованность при обработке\n",
        "        normalizers.Lowercase(),\n",
        "\n",
        "        # Удаляет диакритические знаки (акценты) из символов,\n",
        "        # упрощая дальнейшую обработку текста\n",
        "        normalizers.StripAccents()\n",
        "    ])\n",
        "\n",
        "    tokenizer.pre_tokenizer = pre_tokenizers.Whitespace()\n",
        "\n",
        "    trainer = trainers.WordPieceTrainer(\n",
        "        vocab_size=vocab_size,\n",
        "        special_tokens=special_tokens\n",
        "    )\n",
        "\n",
        "    tokenizer.train_from_iterator(texts, trainer=trainer)\n",
        "    tokenizer.save(save_path)\n",
        "    return tokenizer"
      ],
      "metadata": {
        "id": "tPPKMbS8Rd4S"
      },
      "execution_count": null,
      "outputs": []
    },
    {
      "cell_type": "code",
      "source": [
        "%%time\n",
        "tokenizer = train_tokenizer(texts)"
      ],
      "metadata": {
        "id": "ETAM_G9LRgxY",
        "colab": {
          "base_uri": "https://localhost:8080/"
        },
        "outputId": "98d72ee1-4585-490a-abe3-aaa5a8f00d17"
      },
      "execution_count": null,
      "outputs": [
        {
          "output_type": "stream",
          "name": "stdout",
          "text": [
            "CPU times: user 3.62 s, sys: 183 ms, total: 3.8 s\n",
            "Wall time: 2.12 s\n"
          ]
        }
      ]
    },
    {
      "cell_type": "code",
      "source": [
        "# Проверим работоспособность\n",
        "tokenizer.encode('Кодировщик на трансформерах').tokens"
      ],
      "metadata": {
        "id": "aYAnYdcIR4C5",
        "colab": {
          "base_uri": "https://localhost:8080/"
        },
        "outputId": "b4e4f07a-dfb2-4891-b8c3-fe6fdb63e85d"
      },
      "execution_count": null,
      "outputs": [
        {
          "output_type": "execute_result",
          "data": {
            "text/plain": [
              "['ко',\n",
              " '##ди',\n",
              " '##ров',\n",
              " '##щи',\n",
              " '##к',\n",
              " 'на',\n",
              " 'транс',\n",
              " '##фор',\n",
              " '##мер',\n",
              " '##а',\n",
              " '##х']"
            ]
          },
          "metadata": {},
          "execution_count": 7
        }
      ]
    },
    {
      "cell_type": "markdown",
      "source": [
        "# Задание 2\n",
        "\n",
        "Выбрать 1k наиболее частотных токенов, подсчитав статистику на неразмеченной части корпуса RuDReC."
      ],
      "metadata": {
        "id": "mutuivCrWeK9"
      }
    },
    {
      "cell_type": "code",
      "source": [
        "from collections import Counter\n",
        "\n",
        "def get_top_k_tokens(tokenizer: Tokenizer, texts: list, k: int = 1000) -> list:\n",
        "    \"\"\"\n",
        "    Извлекает топ-`k` наиболее часто встречающихся токенов из списка текстов с использованием заданного токенизатора.\n",
        "\n",
        "    1) Проходим по списку текстов, токенизирует каждый текст с помощью предоставленного токенизатора.\n",
        "    2) Подсчитываем количество появлений каждого токена и возвращает список из `k` наиболее частотных токенов.\n",
        "\n",
        "    Входные параметры:\n",
        "    - tokenizer (Tokenizer): Объект токенизатора.\n",
        "    - texts (list): Список текстов для обучения.\n",
        "    - k (int): Количество самых частотных токенов, которые необходимо вернуть.\n",
        "\n",
        "    Возвращает:\n",
        "    - list: Список из `k` наиболее часто встречающихся токенов.\n",
        "    \"\"\"\n",
        "    token_counts = Counter()\n",
        "    batch_size = 1000\n",
        "\n",
        "    for i in range(0, len(texts), batch_size):\n",
        "        batch_texts = texts[i:i+batch_size]\n",
        "        encodings = tokenizer.encode_batch(batch_texts.tolist())\n",
        "        for encoding in encodings:\n",
        "            tokens = encoding.tokens\n",
        "            token_counts.update(tokens)\n",
        "\n",
        "    top_k_tokens = [token for token, count in token_counts.most_common(k)]\n",
        "\n",
        "    return top_k_tokens"
      ],
      "metadata": {
        "id": "1BuWmUquUQMV"
      },
      "execution_count": null,
      "outputs": []
    },
    {
      "cell_type": "code",
      "source": [
        "%%time\n",
        "top_1000_tokens = get_top_k_tokens(tokenizer, texts, k=1000)\n",
        "top_1000_tokens[0:10]"
      ],
      "metadata": {
        "colab": {
          "base_uri": "https://localhost:8080/"
        },
        "id": "Vmm7IL4YL6l0",
        "outputId": "b02d0460-dd23-4ab5-b0ed-00bd0fa054fd"
      },
      "execution_count": null,
      "outputs": [
        {
          "output_type": "stream",
          "name": "stdout",
          "text": [
            "CPU times: user 3.82 s, sys: 7.16 ms, total: 3.82 s\n",
            "Wall time: 3.26 s\n"
          ]
        },
        {
          "output_type": "execute_result",
          "data": {
            "text/plain": [
              "[',', '.', 'и', 'в', 'не', '!', 'на', 'что', 'к', 'я']"
            ]
          },
          "metadata": {},
          "execution_count": 9
        }
      ]
    },
    {
      "cell_type": "markdown",
      "source": [
        "# Задание 3\n",
        "\n",
        "Расширить токенизатор модели mBERT, полученными на предыдущем шаге токенами."
      ],
      "metadata": {
        "id": "-hTQLdqrm9ED"
      }
    },
    {
      "cell_type": "code",
      "source": [
        "from transformers import BertTokenizer, BertForMaskedLM\n",
        "\n",
        "# Загрузка оригинального токенизатора и модели mBERT\n",
        "model_name = 'bert-base-multilingual-cased'\n",
        "source_tokenizer = BertTokenizer.from_pretrained(model_name)\n",
        "source_model = BertForMaskedLM.from_pretrained(model_name)\n",
        "source_model.eval()"
      ],
      "metadata": {
        "id": "9dN4-Wogbvcu"
      },
      "execution_count": null,
      "outputs": []
    },
    {
      "cell_type": "code",
      "source": [
        "# Инициализируем новые модель и токенайзер\n",
        "# Их мы будем расширять и учить\n",
        "target_model = BertForMaskedLM.from_pretrained(model_name)\n",
        "target_tokenizer = BertTokenizer.from_pretrained(model_name)\n",
        "\n",
        "# Добавим в токенайзер новые токены\n",
        "num_added_toks = target_tokenizer.add_tokens(top_1000_tokens)\n",
        "print(f\"Добавлено {num_added_toks} новых токенов в токенизатор.\")"
      ],
      "metadata": {
        "id": "y6cf6H1xwVBO",
        "colab": {
          "base_uri": "https://localhost:8080/"
        },
        "outputId": "eb6fcd27-c78b-402a-904d-587e7b989369"
      },
      "execution_count": null,
      "outputs": [
        {
          "output_type": "stream",
          "name": "stderr",
          "text": [
            "Some weights of the model checkpoint at bert-base-multilingual-cased were not used when initializing BertForMaskedLM: ['bert.pooler.dense.bias', 'bert.pooler.dense.weight', 'cls.seq_relationship.bias', 'cls.seq_relationship.weight']\n",
            "- This IS expected if you are initializing BertForMaskedLM from the checkpoint of a model trained on another task or with another architecture (e.g. initializing a BertForSequenceClassification model from a BertForPreTraining model).\n",
            "- This IS NOT expected if you are initializing BertForMaskedLM from the checkpoint of a model that you expect to be exactly identical (initializing a BertForSequenceClassification model from a BertForSequenceClassification model).\n"
          ]
        },
        {
          "output_type": "stream",
          "name": "stdout",
          "text": [
            "Добавлено 416 новых токенов в токенизатор.\n"
          ]
        }
      ]
    },
    {
      "cell_type": "markdown",
      "source": [
        "# Задание 4\n",
        "\n",
        "Инициализировать новые токены усредненным векторным представлением токенов, полученных при помощи разбиения новых токенов оригинальным токенизатором.\n",
        "\n",
        "Пример: допустим, в новом токенизаторе один из частотных токенов оказался токен “капли”. Допустим, если разбить токен “капли” оригинальным токенизатором, получалось два токена “кап” и “ли”. Пусть e1 - векторное представление из слоя Embeddings модели mBERT для слова “кап”, а вектор e2 - для слова “ли”. Тогда в расширенном слое  Embeddings новый токен “капли” должен быть инициализирован вектором: (e1+e2)/2."
      ],
      "metadata": {
        "id": "ik7C6-VZwfag"
      }
    },
    {
      "cell_type": "code",
      "source": [
        "import torch\n",
        "import numpy as np"
      ],
      "metadata": {
        "id": "uN50f2JabP2B"
      },
      "execution_count": null,
      "outputs": []
    },
    {
      "cell_type": "code",
      "source": [
        "def get_new_input_embeddings(\n",
        "    source_tokenizer: BertTokenizer,\n",
        "    target_tokenizer: BertTokenizer,\n",
        "    source_model: BertForMaskedLM,\n",
        "    top_1000_tokens: list\n",
        ") -> np.ndarray:\n",
        "    \"\"\"\n",
        "    Обновление токенизатора путем вычисления средних эмбеддингов из исходной модели.\n",
        "\n",
        "    1) Получение словарей\n",
        "    2) Перемещение исходной модели на устройство\n",
        "    3) Получение эмбеддингов из исходной модели\n",
        "    4) Инициализация эмбеддингов для целевой модели\n",
        "    5) Обработка новых токенов\n",
        "    5.1) Пропускаем токены, которые не в списке новых токенов\n",
        "    5.2) Токенизируем новый токен с помощью исходного токенизатора\n",
        "    5.3) Получаем эмбеддинги sub-токенов\n",
        "    5.4) Вычисляем среднее эмбеддингов\n",
        "    5.5) Добавляем новый эмбеддинг\n",
        "\n",
        "    Входные параметры:\n",
        "    - source_tokenizer (BertTokenizer): Оригинальный токенайзер BERT.\n",
        "    - target_tokenizer (BertTokenizer): Расширенный токенайзер.\n",
        "    - source_model (BertForMaskedLM): Оригинальная модель BERT. Из нее берем эмбеддинги.\n",
        "    - top_1000_tokens (list): Самые популярные токены в RuDReC.\n",
        "\n",
        "    Возвращает:\n",
        "    - np.ndarray: Новые эмбеддинги токенов.\n",
        "    \"\"\"\n",
        "    source_vocab = source_tokenizer.get_vocab()\n",
        "    target_vocab = target_tokenizer.get_vocab()\n",
        "    target_inverted_vocab = {v: k for k, v in target_vocab.items()}\n",
        "\n",
        "    # Исходные эмбеддинги\n",
        "    source_input_embeddings = source_model.get_input_embeddings()\n",
        "\n",
        "    # Сохраняем исходные эмбеддинги в тензор\n",
        "    input_embeddings = source_input_embeddings.weight.data\n",
        "\n",
        "    # Список для новых эмбеддингов\n",
        "    new_embeddings = []\n",
        "\n",
        "    # Проходим по индексам новых токенов\n",
        "    # Новые токены будут после исходного словаря\n",
        "    for i in range(len(source_vocab), len(target_vocab)):\n",
        "        target_token = target_inverted_vocab[i]\n",
        "\n",
        "        # Проверяем, что токен в списке часто встречающихся\n",
        "        if target_token not in top_1000_tokens:\n",
        "            continue\n",
        "\n",
        "        # Разбиваем новый токен исходным токенайзером\n",
        "        sub_tokens = source_tokenizer.tokenize(target_token)\n",
        "        sub_token_ids = source_tokenizer.convert_tokens_to_ids(sub_tokens)\n",
        "        sub_token_ids = torch.tensor(sub_token_ids)\n",
        "\n",
        "        # Получаем эмбеддинги sub-токенов\n",
        "        sub_token_embeddings = input_embeddings[sub_token_ids]\n",
        "\n",
        "        # Усредняем эмбеддинги вдоль оси sub-токенов\n",
        "        mean_embedding = sub_token_embeddings.mean(dim=0)\n",
        "\n",
        "        # Добавляем эмбеддинг в список\n",
        "        new_embeddings.append(mean_embedding)\n",
        "\n",
        "    # Если нет новых эмбеддингов, просто возвращаем исходные\n",
        "    if len(new_embeddings) == 0:\n",
        "        return input_embeddings.cpu().numpy()\n",
        "\n",
        "    # Стек и конкатенация новых эмбеддингов к старым\n",
        "    new_embeddings = torch.stack(new_embeddings, dim=0)\n",
        "    final_embeddings = torch.cat([input_embeddings, new_embeddings], dim=0)\n",
        "\n",
        "    # Возвращаем в формате numpy\n",
        "    return final_embeddings.cpu().numpy()"
      ],
      "metadata": {
        "id": "mWV-w4XGUN5g"
      },
      "execution_count": null,
      "outputs": []
    },
    {
      "cell_type": "code",
      "source": [
        "%%time\n",
        "target_vocab = target_tokenizer.get_vocab()\n",
        "\n",
        "input_embeddings = get_new_input_embeddings(\n",
        "    source_tokenizer,\n",
        "    target_tokenizer,\n",
        "    source_model,\n",
        "    top_1000_tokens\n",
        ")"
      ],
      "metadata": {
        "id": "VfGVCytIUqIC",
        "colab": {
          "base_uri": "https://localhost:8080/"
        },
        "outputId": "a2c67ed4-8f02-4e46-9463-dbba7659d157"
      },
      "execution_count": null,
      "outputs": [
        {
          "output_type": "stream",
          "name": "stdout",
          "text": [
            "CPU times: user 356 ms, sys: 247 ms, total: 602 ms\n",
            "Wall time: 625 ms\n"
          ]
        }
      ]
    },
    {
      "cell_type": "code",
      "source": [
        "# Изменяем размер эмбеддингов модели, чтобы включить новые токены\n",
        "target_model.resize_token_embeddings(len(target_vocab))"
      ],
      "metadata": {
        "id": "XYkTa-rNiXcD",
        "colab": {
          "base_uri": "https://localhost:8080/"
        },
        "outputId": "8e724e7c-da76-451e-a691-1f24caea01b8"
      },
      "execution_count": null,
      "outputs": [
        {
          "output_type": "stream",
          "name": "stderr",
          "text": [
            "The new embeddings will be initialized from a multivariate normal distribution that has old embeddings' mean and covariance. As described in this article: https://nlp.stanford.edu/~johnhew/vocab-expansion.html. To disable this, use `mean_resizing=False`\n"
          ]
        },
        {
          "output_type": "execute_result",
          "data": {
            "text/plain": [
              "Embedding(119963, 768, padding_idx=0)"
            ]
          },
          "metadata": {},
          "execution_count": 18
        }
      ]
    },
    {
      "cell_type": "code",
      "source": [
        "# Скопируем, чтобы проверить изменение весов\n",
        "target_model_add_tokens_weight_data = target_model.get_input_embeddings().weight.data.clone()"
      ],
      "metadata": {
        "id": "__5UJSBAiZHQ"
      },
      "execution_count": null,
      "outputs": []
    },
    {
      "cell_type": "code",
      "source": [
        "# Устанавливаем новые эмбеддинги\n",
        "target_model.get_input_embeddings().weight.data = torch.tensor(input_embeddings)"
      ],
      "metadata": {
        "id": "Q8MlxTiZWiQI"
      },
      "execution_count": null,
      "outputs": []
    },
    {
      "cell_type": "code",
      "source": [
        "# Проверяем, что веса подцепились\n",
        "torch.equal(\n",
        "    target_model_add_tokens_weight_data,\n",
        "    target_model.get_input_embeddings().weight.data\n",
        ")"
      ],
      "metadata": {
        "id": "wmMJxJd6hu1p",
        "colab": {
          "base_uri": "https://localhost:8080/"
        },
        "outputId": "7e726704-0abb-4bc2-b325-884c0db23864"
      },
      "execution_count": null,
      "outputs": [
        {
          "output_type": "execute_result",
          "data": {
            "text/plain": [
              "False"
            ]
          },
          "metadata": {},
          "execution_count": 22
        }
      ]
    },
    {
      "cell_type": "code",
      "source": [
        "target_model_add_tokens_weight_data"
      ],
      "metadata": {
        "id": "Qx6nXNe-jBM_",
        "colab": {
          "base_uri": "https://localhost:8080/"
        },
        "outputId": "a90b7d3d-2c52-4c69-e178-8499c3daa965"
      },
      "execution_count": null,
      "outputs": [
        {
          "output_type": "execute_result",
          "data": {
            "text/plain": [
              "tensor([[ 2.5951e-02, -6.1734e-03, -4.0997e-03,  ...,  2.9652e-02,\n",
              "          2.4176e-02,  1.9703e-02],\n",
              "        [ 1.0381e-02, -1.3629e-02,  6.7208e-03,  ...,  1.2372e-02,\n",
              "          2.6722e-02,  3.3707e-02],\n",
              "        [ 2.2068e-02, -3.6061e-03,  1.9324e-02,  ...,  6.9061e-03,\n",
              "          2.6809e-02,  4.9828e-03],\n",
              "        ...,\n",
              "        [-1.8411e-03, -1.7339e-02, -1.6989e-05,  ..., -3.9770e-04,\n",
              "          1.2598e-04, -2.3740e-03],\n",
              "        [-1.8403e-03, -1.7337e-02, -1.5321e-05,  ..., -3.9923e-04,\n",
              "          1.2414e-04, -2.3770e-03],\n",
              "        [-1.8413e-03, -1.7339e-02, -1.6750e-05,  ..., -3.9784e-04,\n",
              "          1.2278e-04, -2.3770e-03]])"
            ]
          },
          "metadata": {},
          "execution_count": 23
        }
      ]
    },
    {
      "cell_type": "code",
      "source": [
        "target_model.get_input_embeddings().weight.data"
      ],
      "metadata": {
        "id": "gZLyssXtjCWA",
        "colab": {
          "base_uri": "https://localhost:8080/"
        },
        "outputId": "2c8f546b-fc94-43ef-8bdb-787e3eee8b81"
      },
      "execution_count": null,
      "outputs": [
        {
          "output_type": "execute_result",
          "data": {
            "text/plain": [
              "tensor([[ 0.0260, -0.0062, -0.0041,  ...,  0.0297,  0.0242,  0.0197],\n",
              "        [ 0.0104, -0.0136,  0.0067,  ...,  0.0124,  0.0267,  0.0337],\n",
              "        [ 0.0221, -0.0036,  0.0193,  ...,  0.0069,  0.0268,  0.0050],\n",
              "        ...,\n",
              "        [-0.0428,  0.0295, -0.0067,  ..., -0.0065, -0.0138,  0.0246],\n",
              "        [-0.0449,  0.0301,  0.0202,  ..., -0.0280,  0.0047, -0.0261],\n",
              "        [-0.0136,  0.0302,  0.0295,  ..., -0.0243, -0.0240, -0.0060]])"
            ]
          },
          "metadata": {},
          "execution_count": 24
        }
      ]
    },
    {
      "cell_type": "markdown",
      "source": [
        "# Задание 5\n",
        "\n",
        "Обучить новую модель с расширенным токенизатором на задаче MLM на неразмеченной части корпуса RuDReC. Сохранить полученную модель."
      ],
      "metadata": {
        "id": "6Itx-aL7XR2A"
      }
    },
    {
      "cell_type": "code",
      "source": [
        "# Импортируем библиотеки для обучения\n",
        "from transformers import DataCollatorForLanguageModeling, Trainer, TrainingArguments\n",
        "from sklearn.model_selection import train_test_split\n",
        "from torch.utils.data import Dataset"
      ],
      "metadata": {
        "id": "jT9dhjC7YoMz"
      },
      "execution_count": null,
      "outputs": []
    },
    {
      "cell_type": "code",
      "source": [
        "# Делим данные на Обучение, Валидацию и Тест\n",
        "# Соотношения в каждом случае 80% на 20%\n",
        "train_texts, test_texts = train_test_split(texts, test_size=0.2, random_state=42)\n",
        "train_texts, val_texts = train_test_split(train_texts, test_size=0.2, random_state=42)"
      ],
      "metadata": {
        "id": "7xaxbfOoND7o"
      },
      "execution_count": null,
      "outputs": []
    },
    {
      "cell_type": "code",
      "source": [
        "train_texts.shape, val_texts.shape, test_texts.shape"
      ],
      "metadata": {
        "colab": {
          "base_uri": "https://localhost:8080/"
        },
        "id": "PHeid7ZlP9l6",
        "outputId": "e120070b-5f21-46a2-c0b5-ca73fe65efd8"
      },
      "execution_count": null,
      "outputs": [
        {
          "output_type": "execute_result",
          "data": {
            "text/plain": [
              "((6400,), (1600,), (2000,))"
            ]
          },
          "metadata": {},
          "execution_count": 28
        }
      ]
    },
    {
      "cell_type": "code",
      "source": [
        "from tqdm import tqdm\n",
        "\n",
        "class TextDataset(Dataset):\n",
        "    \"\"\"\n",
        "    Класс токенизирует входные тексты,\n",
        "    которые могут быть использованы в DataLoader для обучения моделей.\n",
        "    \"\"\"\n",
        "    def __init__(\n",
        "        self,\n",
        "        texts: list,\n",
        "        tokenizer: BertTokenizer,\n",
        "        block_size: int = 128\n",
        "    ) -> None:\n",
        "        self.examples = []\n",
        "        for text in tqdm(texts):\n",
        "            encoding = tokenizer(\n",
        "                text,\n",
        "                add_special_tokens=True,\n",
        "                truncation=True,\n",
        "                max_length=block_size,\n",
        "                return_attention_mask=True,\n",
        "                return_tensors='pt'\n",
        "            )\n",
        "            self.examples.append(encoding)\n",
        "\n",
        "    def __len__(self) -> int:\n",
        "        \"\"\"\n",
        "        Возвращает общее количество примеров в датасете.\n",
        "        \"\"\"\n",
        "        return len(self.examples)\n",
        "\n",
        "    def __getitem__(self, idx: int) -> dict:\n",
        "        \"\"\"\n",
        "        Получает пример по указанному индексу.\n",
        "        \"\"\"\n",
        "        return {\n",
        "            'input_ids': self.examples[idx]['input_ids'].squeeze(0),\n",
        "            'attention_mask': self.examples[idx]['attention_mask'].squeeze(0)\n",
        "        }"
      ],
      "metadata": {
        "id": "8StCiCkCY5vC"
      },
      "execution_count": null,
      "outputs": []
    },
    {
      "cell_type": "code",
      "source": [
        "# Заменим название переменных на стандартные (Опционально)\n",
        "# Просто приводим к стандартному названию\n",
        "tokenizer = target_tokenizer\n",
        "model = target_model"
      ],
      "metadata": {
        "id": "_Nsx9951Zwea"
      },
      "execution_count": null,
      "outputs": []
    },
    {
      "cell_type": "markdown",
      "source": [
        "В памяти это не займет больше места, так как питон просто создает reference ссылку на данные объекты\n",
        "\n",
        "Подробнеее про ячейки памяти и garbage collector\n",
        "\n",
        "[Ссылка](https://sky.pro/wiki/python/garbage-collector-v-python-kak-eto-rabotaet/)"
      ],
      "metadata": {
        "id": "ZKl1CMqWa7vY"
      }
    },
    {
      "cell_type": "code",
      "source": [
        "# Создадим DataCollator для MLM\n",
        "# -----------------------------\n",
        "# Коллаторы данных - это объекты,\n",
        "# которые формируют пакет, используя в качестве входных данных список\n",
        "# элементов набора данных. Эти элементы имеют тот же тип, что и\n",
        "# элементы train_dataset или eval_dataset.\n",
        "data_collator = DataCollatorForLanguageModeling(\n",
        "    tokenizer=tokenizer,\n",
        "    mlm=True,\n",
        "    mlm_probability=0.15\n",
        ")"
      ],
      "metadata": {
        "id": "2TBfXeMlaWQq"
      },
      "execution_count": null,
      "outputs": []
    },
    {
      "cell_type": "code",
      "source": [
        "%%time\n",
        "# Создание объектов Dataset\n",
        "block_size = 128  # Можно изменить по необходимости\n",
        "train_dataset = TextDataset(train_texts, tokenizer, block_size=block_size)\n",
        "val_dataset = TextDataset(val_texts, tokenizer, block_size=block_size)"
      ],
      "metadata": {
        "id": "5ggbX6l1aZAI",
        "colab": {
          "base_uri": "https://localhost:8080/"
        },
        "outputId": "cc844081-7b30-4804-8b75-882d4db5efb2"
      },
      "execution_count": null,
      "outputs": [
        {
          "output_type": "stream",
          "name": "stderr",
          "text": [
            "100%|██████████| 6400/6400 [00:09<00:00, 641.37it/s]\n",
            "100%|██████████| 1600/1600 [00:02<00:00, 732.70it/s]"
          ]
        },
        {
          "output_type": "stream",
          "name": "stdout",
          "text": [
            "CPU times: user 12 s, sys: 159 ms, total: 12.1 s\n",
            "Wall time: 12.2 s\n"
          ]
        },
        {
          "output_type": "stream",
          "name": "stderr",
          "text": [
            "\n"
          ]
        }
      ]
    },
    {
      "cell_type": "code",
      "source": [
        "# Параметры обучения\n",
        "training_args = TrainingArguments(\n",
        "    output_dir='./mlm_model',           # Директория для сохранения модели\n",
        "    overwrite_output_dir=True,          # Перезаписывать содержимое директории `output_dir`, если она уже существует\n",
        "    num_train_epochs=3,                 # Количество эпох\n",
        "    per_device_train_batch_size=32,     # Размер батча для обучения на одном устройстве\n",
        "    per_device_eval_batch_size=32,      # Размер батча для оценки модели на одном устройстве\n",
        "    save_steps=200,                     # Сохранение модели каждые 5000 шагов\n",
        "    save_total_limit=2,                 # Максимальное количество сохраненных checkpoints\n",
        "    eval_strategy='steps',              # 'steps' означает, что оценка будет проводиться каждые `eval_steps` шагов\n",
        "    eval_steps=100,                     # Количество шагов между оценками модели\n",
        "    logging_steps=100,                  # Количество шагов между логированием метрик\n",
        "    learning_rate=5e-5,                 # Начальная скорость обучения для оптимизатора\n",
        "    weight_decay=0.01,                  # Коэффициент для регуляризации веса для предотвращения переобучения\n",
        "    prediction_loss_only=True,          # При оценке будет возвращаться только значение функции потерь\n",
        "    report_to='none'                    # Чтобы не было отправлений отчетов. Без него требует api ключ\n",
        ")"
      ],
      "metadata": {
        "id": "HHnw5NtkaaR7"
      },
      "execution_count": null,
      "outputs": []
    },
    {
      "cell_type": "code",
      "source": [
        "trainer = Trainer(\n",
        "    model=model,\n",
        "    args=training_args,\n",
        "    data_collator=data_collator,\n",
        "    train_dataset=train_dataset,\n",
        "    eval_dataset=val_dataset\n",
        ")"
      ],
      "metadata": {
        "id": "6pK6yGpeabhr"
      },
      "execution_count": null,
      "outputs": []
    },
    {
      "cell_type": "code",
      "source": [
        "# Начинаем обучение модели\n",
        "trainer.train()"
      ],
      "metadata": {
        "id": "rggr4R5RaciE",
        "colab": {
          "base_uri": "https://localhost:8080/",
          "height": 299
        },
        "outputId": "1c98c1ab-c83e-4d7d-c369-3bbd7c44055c"
      },
      "execution_count": null,
      "outputs": [
        {
          "output_type": "display_data",
          "data": {
            "text/plain": [
              "<IPython.core.display.HTML object>"
            ],
            "text/html": [
              "\n",
              "    <div>\n",
              "      \n",
              "      <progress value='600' max='600' style='width:300px; height:20px; vertical-align: middle;'></progress>\n",
              "      [600/600 18:21, Epoch 3/3]\n",
              "    </div>\n",
              "    <table border=\"1\" class=\"dataframe\">\n",
              "  <thead>\n",
              " <tr style=\"text-align: left;\">\n",
              "      <th>Step</th>\n",
              "      <th>Training Loss</th>\n",
              "      <th>Validation Loss</th>\n",
              "    </tr>\n",
              "  </thead>\n",
              "  <tbody>\n",
              "    <tr>\n",
              "      <td>100</td>\n",
              "      <td>3.301800</td>\n",
              "      <td>2.652675</td>\n",
              "    </tr>\n",
              "    <tr>\n",
              "      <td>200</td>\n",
              "      <td>2.553500</td>\n",
              "      <td>2.203305</td>\n",
              "    </tr>\n",
              "    <tr>\n",
              "      <td>300</td>\n",
              "      <td>2.237500</td>\n",
              "      <td>2.014513</td>\n",
              "    </tr>\n",
              "    <tr>\n",
              "      <td>400</td>\n",
              "      <td>2.073100</td>\n",
              "      <td>1.912281</td>\n",
              "    </tr>\n",
              "    <tr>\n",
              "      <td>500</td>\n",
              "      <td>1.961900</td>\n",
              "      <td>1.809871</td>\n",
              "    </tr>\n",
              "    <tr>\n",
              "      <td>600</td>\n",
              "      <td>1.908800</td>\n",
              "      <td>1.788414</td>\n",
              "    </tr>\n",
              "  </tbody>\n",
              "</table><p>"
            ]
          },
          "metadata": {}
        },
        {
          "output_type": "execute_result",
          "data": {
            "text/plain": [
              "TrainOutput(global_step=600, training_loss=2.3394188690185547, metrics={'train_runtime': 1103.7578, 'train_samples_per_second': 17.395, 'train_steps_per_second': 0.544, 'total_flos': 1264701962649600.0, 'train_loss': 2.3394188690185547, 'epoch': 3.0})"
            ]
          },
          "metadata": {},
          "execution_count": 31
        }
      ]
    },
    {
      "cell_type": "code",
      "source": [
        "# Сохранение модели и токенизатора\n",
        "trainer.save_model('./mlm_model')\n",
        "tokenizer.save_pretrained('./mlm_model')"
      ],
      "metadata": {
        "id": "cZezH5BNahPq",
        "colab": {
          "base_uri": "https://localhost:8080/"
        },
        "outputId": "22a11674-4ab9-4535-d9fd-196614312a8a"
      },
      "execution_count": null,
      "outputs": [
        {
          "output_type": "execute_result",
          "data": {
            "text/plain": [
              "('./mlm_model/tokenizer_config.json',\n",
              " './mlm_model/special_tokens_map.json',\n",
              " './mlm_model/vocab.txt',\n",
              " './mlm_model/added_tokens.json')"
            ]
          },
          "metadata": {},
          "execution_count": 32
        }
      ]
    },
    {
      "cell_type": "code",
      "source": [
        "import transformers\n",
        "\n",
        "\n",
        "model = transformers.AutoModelForMaskedLM.from_pretrained('./mlm_model/checkpoint-600/')\n",
        "\n",
        "trainer = Trainer(\n",
        "    model=model,\n",
        "    args=training_args,\n",
        "    data_collator=data_collator,\n",
        "    train_dataset=train_dataset,\n",
        "    eval_dataset=val_dataset\n",
        ")"
      ],
      "metadata": {
        "id": "uXy0P6np3utq"
      },
      "execution_count": null,
      "outputs": []
    },
    {
      "cell_type": "code",
      "source": [
        "# Оценка модели на тестовом наборе (опционально)\n",
        "test_dataset = TextDataset(test_texts, tokenizer, block_size=block_size)\n",
        "eval_result = trainer.evaluate(eval_dataset=test_dataset)\n",
        "print(f\"Perplexity: {torch.exp(torch.tensor(eval_result['eval_loss']))}\")"
      ],
      "metadata": {
        "id": "lG9QJpRRXTMY",
        "colab": {
          "base_uri": "https://localhost:8080/",
          "height": 73
        },
        "outputId": "855ce6a5-7e05-4f4d-9e41-4e6ce2a57d5b"
      },
      "execution_count": null,
      "outputs": [
        {
          "output_type": "stream",
          "name": "stderr",
          "text": [
            "100%|██████████| 2000/2000 [00:02<00:00, 704.00it/s]\n"
          ]
        },
        {
          "output_type": "display_data",
          "data": {
            "text/plain": [
              "<IPython.core.display.HTML object>"
            ],
            "text/html": [
              "\n",
              "    <div>\n",
              "      \n",
              "      <progress value='63' max='63' style='width:300px; height:20px; vertical-align: middle;'></progress>\n",
              "      [63/63 00:28]\n",
              "    </div>\n",
              "    "
            ]
          },
          "metadata": {}
        },
        {
          "output_type": "stream",
          "name": "stdout",
          "text": [
            "Perplexity: 6.074899673461914\n"
          ]
        }
      ]
    },
    {
      "cell_type": "markdown",
      "metadata": {
        "id": "IRU5fCMovP92"
      },
      "source": [
        "# <center id=\"a1\"> Определение тональности комментариев с использованием BERT"
      ]
    },
    {
      "cell_type": "code",
      "source": [
        "# Загружаем библиотеки\n",
        "import nltk\n",
        "import numpy as np\n",
        "import pandas as pd\n",
        "import seaborn as sns\n",
        "from tqdm import tqdm\n",
        "from pylab import rcParams\n",
        "from IPython import display\n",
        "import matplotlib.pyplot as plt\n",
        "from matplotlib import rc\n",
        "from sklearn.model_selection import train_test_split\n",
        "from sklearn.metrics import confusion_matrix, classification_report\n",
        "from collections import defaultdict\n",
        "from textwrap import wrap\n",
        "from nltk.tokenize import word_tokenize\n",
        "\n",
        "import transformers\n",
        "from transformers import BertModel, BertTokenizer, get_linear_schedule_with_warmup\n",
        "import torch\n",
        "from torch import nn, optim\n",
        "from torch.utils.data import Dataset, DataLoader\n",
        "from torch.utils.tensorboard import SummaryWriter\n",
        "writer = SummaryWriter()\n",
        "\n",
        "import warnings\n",
        "warnings.filterwarnings('ignore')\n",
        "\n",
        "nltk.download('punkt')"
      ],
      "metadata": {
        "colab": {
          "base_uri": "https://localhost:8080/"
        },
        "id": "7YO7fk2irWZr",
        "outputId": "5fc8922a-6e79-47c0-e98c-0af1759a4442"
      },
      "execution_count": null,
      "outputs": [
        {
          "output_type": "stream",
          "name": "stderr",
          "text": [
            "[nltk_data] Downloading package punkt to /root/nltk_data...\n",
            "[nltk_data]   Package punkt is already up-to-date!\n"
          ]
        },
        {
          "output_type": "execute_result",
          "data": {
            "text/plain": [
              "True"
            ]
          },
          "metadata": {},
          "execution_count": 1
        }
      ]
    },
    {
      "cell_type": "code",
      "source": [
        "!gdown --fuzzy https://drive.google.com/file/d/13nPk0Og0B8XWXb6zSx8fq4E9lMutKusy/view?usp=sharing -O reviews.csv"
      ],
      "metadata": {
        "colab": {
          "base_uri": "https://localhost:8080/"
        },
        "id": "Sqf-b5_zj3Eg",
        "outputId": "ad88cf25-499c-482c-86ea-a31f9091471a"
      },
      "execution_count": null,
      "outputs": [
        {
          "output_type": "stream",
          "name": "stdout",
          "text": [
            "Downloading...\n",
            "From: https://drive.google.com/uc?id=13nPk0Og0B8XWXb6zSx8fq4E9lMutKusy\n",
            "To: /content/reviews.csv\n",
            "100% 6.45M/6.45M [00:00<00:00, 20.7MB/s]\n"
          ]
        }
      ]
    },
    {
      "cell_type": "code",
      "execution_count": null,
      "metadata": {
        "id": "4uswfo2dmbje"
      },
      "outputs": [],
      "source": [
        "# Устанавливаем константы воспроизводимости и переменные для отображения графиков\n",
        "%config InlineBackend.figure_format='retina'\n",
        "\n",
        "rcParams['figure.figsize'] = 10, 6\n",
        "\n",
        "# Воспроизводимость\n",
        "RANDOM_SEED = 42\n",
        "np.random.seed(RANDOM_SEED)\n",
        "torch.manual_seed(RANDOM_SEED)\n",
        "\n",
        "# Выбираем ускоритель GPU\n",
        "device = torch.device(\"cuda\" if torch.cuda.is_available() else \"cpu\")"
      ]
    },
    {
      "cell_type": "code",
      "execution_count": null,
      "metadata": {
        "colab": {
          "base_uri": "https://localhost:8080/"
        },
        "id": "l8Mu-lU8mfiC",
        "outputId": "4aca9e2c-8ab4-4734-ff12-b375fc7e4449"
      },
      "outputs": [
        {
          "output_type": "execute_result",
          "data": {
            "text/plain": [
              "(12495, 12)"
            ]
          },
          "metadata": {},
          "execution_count": 3
        }
      ],
      "source": [
        "# Читаем данные\n",
        "df = pd.read_csv('/content/reviews.csv')\n",
        "df.shape"
      ]
    },
    {
      "cell_type": "code",
      "execution_count": null,
      "metadata": {
        "colab": {
          "base_uri": "https://localhost:8080/",
          "height": 591
        },
        "id": "X5gZ2Mhnnd-y",
        "outputId": "dc786de3-285e-439d-d95d-4ad0ba4f3975"
      },
      "outputs": [
        {
          "output_type": "execute_result",
          "data": {
            "text/plain": [
              "                                            reviewId  \\\n",
              "0  gp:AOqpTOEhZuqSqqWnaKRgv-9ABYdajFUB0WugPGh-SG-...   \n",
              "1  gp:AOqpTOH0WP4IQKBZ2LrdNmFy_YmpPCVrV3diEU9KGm3...   \n",
              "2  gp:AOqpTOEMCkJB8Iq1p-r9dPwnSYadA5BkPWTf32Z1azu...   \n",
              "3  gp:AOqpTOGFrUWuKGycpje8kszj3uwHN6tU_fd4gLVFy9z...   \n",
              "4  gp:AOqpTOHls7DW8wmDFzTkHwxuqFkdNQtKHmO6Pt9jhZE...   \n",
              "\n",
              "                           userName  \\\n",
              "0                          Eric Tie   \n",
              "1                        john alpha   \n",
              "2                       Sudhakar .S   \n",
              "3  SKGflorida@bellsouth.net DAVID S   \n",
              "4                     Louann Stoker   \n",
              "\n",
              "                                           userImage  \\\n",
              "0  https://play-lh.googleusercontent.com/a-/AOh14...   \n",
              "1  https://play-lh.googleusercontent.com/a-/AOh14...   \n",
              "2  https://play-lh.googleusercontent.com/a-/AOh14...   \n",
              "3  https://play-lh.googleusercontent.com/-75aK0WF...   \n",
              "4  https://play-lh.googleusercontent.com/-pBcY_Z-...   \n",
              "\n",
              "                                             content  score  thumbsUpCount  \\\n",
              "0                      I cannot open the app anymore      1              0   \n",
              "1  I have been begging for a refund from this app...      1              0   \n",
              "2  Very costly for the premium version (approx In...      1              0   \n",
              "3  Used to keep me organized, but all the 2020 UP...      1              0   \n",
              "4                                Dan Birthday Oct 28      1              0   \n",
              "\n",
              "  reviewCreatedVersion                   at  \\\n",
              "0              5.4.0.6  2020-10-27 21:24:41   \n",
              "1                  NaN  2020-10-27 14:03:28   \n",
              "2                  NaN  2020-10-27 08:18:40   \n",
              "3                  NaN  2020-10-26 13:28:07   \n",
              "4              5.6.0.7  2020-10-26 06:10:50   \n",
              "\n",
              "                                        replyContent            repliedAt  \\\n",
              "0                                                NaN                  NaN   \n",
              "1  Please note that from checking our records, yo...  2020-10-27 15:05:52   \n",
              "2                                                NaN                  NaN   \n",
              "3  What do you find troublesome about the update?...  2020-10-26 14:58:29   \n",
              "4                                                NaN                  NaN   \n",
              "\n",
              "  sortOrder      appId  \n",
              "0    newest  com.anydo  \n",
              "1    newest  com.anydo  \n",
              "2    newest  com.anydo  \n",
              "3    newest  com.anydo  \n",
              "4    newest  com.anydo  "
            ],
            "text/html": [
              "\n",
              "  <div id=\"df-afb0c5c1-07f3-4aa1-a92f-1f0f0d3d7506\" class=\"colab-df-container\">\n",
              "    <div>\n",
              "<style scoped>\n",
              "    .dataframe tbody tr th:only-of-type {\n",
              "        vertical-align: middle;\n",
              "    }\n",
              "\n",
              "    .dataframe tbody tr th {\n",
              "        vertical-align: top;\n",
              "    }\n",
              "\n",
              "    .dataframe thead th {\n",
              "        text-align: right;\n",
              "    }\n",
              "</style>\n",
              "<table border=\"1\" class=\"dataframe\">\n",
              "  <thead>\n",
              "    <tr style=\"text-align: right;\">\n",
              "      <th></th>\n",
              "      <th>reviewId</th>\n",
              "      <th>userName</th>\n",
              "      <th>userImage</th>\n",
              "      <th>content</th>\n",
              "      <th>score</th>\n",
              "      <th>thumbsUpCount</th>\n",
              "      <th>reviewCreatedVersion</th>\n",
              "      <th>at</th>\n",
              "      <th>replyContent</th>\n",
              "      <th>repliedAt</th>\n",
              "      <th>sortOrder</th>\n",
              "      <th>appId</th>\n",
              "    </tr>\n",
              "  </thead>\n",
              "  <tbody>\n",
              "    <tr>\n",
              "      <th>0</th>\n",
              "      <td>gp:AOqpTOEhZuqSqqWnaKRgv-9ABYdajFUB0WugPGh-SG-...</td>\n",
              "      <td>Eric Tie</td>\n",
              "      <td>https://play-lh.googleusercontent.com/a-/AOh14...</td>\n",
              "      <td>I cannot open the app anymore</td>\n",
              "      <td>1</td>\n",
              "      <td>0</td>\n",
              "      <td>5.4.0.6</td>\n",
              "      <td>2020-10-27 21:24:41</td>\n",
              "      <td>NaN</td>\n",
              "      <td>NaN</td>\n",
              "      <td>newest</td>\n",
              "      <td>com.anydo</td>\n",
              "    </tr>\n",
              "    <tr>\n",
              "      <th>1</th>\n",
              "      <td>gp:AOqpTOH0WP4IQKBZ2LrdNmFy_YmpPCVrV3diEU9KGm3...</td>\n",
              "      <td>john alpha</td>\n",
              "      <td>https://play-lh.googleusercontent.com/a-/AOh14...</td>\n",
              "      <td>I have been begging for a refund from this app...</td>\n",
              "      <td>1</td>\n",
              "      <td>0</td>\n",
              "      <td>NaN</td>\n",
              "      <td>2020-10-27 14:03:28</td>\n",
              "      <td>Please note that from checking our records, yo...</td>\n",
              "      <td>2020-10-27 15:05:52</td>\n",
              "      <td>newest</td>\n",
              "      <td>com.anydo</td>\n",
              "    </tr>\n",
              "    <tr>\n",
              "      <th>2</th>\n",
              "      <td>gp:AOqpTOEMCkJB8Iq1p-r9dPwnSYadA5BkPWTf32Z1azu...</td>\n",
              "      <td>Sudhakar .S</td>\n",
              "      <td>https://play-lh.googleusercontent.com/a-/AOh14...</td>\n",
              "      <td>Very costly for the premium version (approx In...</td>\n",
              "      <td>1</td>\n",
              "      <td>0</td>\n",
              "      <td>NaN</td>\n",
              "      <td>2020-10-27 08:18:40</td>\n",
              "      <td>NaN</td>\n",
              "      <td>NaN</td>\n",
              "      <td>newest</td>\n",
              "      <td>com.anydo</td>\n",
              "    </tr>\n",
              "    <tr>\n",
              "      <th>3</th>\n",
              "      <td>gp:AOqpTOGFrUWuKGycpje8kszj3uwHN6tU_fd4gLVFy9z...</td>\n",
              "      <td>SKGflorida@bellsouth.net DAVID S</td>\n",
              "      <td>https://play-lh.googleusercontent.com/-75aK0WF...</td>\n",
              "      <td>Used to keep me organized, but all the 2020 UP...</td>\n",
              "      <td>1</td>\n",
              "      <td>0</td>\n",
              "      <td>NaN</td>\n",
              "      <td>2020-10-26 13:28:07</td>\n",
              "      <td>What do you find troublesome about the update?...</td>\n",
              "      <td>2020-10-26 14:58:29</td>\n",
              "      <td>newest</td>\n",
              "      <td>com.anydo</td>\n",
              "    </tr>\n",
              "    <tr>\n",
              "      <th>4</th>\n",
              "      <td>gp:AOqpTOHls7DW8wmDFzTkHwxuqFkdNQtKHmO6Pt9jhZE...</td>\n",
              "      <td>Louann Stoker</td>\n",
              "      <td>https://play-lh.googleusercontent.com/-pBcY_Z-...</td>\n",
              "      <td>Dan Birthday Oct 28</td>\n",
              "      <td>1</td>\n",
              "      <td>0</td>\n",
              "      <td>5.6.0.7</td>\n",
              "      <td>2020-10-26 06:10:50</td>\n",
              "      <td>NaN</td>\n",
              "      <td>NaN</td>\n",
              "      <td>newest</td>\n",
              "      <td>com.anydo</td>\n",
              "    </tr>\n",
              "  </tbody>\n",
              "</table>\n",
              "</div>\n",
              "    <div class=\"colab-df-buttons\">\n",
              "\n",
              "  <div class=\"colab-df-container\">\n",
              "    <button class=\"colab-df-convert\" onclick=\"convertToInteractive('df-afb0c5c1-07f3-4aa1-a92f-1f0f0d3d7506')\"\n",
              "            title=\"Convert this dataframe to an interactive table.\"\n",
              "            style=\"display:none;\">\n",
              "\n",
              "  <svg xmlns=\"http://www.w3.org/2000/svg\" height=\"24px\" viewBox=\"0 -960 960 960\">\n",
              "    <path d=\"M120-120v-720h720v720H120Zm60-500h600v-160H180v160Zm220 220h160v-160H400v160Zm0 220h160v-160H400v160ZM180-400h160v-160H180v160Zm440 0h160v-160H620v160ZM180-180h160v-160H180v160Zm440 0h160v-160H620v160Z\"/>\n",
              "  </svg>\n",
              "    </button>\n",
              "\n",
              "  <style>\n",
              "    .colab-df-container {\n",
              "      display:flex;\n",
              "      gap: 12px;\n",
              "    }\n",
              "\n",
              "    .colab-df-convert {\n",
              "      background-color: #E8F0FE;\n",
              "      border: none;\n",
              "      border-radius: 50%;\n",
              "      cursor: pointer;\n",
              "      display: none;\n",
              "      fill: #1967D2;\n",
              "      height: 32px;\n",
              "      padding: 0 0 0 0;\n",
              "      width: 32px;\n",
              "    }\n",
              "\n",
              "    .colab-df-convert:hover {\n",
              "      background-color: #E2EBFA;\n",
              "      box-shadow: 0px 1px 2px rgba(60, 64, 67, 0.3), 0px 1px 3px 1px rgba(60, 64, 67, 0.15);\n",
              "      fill: #174EA6;\n",
              "    }\n",
              "\n",
              "    .colab-df-buttons div {\n",
              "      margin-bottom: 4px;\n",
              "    }\n",
              "\n",
              "    [theme=dark] .colab-df-convert {\n",
              "      background-color: #3B4455;\n",
              "      fill: #D2E3FC;\n",
              "    }\n",
              "\n",
              "    [theme=dark] .colab-df-convert:hover {\n",
              "      background-color: #434B5C;\n",
              "      box-shadow: 0px 1px 3px 1px rgba(0, 0, 0, 0.15);\n",
              "      filter: drop-shadow(0px 1px 2px rgba(0, 0, 0, 0.3));\n",
              "      fill: #FFFFFF;\n",
              "    }\n",
              "  </style>\n",
              "\n",
              "    <script>\n",
              "      const buttonEl =\n",
              "        document.querySelector('#df-afb0c5c1-07f3-4aa1-a92f-1f0f0d3d7506 button.colab-df-convert');\n",
              "      buttonEl.style.display =\n",
              "        google.colab.kernel.accessAllowed ? 'block' : 'none';\n",
              "\n",
              "      async function convertToInteractive(key) {\n",
              "        const element = document.querySelector('#df-afb0c5c1-07f3-4aa1-a92f-1f0f0d3d7506');\n",
              "        const dataTable =\n",
              "          await google.colab.kernel.invokeFunction('convertToInteractive',\n",
              "                                                    [key], {});\n",
              "        if (!dataTable) return;\n",
              "\n",
              "        const docLinkHtml = 'Like what you see? Visit the ' +\n",
              "          '<a target=\"_blank\" href=https://colab.research.google.com/notebooks/data_table.ipynb>data table notebook</a>'\n",
              "          + ' to learn more about interactive tables.';\n",
              "        element.innerHTML = '';\n",
              "        dataTable['output_type'] = 'display_data';\n",
              "        await google.colab.output.renderOutput(dataTable, element);\n",
              "        const docLink = document.createElement('div');\n",
              "        docLink.innerHTML = docLinkHtml;\n",
              "        element.appendChild(docLink);\n",
              "      }\n",
              "    </script>\n",
              "  </div>\n",
              "\n",
              "\n",
              "<div id=\"df-5e8fd2d2-9ae0-4968-b54e-c100304b7a6d\">\n",
              "  <button class=\"colab-df-quickchart\" onclick=\"quickchart('df-5e8fd2d2-9ae0-4968-b54e-c100304b7a6d')\"\n",
              "            title=\"Suggest charts\"\n",
              "            style=\"display:none;\">\n",
              "\n",
              "<svg xmlns=\"http://www.w3.org/2000/svg\" height=\"24px\"viewBox=\"0 0 24 24\"\n",
              "     width=\"24px\">\n",
              "    <g>\n",
              "        <path d=\"M19 3H5c-1.1 0-2 .9-2 2v14c0 1.1.9 2 2 2h14c1.1 0 2-.9 2-2V5c0-1.1-.9-2-2-2zM9 17H7v-7h2v7zm4 0h-2V7h2v10zm4 0h-2v-4h2v4z\"/>\n",
              "    </g>\n",
              "</svg>\n",
              "  </button>\n",
              "\n",
              "<style>\n",
              "  .colab-df-quickchart {\n",
              "      --bg-color: #E8F0FE;\n",
              "      --fill-color: #1967D2;\n",
              "      --hover-bg-color: #E2EBFA;\n",
              "      --hover-fill-color: #174EA6;\n",
              "      --disabled-fill-color: #AAA;\n",
              "      --disabled-bg-color: #DDD;\n",
              "  }\n",
              "\n",
              "  [theme=dark] .colab-df-quickchart {\n",
              "      --bg-color: #3B4455;\n",
              "      --fill-color: #D2E3FC;\n",
              "      --hover-bg-color: #434B5C;\n",
              "      --hover-fill-color: #FFFFFF;\n",
              "      --disabled-bg-color: #3B4455;\n",
              "      --disabled-fill-color: #666;\n",
              "  }\n",
              "\n",
              "  .colab-df-quickchart {\n",
              "    background-color: var(--bg-color);\n",
              "    border: none;\n",
              "    border-radius: 50%;\n",
              "    cursor: pointer;\n",
              "    display: none;\n",
              "    fill: var(--fill-color);\n",
              "    height: 32px;\n",
              "    padding: 0;\n",
              "    width: 32px;\n",
              "  }\n",
              "\n",
              "  .colab-df-quickchart:hover {\n",
              "    background-color: var(--hover-bg-color);\n",
              "    box-shadow: 0 1px 2px rgba(60, 64, 67, 0.3), 0 1px 3px 1px rgba(60, 64, 67, 0.15);\n",
              "    fill: var(--button-hover-fill-color);\n",
              "  }\n",
              "\n",
              "  .colab-df-quickchart-complete:disabled,\n",
              "  .colab-df-quickchart-complete:disabled:hover {\n",
              "    background-color: var(--disabled-bg-color);\n",
              "    fill: var(--disabled-fill-color);\n",
              "    box-shadow: none;\n",
              "  }\n",
              "\n",
              "  .colab-df-spinner {\n",
              "    border: 2px solid var(--fill-color);\n",
              "    border-color: transparent;\n",
              "    border-bottom-color: var(--fill-color);\n",
              "    animation:\n",
              "      spin 1s steps(1) infinite;\n",
              "  }\n",
              "\n",
              "  @keyframes spin {\n",
              "    0% {\n",
              "      border-color: transparent;\n",
              "      border-bottom-color: var(--fill-color);\n",
              "      border-left-color: var(--fill-color);\n",
              "    }\n",
              "    20% {\n",
              "      border-color: transparent;\n",
              "      border-left-color: var(--fill-color);\n",
              "      border-top-color: var(--fill-color);\n",
              "    }\n",
              "    30% {\n",
              "      border-color: transparent;\n",
              "      border-left-color: var(--fill-color);\n",
              "      border-top-color: var(--fill-color);\n",
              "      border-right-color: var(--fill-color);\n",
              "    }\n",
              "    40% {\n",
              "      border-color: transparent;\n",
              "      border-right-color: var(--fill-color);\n",
              "      border-top-color: var(--fill-color);\n",
              "    }\n",
              "    60% {\n",
              "      border-color: transparent;\n",
              "      border-right-color: var(--fill-color);\n",
              "    }\n",
              "    80% {\n",
              "      border-color: transparent;\n",
              "      border-right-color: var(--fill-color);\n",
              "      border-bottom-color: var(--fill-color);\n",
              "    }\n",
              "    90% {\n",
              "      border-color: transparent;\n",
              "      border-bottom-color: var(--fill-color);\n",
              "    }\n",
              "  }\n",
              "</style>\n",
              "\n",
              "  <script>\n",
              "    async function quickchart(key) {\n",
              "      const quickchartButtonEl =\n",
              "        document.querySelector('#' + key + ' button');\n",
              "      quickchartButtonEl.disabled = true;  // To prevent multiple clicks.\n",
              "      quickchartButtonEl.classList.add('colab-df-spinner');\n",
              "      try {\n",
              "        const charts = await google.colab.kernel.invokeFunction(\n",
              "            'suggestCharts', [key], {});\n",
              "      } catch (error) {\n",
              "        console.error('Error during call to suggestCharts:', error);\n",
              "      }\n",
              "      quickchartButtonEl.classList.remove('colab-df-spinner');\n",
              "      quickchartButtonEl.classList.add('colab-df-quickchart-complete');\n",
              "    }\n",
              "    (() => {\n",
              "      let quickchartButtonEl =\n",
              "        document.querySelector('#df-5e8fd2d2-9ae0-4968-b54e-c100304b7a6d button');\n",
              "      quickchartButtonEl.style.display =\n",
              "        google.colab.kernel.accessAllowed ? 'block' : 'none';\n",
              "    })();\n",
              "  </script>\n",
              "</div>\n",
              "    </div>\n",
              "  </div>\n"
            ],
            "application/vnd.google.colaboratory.intrinsic+json": {
              "type": "dataframe",
              "variable_name": "df",
              "summary": "{\n  \"name\": \"df\",\n  \"rows\": 12495,\n  \"fields\": [\n    {\n      \"column\": \"reviewId\",\n      \"properties\": {\n        \"dtype\": \"string\",\n        \"num_unique_values\": 12495,\n        \"samples\": [\n          \"gp:AOqpTOFFymtN3nnbHJrkAjHfBO5eLncdMIsvSs9EXdjs0XIebapApViAjD2jHzLGME8aAVhIdvI1_m5Z6i57bQ\",\n          \"gp:AOqpTOE4HAQqHMoeH_sGJ850PeeCeB64_AY-eGqyhDx32tRRJE4QEkEPA8W4csLx23gURZzZwR-XXBudqVmfsQ\",\n          \"gp:AOqpTOH8mznEDPIiBSAGFgbbG56CX-Bi5otRxNelmUH6-d2xO06NQ92NGRLVweXj00D4thvw6qdUNCJvQ9LFKWE\"\n        ],\n        \"semantic_type\": \"\",\n        \"description\": \"\"\n      }\n    },\n    {\n      \"column\": \"userName\",\n      \"properties\": {\n        \"dtype\": \"string\",\n        \"num_unique_values\": 11967,\n        \"samples\": [\n          \"Pat Homer\",\n          \"Jordan Roath\",\n          \"Jessica Baxter\"\n        ],\n        \"semantic_type\": \"\",\n        \"description\": \"\"\n      }\n    },\n    {\n      \"column\": \"userImage\",\n      \"properties\": {\n        \"dtype\": \"string\",\n        \"num_unique_values\": 12037,\n        \"samples\": [\n          \"https://play-lh.googleusercontent.com/-i-beL99jMVU/AAAAAAAAAAI/AAAAAAAAAAA/AMZuucm4YIAwT0gWDdRF6SKzbCW0oVV7fQ/photo.jpg\",\n          \"https://play-lh.googleusercontent.com/-341OY-HCJsI/AAAAAAAAAAI/AAAAAAAAAAA/AMZuucnUgK9GSRBapnTTRQi-LRgnmZrCmg/photo.jpg\",\n          \"https://play-lh.googleusercontent.com/a-/AOh14GjBrkWT9MhPZaxYXucZjFinkwXG1kOSVZdhRS4Erw\"\n        ],\n        \"semantic_type\": \"\",\n        \"description\": \"\"\n      }\n    },\n    {\n      \"column\": \"content\",\n      \"properties\": {\n        \"dtype\": \"string\",\n        \"num_unique_values\": 11807,\n        \"samples\": [\n          \"Awesome app! Easier to keep track of schedule and never forget a thing.\",\n          \"This app is perfect for my needs but there is one issue that I just noticed on repeated tasks. Once you hit complete the task, it will not add automaticly the next task. You have to check and then uncheck the task in order to show the next repeated task. Otherwise if you leave the task checked, it will not remind you for the next repeated task.\",\n          \"Non-functional with Google account. Was great, but can't use right now.\"\n        ],\n        \"semantic_type\": \"\",\n        \"description\": \"\"\n      }\n    },\n    {\n      \"column\": \"score\",\n      \"properties\": {\n        \"dtype\": \"number\",\n        \"std\": 1,\n        \"min\": 1,\n        \"max\": 5,\n        \"num_unique_values\": 5,\n        \"samples\": [\n          2,\n          5,\n          3\n        ],\n        \"semantic_type\": \"\",\n        \"description\": \"\"\n      }\n    },\n    {\n      \"column\": \"thumbsUpCount\",\n      \"properties\": {\n        \"dtype\": \"number\",\n        \"std\": 14,\n        \"min\": 0,\n        \"max\": 397,\n        \"num_unique_values\": 139,\n        \"samples\": [\n          162,\n          73,\n          49\n        ],\n        \"semantic_type\": \"\",\n        \"description\": \"\"\n      }\n    },\n    {\n      \"column\": \"reviewCreatedVersion\",\n      \"properties\": {\n        \"dtype\": \"category\",\n        \"num_unique_values\": 497,\n        \"samples\": [\n          \"4.3.6\",\n          \"15.2.0\",\n          \"3.8\"\n        ],\n        \"semantic_type\": \"\",\n        \"description\": \"\"\n      }\n    },\n    {\n      \"column\": \"at\",\n      \"properties\": {\n        \"dtype\": \"object\",\n        \"num_unique_values\": 12491,\n        \"samples\": [\n          \"2020-04-01 11:31:38\",\n          \"2020-10-24 03:02:55\",\n          \"2020-09-29 02:38:52\"\n        ],\n        \"semantic_type\": \"\",\n        \"description\": \"\"\n      }\n    },\n    {\n      \"column\": \"replyContent\",\n      \"properties\": {\n        \"dtype\": \"category\",\n        \"num_unique_values\": 4781,\n        \"samples\": [\n          \"Sad rating  ;(\",\n          \"Hi, please remember that BC is the Android app i.e. it is developed for Android devices only. A desktop version would be a completely different platform, which would require new code = new app. Currently we do not have the capacity to develop a new app as our small team of developers is constantly involved in the development of BC 2 Android app\",\n          \"\\ud83d\\udc97\\ud83d\\ude0a\"\n        ],\n        \"semantic_type\": \"\",\n        \"description\": \"\"\n      }\n    },\n    {\n      \"column\": \"repliedAt\",\n      \"properties\": {\n        \"dtype\": \"date\",\n        \"min\": \"2013-01-14 13:17:53\",\n        \"max\": \"2020-10-28 01:36:33\",\n        \"num_unique_values\": 5818,\n        \"samples\": [\n          \"2020-09-15 13:25:15\",\n          \"2020-04-03 09:18:54\",\n          \"2017-09-04 02:28:41\"\n        ],\n        \"semantic_type\": \"\",\n        \"description\": \"\"\n      }\n    },\n    {\n      \"column\": \"sortOrder\",\n      \"properties\": {\n        \"dtype\": \"category\",\n        \"num_unique_values\": 1,\n        \"samples\": [\n          \"newest\"\n        ],\n        \"semantic_type\": \"\",\n        \"description\": \"\"\n      }\n    },\n    {\n      \"column\": \"appId\",\n      \"properties\": {\n        \"dtype\": \"category\",\n        \"num_unique_values\": 15,\n        \"samples\": [\n          \"prox.lab.calclock\"\n        ],\n        \"semantic_type\": \"\",\n        \"description\": \"\"\n      }\n    }\n  ]\n}"
            }
          },
          "metadata": {},
          "execution_count": 4
        }
      ],
      "source": [
        "# Смотрим на данные\n",
        "df.head()"
      ]
    },
    {
      "cell_type": "code",
      "execution_count": null,
      "metadata": {
        "colab": {
          "base_uri": "https://localhost:8080/",
          "height": 562
        },
        "id": "OXtqz5B0nqzG",
        "outputId": "93195b65-c3c0-43cc-84b8-750a0274f3b1"
      },
      "outputs": [
        {
          "output_type": "execute_result",
          "data": {
            "text/plain": [
              "Text(0.5, 0, 'review score')"
            ]
          },
          "metadata": {},
          "execution_count": 5
        },
        {
          "output_type": "display_data",
          "data": {
            "text/plain": [
              "<Figure size 1000x600 with 1 Axes>"
            ],
            "image/png": "[encoded data removed]"
          },
          "metadata": {
            "image/png": {
              "width": 859,
              "height": 527
            }
          }
        }
      ],
      "source": [
        "# Смотрим на распределение классов\n",
        "sns.countplot(df, x=\"score\")\n",
        "plt.xlabel('review score')"
      ]
    },
    {
      "cell_type": "code",
      "execution_count": null,
      "metadata": {
        "id": "k5DmbpCinvDE"
      },
      "outputs": [],
      "source": [
        "# Функция кодировки эмоциональной окраски\n",
        "def to_sentiment(rating):\n",
        "\n",
        "    rating = int(rating)\n",
        "\n",
        "    if rating <= 2:\n",
        "        return 0\n",
        "    elif rating == 3:\n",
        "        return 1\n",
        "    else:\n",
        "        return 2\n",
        "\n",
        "df['sentiment'] = df.score.apply(to_sentiment)"
      ]
    },
    {
      "cell_type": "code",
      "execution_count": null,
      "metadata": {
        "colab": {
          "base_uri": "https://localhost:8080/",
          "height": 560
        },
        "id": "078q7KPBnz2k",
        "outputId": "0277c846-d6ce-4101-83b7-daa1252da45e"
      },
      "outputs": [
        {
          "output_type": "execute_result",
          "data": {
            "text/plain": [
              "[Text(0, 0, 'negative'), Text(1, 0, 'neutral'), Text(2, 0, 'positive')]"
            ]
          },
          "metadata": {},
          "execution_count": 7
        },
        {
          "output_type": "display_data",
          "data": {
            "text/plain": [
              "<Figure size 1000x600 with 1 Axes>"
            ],
            "image/png": "[encoded data removed]"
          },
          "metadata": {
            "image/png": {
              "width": 859,
              "height": 525
            }
          }
        }
      ],
      "source": [
        "# Отрисовываем распределение целевой переменной\n",
        "class_names = ['negative', 'neutral', 'positive']\n",
        "ax = sns.countplot(df, x=\"sentiment\")\n",
        "plt.xlabel('review sentiment')\n",
        "ax.set_xticklabels(class_names)"
      ]
    },
    {
      "cell_type": "markdown",
      "metadata": {
        "id": "rvOC-CugoX7b"
      },
      "source": [
        "<div class=\"alert alert-info\">\n",
        "    \n",
        "Видим, что у нас 3 класса: негативная тональность, позитивная и нейтральная."
      ]
    },
    {
      "cell_type": "code",
      "execution_count": null,
      "metadata": {
        "id": "yrwewNoZn2xz"
      },
      "outputs": [],
      "source": [
        "# Загружаем токенизатор модели\n",
        "MODEL_NAME = 'bert-base-cased'\n",
        "\n",
        "tokenizer = BertTokenizer.from_pretrained(MODEL_NAME)"
      ]
    },
    {
      "cell_type": "code",
      "execution_count": null,
      "metadata": {
        "id": "vHsEmmYhoAhg",
        "outputId": "fd8c126f-714e-4c9e-fb7c-4b9d849253c7",
        "colab": {
          "base_uri": "https://localhost:8080/"
        }
      },
      "outputs": [
        {
          "output_type": "stream",
          "name": "stdout",
          "text": [
            "[SEP] 102\n",
            "[CLS] 101\n",
            "[PAD] 0\n",
            "[UNK] 100\n"
          ]
        }
      ],
      "source": [
        "# Используемые токенизатором BERT токены\n",
        "print(tokenizer.sep_token, tokenizer.sep_token_id)\n",
        "print(tokenizer.cls_token, tokenizer.cls_token_id)\n",
        "print(tokenizer.pad_token, tokenizer.pad_token_id)\n",
        "print(tokenizer.unk_token, tokenizer.unk_token_id)"
      ]
    },
    {
      "cell_type": "code",
      "execution_count": null,
      "metadata": {
        "id": "jpJ_0f9RoGas",
        "outputId": "1d6fc273-7278-471e-f100-7b8179a98d6a",
        "colab": {
          "base_uri": "https://localhost:8080/"
        }
      },
      "outputs": [
        {
          "output_type": "stream",
          "name": "stderr",
          "text": [
            "Truncation was not explicitly activated but `max_length` is provided a specific value, please use `truncation=True` to explicitly truncate examples to max length. Defaulting to 'longest_first' truncation strategy. If you encode pairs of sequences (GLUE-style) with the tokenizer you can select this strategy more precisely by providing a specific strategy to `truncation`.\n"
          ]
        }
      ],
      "source": [
        "# Считаем длину каждого отзыва\n",
        "token_lens = []\n",
        "\n",
        "for txt in df.content:\n",
        "    tokens = tokenizer.encode(txt, max_length=512)\n",
        "    token_lens.append(len(tokens))"
      ]
    },
    {
      "cell_type": "code",
      "execution_count": null,
      "metadata": {
        "id": "LgQP0UnloKbg",
        "outputId": "30436c48-bcb8-4bee-ba93-c80b4f431673",
        "colab": {
          "base_uri": "https://localhost:8080/",
          "height": 560
        }
      },
      "outputs": [
        {
          "output_type": "execute_result",
          "data": {
            "text/plain": [
              "Text(0.5, 0, 'Token count')"
            ]
          },
          "metadata": {},
          "execution_count": 11
        },
        {
          "output_type": "display_data",
          "data": {
            "text/plain": [
              "<Figure size 1000x600 with 1 Axes>"
            ],
            "image/png": "[encoded data removed]"
          },
          "metadata": {
            "image/png": {
              "width": 864,
              "height": 525
            }
          }
        }
      ],
      "source": [
        "# Отрисуем длины отзывов\n",
        "sns.distplot(token_lens)\n",
        "plt.xlim([0, 256])\n",
        "plt.xlabel('Token count')"
      ]
    },
    {
      "cell_type": "markdown",
      "metadata": {
        "id": "5KRXPAqloX7d"
      },
      "source": [
        "<div class=\"alert alert-info\">\n",
        "\n",
        "Видим, что в целом все отзывы укладываются в примерно 150 токенов. Значит, можно выставить максимальную длину."
      ]
    },
    {
      "cell_type": "code",
      "execution_count": null,
      "metadata": {
        "id": "4JspVJOVoMtC"
      },
      "outputs": [],
      "source": [
        "# Установим максимальную длину\n",
        "MAX_LEN = 160"
      ]
    },
    {
      "cell_type": "code",
      "execution_count": null,
      "metadata": {
        "id": "Y97mRFldoPLA"
      },
      "outputs": [],
      "source": [
        "class GPReviewDataset(Dataset):\n",
        "    # Определяем атрибуты\n",
        "    def __init__(self, reviews, targets, tokenizer, max_len):\n",
        "        self.reviews = reviews\n",
        "        self.targets = targets\n",
        "        self.tokenizer = tokenizer\n",
        "        self.max_len = max_len\n",
        "\n",
        "    # Метод подсчета длины\n",
        "    def __len__(self):\n",
        "        return len(self.reviews)\n",
        "\n",
        "    # Метод возврата индекса\n",
        "    def __getitem__(self, item):\n",
        "        review = str(self.reviews[item])\n",
        "        target = self.targets[item]\n",
        "\n",
        "        # Кодирование\n",
        "        encoding = self.tokenizer.encode_plus(\n",
        "            review,\n",
        "            add_special_tokens=True,\n",
        "            max_length=self.max_len,\n",
        "            return_token_type_ids=False,\n",
        "            pad_to_max_length=True,\n",
        "            return_attention_mask=True,\n",
        "            return_tensors='pt',\n",
        "        )\n",
        "\n",
        "        return {\n",
        "            'review_text': review,\n",
        "            'input_ids': encoding['input_ids'].flatten(),\n",
        "            'attention_mask': encoding['attention_mask'].flatten(),\n",
        "            'targets': torch.tensor(target, dtype=torch.long)\n",
        "        }"
      ]
    },
    {
      "cell_type": "code",
      "execution_count": null,
      "metadata": {
        "id": "ocatoiQeoScs",
        "outputId": "52d3ed82-4f68-4d4b-a33e-bf61839edf66",
        "colab": {
          "base_uri": "https://localhost:8080/"
        }
      },
      "outputs": [
        {
          "output_type": "stream",
          "name": "stdout",
          "text": [
            "(9996, 13) (1249, 13) (1250, 13)\n"
          ]
        }
      ],
      "source": [
        "# Разбиваем на обучающую и валидационную выборки\n",
        "df_train, df_test = train_test_split(df, test_size=0.2, random_state=RANDOM_SEED)\n",
        "df_val, df_test = train_test_split(df_test, test_size=0.5, random_state=RANDOM_SEED)\n",
        "\n",
        "print(df_train.shape, df_val.shape, df_test.shape)"
      ]
    },
    {
      "cell_type": "code",
      "execution_count": null,
      "metadata": {
        "id": "P6xVrbBFoVG_"
      },
      "outputs": [],
      "source": [
        "# Функция создания загрузчика данных\n",
        "def create_data_loader(df, tokenizer, max_len, batch_size):\n",
        "    ds = GPReviewDataset(\n",
        "        reviews=df.content.to_numpy(),\n",
        "        targets=df.sentiment.to_numpy(),\n",
        "        tokenizer=tokenizer,\n",
        "        max_len=max_len\n",
        "    )\n",
        "\n",
        "    return DataLoader(\n",
        "        ds,\n",
        "        batch_size=batch_size,\n",
        "        num_workers=0\n",
        "    )"
      ]
    },
    {
      "cell_type": "code",
      "execution_count": null,
      "metadata": {
        "id": "ZWp_bu69oXaQ"
      },
      "outputs": [],
      "source": [
        "BATCH_SIZE = 128\n",
        "train_data_loader = create_data_loader(df_train, tokenizer, MAX_LEN, BATCH_SIZE)\n",
        "val_data_loader = create_data_loader(df_val, tokenizer, MAX_LEN, BATCH_SIZE)\n",
        "test_data_loader = create_data_loader(df_test, tokenizer, MAX_LEN, BATCH_SIZE)"
      ]
    },
    {
      "cell_type": "code",
      "execution_count": null,
      "metadata": {
        "id": "uGzElF6roZsg",
        "outputId": "f8235a36-c5ea-4889-f4b7-9ede093a6d40",
        "colab": {
          "base_uri": "https://localhost:8080/"
        }
      },
      "outputs": [
        {
          "output_type": "stream",
          "name": "stdout",
          "text": [
            "dict_keys(['review_text', 'input_ids', 'attention_mask', 'targets'])\n",
            "torch.Size([128, 160])\n",
            "torch.Size([128, 160])\n",
            "torch.Size([128])\n"
          ]
        }
      ],
      "source": [
        "# Посмотрим, как выглядят данные перед загрузкой в модель\n",
        "data = next(iter(train_data_loader))\n",
        "print(data.keys())\n",
        "\n",
        "print(data['input_ids'].shape)\n",
        "print(data['attention_mask'].shape)\n",
        "print(data['targets'].shape)"
      ]
    },
    {
      "cell_type": "code",
      "execution_count": null,
      "metadata": {
        "id": "0h8Xs7r4ob6j"
      },
      "outputs": [],
      "source": [
        "# Загружаем модель\n",
        "bert_model = BertModel.from_pretrained(MODEL_NAME)"
      ]
    },
    {
      "cell_type": "code",
      "execution_count": null,
      "metadata": {
        "id": "X0NjoShsoehm"
      },
      "outputs": [],
      "source": [
        "class SentimentClassifier(nn.Module):\n",
        "\n",
        "    # Создаем атрибуты\n",
        "    def __init__(self, n_classes):\n",
        "        super(SentimentClassifier, self).__init__()\n",
        "        self.bert = BertModel.from_pretrained(MODEL_NAME)\n",
        "        self.drop = nn.Dropout(p=0.3)\n",
        "        self.classifier = nn.Linear(self.bert.config.hidden_size, n_classes)\n",
        "\n",
        "    # Прямой проход\n",
        "    def forward(self, input_ids, attention_mask):\n",
        "        bert_output = self.bert(\n",
        "          input_ids=input_ids,\n",
        "          attention_mask=attention_mask\n",
        "        )\n",
        "        pooled_output = bert_output.pooler_output\n",
        "        # Добавим слой dropout\n",
        "        output = self.drop(pooled_output)\n",
        "        return self.classifier(output)"
      ]
    },
    {
      "cell_type": "code",
      "execution_count": null,
      "metadata": {
        "id": "SV8--hrJoiFy"
      },
      "outputs": [],
      "source": [
        "model = SentimentClassifier(len(class_names))\n",
        "model = model.to(device)"
      ]
    },
    {
      "cell_type": "code",
      "execution_count": null,
      "metadata": {
        "id": "-p9a1tGXokUb",
        "outputId": "0f3a452d-1d85-46c4-8ba9-90ce6f04e560",
        "colab": {
          "base_uri": "https://localhost:8080/"
        }
      },
      "outputs": [
        {
          "output_type": "stream",
          "name": "stdout",
          "text": [
            "768\n"
          ]
        }
      ],
      "source": [
        "# Проверяем размерность скрытого представления\n",
        "print(bert_model.config.hidden_size)"
      ]
    },
    {
      "cell_type": "code",
      "execution_count": null,
      "metadata": {
        "id": "a3D_yY0qomRO"
      },
      "outputs": [],
      "source": [
        "EPOCHS = 3\n",
        "\n",
        "# Оптимизатор Adam\n",
        "optimizer = torch.optim.AdamW(model.parameters(), lr=2e-5)\n",
        "\n",
        "total_steps = len(train_data_loader) * EPOCHS\n",
        "\n",
        "# Планировщик скорости обучения\n",
        "scheduler = get_linear_schedule_with_warmup(\n",
        "    optimizer,\n",
        "    num_warmup_steps=0,\n",
        "    num_training_steps=total_steps\n",
        ")\n",
        "\n",
        "# Устанавливаем функцию потерь\n",
        "loss_fn = nn.CrossEntropyLoss().to(device)"
      ]
    },
    {
      "cell_type": "code",
      "execution_count": null,
      "metadata": {
        "id": "gHWY28vBopW7"
      },
      "outputs": [],
      "source": [
        "# Функция обучения модели\n",
        "def train_epoch(model, data_loader, loss_fn, optimizer, device, scheduler, n_examples, epoch):\n",
        "    model = model.train()\n",
        "    losses = []\n",
        "    correct_predictions = 0\n",
        "\n",
        "    for d in tqdm(data_loader):\n",
        "        input_ids = d[\"input_ids\"].to(device)\n",
        "        attention_mask = d[\"attention_mask\"].to(device)\n",
        "        targets = d[\"targets\"].to(device)\n",
        "\n",
        "        outputs = model(\n",
        "            input_ids=input_ids,\n",
        "            attention_mask=attention_mask\n",
        "        )\n",
        "\n",
        "        _, preds = torch.max(outputs, dim=1)\n",
        "        loss = loss_fn(outputs, targets)\n",
        "        # Записываем результаты в tensoboard\n",
        "        writer.add_scalar(\"Loss/train\", loss, epoch)\n",
        "        correct_predictions += torch.sum(preds == targets)\n",
        "        losses.append(loss.item())\n",
        "\n",
        "        # Обратный проход\n",
        "        loss.backward()\n",
        "\n",
        "        # Обрезание градиента\n",
        "        nn.utils.clip_grad_norm_(model.parameters(), max_norm=1.0)\n",
        "        optimizer.step()\n",
        "        scheduler.step()\n",
        "        optimizer.zero_grad()\n",
        "\n",
        "    return correct_predictions.double() / n_examples, np.mean(losses)"
      ]
    },
    {
      "cell_type": "code",
      "execution_count": null,
      "metadata": {
        "id": "bitCwxPeos1K"
      },
      "outputs": [],
      "source": [
        "# Функция инференса модели\n",
        "def eval_model(model, data_loader, loss_fn, device, n_examples, epoch):\n",
        "    model = model.eval()\n",
        "\n",
        "    losses = []\n",
        "    correct_predictions = 0\n",
        "\n",
        "    with torch.no_grad():\n",
        "        for d in tqdm(data_loader):\n",
        "            input_ids = d[\"input_ids\"].to(device)\n",
        "            attention_mask = d[\"attention_mask\"].to(device)\n",
        "            targets = d[\"targets\"].to(device)\n",
        "\n",
        "            # Получаем ответ модели\n",
        "            outputs = model(\n",
        "                input_ids=input_ids,\n",
        "                attention_mask=attention_mask\n",
        "            )\n",
        "\n",
        "            _, preds = torch.max(outputs, dim=1)\n",
        "            loss = loss_fn(outputs, targets)\n",
        "            writer.add_scalar(\"Loss/valid\", loss, epoch)\n",
        "            correct_predictions += torch.sum(preds == targets)\n",
        "            losses.append(loss.item())\n",
        "\n",
        "    return correct_predictions.double() / n_examples, np.mean(losses)"
      ]
    },
    {
      "cell_type": "code",
      "execution_count": null,
      "metadata": {
        "id": "Q3GLqhGBov9v",
        "outputId": "d44da25a-9536-4e3a-b90e-796994417b6e",
        "colab": {
          "base_uri": "https://localhost:8080/"
        }
      },
      "outputs": [
        {
          "output_type": "stream",
          "name": "stdout",
          "text": [
            "Epoch 1/3\n",
            "----------\n"
          ]
        },
        {
          "output_type": "stream",
          "name": "stderr",
          "text": [
            "100%|██████████| 79/79 [03:58<00:00,  3.02s/it]\n"
          ]
        },
        {
          "output_type": "stream",
          "name": "stdout",
          "text": [
            "Train loss 0.775890056845508 accuracy 0.6852741096438576\n"
          ]
        },
        {
          "output_type": "stream",
          "name": "stderr",
          "text": [
            "100%|██████████| 10/10 [00:11<00:00,  1.12s/it]\n"
          ]
        },
        {
          "output_type": "stream",
          "name": "stdout",
          "text": [
            "Val loss 0.631106948852539 accuracy 0.7461969575660528\n",
            "\n",
            "Epoch 2/3\n",
            "----------\n"
          ]
        },
        {
          "output_type": "stream",
          "name": "stderr",
          "text": [
            "100%|██████████| 79/79 [03:59<00:00,  3.03s/it]\n"
          ]
        },
        {
          "output_type": "stream",
          "name": "stdout",
          "text": [
            "Train loss 0.5969561693034594 accuracy 0.7691076430572229\n"
          ]
        },
        {
          "output_type": "stream",
          "name": "stderr",
          "text": [
            "100%|██████████| 10/10 [00:11<00:00,  1.13s/it]\n"
          ]
        },
        {
          "output_type": "stream",
          "name": "stdout",
          "text": [
            "Val loss 0.5974413692951203 accuracy 0.7582065652522018\n",
            "\n",
            "Epoch 3/3\n",
            "----------\n"
          ]
        },
        {
          "output_type": "stream",
          "name": "stderr",
          "text": [
            "100%|██████████| 79/79 [03:58<00:00,  3.02s/it]\n"
          ]
        },
        {
          "output_type": "stream",
          "name": "stdout",
          "text": [
            "Train loss 0.5376919930494284 accuracy 0.7983193277310925\n"
          ]
        },
        {
          "output_type": "stream",
          "name": "stderr",
          "text": [
            "100%|██████████| 10/10 [00:11<00:00,  1.13s/it]\n"
          ]
        },
        {
          "output_type": "stream",
          "name": "stdout",
          "text": [
            "Val loss 0.6018506467342377 accuracy 0.7622097678142513\n",
            "\n",
            "CPU times: user 12min 22s, sys: 2.57 s, total: 12min 25s\n",
            "Wall time: 12min 49s\n"
          ]
        }
      ],
      "source": [
        "%%time\n",
        "\n",
        "history = defaultdict(list)\n",
        "best_accuracy = 0\n",
        "\n",
        "for epoch in range(EPOCHS):\n",
        "\n",
        "    print(f\"Epoch {epoch + 1}/{EPOCHS}\")\n",
        "    print(\"-\" * 10)\n",
        "\n",
        "    # Считаем функцию потерь и метрику на обучении\n",
        "    train_acc, train_loss = train_epoch(\n",
        "        model,\n",
        "        train_data_loader,\n",
        "        loss_fn,\n",
        "        optimizer,\n",
        "        device,\n",
        "        scheduler,\n",
        "        len(df_train),\n",
        "        epoch\n",
        "    )\n",
        "\n",
        "    print(f\"Train loss {train_loss} accuracy {train_acc}\")\n",
        "\n",
        "    # Считаем функцию потерь и метрику на валидации\n",
        "    val_acc, val_loss = eval_model(\n",
        "        model,\n",
        "        val_data_loader,\n",
        "        loss_fn,\n",
        "        device,\n",
        "        len(df_val),\n",
        "        epoch\n",
        "    )\n",
        "\n",
        "    print(f\"Val loss {val_loss} accuracy {val_acc}\")\n",
        "    print()\n",
        "\n",
        "    history['train_acc'].append(train_acc)\n",
        "    history['train_loss'].append(train_loss)\n",
        "    history['val_acc'].append(val_acc)\n",
        "    history['val_loss'].append(val_loss)\n",
        "\n",
        "    # Если модель на текущем шагу лучше, то сохраняем\n",
        "    if val_acc > best_accuracy:\n",
        "        torch.save(model.state_dict(), 'best_model_state.bin')\n",
        "        best_accuracy = val_acc\n",
        "\n",
        "# Закрываем запись в tensorboard\n",
        "writer.flush()\n",
        "writer.close()"
      ]
    },
    {
      "cell_type": "code",
      "execution_count": null,
      "metadata": {
        "id": "gndzzDuloX7i"
      },
      "outputs": [],
      "source": [
        "# Смотрим на результат обучения\n",
        "# !tensorboard --logdir=runs"
      ]
    },
    {
      "cell_type": "code",
      "execution_count": null,
      "metadata": {
        "id": "D8ney4uyoX7i"
      },
      "outputs": [],
      "source": [
        "# Отправляем на cpu\n",
        "history['train_acc'] = [x.cpu() for x in history['train_acc']]\n",
        "history['val_acc'] = [x.cpu() for x in history['val_acc']]"
      ]
    },
    {
      "cell_type": "code",
      "execution_count": null,
      "metadata": {
        "id": "v1oqr1eBozae",
        "outputId": "a22af53b-5daa-4e6b-a9ae-8225a522df8b",
        "colab": {
          "base_uri": "https://localhost:8080/",
          "height": 581
        }
      },
      "outputs": [
        {
          "output_type": "execute_result",
          "data": {
            "text/plain": [
              "(0.5, 0.9)"
            ]
          },
          "metadata": {},
          "execution_count": 29
        },
        {
          "output_type": "display_data",
          "data": {
            "text/plain": [
              "<Figure size 1000x600 with 1 Axes>"
            ],
            "image/png": "[encoded data removed]"
          },
          "metadata": {
            "image/png": {
              "width": 855,
              "height": 546
            }
          }
        }
      ],
      "source": [
        "plt.plot(history['train_acc'], label='train accuracy')\n",
        "plt.plot(history['val_acc'], label='validation accuracy')\n",
        "\n",
        "# Отрисуем результаты обучения\n",
        "plt.title('Training history')\n",
        "plt.ylabel('Accuracy')\n",
        "plt.xlabel('Epoch')\n",
        "plt.legend()\n",
        "plt.ylim([0.5, 0.9])"
      ]
    },
    {
      "cell_type": "code",
      "execution_count": null,
      "metadata": {
        "id": "F7YblmyDo4hH",
        "outputId": "3b1c81d5-fabb-45eb-b3ab-b1fc021cd5d2",
        "colab": {
          "base_uri": "https://localhost:8080/"
        }
      },
      "outputs": [
        {
          "output_type": "stream",
          "name": "stderr",
          "text": [
            "100%|██████████| 10/10 [00:12<00:00,  1.21s/it]\n"
          ]
        },
        {
          "output_type": "execute_result",
          "data": {
            "text/plain": [
              "0.748"
            ]
          },
          "metadata": {},
          "execution_count": 30
        }
      ],
      "source": [
        "test_acc, _ = eval_model(\n",
        "  model,\n",
        "  test_data_loader,\n",
        "  loss_fn,\n",
        "  device,\n",
        "  len(df_test),\n",
        "  epoch\n",
        ")\n",
        "\n",
        "test_acc.item()"
      ]
    },
    {
      "cell_type": "markdown",
      "metadata": {
        "id": "8Aael67BoX7j"
      },
      "source": [
        "<div class=\"alert alert-info\">\n",
        "\n",
        "Обучение прошло успешно, мы получили хорошие значения метрик."
      ]
    },
    {
      "cell_type": "code",
      "execution_count": null,
      "metadata": {
        "id": "RGR0MCBCo7NY"
      },
      "outputs": [],
      "source": [
        "# Функция получения предсказания\n",
        "def get_predictions(model, data_loader):\n",
        "    model = model.eval()\n",
        "\n",
        "    review_texts = []\n",
        "    predictions = []\n",
        "    prediction_probs = []\n",
        "    real_values = []\n",
        "\n",
        "    with torch.no_grad():\n",
        "        for d in data_loader:\n",
        "            texts = d[\"review_text\"]\n",
        "            input_ids = d[\"input_ids\"].to(device)\n",
        "            attention_mask = d[\"attention_mask\"].to(device)\n",
        "            targets = d[\"targets\"].to(device)\n",
        "\n",
        "            outputs = model(\n",
        "                input_ids=input_ids,\n",
        "                attention_mask=attention_mask\n",
        "            )\n",
        "            _, preds = torch.max(outputs, dim=1)\n",
        "\n",
        "            review_texts.extend(texts)\n",
        "            predictions.extend(preds)\n",
        "            prediction_probs.extend(outputs)\n",
        "            real_values.extend(targets)\n",
        "\n",
        "    predictions = torch.stack(predictions).cpu()\n",
        "    prediction_probs = torch.stack(prediction_probs).cpu()\n",
        "    real_values = torch.stack(real_values).cpu()\n",
        "\n",
        "    return review_texts, predictions, prediction_probs, real_values"
      ]
    },
    {
      "cell_type": "code",
      "execution_count": null,
      "metadata": {
        "id": "w1y2IEdlo_37"
      },
      "outputs": [],
      "source": [
        "y_review_texts, y_pred, y_pred_probs, y_test = get_predictions(\n",
        "    model,\n",
        "    test_data_loader\n",
        ")"
      ]
    },
    {
      "cell_type": "code",
      "execution_count": null,
      "metadata": {
        "id": "RfNhLJcEpD4q",
        "outputId": "bfd66f37-9a04-490c-ff5c-f114077c6516",
        "colab": {
          "base_uri": "https://localhost:8080/",
          "height": 570
        }
      },
      "outputs": [
        {
          "output_type": "display_data",
          "data": {
            "text/plain": [
              "<Figure size 1000x600 with 2 Axes>"
            ],
            "image/png": "[encoded data removed]"
          },
          "metadata": {
            "image/png": {
              "width": 828,
              "height": 553
            }
          }
        }
      ],
      "source": [
        "# Функция отрисовки матрицы ошибок\n",
        "def show_confusion_matrix(confusion_matrix):\n",
        "    hmap = sns.heatmap(confusion_matrix, annot=True, fmt=\"d\", cmap=\"Blues\")\n",
        "    hmap.yaxis.set_ticklabels(hmap.yaxis.get_ticklabels(), rotation=0, ha='right')\n",
        "    hmap.xaxis.set_ticklabels(hmap.xaxis.get_ticklabels(), rotation=30, ha='right')\n",
        "    plt.ylabel('True sentiment')\n",
        "    plt.xlabel('Predicted sentiment');\n",
        "\n",
        "cm = confusion_matrix(y_test, y_pred)\n",
        "df_cm = pd.DataFrame(cm, index=class_names, columns=class_names)\n",
        "show_confusion_matrix(df_cm)"
      ]
    },
    {
      "cell_type": "markdown",
      "metadata": {
        "id": "Ef-HyABcoX7p"
      },
      "source": [
        "<div class=\"alert alert-info\">\n",
        "\n",
        "Ну что ж, результат очень даже приличный. Поздравляем с успешным fine-tune!"
      ]
    },
    {
      "cell_type": "code",
      "execution_count": null,
      "metadata": {
        "id": "DcMN1sfdpEcF"
      },
      "outputs": [],
      "source": [
        "# Случайный комментарий\n",
        "review_text = \"I love completing my todos! Best app ever!!!\""
      ]
    },
    {
      "cell_type": "code",
      "execution_count": null,
      "metadata": {
        "id": "HdiGwewjpINE"
      },
      "outputs": [],
      "source": [
        "encoded_review = tokenizer.encode_plus(\n",
        "    review_text,\n",
        "    max_length=MAX_LEN,\n",
        "    add_special_tokens=True,\n",
        "    return_token_type_ids=False,\n",
        "    pad_to_max_length=True,\n",
        "    return_attention_mask=True,\n",
        "    return_tensors='pt',\n",
        ")"
      ]
    },
    {
      "cell_type": "code",
      "execution_count": null,
      "metadata": {
        "id": "h-FCbOt2pKR6",
        "outputId": "5010c2da-38f5-4c39-b1f4-7f0cea64e190",
        "colab": {
          "base_uri": "https://localhost:8080/"
        }
      },
      "outputs": [
        {
          "output_type": "stream",
          "name": "stdout",
          "text": [
            "Review text: I love completing my todos! Best app ever!!!\n",
            "Sentiment: positive\n"
          ]
        }
      ],
      "source": [
        "# Результат\n",
        "input_ids = encoded_review['input_ids'].to(device)\n",
        "attention_mask = encoded_review['attention_mask'].to(device)\n",
        "\n",
        "output = model(input_ids, attention_mask)\n",
        "_, prediction = torch.max(output, dim=1)\n",
        "\n",
        "print(f'Review text: {review_text}')\n",
        "print(f'Sentiment: {class_names[prediction]}')"
      ]
    },
    {
      "cell_type": "markdown",
      "metadata": {
        "id": "06oSsIyEoX7q"
      },
      "source": [
        "# <center id=\"a2\"> Fine-tune только классифицирующей головы"
      ]
    },
    {
      "cell_type": "markdown",
      "metadata": {
        "id": "t1QZSfe8oX7q"
      },
      "source": [
        "Давайте повторим предыдущий эксперимент. С той лишь разницей, что мы заморозим все веса BERT, кроме последнего классифицирующего слоя. Скорость обучения значительно вырастет, а вот что будет с качеством?"
      ]
    },
    {
      "cell_type": "code",
      "execution_count": null,
      "metadata": {
        "id": "DkFGRrYuoX7q"
      },
      "outputs": [],
      "source": [
        "model = SentimentClassifier(len(class_names))\n",
        "model = model.to(device)"
      ]
    },
    {
      "cell_type": "code",
      "execution_count": null,
      "metadata": {
        "id": "Dp5VcwigoX7q"
      },
      "outputs": [],
      "source": [
        "for param in model.bert.parameters():\n",
        "    param.requires_grad = False\n",
        "\n",
        "for param in model.classifier.parameters():\n",
        "    param.requires_grad = True"
      ]
    },
    {
      "cell_type": "code",
      "execution_count": null,
      "metadata": {
        "id": "ACRQNubFoX7r",
        "outputId": "8f6cad4d-7172-43fe-f0a9-c3734845c1e3",
        "colab": {
          "base_uri": "https://localhost:8080/"
        }
      },
      "outputs": [
        {
          "output_type": "stream",
          "name": "stdout",
          "text": [
            "Epoch 1/3\n",
            "----------\n"
          ]
        },
        {
          "output_type": "stream",
          "name": "stderr",
          "text": [
            "100%|██████████| 79/79 [01:32<00:00,  1.17s/it]\n"
          ]
        },
        {
          "output_type": "stream",
          "name": "stdout",
          "text": [
            "Train loss 1.128078364118745 accuracy 0.4011604641856743\n"
          ]
        },
        {
          "output_type": "stream",
          "name": "stderr",
          "text": [
            "100%|██████████| 10/10 [00:11<00:00,  1.14s/it]\n"
          ]
        },
        {
          "output_type": "stream",
          "name": "stdout",
          "text": [
            "Val loss 1.103714919090271 accuracy 0.4531625300240192\n",
            "\n",
            "Epoch 2/3\n",
            "----------\n"
          ]
        },
        {
          "output_type": "stream",
          "name": "stderr",
          "text": [
            "100%|██████████| 79/79 [01:31<00:00,  1.16s/it]\n"
          ]
        },
        {
          "output_type": "stream",
          "name": "stdout",
          "text": [
            "Train loss 1.130566275572475 accuracy 0.3939575830332133\n"
          ]
        },
        {
          "output_type": "stream",
          "name": "stderr",
          "text": [
            "100%|██████████| 10/10 [00:11<00:00,  1.13s/it]\n"
          ]
        },
        {
          "output_type": "stream",
          "name": "stdout",
          "text": [
            "Val loss 1.103714919090271 accuracy 0.4531625300240192\n",
            "\n",
            "Epoch 3/3\n",
            "----------\n"
          ]
        },
        {
          "output_type": "stream",
          "name": "stderr",
          "text": [
            "100%|██████████| 79/79 [01:31<00:00,  1.16s/it]\n"
          ]
        },
        {
          "output_type": "stream",
          "name": "stdout",
          "text": [
            "Train loss 1.1276271403590334 accuracy 0.3955582232893158\n"
          ]
        },
        {
          "output_type": "stream",
          "name": "stderr",
          "text": [
            "100%|██████████| 10/10 [00:11<00:00,  1.12s/it]"
          ]
        },
        {
          "output_type": "stream",
          "name": "stdout",
          "text": [
            "Val loss 1.103714919090271 accuracy 0.4531625300240192\n",
            "\n"
          ]
        },
        {
          "output_type": "stream",
          "name": "stderr",
          "text": [
            "\n"
          ]
        }
      ],
      "source": [
        "history = defaultdict(list)\n",
        "best_accuracy = 0\n",
        "\n",
        "for epoch in range(EPOCHS):\n",
        "\n",
        "    print(f\"Epoch {epoch + 1}/{EPOCHS}\")\n",
        "    print(\"-\" * 10)\n",
        "\n",
        "    # Считаем функцию потерь и метрику на обучении\n",
        "    train_acc, train_loss = train_epoch(\n",
        "        model,\n",
        "        train_data_loader,\n",
        "        loss_fn,\n",
        "        optimizer,\n",
        "        device,\n",
        "        scheduler,\n",
        "        len(df_train),\n",
        "        epoch\n",
        "    )\n",
        "\n",
        "    print(f\"Train loss {train_loss} accuracy {train_acc}\")\n",
        "\n",
        "    # Считаем функцию потерь и метрику на валидации\n",
        "    val_acc, val_loss = eval_model(\n",
        "        model,\n",
        "        val_data_loader,\n",
        "        loss_fn,\n",
        "        device,\n",
        "        len(df_val),\n",
        "        epoch\n",
        "    )\n",
        "\n",
        "    print(f\"Val loss {val_loss} accuracy {val_acc}\")\n",
        "    print()\n",
        "\n",
        "    history['train_acc'].append(train_acc)\n",
        "    history['train_loss'].append(train_loss)\n",
        "    history['val_acc'].append(val_acc)\n",
        "    history['val_loss'].append(val_loss)\n",
        "\n",
        "    # Если модель на текущем шагу лучше, то сохраняем\n",
        "    if val_acc > best_accuracy:\n",
        "        torch.save(model.state_dict(), 'best_model_state.bin')\n",
        "        best_accuracy = val_acc\n",
        "\n",
        "writer.flush()\n",
        "writer.close()"
      ]
    },
    {
      "cell_type": "code",
      "execution_count": null,
      "metadata": {
        "id": "CHTQYGNQoX7s"
      },
      "outputs": [],
      "source": [
        "# Отправляем на cpu\n",
        "history['train_acc'] = [x.cpu() for x in history['train_acc']]\n",
        "history['val_acc'] = [x.cpu() for x in history['val_acc']]"
      ]
    },
    {
      "cell_type": "code",
      "execution_count": null,
      "metadata": {
        "id": "C9TQTvkGoX7s",
        "outputId": "0f9bf083-e14c-48de-9897-fcbc718db4ca",
        "colab": {
          "base_uri": "https://localhost:8080/",
          "height": 581
        }
      },
      "outputs": [
        {
          "output_type": "execute_result",
          "data": {
            "text/plain": [
              "(0.0, 1.0)"
            ]
          },
          "metadata": {},
          "execution_count": 47
        },
        {
          "output_type": "display_data",
          "data": {
            "text/plain": [
              "<Figure size 1000x600 with 1 Axes>"
            ],
            "image/png": "[encoded data removed]"
          },
          "metadata": {
            "image/png": {
              "width": 846,
              "height": 546
            }
          }
        }
      ],
      "source": [
        "plt.plot(history['train_acc'], label='train accuracy')\n",
        "plt.plot(history['val_acc'], label='validation accuracy')\n",
        "\n",
        "# Отрисуем результаты обучения\n",
        "plt.title('Training history')\n",
        "plt.ylabel('Accuracy')\n",
        "plt.xlabel('Epoch')\n",
        "plt.legend()\n",
        "plt.ylim([0, 1])"
      ]
    },
    {
      "cell_type": "code",
      "execution_count": null,
      "metadata": {
        "id": "V9MSUs04oX7s",
        "outputId": "94ae636c-0b7c-49c0-c58b-fd7df7012c6b",
        "colab": {
          "base_uri": "https://localhost:8080/"
        }
      },
      "outputs": [
        {
          "output_type": "stream",
          "name": "stderr",
          "text": [
            "100%|██████████| 10/10 [00:12<00:00,  1.24s/it]\n"
          ]
        },
        {
          "output_type": "execute_result",
          "data": {
            "text/plain": [
              "0.44480000000000003"
            ]
          },
          "metadata": {},
          "execution_count": 48
        }
      ],
      "source": [
        "test_acc, _ = eval_model(\n",
        "  model,\n",
        "  test_data_loader,\n",
        "  loss_fn,\n",
        "  device,\n",
        "  len(df_test),\n",
        "  epoch\n",
        ")\n",
        "\n",
        "test_acc.item()"
      ]
    },
    {
      "cell_type": "code",
      "execution_count": null,
      "metadata": {
        "id": "rLZlbI1ooX7t"
      },
      "outputs": [],
      "source": [
        "y_review_texts, y_pred, y_pred_probs, y_test = get_predictions(\n",
        "    model,\n",
        "    test_data_loader\n",
        ")"
      ]
    },
    {
      "cell_type": "code",
      "execution_count": null,
      "metadata": {
        "id": "q9KjTdtFoX7u",
        "outputId": "0e868229-c802-43c9-91bc-9e1520a2d02f",
        "colab": {
          "base_uri": "https://localhost:8080/",
          "height": 570
        }
      },
      "outputs": [
        {
          "output_type": "display_data",
          "data": {
            "text/plain": [
              "<Figure size 1000x600 with 2 Axes>"
            ],
            "image/png": "[encoded data removed]"
          },
          "metadata": {
            "image/png": {
              "width": 828,
              "height": 553
            }
          }
        }
      ],
      "source": [
        "cm = confusion_matrix(y_test, y_pred)\n",
        "df_cm = pd.DataFrame(cm, index=class_names, columns=class_names)\n",
        "show_confusion_matrix(df_cm)"
      ]
    },
    {
      "cell_type": "markdown",
      "metadata": {
        "id": "33bhTwp_oX7u"
      },
      "source": [
        "<div class=\"alert alert-warning\">\n",
        "\n",
        "Можно заметить, что качество стало значительно хуже. Как вы думаете, с чем это связано?"
      ]
    }
  ]
}