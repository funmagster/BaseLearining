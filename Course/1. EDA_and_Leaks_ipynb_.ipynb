{
  "cells": [
    {
      "cell_type": "code",
      "execution_count": null,
      "metadata": {
        "id": "J3pNZSigDs0c"
      },
      "outputs": [],
      "source": [
        "from datetime import datetime\n",
        "from itertools import product\n",
        "\n",
        "import matplotlib.pyplot as plt\n",
        "import numpy as np\n",
        "import pandas as pd\n",
        "import seaborn as sns\n",
        "from catboost import CatBoostClassifier, CatBoostRegressor\n",
        "\n",
        "from lightgbm import LGBMClassifier\n",
        "from sklearn.metrics import (\n",
        "    accuracy_score,\n",
        "    mean_squared_error,\n",
        "    roc_auc_score,\n",
        ")\n",
        "from sklearn.model_selection import train_test_split"
      ]
    },
    {
      "cell_type": "markdown",
      "metadata": {
        "id": "7aQ2jAeMDs0h"
      },
      "source": [
        "# EDA & Leaks in Kaggle competitions and beyond"
      ]
    },
    {
      "cell_type": "markdown",
      "metadata": {
        "id": "gAFSffAoDs0k"
      },
      "source": [
        "## Example: DSG 2016 finals"
      ]
    },
    {
      "cell_type": "markdown",
      "metadata": {
        "id": "em4U4FZkDs0l"
      },
      "source": [
        "https://miptstream.ru/2016/09/12/mipt-wins-dsg2016/\n",
        "\n",
        "![image.png](attachment:image.png)\n",
        "\n",
        "По всей видимости, данные из разных классов собирались разными скриптами, и колонка с датой имела разный формат для разных классов, например:\n",
        "- '2015-10-01' для класса 0\n",
        "- '2015/10/01' для класса 1\n",
        "\n",
        "Организаторы быстро поправили этот лик и перевыложили датасет. Очевидно, что использовать лик \"в лоб\" в этой ситуации нельзя.\n",
        "\n",
        "Какой есть способ им все-таки воспользоваться?"
      ]
    },
    {
      "cell_type": "markdown",
      "metadata": {
        "id": "_2WmDAjJDs0n"
      },
      "source": [
        "## EDA: Walmart Trip Type classification"
      ]
    },
    {
      "cell_type": "markdown",
      "metadata": {
        "id": "Mlcu418tDs0o"
      },
      "source": [
        "https://www.kaggle.com/c/walmart-recruiting-trip-type-classification"
      ]
    },
    {
      "cell_type": "code",
      "execution_count": null,
      "metadata": {
        "id": "-Ua6gk-_Ds0o"
      },
      "outputs": [],
      "source": [
        "train = pd.read_csv(\"../data/walmart/train.csv\")\n",
        "test = pd.read_csv(\"../data/walmart/test.csv\")"
      ]
    },
    {
      "cell_type": "code",
      "execution_count": null,
      "metadata": {
        "id": "B-XAYYrGDs0p",
        "outputId": "e0b98de4-3561-41d6-c9f1-73cde8f603c7"
      },
      "outputs": [
        {
          "data": {
            "text/html": [
              "<div>\n",
              "<style scoped>\n",
              "    .dataframe tbody tr th:only-of-type {\n",
              "        vertical-align: middle;\n",
              "    }\n",
              "\n",
              "    .dataframe tbody tr th {\n",
              "        vertical-align: top;\n",
              "    }\n",
              "\n",
              "    .dataframe thead th {\n",
              "        text-align: right;\n",
              "    }\n",
              "</style>\n",
              "<table border=\"1\" class=\"dataframe\">\n",
              "  <thead>\n",
              "    <tr style=\"text-align: right;\">\n",
              "      <th></th>\n",
              "      <th>TripType</th>\n",
              "      <th>VisitNumber</th>\n",
              "      <th>Weekday</th>\n",
              "      <th>Upc</th>\n",
              "      <th>ScanCount</th>\n",
              "      <th>DepartmentDescription</th>\n",
              "      <th>FinelineNumber</th>\n",
              "    </tr>\n",
              "  </thead>\n",
              "  <tbody>\n",
              "    <tr>\n",
              "      <th>0</th>\n",
              "      <td>999</td>\n",
              "      <td>5</td>\n",
              "      <td>Friday</td>\n",
              "      <td>6.811315e+10</td>\n",
              "      <td>-1</td>\n",
              "      <td>FINANCIAL SERVICES</td>\n",
              "      <td>1000.0</td>\n",
              "    </tr>\n",
              "    <tr>\n",
              "      <th>1</th>\n",
              "      <td>30</td>\n",
              "      <td>7</td>\n",
              "      <td>Friday</td>\n",
              "      <td>6.053882e+10</td>\n",
              "      <td>1</td>\n",
              "      <td>SHOES</td>\n",
              "      <td>8931.0</td>\n",
              "    </tr>\n",
              "    <tr>\n",
              "      <th>2</th>\n",
              "      <td>30</td>\n",
              "      <td>7</td>\n",
              "      <td>Friday</td>\n",
              "      <td>7.410811e+09</td>\n",
              "      <td>1</td>\n",
              "      <td>PERSONAL CARE</td>\n",
              "      <td>4504.0</td>\n",
              "    </tr>\n",
              "    <tr>\n",
              "      <th>3</th>\n",
              "      <td>26</td>\n",
              "      <td>8</td>\n",
              "      <td>Friday</td>\n",
              "      <td>2.238404e+09</td>\n",
              "      <td>2</td>\n",
              "      <td>PAINT AND ACCESSORIES</td>\n",
              "      <td>3565.0</td>\n",
              "    </tr>\n",
              "    <tr>\n",
              "      <th>4</th>\n",
              "      <td>26</td>\n",
              "      <td>8</td>\n",
              "      <td>Friday</td>\n",
              "      <td>2.006614e+09</td>\n",
              "      <td>2</td>\n",
              "      <td>PAINT AND ACCESSORIES</td>\n",
              "      <td>1017.0</td>\n",
              "    </tr>\n",
              "  </tbody>\n",
              "</table>\n",
              "</div>"
            ],
            "text/plain": [
              "   TripType  VisitNumber Weekday           Upc  ScanCount  \\\n",
              "0       999            5  Friday  6.811315e+10         -1   \n",
              "1        30            7  Friday  6.053882e+10          1   \n",
              "2        30            7  Friday  7.410811e+09          1   \n",
              "3        26            8  Friday  2.238404e+09          2   \n",
              "4        26            8  Friday  2.006614e+09          2   \n",
              "\n",
              "   DepartmentDescription  FinelineNumber  \n",
              "0     FINANCIAL SERVICES          1000.0  \n",
              "1                  SHOES          8931.0  \n",
              "2          PERSONAL CARE          4504.0  \n",
              "3  PAINT AND ACCESSORIES          3565.0  \n",
              "4  PAINT AND ACCESSORIES          1017.0  "
            ]
          },
          "execution_count": 29,
          "metadata": {},
          "output_type": "execute_result"
        }
      ],
      "source": [
        "train.head()"
      ]
    },
    {
      "cell_type": "code",
      "execution_count": null,
      "metadata": {
        "id": "Ck6QCKKLDs0r",
        "outputId": "ad7dadf3-9543-4f5b-fd58-a6e14975c887"
      },
      "outputs": [
        {
          "data": {
            "text/html": [
              "<div>\n",
              "<style scoped>\n",
              "    .dataframe tbody tr th:only-of-type {\n",
              "        vertical-align: middle;\n",
              "    }\n",
              "\n",
              "    .dataframe tbody tr th {\n",
              "        vertical-align: top;\n",
              "    }\n",
              "\n",
              "    .dataframe thead th {\n",
              "        text-align: right;\n",
              "    }\n",
              "</style>\n",
              "<table border=\"1\" class=\"dataframe\">\n",
              "  <thead>\n",
              "    <tr style=\"text-align: right;\">\n",
              "      <th></th>\n",
              "      <th>VisitNumber</th>\n",
              "      <th>Weekday</th>\n",
              "      <th>Upc</th>\n",
              "      <th>ScanCount</th>\n",
              "      <th>DepartmentDescription</th>\n",
              "      <th>FinelineNumber</th>\n",
              "    </tr>\n",
              "  </thead>\n",
              "  <tbody>\n",
              "    <tr>\n",
              "      <th>0</th>\n",
              "      <td>1</td>\n",
              "      <td>Friday</td>\n",
              "      <td>7.250339e+10</td>\n",
              "      <td>1</td>\n",
              "      <td>SHOES</td>\n",
              "      <td>3002.0</td>\n",
              "    </tr>\n",
              "    <tr>\n",
              "      <th>1</th>\n",
              "      <td>1</td>\n",
              "      <td>Friday</td>\n",
              "      <td>1.707711e+09</td>\n",
              "      <td>1</td>\n",
              "      <td>DAIRY</td>\n",
              "      <td>1526.0</td>\n",
              "    </tr>\n",
              "    <tr>\n",
              "      <th>2</th>\n",
              "      <td>1</td>\n",
              "      <td>Friday</td>\n",
              "      <td>8.947000e+10</td>\n",
              "      <td>1</td>\n",
              "      <td>DAIRY</td>\n",
              "      <td>1431.0</td>\n",
              "    </tr>\n",
              "    <tr>\n",
              "      <th>3</th>\n",
              "      <td>1</td>\n",
              "      <td>Friday</td>\n",
              "      <td>8.849121e+10</td>\n",
              "      <td>1</td>\n",
              "      <td>GROCERY DRY GOODS</td>\n",
              "      <td>3555.0</td>\n",
              "    </tr>\n",
              "    <tr>\n",
              "      <th>4</th>\n",
              "      <td>2</td>\n",
              "      <td>Friday</td>\n",
              "      <td>2.840015e+09</td>\n",
              "      <td>1</td>\n",
              "      <td>DSD GROCERY</td>\n",
              "      <td>4408.0</td>\n",
              "    </tr>\n",
              "  </tbody>\n",
              "</table>\n",
              "</div>"
            ],
            "text/plain": [
              "   VisitNumber Weekday           Upc  ScanCount DepartmentDescription  \\\n",
              "0            1  Friday  7.250339e+10          1                 SHOES   \n",
              "1            1  Friday  1.707711e+09          1                 DAIRY   \n",
              "2            1  Friday  8.947000e+10          1                 DAIRY   \n",
              "3            1  Friday  8.849121e+10          1     GROCERY DRY GOODS   \n",
              "4            2  Friday  2.840015e+09          1           DSD GROCERY   \n",
              "\n",
              "   FinelineNumber  \n",
              "0          3002.0  \n",
              "1          1526.0  \n",
              "2          1431.0  \n",
              "3          3555.0  \n",
              "4          4408.0  "
            ]
          },
          "execution_count": 30,
          "metadata": {},
          "output_type": "execute_result"
        }
      ],
      "source": [
        "test.head()"
      ]
    },
    {
      "cell_type": "markdown",
      "metadata": {
        "id": "RJyAT7LGDs0s"
      },
      "source": [
        "train and test looks the same"
      ]
    },
    {
      "cell_type": "code",
      "execution_count": null,
      "metadata": {
        "id": "z1CBAK_zDs0s",
        "outputId": "ea244863-b0e5-4b97-a02d-d02c218bfbea"
      },
      "outputs": [
        {
          "data": {
            "text/plain": [
              "1"
            ]
          },
          "execution_count": 31,
          "metadata": {},
          "output_type": "execute_result"
        }
      ],
      "source": [
        "train.groupby(\"VisitNumber\")[\"TripType\"].nunique().max()"
      ]
    },
    {
      "cell_type": "code",
      "execution_count": null,
      "metadata": {
        "id": "3sMbyYycDs0t",
        "outputId": "cad98754-c179-4c21-80d7-c8803de01f62"
      },
      "outputs": [
        {
          "data": {
            "text/plain": [
              "38"
            ]
          },
          "execution_count": 32,
          "metadata": {},
          "output_type": "execute_result"
        }
      ],
      "source": [
        "train[\"TripType\"].nunique()"
      ]
    },
    {
      "cell_type": "code",
      "execution_count": null,
      "metadata": {
        "id": "lg3-gkyCDs0u",
        "outputId": "51b61617-28f4-48f2-d22c-9918597fd429"
      },
      "outputs": [
        {
          "data": {
            "text/html": [
              "<div>\n",
              "<style scoped>\n",
              "    .dataframe tbody tr th:only-of-type {\n",
              "        vertical-align: middle;\n",
              "    }\n",
              "\n",
              "    .dataframe tbody tr th {\n",
              "        vertical-align: top;\n",
              "    }\n",
              "\n",
              "    .dataframe thead th {\n",
              "        text-align: right;\n",
              "    }\n",
              "</style>\n",
              "<table border=\"1\" class=\"dataframe\">\n",
              "  <thead>\n",
              "    <tr style=\"text-align: right;\">\n",
              "      <th></th>\n",
              "      <th>VisitNumber</th>\n",
              "      <th>TripType_3</th>\n",
              "      <th>TripType_4</th>\n",
              "      <th>TripType_5</th>\n",
              "      <th>TripType_6</th>\n",
              "      <th>TripType_7</th>\n",
              "      <th>TripType_8</th>\n",
              "      <th>TripType_9</th>\n",
              "      <th>TripType_12</th>\n",
              "      <th>TripType_14</th>\n",
              "      <th>...</th>\n",
              "      <th>TripType_36</th>\n",
              "      <th>TripType_37</th>\n",
              "      <th>TripType_38</th>\n",
              "      <th>TripType_39</th>\n",
              "      <th>TripType_40</th>\n",
              "      <th>TripType_41</th>\n",
              "      <th>TripType_42</th>\n",
              "      <th>TripType_43</th>\n",
              "      <th>TripType_44</th>\n",
              "      <th>TripType_999</th>\n",
              "    </tr>\n",
              "  </thead>\n",
              "  <tbody>\n",
              "    <tr>\n",
              "      <th>0</th>\n",
              "      <td>1</td>\n",
              "      <td>0</td>\n",
              "      <td>0</td>\n",
              "      <td>0</td>\n",
              "      <td>0</td>\n",
              "      <td>0</td>\n",
              "      <td>0</td>\n",
              "      <td>0</td>\n",
              "      <td>0</td>\n",
              "      <td>0</td>\n",
              "      <td>...</td>\n",
              "      <td>0</td>\n",
              "      <td>0</td>\n",
              "      <td>0</td>\n",
              "      <td>0</td>\n",
              "      <td>0</td>\n",
              "      <td>0</td>\n",
              "      <td>0</td>\n",
              "      <td>0</td>\n",
              "      <td>0</td>\n",
              "      <td>0</td>\n",
              "    </tr>\n",
              "    <tr>\n",
              "      <th>1</th>\n",
              "      <td>2</td>\n",
              "      <td>0</td>\n",
              "      <td>0</td>\n",
              "      <td>0</td>\n",
              "      <td>0</td>\n",
              "      <td>0</td>\n",
              "      <td>0</td>\n",
              "      <td>0</td>\n",
              "      <td>0</td>\n",
              "      <td>0</td>\n",
              "      <td>...</td>\n",
              "      <td>0</td>\n",
              "      <td>0</td>\n",
              "      <td>0</td>\n",
              "      <td>0</td>\n",
              "      <td>0</td>\n",
              "      <td>0</td>\n",
              "      <td>0</td>\n",
              "      <td>0</td>\n",
              "      <td>0</td>\n",
              "      <td>0</td>\n",
              "    </tr>\n",
              "    <tr>\n",
              "      <th>2</th>\n",
              "      <td>3</td>\n",
              "      <td>0</td>\n",
              "      <td>0</td>\n",
              "      <td>0</td>\n",
              "      <td>0</td>\n",
              "      <td>0</td>\n",
              "      <td>0</td>\n",
              "      <td>0</td>\n",
              "      <td>0</td>\n",
              "      <td>0</td>\n",
              "      <td>...</td>\n",
              "      <td>0</td>\n",
              "      <td>0</td>\n",
              "      <td>0</td>\n",
              "      <td>0</td>\n",
              "      <td>0</td>\n",
              "      <td>0</td>\n",
              "      <td>0</td>\n",
              "      <td>0</td>\n",
              "      <td>0</td>\n",
              "      <td>0</td>\n",
              "    </tr>\n",
              "    <tr>\n",
              "      <th>3</th>\n",
              "      <td>4</td>\n",
              "      <td>0</td>\n",
              "      <td>0</td>\n",
              "      <td>0</td>\n",
              "      <td>0</td>\n",
              "      <td>0</td>\n",
              "      <td>0</td>\n",
              "      <td>0</td>\n",
              "      <td>0</td>\n",
              "      <td>0</td>\n",
              "      <td>...</td>\n",
              "      <td>0</td>\n",
              "      <td>0</td>\n",
              "      <td>0</td>\n",
              "      <td>0</td>\n",
              "      <td>0</td>\n",
              "      <td>0</td>\n",
              "      <td>0</td>\n",
              "      <td>0</td>\n",
              "      <td>0</td>\n",
              "      <td>0</td>\n",
              "    </tr>\n",
              "    <tr>\n",
              "      <th>4</th>\n",
              "      <td>6</td>\n",
              "      <td>0</td>\n",
              "      <td>0</td>\n",
              "      <td>0</td>\n",
              "      <td>0</td>\n",
              "      <td>0</td>\n",
              "      <td>0</td>\n",
              "      <td>0</td>\n",
              "      <td>0</td>\n",
              "      <td>0</td>\n",
              "      <td>...</td>\n",
              "      <td>0</td>\n",
              "      <td>0</td>\n",
              "      <td>0</td>\n",
              "      <td>0</td>\n",
              "      <td>0</td>\n",
              "      <td>0</td>\n",
              "      <td>0</td>\n",
              "      <td>0</td>\n",
              "      <td>0</td>\n",
              "      <td>0</td>\n",
              "    </tr>\n",
              "  </tbody>\n",
              "</table>\n",
              "<p>5 rows × 39 columns</p>\n",
              "</div>"
            ],
            "text/plain": [
              "   VisitNumber  TripType_3  TripType_4  TripType_5  TripType_6  TripType_7  \\\n",
              "0            1           0           0           0           0           0   \n",
              "1            2           0           0           0           0           0   \n",
              "2            3           0           0           0           0           0   \n",
              "3            4           0           0           0           0           0   \n",
              "4            6           0           0           0           0           0   \n",
              "\n",
              "   TripType_8  TripType_9  TripType_12  TripType_14  ...  TripType_36  \\\n",
              "0           0           0            0            0  ...            0   \n",
              "1           0           0            0            0  ...            0   \n",
              "2           0           0            0            0  ...            0   \n",
              "3           0           0            0            0  ...            0   \n",
              "4           0           0            0            0  ...            0   \n",
              "\n",
              "   TripType_37  TripType_38  TripType_39  TripType_40  TripType_41  \\\n",
              "0            0            0            0            0            0   \n",
              "1            0            0            0            0            0   \n",
              "2            0            0            0            0            0   \n",
              "3            0            0            0            0            0   \n",
              "4            0            0            0            0            0   \n",
              "\n",
              "   TripType_42  TripType_43  TripType_44  TripType_999  \n",
              "0            0            0            0             0  \n",
              "1            0            0            0             0  \n",
              "2            0            0            0             0  \n",
              "3            0            0            0             0  \n",
              "4            0            0            0             0  \n",
              "\n",
              "[5 rows x 39 columns]"
            ]
          },
          "execution_count": 34,
          "metadata": {},
          "output_type": "execute_result"
        }
      ],
      "source": [
        "sample_submisson = pd.read_csv(\"../data/walmart/sample_submission.csv\")\n",
        "sample_submisson.head()"
      ]
    },
    {
      "cell_type": "markdown",
      "metadata": {
        "id": "gw3UlTExDs0v"
      },
      "source": [
        "for every `VisitNumber` u should predict proba for every possible `TripType`\n",
        "\n",
        "how to do that? how to be with local validation?"
      ]
    },
    {
      "cell_type": "code",
      "execution_count": null,
      "metadata": {
        "id": "XEpeJLsLDs0x"
      },
      "outputs": [],
      "source": [
        "train_full = train.copy()"
      ]
    },
    {
      "cell_type": "markdown",
      "metadata": {
        "id": "LYAUG7U4Ds0y"
      },
      "source": [
        "`train, oos = train_test_split(train_full, test_size=0.2, random_state=42)` ??"
      ]
    },
    {
      "cell_type": "code",
      "execution_count": null,
      "metadata": {
        "id": "MFz44UirDs0z"
      },
      "outputs": [],
      "source": [
        "train_full_visit_numbers = train_full[\"VisitNumber\"].unique()\n",
        "train_visit_numbers, oos_visit_numbers = train_test_split(\n",
        "    train_full_visit_numbers, test_size=0.2, random_state=42\n",
        ")\n",
        "\n",
        "train = train_full[train_full[\"VisitNumber\"].isin(train_visit_numbers)].copy()\n",
        "oos = train_full[train_full[\"VisitNumber\"].isin(oos_visit_numbers)].copy()"
      ]
    },
    {
      "cell_type": "markdown",
      "metadata": {
        "id": "1N2xrtmSDs00"
      },
      "source": [
        "how to fit model? how to do predictions?"
      ]
    },
    {
      "cell_type": "code",
      "execution_count": null,
      "metadata": {
        "id": "hDptK-GKDs00"
      },
      "outputs": [],
      "source": [
        "target_col = \"TripType\"\n",
        "possible_features = [\n",
        "    \"Weekday\",\n",
        "    \"Upc\",\n",
        "    \"ScanCount\",\n",
        "    \"DepartmentDescription\",\n",
        "    \"FinelineNumber\",\n",
        "]"
      ]
    },
    {
      "cell_type": "code",
      "execution_count": null,
      "metadata": {
        "id": "5fyssmtUDs01",
        "outputId": "36240693-2b4a-4c07-ad60-845f0f1573c5"
      },
      "outputs": [
        {
          "data": {
            "text/plain": [
              "Weekday                  0.000014\n",
              "Upc                      0.172272\n",
              "ScanCount                0.000071\n",
              "DepartmentDescription    0.000131\n",
              "FinelineNumber           0.009905\n",
              "dtype: float64"
            ]
          },
          "execution_count": 38,
          "metadata": {},
          "output_type": "execute_result"
        }
      ],
      "source": [
        "train[possible_features].nunique() / train.shape[0]"
      ]
    },
    {
      "cell_type": "code",
      "execution_count": null,
      "metadata": {
        "id": "R19BJgnnDs01"
      },
      "outputs": [],
      "source": [
        "cat_features = [\"Weekday\", \"FinelineNumber\", \"DepartmentDescription\", \"ScanCount\"]"
      ]
    },
    {
      "cell_type": "code",
      "execution_count": null,
      "metadata": {
        "id": "7FT8ffpyDs01"
      },
      "outputs": [],
      "source": [
        "ctb = CatBoostClassifier(\n",
        "    iterations=20,\n",
        "    verbose=0,\n",
        "    thread_count=1,\n",
        "    allow_writing_files=False,\n",
        "    cat_features=cat_features,\n",
        ")"
      ]
    },
    {
      "cell_type": "code",
      "execution_count": null,
      "metadata": {
        "id": "89GwSyMADs02"
      },
      "outputs": [],
      "source": [
        "train[cat_features] = train[cat_features].astype(str)\n",
        "oos[cat_features] = oos[cat_features].astype(str)"
      ]
    },
    {
      "cell_type": "code",
      "execution_count": null,
      "metadata": {
        "id": "APehNkqsDs02"
      },
      "outputs": [],
      "source": [
        "train_subs = train.sample(frac=0.1).copy()"
      ]
    },
    {
      "cell_type": "code",
      "execution_count": null,
      "metadata": {
        "id": "ExNwT-UvDs02",
        "outputId": "1f2c7e94-7e6d-45e7-ed71-faa560d1cb26"
      },
      "outputs": [
        {
          "data": {
            "text/plain": [
              "<catboost.core.CatBoostClassifier at 0x314029180>"
            ]
          },
          "execution_count": 43,
          "metadata": {},
          "output_type": "execute_result"
        }
      ],
      "source": [
        "ctb.fit(train_subs[possible_features], train_subs[target_col])"
      ]
    },
    {
      "cell_type": "code",
      "execution_count": null,
      "metadata": {
        "id": "IuUUiopeDs02"
      },
      "outputs": [],
      "source": [
        "prediction_columns = [f\"{target_col}_{i}\" for i in ctb.classes_]\n",
        "oos_preds_df = pd.DataFrame(\n",
        "    ctb.predict_proba(oos[possible_features]), columns=prediction_columns\n",
        ")\n",
        "oos_preds_df[\"VisitNumber\"] = oos[\"VisitNumber\"].values"
      ]
    },
    {
      "cell_type": "markdown",
      "metadata": {
        "id": "p7J5-S4ADs03"
      },
      "source": [
        "how to aggregate predictions for every `VisitNumber`?"
      ]
    },
    {
      "cell_type": "code",
      "execution_count": null,
      "metadata": {
        "id": "PRr7fjXPDs03"
      },
      "outputs": [],
      "source": [
        "oos_targets = oos[[\"VisitNumber\", target_col]].groupby(\"VisitNumber\").min()"
      ]
    },
    {
      "cell_type": "code",
      "execution_count": null,
      "metadata": {
        "id": "a5VDgdrwDs03"
      },
      "outputs": [],
      "source": [
        "oos_preds_df = oos_preds_df.groupby(\"VisitNumber\").mean()\n",
        "oos_preds_df = oos_preds_df.merge(\n",
        "    oos_targets, left_index=True, right_index=True\n",
        ").reset_index()"
      ]
    },
    {
      "cell_type": "code",
      "execution_count": null,
      "metadata": {
        "id": "VFQdaqm2Ds04",
        "outputId": "01cb6e31-a5e6-499f-cf6f-d710eff6fef2"
      },
      "outputs": [
        {
          "data": {
            "text/html": [
              "<div>\n",
              "<style scoped>\n",
              "    .dataframe tbody tr th:only-of-type {\n",
              "        vertical-align: middle;\n",
              "    }\n",
              "\n",
              "    .dataframe tbody tr th {\n",
              "        vertical-align: top;\n",
              "    }\n",
              "\n",
              "    .dataframe thead th {\n",
              "        text-align: right;\n",
              "    }\n",
              "</style>\n",
              "<table border=\"1\" class=\"dataframe\">\n",
              "  <thead>\n",
              "    <tr style=\"text-align: right;\">\n",
              "      <th></th>\n",
              "      <th>VisitNumber</th>\n",
              "      <th>TripType_3</th>\n",
              "      <th>TripType_4</th>\n",
              "      <th>TripType_5</th>\n",
              "      <th>TripType_6</th>\n",
              "      <th>TripType_7</th>\n",
              "      <th>TripType_8</th>\n",
              "      <th>TripType_9</th>\n",
              "      <th>TripType_12</th>\n",
              "      <th>TripType_14</th>\n",
              "      <th>...</th>\n",
              "      <th>TripType_37</th>\n",
              "      <th>TripType_38</th>\n",
              "      <th>TripType_39</th>\n",
              "      <th>TripType_40</th>\n",
              "      <th>TripType_41</th>\n",
              "      <th>TripType_42</th>\n",
              "      <th>TripType_43</th>\n",
              "      <th>TripType_44</th>\n",
              "      <th>TripType_999</th>\n",
              "      <th>TripType</th>\n",
              "    </tr>\n",
              "  </thead>\n",
              "  <tbody>\n",
              "    <tr>\n",
              "      <th>0</th>\n",
              "      <td>17</td>\n",
              "      <td>2.694466e-03</td>\n",
              "      <td>2.421167e-03</td>\n",
              "      <td>1.897418e-02</td>\n",
              "      <td>2.440420e-02</td>\n",
              "      <td>2.175164e-03</td>\n",
              "      <td>2.131507e-02</td>\n",
              "      <td>1.355848e-02</td>\n",
              "      <td>7.461840e-04</td>\n",
              "      <td>1.015788e-04</td>\n",
              "      <td>...</td>\n",
              "      <td>5.093550e-03</td>\n",
              "      <td>1.233467e-02</td>\n",
              "      <td>5.932711e-01</td>\n",
              "      <td>1.314727e-01</td>\n",
              "      <td>3.150253e-03</td>\n",
              "      <td>1.788436e-02</td>\n",
              "      <td>1.108336e-02</td>\n",
              "      <td>1.184069e-02</td>\n",
              "      <td>3.737897e-03</td>\n",
              "      <td>6</td>\n",
              "    </tr>\n",
              "    <tr>\n",
              "      <th>1</th>\n",
              "      <td>74</td>\n",
              "      <td>3.353460e-79</td>\n",
              "      <td>6.300698e-79</td>\n",
              "      <td>1.060074e-239</td>\n",
              "      <td>3.365430e-57</td>\n",
              "      <td>3.935244e-129</td>\n",
              "      <td>1.000000e+00</td>\n",
              "      <td>4.411277e-64</td>\n",
              "      <td>1.081198e-64</td>\n",
              "      <td>7.314124e-85</td>\n",
              "      <td>...</td>\n",
              "      <td>1.729200e-46</td>\n",
              "      <td>3.071649e-13</td>\n",
              "      <td>1.194254e-49</td>\n",
              "      <td>2.564889e-80</td>\n",
              "      <td>6.159153e-58</td>\n",
              "      <td>2.248349e-83</td>\n",
              "      <td>3.439784e-66</td>\n",
              "      <td>1.383931e-55</td>\n",
              "      <td>1.474745e-215</td>\n",
              "      <td>8</td>\n",
              "    </tr>\n",
              "    <tr>\n",
              "      <th>2</th>\n",
              "      <td>98</td>\n",
              "      <td>1.359484e-03</td>\n",
              "      <td>2.135543e-03</td>\n",
              "      <td>2.032246e-02</td>\n",
              "      <td>6.592491e-03</td>\n",
              "      <td>2.679106e-03</td>\n",
              "      <td>1.768843e-02</td>\n",
              "      <td>1.327981e-02</td>\n",
              "      <td>7.841749e-04</td>\n",
              "      <td>5.277334e-05</td>\n",
              "      <td>...</td>\n",
              "      <td>2.931013e-02</td>\n",
              "      <td>7.439552e-03</td>\n",
              "      <td>4.209202e-01</td>\n",
              "      <td>3.179864e-01</td>\n",
              "      <td>3.918957e-03</td>\n",
              "      <td>1.520435e-02</td>\n",
              "      <td>6.916325e-03</td>\n",
              "      <td>1.489690e-02</td>\n",
              "      <td>5.344732e-03</td>\n",
              "      <td>40</td>\n",
              "    </tr>\n",
              "    <tr>\n",
              "      <th>3</th>\n",
              "      <td>99</td>\n",
              "      <td>1.408768e-69</td>\n",
              "      <td>1.901271e-68</td>\n",
              "      <td>2.096555e-57</td>\n",
              "      <td>3.231026e-49</td>\n",
              "      <td>6.263392e-66</td>\n",
              "      <td>9.048888e-99</td>\n",
              "      <td>9.678838e-48</td>\n",
              "      <td>1.115125e-50</td>\n",
              "      <td>5.491163e-72</td>\n",
              "      <td>...</td>\n",
              "      <td>6.059556e-115</td>\n",
              "      <td>1.352380e-53</td>\n",
              "      <td>9.935430e-07</td>\n",
              "      <td>9.999990e-01</td>\n",
              "      <td>2.738357e-57</td>\n",
              "      <td>2.481994e-69</td>\n",
              "      <td>1.260951e-36</td>\n",
              "      <td>1.459969e-134</td>\n",
              "      <td>2.598791e-130</td>\n",
              "      <td>8</td>\n",
              "    </tr>\n",
              "    <tr>\n",
              "      <th>4</th>\n",
              "      <td>134</td>\n",
              "      <td>6.965476e-154</td>\n",
              "      <td>1.571948e-155</td>\n",
              "      <td>1.289282e-295</td>\n",
              "      <td>1.511982e-121</td>\n",
              "      <td>3.571754e-209</td>\n",
              "      <td>7.819473e-238</td>\n",
              "      <td>2.724171e-134</td>\n",
              "      <td>2.198568e-140</td>\n",
              "      <td>1.492434e-164</td>\n",
              "      <td>...</td>\n",
              "      <td>3.846510e-288</td>\n",
              "      <td>1.932689e-196</td>\n",
              "      <td>1.000000e+00</td>\n",
              "      <td>3.559667e-89</td>\n",
              "      <td>3.978350e-127</td>\n",
              "      <td>4.314517e-153</td>\n",
              "      <td>1.996553e-130</td>\n",
              "      <td>1.081211e-108</td>\n",
              "      <td>1.864676e-285</td>\n",
              "      <td>8</td>\n",
              "    </tr>\n",
              "  </tbody>\n",
              "</table>\n",
              "<p>5 rows × 40 columns</p>\n",
              "</div>"
            ],
            "text/plain": [
              "   VisitNumber     TripType_3     TripType_4     TripType_5     TripType_6  \\\n",
              "0           17   2.694466e-03   2.421167e-03   1.897418e-02   2.440420e-02   \n",
              "1           74   3.353460e-79   6.300698e-79  1.060074e-239   3.365430e-57   \n",
              "2           98   1.359484e-03   2.135543e-03   2.032246e-02   6.592491e-03   \n",
              "3           99   1.408768e-69   1.901271e-68   2.096555e-57   3.231026e-49   \n",
              "4          134  6.965476e-154  1.571948e-155  1.289282e-295  1.511982e-121   \n",
              "\n",
              "      TripType_7     TripType_8     TripType_9    TripType_12    TripType_14  \\\n",
              "0   2.175164e-03   2.131507e-02   1.355848e-02   7.461840e-04   1.015788e-04   \n",
              "1  3.935244e-129   1.000000e+00   4.411277e-64   1.081198e-64   7.314124e-85   \n",
              "2   2.679106e-03   1.768843e-02   1.327981e-02   7.841749e-04   5.277334e-05   \n",
              "3   6.263392e-66   9.048888e-99   9.678838e-48   1.115125e-50   5.491163e-72   \n",
              "4  3.571754e-209  7.819473e-238  2.724171e-134  2.198568e-140  1.492434e-164   \n",
              "\n",
              "   ...    TripType_37    TripType_38   TripType_39   TripType_40  \\\n",
              "0  ...   5.093550e-03   1.233467e-02  5.932711e-01  1.314727e-01   \n",
              "1  ...   1.729200e-46   3.071649e-13  1.194254e-49  2.564889e-80   \n",
              "2  ...   2.931013e-02   7.439552e-03  4.209202e-01  3.179864e-01   \n",
              "3  ...  6.059556e-115   1.352380e-53  9.935430e-07  9.999990e-01   \n",
              "4  ...  3.846510e-288  1.932689e-196  1.000000e+00  3.559667e-89   \n",
              "\n",
              "     TripType_41    TripType_42    TripType_43    TripType_44   TripType_999  \\\n",
              "0   3.150253e-03   1.788436e-02   1.108336e-02   1.184069e-02   3.737897e-03   \n",
              "1   6.159153e-58   2.248349e-83   3.439784e-66   1.383931e-55  1.474745e-215   \n",
              "2   3.918957e-03   1.520435e-02   6.916325e-03   1.489690e-02   5.344732e-03   \n",
              "3   2.738357e-57   2.481994e-69   1.260951e-36  1.459969e-134  2.598791e-130   \n",
              "4  3.978350e-127  4.314517e-153  1.996553e-130  1.081211e-108  1.864676e-285   \n",
              "\n",
              "   TripType  \n",
              "0         6  \n",
              "1         8  \n",
              "2        40  \n",
              "3         8  \n",
              "4         8  \n",
              "\n",
              "[5 rows x 40 columns]"
            ]
          },
          "execution_count": 47,
          "metadata": {},
          "output_type": "execute_result"
        }
      ],
      "source": [
        "oos_preds_df.head()"
      ]
    },
    {
      "cell_type": "markdown",
      "metadata": {
        "id": "_7T0nMMTDs04"
      },
      "source": [
        "let's calc `top1_accuracy` (in original case metric is different, but too complicated)"
      ]
    },
    {
      "cell_type": "code",
      "execution_count": null,
      "metadata": {
        "id": "6cUC7TYZDs05",
        "outputId": "b8bd9bd9-d423-4d4e-8ad8-e938d8e01131"
      },
      "outputs": [
        {
          "data": {
            "text/plain": [
              "0.28879017507185784"
            ]
          },
          "execution_count": 48,
          "metadata": {},
          "output_type": "execute_result"
        }
      ],
      "source": [
        "accuracy_score(\n",
        "    oos_preds_df[target_col],\n",
        "    ctb.classes_[oos_preds_df[prediction_columns].values.argmax(axis=1)],\n",
        ")"
      ]
    },
    {
      "cell_type": "markdown",
      "metadata": {
        "id": "Uf8yVdWuDs05"
      },
      "source": [
        "how to check it is good or bad?"
      ]
    },
    {
      "cell_type": "code",
      "execution_count": null,
      "metadata": {
        "id": "umivyAOkDs06"
      },
      "outputs": [],
      "source": [
        "stupid_predictions = (\n",
        "    np.ones(oos_preds_df.shape[0])\n",
        "    * train[target_col].value_counts(normalize=True).index[0]\n",
        ")"
      ]
    },
    {
      "cell_type": "code",
      "execution_count": null,
      "metadata": {
        "id": "OP6RrwjpDs06",
        "outputId": "f2d61093-4405-49b1-d543-7566fd873144"
      },
      "outputs": [
        {
          "data": {
            "text/plain": [
              "0.06464593676509015"
            ]
          },
          "execution_count": 78,
          "metadata": {},
          "output_type": "execute_result"
        }
      ],
      "source": [
        "accuracy_score(oos_preds_df[target_col], stupid_predictions)"
      ]
    },
    {
      "cell_type": "code",
      "execution_count": null,
      "metadata": {
        "id": "hMaNobebDs07"
      },
      "outputs": [],
      "source": [
        "train_dep_des = (\n",
        "    train.groupby(\"VisitNumber\")[\"DepartmentDescription\"].value_counts().unstack()\n",
        ")\n",
        "\n",
        "oos_dep_des = (\n",
        "    oos.groupby(\"VisitNumber\")[\"DepartmentDescription\"].value_counts().unstack()\n",
        ")\n",
        "\n",
        "for c in train_dep_des.columns:\n",
        "    if c not in oos_dep_des.columns:\n",
        "        oos_dep_des[c] = np.nan"
      ]
    },
    {
      "cell_type": "code",
      "execution_count": null,
      "metadata": {
        "id": "aIdLYS7UDs07",
        "outputId": "edd4cecc-4b5b-406c-edc8-ffd2df557df3"
      },
      "outputs": [
        {
          "data": {
            "text/html": [
              "<div>\n",
              "<style scoped>\n",
              "    .dataframe tbody tr th:only-of-type {\n",
              "        vertical-align: middle;\n",
              "    }\n",
              "\n",
              "    .dataframe tbody tr th {\n",
              "        vertical-align: top;\n",
              "    }\n",
              "\n",
              "    .dataframe thead th {\n",
              "        text-align: right;\n",
              "    }\n",
              "</style>\n",
              "<table border=\"1\" class=\"dataframe\">\n",
              "  <thead>\n",
              "    <tr style=\"text-align: right;\">\n",
              "      <th>DepartmentDescription</th>\n",
              "      <th>1-HR PHOTO</th>\n",
              "      <th>ACCESSORIES</th>\n",
              "      <th>AUTOMOTIVE</th>\n",
              "      <th>BAKERY</th>\n",
              "      <th>BATH AND SHOWER</th>\n",
              "      <th>BEAUTY</th>\n",
              "      <th>BEDDING</th>\n",
              "      <th>BOOKS AND MAGAZINES</th>\n",
              "      <th>BOYS WEAR</th>\n",
              "      <th>BRAS &amp; SHAPEWEAR</th>\n",
              "      <th>...</th>\n",
              "      <th>SEASONAL</th>\n",
              "      <th>SERVICE DELI</th>\n",
              "      <th>SHEER HOSIERY</th>\n",
              "      <th>SHOES</th>\n",
              "      <th>SLEEPWEAR/FOUNDATIONS</th>\n",
              "      <th>SPORTING GOODS</th>\n",
              "      <th>SWIMWEAR/OUTERWEAR</th>\n",
              "      <th>TOYS</th>\n",
              "      <th>WIRELESS</th>\n",
              "      <th>nan</th>\n",
              "    </tr>\n",
              "    <tr>\n",
              "      <th>VisitNumber</th>\n",
              "      <th></th>\n",
              "      <th></th>\n",
              "      <th></th>\n",
              "      <th></th>\n",
              "      <th></th>\n",
              "      <th></th>\n",
              "      <th></th>\n",
              "      <th></th>\n",
              "      <th></th>\n",
              "      <th></th>\n",
              "      <th></th>\n",
              "      <th></th>\n",
              "      <th></th>\n",
              "      <th></th>\n",
              "      <th></th>\n",
              "      <th></th>\n",
              "      <th></th>\n",
              "      <th></th>\n",
              "      <th></th>\n",
              "      <th></th>\n",
              "      <th></th>\n",
              "    </tr>\n",
              "  </thead>\n",
              "  <tbody>\n",
              "    <tr>\n",
              "      <th>5</th>\n",
              "      <td>NaN</td>\n",
              "      <td>NaN</td>\n",
              "      <td>NaN</td>\n",
              "      <td>NaN</td>\n",
              "      <td>NaN</td>\n",
              "      <td>NaN</td>\n",
              "      <td>NaN</td>\n",
              "      <td>NaN</td>\n",
              "      <td>NaN</td>\n",
              "      <td>NaN</td>\n",
              "      <td>...</td>\n",
              "      <td>NaN</td>\n",
              "      <td>NaN</td>\n",
              "      <td>NaN</td>\n",
              "      <td>NaN</td>\n",
              "      <td>NaN</td>\n",
              "      <td>NaN</td>\n",
              "      <td>NaN</td>\n",
              "      <td>NaN</td>\n",
              "      <td>NaN</td>\n",
              "      <td>NaN</td>\n",
              "    </tr>\n",
              "    <tr>\n",
              "      <th>7</th>\n",
              "      <td>NaN</td>\n",
              "      <td>NaN</td>\n",
              "      <td>NaN</td>\n",
              "      <td>NaN</td>\n",
              "      <td>NaN</td>\n",
              "      <td>NaN</td>\n",
              "      <td>NaN</td>\n",
              "      <td>NaN</td>\n",
              "      <td>NaN</td>\n",
              "      <td>NaN</td>\n",
              "      <td>...</td>\n",
              "      <td>NaN</td>\n",
              "      <td>NaN</td>\n",
              "      <td>NaN</td>\n",
              "      <td>1.0</td>\n",
              "      <td>NaN</td>\n",
              "      <td>NaN</td>\n",
              "      <td>NaN</td>\n",
              "      <td>NaN</td>\n",
              "      <td>NaN</td>\n",
              "      <td>NaN</td>\n",
              "    </tr>\n",
              "    <tr>\n",
              "      <th>8</th>\n",
              "      <td>NaN</td>\n",
              "      <td>NaN</td>\n",
              "      <td>NaN</td>\n",
              "      <td>NaN</td>\n",
              "      <td>NaN</td>\n",
              "      <td>NaN</td>\n",
              "      <td>NaN</td>\n",
              "      <td>NaN</td>\n",
              "      <td>NaN</td>\n",
              "      <td>NaN</td>\n",
              "      <td>...</td>\n",
              "      <td>NaN</td>\n",
              "      <td>NaN</td>\n",
              "      <td>NaN</td>\n",
              "      <td>NaN</td>\n",
              "      <td>NaN</td>\n",
              "      <td>NaN</td>\n",
              "      <td>NaN</td>\n",
              "      <td>NaN</td>\n",
              "      <td>NaN</td>\n",
              "      <td>1.0</td>\n",
              "    </tr>\n",
              "    <tr>\n",
              "      <th>9</th>\n",
              "      <td>NaN</td>\n",
              "      <td>NaN</td>\n",
              "      <td>NaN</td>\n",
              "      <td>NaN</td>\n",
              "      <td>NaN</td>\n",
              "      <td>NaN</td>\n",
              "      <td>NaN</td>\n",
              "      <td>NaN</td>\n",
              "      <td>NaN</td>\n",
              "      <td>NaN</td>\n",
              "      <td>...</td>\n",
              "      <td>NaN</td>\n",
              "      <td>NaN</td>\n",
              "      <td>NaN</td>\n",
              "      <td>NaN</td>\n",
              "      <td>NaN</td>\n",
              "      <td>NaN</td>\n",
              "      <td>NaN</td>\n",
              "      <td>NaN</td>\n",
              "      <td>NaN</td>\n",
              "      <td>NaN</td>\n",
              "    </tr>\n",
              "    <tr>\n",
              "      <th>10</th>\n",
              "      <td>NaN</td>\n",
              "      <td>NaN</td>\n",
              "      <td>NaN</td>\n",
              "      <td>NaN</td>\n",
              "      <td>NaN</td>\n",
              "      <td>NaN</td>\n",
              "      <td>NaN</td>\n",
              "      <td>NaN</td>\n",
              "      <td>NaN</td>\n",
              "      <td>NaN</td>\n",
              "      <td>...</td>\n",
              "      <td>NaN</td>\n",
              "      <td>NaN</td>\n",
              "      <td>NaN</td>\n",
              "      <td>NaN</td>\n",
              "      <td>NaN</td>\n",
              "      <td>NaN</td>\n",
              "      <td>NaN</td>\n",
              "      <td>NaN</td>\n",
              "      <td>NaN</td>\n",
              "      <td>NaN</td>\n",
              "    </tr>\n",
              "  </tbody>\n",
              "</table>\n",
              "<p>5 rows × 69 columns</p>\n",
              "</div>"
            ],
            "text/plain": [
              "DepartmentDescription  1-HR PHOTO  ACCESSORIES  AUTOMOTIVE  BAKERY  \\\n",
              "VisitNumber                                                          \n",
              "5                             NaN          NaN         NaN     NaN   \n",
              "7                             NaN          NaN         NaN     NaN   \n",
              "8                             NaN          NaN         NaN     NaN   \n",
              "9                             NaN          NaN         NaN     NaN   \n",
              "10                            NaN          NaN         NaN     NaN   \n",
              "\n",
              "DepartmentDescription  BATH AND SHOWER  BEAUTY  BEDDING  BOOKS AND MAGAZINES  \\\n",
              "VisitNumber                                                                    \n",
              "5                                  NaN     NaN      NaN                  NaN   \n",
              "7                                  NaN     NaN      NaN                  NaN   \n",
              "8                                  NaN     NaN      NaN                  NaN   \n",
              "9                                  NaN     NaN      NaN                  NaN   \n",
              "10                                 NaN     NaN      NaN                  NaN   \n",
              "\n",
              "DepartmentDescription  BOYS WEAR  BRAS & SHAPEWEAR  ...  SEASONAL  \\\n",
              "VisitNumber                                         ...             \n",
              "5                            NaN               NaN  ...       NaN   \n",
              "7                            NaN               NaN  ...       NaN   \n",
              "8                            NaN               NaN  ...       NaN   \n",
              "9                            NaN               NaN  ...       NaN   \n",
              "10                           NaN               NaN  ...       NaN   \n",
              "\n",
              "DepartmentDescription  SERVICE DELI  SHEER HOSIERY  SHOES  \\\n",
              "VisitNumber                                                 \n",
              "5                               NaN            NaN    NaN   \n",
              "7                               NaN            NaN    1.0   \n",
              "8                               NaN            NaN    NaN   \n",
              "9                               NaN            NaN    NaN   \n",
              "10                              NaN            NaN    NaN   \n",
              "\n",
              "DepartmentDescription  SLEEPWEAR/FOUNDATIONS  SPORTING GOODS  \\\n",
              "VisitNumber                                                    \n",
              "5                                        NaN             NaN   \n",
              "7                                        NaN             NaN   \n",
              "8                                        NaN             NaN   \n",
              "9                                        NaN             NaN   \n",
              "10                                       NaN             NaN   \n",
              "\n",
              "DepartmentDescription  SWIMWEAR/OUTERWEAR  TOYS  WIRELESS  nan  \n",
              "VisitNumber                                                     \n",
              "5                                     NaN   NaN       NaN  NaN  \n",
              "7                                     NaN   NaN       NaN  NaN  \n",
              "8                                     NaN   NaN       NaN  1.0  \n",
              "9                                     NaN   NaN       NaN  NaN  \n",
              "10                                    NaN   NaN       NaN  NaN  \n",
              "\n",
              "[5 rows x 69 columns]"
            ]
          },
          "execution_count": 80,
          "metadata": {},
          "output_type": "execute_result"
        }
      ],
      "source": [
        "train_dep_des.head()"
      ]
    },
    {
      "cell_type": "code",
      "execution_count": null,
      "metadata": {
        "id": "DSGk7FsBDs07"
      },
      "outputs": [],
      "source": [
        "dep_des_features = train_dep_des.columns"
      ]
    },
    {
      "cell_type": "code",
      "execution_count": null,
      "metadata": {
        "id": "0IPbeLrbDs08"
      },
      "outputs": [],
      "source": [
        "train_target = train.groupby(\"VisitNumber\")[target_col].min()\n",
        "train_dep_des[target_col] = train_dep_des.index.map(train_target)\n",
        "\n",
        "oos_target = oos.groupby(\"VisitNumber\")[target_col].min()\n",
        "oos_dep_des[target_col] = oos_dep_des.index.map(oos_target)"
      ]
    },
    {
      "cell_type": "code",
      "execution_count": null,
      "metadata": {
        "id": "DzGGZGnUDs1Q"
      },
      "outputs": [],
      "source": [
        "ctb_dep_des = CatBoostClassifier(\n",
        "    verbose=0,\n",
        "    iterations=500,\n",
        "    thread_count=6,\n",
        "    allow_writing_files=False,\n",
        ")"
      ]
    },
    {
      "cell_type": "code",
      "execution_count": null,
      "metadata": {
        "id": "cCszb-u0Ds1Q",
        "outputId": "f52a3b21-4a5a-4c76-8aa6-534f9fa92d15"
      },
      "outputs": [
        {
          "data": {
            "text/plain": [
              "<catboost.core.CatBoostClassifier at 0x12d1e6a70>"
            ]
          },
          "execution_count": 84,
          "metadata": {},
          "output_type": "execute_result"
        }
      ],
      "source": [
        "ctb_dep_des.fit(\n",
        "    train_dep_des[dep_des_features].sample(frac=0.1, random_state=0),\n",
        "    train_dep_des[target_col].sample(frac=0.1, random_state=0)\n",
        ")"
      ]
    },
    {
      "cell_type": "code",
      "execution_count": null,
      "metadata": {
        "id": "mgvV20f5Ds1R",
        "outputId": "857c30e8-a99c-4024-947f-20306e23f880"
      },
      "outputs": [
        {
          "data": {
            "text/plain": [
              "0.5731904886333943"
            ]
          },
          "execution_count": 85,
          "metadata": {},
          "output_type": "execute_result"
        }
      ],
      "source": [
        "accuracy_score(\n",
        "    oos_dep_des[target_col], ctb_dep_des.predict(oos_dep_des[dep_des_features])\n",
        ")"
      ]
    },
    {
      "cell_type": "markdown",
      "metadata": {
        "id": "unBI9m_eDs1R"
      },
      "source": [
        "much better, but it was just with **one column**\n",
        "\n",
        "how u should be with other columns? how to aggregate such features from different columns"
      ]
    },
    {
      "cell_type": "markdown",
      "metadata": {
        "id": "p7pWxCwhDs1R"
      },
      "source": [
        "## EDA: Hidden time series"
      ]
    },
    {
      "cell_type": "markdown",
      "metadata": {
        "id": "EbxE9gAsDs1S"
      },
      "source": [
        "https://www.kaggle.com/competitions/santander-value-prediction-challenge/overview\n",
        "\n",
        "Santander Value Prediction Challenge\n",
        "\n",
        "На первый взгляд, обычное соревнование с табличными данными:"
      ]
    },
    {
      "cell_type": "code",
      "execution_count": null,
      "metadata": {
        "id": "Ogs2BKQTDs1S"
      },
      "outputs": [],
      "source": [
        "train = pd.read_csv(\"../data/santander-value/train.csv\")\n",
        "test = pd.read_csv(\"../data/santander-value/test.csv\", nrows=50)"
      ]
    },
    {
      "cell_type": "code",
      "execution_count": null,
      "metadata": {
        "id": "Uya6_GcKDs1T",
        "outputId": "a9d0b816-dc99-4642-e597-285b1c98c643"
      },
      "outputs": [
        {
          "data": {
            "text/html": [
              "<div>\n",
              "<style scoped>\n",
              "    .dataframe tbody tr th:only-of-type {\n",
              "        vertical-align: middle;\n",
              "    }\n",
              "\n",
              "    .dataframe tbody tr th {\n",
              "        vertical-align: top;\n",
              "    }\n",
              "\n",
              "    .dataframe thead th {\n",
              "        text-align: right;\n",
              "    }\n",
              "</style>\n",
              "<table border=\"1\" class=\"dataframe\">\n",
              "  <thead>\n",
              "    <tr style=\"text-align: right;\">\n",
              "      <th></th>\n",
              "      <th>ID</th>\n",
              "      <th>target</th>\n",
              "      <th>48df886f9</th>\n",
              "      <th>0deb4b6a8</th>\n",
              "      <th>34b15f335</th>\n",
              "      <th>a8cb14b00</th>\n",
              "      <th>2f0771a37</th>\n",
              "      <th>30347e683</th>\n",
              "      <th>d08d1fbe3</th>\n",
              "      <th>6ee66e115</th>\n",
              "      <th>...</th>\n",
              "      <th>3ecc09859</th>\n",
              "      <th>9281abeea</th>\n",
              "      <th>8675bec0b</th>\n",
              "      <th>3a13ed79a</th>\n",
              "      <th>f677d4d13</th>\n",
              "      <th>71b203550</th>\n",
              "      <th>137efaa80</th>\n",
              "      <th>fb36b89d9</th>\n",
              "      <th>7e293fbaf</th>\n",
              "      <th>9fc776466</th>\n",
              "    </tr>\n",
              "  </thead>\n",
              "  <tbody>\n",
              "    <tr>\n",
              "      <th>0</th>\n",
              "      <td>000d6aaf2</td>\n",
              "      <td>38000000.0</td>\n",
              "      <td>0.0</td>\n",
              "      <td>0</td>\n",
              "      <td>0.0</td>\n",
              "      <td>0</td>\n",
              "      <td>0</td>\n",
              "      <td>0</td>\n",
              "      <td>0</td>\n",
              "      <td>0</td>\n",
              "      <td>...</td>\n",
              "      <td>0.0</td>\n",
              "      <td>0.0</td>\n",
              "      <td>0.0</td>\n",
              "      <td>0</td>\n",
              "      <td>0</td>\n",
              "      <td>0</td>\n",
              "      <td>0</td>\n",
              "      <td>0</td>\n",
              "      <td>0</td>\n",
              "      <td>0</td>\n",
              "    </tr>\n",
              "    <tr>\n",
              "      <th>1</th>\n",
              "      <td>000fbd867</td>\n",
              "      <td>600000.0</td>\n",
              "      <td>0.0</td>\n",
              "      <td>0</td>\n",
              "      <td>0.0</td>\n",
              "      <td>0</td>\n",
              "      <td>0</td>\n",
              "      <td>0</td>\n",
              "      <td>0</td>\n",
              "      <td>0</td>\n",
              "      <td>...</td>\n",
              "      <td>0.0</td>\n",
              "      <td>0.0</td>\n",
              "      <td>0.0</td>\n",
              "      <td>0</td>\n",
              "      <td>0</td>\n",
              "      <td>0</td>\n",
              "      <td>0</td>\n",
              "      <td>0</td>\n",
              "      <td>0</td>\n",
              "      <td>0</td>\n",
              "    </tr>\n",
              "    <tr>\n",
              "      <th>2</th>\n",
              "      <td>0027d6b71</td>\n",
              "      <td>10000000.0</td>\n",
              "      <td>0.0</td>\n",
              "      <td>0</td>\n",
              "      <td>0.0</td>\n",
              "      <td>0</td>\n",
              "      <td>0</td>\n",
              "      <td>0</td>\n",
              "      <td>0</td>\n",
              "      <td>0</td>\n",
              "      <td>...</td>\n",
              "      <td>0.0</td>\n",
              "      <td>0.0</td>\n",
              "      <td>0.0</td>\n",
              "      <td>0</td>\n",
              "      <td>0</td>\n",
              "      <td>0</td>\n",
              "      <td>0</td>\n",
              "      <td>0</td>\n",
              "      <td>0</td>\n",
              "      <td>0</td>\n",
              "    </tr>\n",
              "    <tr>\n",
              "      <th>3</th>\n",
              "      <td>0028cbf45</td>\n",
              "      <td>2000000.0</td>\n",
              "      <td>0.0</td>\n",
              "      <td>0</td>\n",
              "      <td>0.0</td>\n",
              "      <td>0</td>\n",
              "      <td>0</td>\n",
              "      <td>0</td>\n",
              "      <td>0</td>\n",
              "      <td>0</td>\n",
              "      <td>...</td>\n",
              "      <td>0.0</td>\n",
              "      <td>0.0</td>\n",
              "      <td>0.0</td>\n",
              "      <td>0</td>\n",
              "      <td>0</td>\n",
              "      <td>0</td>\n",
              "      <td>0</td>\n",
              "      <td>0</td>\n",
              "      <td>0</td>\n",
              "      <td>0</td>\n",
              "    </tr>\n",
              "    <tr>\n",
              "      <th>4</th>\n",
              "      <td>002a68644</td>\n",
              "      <td>14400000.0</td>\n",
              "      <td>0.0</td>\n",
              "      <td>0</td>\n",
              "      <td>0.0</td>\n",
              "      <td>0</td>\n",
              "      <td>0</td>\n",
              "      <td>0</td>\n",
              "      <td>0</td>\n",
              "      <td>0</td>\n",
              "      <td>...</td>\n",
              "      <td>0.0</td>\n",
              "      <td>0.0</td>\n",
              "      <td>0.0</td>\n",
              "      <td>0</td>\n",
              "      <td>0</td>\n",
              "      <td>0</td>\n",
              "      <td>0</td>\n",
              "      <td>0</td>\n",
              "      <td>0</td>\n",
              "      <td>0</td>\n",
              "    </tr>\n",
              "  </tbody>\n",
              "</table>\n",
              "<p>5 rows × 4993 columns</p>\n",
              "</div>"
            ],
            "text/plain": [
              "          ID      target  48df886f9  0deb4b6a8  34b15f335  a8cb14b00  \\\n",
              "0  000d6aaf2  38000000.0        0.0          0        0.0          0   \n",
              "1  000fbd867    600000.0        0.0          0        0.0          0   \n",
              "2  0027d6b71  10000000.0        0.0          0        0.0          0   \n",
              "3  0028cbf45   2000000.0        0.0          0        0.0          0   \n",
              "4  002a68644  14400000.0        0.0          0        0.0          0   \n",
              "\n",
              "   2f0771a37  30347e683  d08d1fbe3  6ee66e115  ...  3ecc09859  9281abeea  \\\n",
              "0          0          0          0          0  ...        0.0        0.0   \n",
              "1          0          0          0          0  ...        0.0        0.0   \n",
              "2          0          0          0          0  ...        0.0        0.0   \n",
              "3          0          0          0          0  ...        0.0        0.0   \n",
              "4          0          0          0          0  ...        0.0        0.0   \n",
              "\n",
              "   8675bec0b  3a13ed79a  f677d4d13  71b203550  137efaa80  fb36b89d9  \\\n",
              "0        0.0          0          0          0          0          0   \n",
              "1        0.0          0          0          0          0          0   \n",
              "2        0.0          0          0          0          0          0   \n",
              "3        0.0          0          0          0          0          0   \n",
              "4        0.0          0          0          0          0          0   \n",
              "\n",
              "   7e293fbaf  9fc776466  \n",
              "0          0          0  \n",
              "1          0          0  \n",
              "2          0          0  \n",
              "3          0          0  \n",
              "4          0          0  \n",
              "\n",
              "[5 rows x 4993 columns]"
            ]
          },
          "metadata": {},
          "output_type": "display_data"
        }
      ],
      "source": [
        "train.head()"
      ]
    },
    {
      "cell_type": "markdown",
      "metadata": {
        "id": "kGhB9Tp5Ds1T"
      },
      "source": [
        "Анонимизированные фичи, регрессия, catboost, optuna, stacking, и так далее\n",
        "\n",
        "Пока `Giba` не написал на форуме, что нашел таргет в фичах:"
      ]
    },
    {
      "cell_type": "code",
      "execution_count": null,
      "metadata": {
        "id": "zhbc5jqZDs1T",
        "outputId": "d829346b-fb94-4403-ad25-7c35d983e174"
      },
      "outputs": [
        {
          "data": {
            "text/html": [
              "<style type=\"text/css\">\n",
              "#T_5f717_row0_col1, #T_5f717_row0_col2, #T_5f717_row0_col9, #T_5f717_row1_col3, #T_5f717_row1_col10, #T_5f717_row2_col2, #T_5f717_row2_col4, #T_5f717_row2_col11, #T_5f717_row3_col3, #T_5f717_row3_col5, #T_5f717_row3_col12, #T_5f717_row4_col4, #T_5f717_row4_col6, #T_5f717_row4_col13, #T_5f717_row5_col5, #T_5f717_row5_col7, #T_5f717_row5_col14, #T_5f717_row6_col6, #T_5f717_row6_col8, #T_5f717_row7_col7, #T_5f717_row7_col9, #T_5f717_row8_col8, #T_5f717_row8_col10, #T_5f717_row9_col9, #T_5f717_row9_col11, #T_5f717_row10_col10, #T_5f717_row10_col12, #T_5f717_row11_col11, #T_5f717_row11_col13, #T_5f717_row12_col12, #T_5f717_row12_col14 {\n",
              "  background-color: #1f77b4;\n",
              "}\n",
              "#T_5f717_row0_col3, #T_5f717_row1_col4, #T_5f717_row2_col5, #T_5f717_row3_col6, #T_5f717_row4_col7, #T_5f717_row5_col8, #T_5f717_row6_col9, #T_5f717_row7_col10, #T_5f717_row8_col11, #T_5f717_row9_col12, #T_5f717_row10_col13, #T_5f717_row11_col14 {\n",
              "  background-color: #aec7e8;\n",
              "}\n",
              "#T_5f717_row0_col4, #T_5f717_row1_col5, #T_5f717_row2_col6, #T_5f717_row3_col7, #T_5f717_row4_col8, #T_5f717_row5_col9, #T_5f717_row6_col10, #T_5f717_row7_col11, #T_5f717_row8_col12, #T_5f717_row9_col13, #T_5f717_row10_col14 {\n",
              "  background-color: #ff7f0e;\n",
              "}\n",
              "#T_5f717_row0_col5, #T_5f717_row1_col6, #T_5f717_row2_col7, #T_5f717_row3_col8, #T_5f717_row4_col9, #T_5f717_row5_col10, #T_5f717_row6_col11, #T_5f717_row7_col12, #T_5f717_row8_col13, #T_5f717_row9_col14 {\n",
              "  background-color: #ffbb78;\n",
              "}\n",
              "#T_5f717_row0_col6, #T_5f717_row1_col7, #T_5f717_row2_col8, #T_5f717_row3_col9, #T_5f717_row4_col10, #T_5f717_row5_col11, #T_5f717_row6_col12, #T_5f717_row7_col13, #T_5f717_row8_col14 {\n",
              "  background-color: #2ca02c;\n",
              "}\n",
              "#T_5f717_row0_col7, #T_5f717_row1_col8, #T_5f717_row2_col9, #T_5f717_row3_col10, #T_5f717_row4_col11, #T_5f717_row5_col12, #T_5f717_row6_col13, #T_5f717_row7_col14 {\n",
              "  background-color: #98df8a;\n",
              "}\n",
              "#T_5f717_row0_col8, #T_5f717_row1_col9, #T_5f717_row2_col10, #T_5f717_row3_col11, #T_5f717_row4_col12, #T_5f717_row5_col13, #T_5f717_row6_col14 {\n",
              "  background-color: #d62728;\n",
              "}\n",
              "#T_5f717_row0_col10, #T_5f717_row1_col11, #T_5f717_row2_col12, #T_5f717_row3_col13, #T_5f717_row4_col14 {\n",
              "  background-color: #ff9896;\n",
              "}\n",
              "#T_5f717_row0_col11, #T_5f717_row1_col12, #T_5f717_row2_col13, #T_5f717_row3_col14 {\n",
              "  background-color: #9467bd;\n",
              "}\n",
              "#T_5f717_row0_col12, #T_5f717_row1_col13, #T_5f717_row2_col14 {\n",
              "  background-color: #c5b0d5;\n",
              "}\n",
              "#T_5f717_row0_col13, #T_5f717_row1_col1, #T_5f717_row1_col14, #T_5f717_row3_col2, #T_5f717_row4_col3, #T_5f717_row5_col4, #T_5f717_row6_col5, #T_5f717_row7_col6, #T_5f717_row8_col7, #T_5f717_row9_col8, #T_5f717_row10_col9, #T_5f717_row11_col10, #T_5f717_row12_col11 {\n",
              "  background-color: #8c564b;\n",
              "}\n",
              "#T_5f717_row1_col2, #T_5f717_row2_col3, #T_5f717_row3_col4, #T_5f717_row4_col5, #T_5f717_row5_col6, #T_5f717_row6_col7, #T_5f717_row7_col8, #T_5f717_row8_col9, #T_5f717_row9_col10, #T_5f717_row10_col11, #T_5f717_row11_col12, #T_5f717_row12_col13 {\n",
              "  background-color: #c49c94;\n",
              "}\n",
              "#T_5f717_row2_col1, #T_5f717_row4_col2, #T_5f717_row5_col3, #T_5f717_row6_col4, #T_5f717_row7_col5, #T_5f717_row8_col6, #T_5f717_row9_col7, #T_5f717_row10_col8, #T_5f717_row11_col9, #T_5f717_row12_col10 {\n",
              "  background-color: #e377c2;\n",
              "}\n",
              "#T_5f717_row3_col1, #T_5f717_row5_col2, #T_5f717_row6_col3, #T_5f717_row7_col4, #T_5f717_row8_col5, #T_5f717_row9_col6, #T_5f717_row10_col7, #T_5f717_row11_col8, #T_5f717_row12_col9 {\n",
              "  background-color: #f7b6d2;\n",
              "}\n",
              "#T_5f717_row4_col1, #T_5f717_row6_col2, #T_5f717_row7_col3, #T_5f717_row8_col4, #T_5f717_row9_col5, #T_5f717_row10_col6, #T_5f717_row11_col7, #T_5f717_row12_col8 {\n",
              "  background-color: #7f7f7f;\n",
              "}\n",
              "#T_5f717_row5_col1, #T_5f717_row7_col2, #T_5f717_row8_col3, #T_5f717_row9_col4, #T_5f717_row10_col5, #T_5f717_row11_col6, #T_5f717_row12_col7 {\n",
              "  background-color: #c7c7c7;\n",
              "}\n",
              "#T_5f717_row6_col1, #T_5f717_row8_col2, #T_5f717_row9_col3, #T_5f717_row10_col4, #T_5f717_row11_col5, #T_5f717_row12_col6 {\n",
              "  background-color: #bcbd22;\n",
              "}\n",
              "#T_5f717_row7_col1, #T_5f717_row9_col2, #T_5f717_row10_col3, #T_5f717_row11_col4, #T_5f717_row12_col5 {\n",
              "  background-color: #dbdb8d;\n",
              "}\n",
              "#T_5f717_row8_col1, #T_5f717_row10_col2, #T_5f717_row11_col3, #T_5f717_row12_col4 {\n",
              "  background-color: #17becf;\n",
              "}\n",
              "#T_5f717_row9_col1, #T_5f717_row10_col1, #T_5f717_row11_col2, #T_5f717_row12_col2, #T_5f717_row12_col3 {\n",
              "  background-color: #9edae5;\n",
              "}\n",
              "</style>\n",
              "<table id=\"T_5f717\">\n",
              "  <thead>\n",
              "    <tr>\n",
              "      <th class=\"blank level0\" >&nbsp;</th>\n",
              "      <th id=\"T_5f717_level0_col0\" class=\"col_heading level0 col0\" >ID</th>\n",
              "      <th id=\"T_5f717_level0_col1\" class=\"col_heading level0 col1\" >target</th>\n",
              "      <th id=\"T_5f717_level0_col2\" class=\"col_heading level0 col2\" >f190486d6</th>\n",
              "      <th id=\"T_5f717_level0_col3\" class=\"col_heading level0 col3\" >58e2e02e6</th>\n",
              "      <th id=\"T_5f717_level0_col4\" class=\"col_heading level0 col4\" >eeb9cd3aa</th>\n",
              "      <th id=\"T_5f717_level0_col5\" class=\"col_heading level0 col5\" >9fd594eec</th>\n",
              "      <th id=\"T_5f717_level0_col6\" class=\"col_heading level0 col6\" >6eef030c1</th>\n",
              "      <th id=\"T_5f717_level0_col7\" class=\"col_heading level0 col7\" >15ace8c9f</th>\n",
              "      <th id=\"T_5f717_level0_col8\" class=\"col_heading level0 col8\" >fb0f5dbfe</th>\n",
              "      <th id=\"T_5f717_level0_col9\" class=\"col_heading level0 col9\" >58e056e12</th>\n",
              "      <th id=\"T_5f717_level0_col10\" class=\"col_heading level0 col10\" >20aa07010</th>\n",
              "      <th id=\"T_5f717_level0_col11\" class=\"col_heading level0 col11\" >024c577b9</th>\n",
              "      <th id=\"T_5f717_level0_col12\" class=\"col_heading level0 col12\" >d6bb78916</th>\n",
              "      <th id=\"T_5f717_level0_col13\" class=\"col_heading level0 col13\" >b43a7cfd5</th>\n",
              "      <th id=\"T_5f717_level0_col14\" class=\"col_heading level0 col14\" >58232a6fb</th>\n",
              "    </tr>\n",
              "  </thead>\n",
              "  <tbody>\n",
              "    <tr>\n",
              "      <th id=\"T_5f717_level0_row0\" class=\"row_heading level0 row0\" >2071</th>\n",
              "      <td id=\"T_5f717_row0_col0\" class=\"data row0 col0\" >7862786dc</td>\n",
              "      <td id=\"T_5f717_row0_col1\" class=\"data row0 col1\" >3513333.340000</td>\n",
              "      <td id=\"T_5f717_row0_col2\" class=\"data row0 col2\" >0.000000</td>\n",
              "      <td id=\"T_5f717_row0_col3\" class=\"data row0 col3\" >1477600.000000</td>\n",
              "      <td id=\"T_5f717_row0_col4\" class=\"data row0 col4\" >1586888.880000</td>\n",
              "      <td id=\"T_5f717_row0_col5\" class=\"data row0 col5\" >75000.000000</td>\n",
              "      <td id=\"T_5f717_row0_col6\" class=\"data row0 col6\" >3147200.000000</td>\n",
              "      <td id=\"T_5f717_row0_col7\" class=\"data row0 col7\" >466461.540000</td>\n",
              "      <td id=\"T_5f717_row0_col8\" class=\"data row0 col8\" >1600000.000000</td>\n",
              "      <td id=\"T_5f717_row0_col9\" class=\"data row0 col9\" >0.000000</td>\n",
              "      <td id=\"T_5f717_row0_col10\" class=\"data row0 col10\" >440000.000000</td>\n",
              "      <td id=\"T_5f717_row0_col11\" class=\"data row0 col11\" >3076666.660000</td>\n",
              "      <td id=\"T_5f717_row0_col12\" class=\"data row0 col12\" >550000.000000</td>\n",
              "      <td id=\"T_5f717_row0_col13\" class=\"data row0 col13\" >247166.660000</td>\n",
              "      <td id=\"T_5f717_row0_col14\" class=\"data row0 col14\" >296444.440000</td>\n",
              "    </tr>\n",
              "    <tr>\n",
              "      <th id=\"T_5f717_level0_row1\" class=\"row_heading level0 row1\" >3492</th>\n",
              "      <td id=\"T_5f717_row1_col0\" class=\"data row1 col0\" >c95732596</td>\n",
              "      <td id=\"T_5f717_row1_col1\" class=\"data row1 col1\" >160000.000000</td>\n",
              "      <td id=\"T_5f717_row1_col2\" class=\"data row1 col2\" >310000.000000</td>\n",
              "      <td id=\"T_5f717_row1_col3\" class=\"data row1 col3\" >0.000000</td>\n",
              "      <td id=\"T_5f717_row1_col4\" class=\"data row1 col4\" >1477600.000000</td>\n",
              "      <td id=\"T_5f717_row1_col5\" class=\"data row1 col5\" >1586888.880000</td>\n",
              "      <td id=\"T_5f717_row1_col6\" class=\"data row1 col6\" >75000.000000</td>\n",
              "      <td id=\"T_5f717_row1_col7\" class=\"data row1 col7\" >3147200.000000</td>\n",
              "      <td id=\"T_5f717_row1_col8\" class=\"data row1 col8\" >466461.540000</td>\n",
              "      <td id=\"T_5f717_row1_col9\" class=\"data row1 col9\" >1600000.000000</td>\n",
              "      <td id=\"T_5f717_row1_col10\" class=\"data row1 col10\" >0.000000</td>\n",
              "      <td id=\"T_5f717_row1_col11\" class=\"data row1 col11\" >440000.000000</td>\n",
              "      <td id=\"T_5f717_row1_col12\" class=\"data row1 col12\" >3076666.660000</td>\n",
              "      <td id=\"T_5f717_row1_col13\" class=\"data row1 col13\" >550000.000000</td>\n",
              "      <td id=\"T_5f717_row1_col14\" class=\"data row1 col14\" >247166.660000</td>\n",
              "    </tr>\n",
              "    <tr>\n",
              "      <th id=\"T_5f717_level0_row2\" class=\"row_heading level0 row2\" >378</th>\n",
              "      <td id=\"T_5f717_row2_col0\" class=\"data row2 col0\" >16a02e67a</td>\n",
              "      <td id=\"T_5f717_row2_col1\" class=\"data row2 col1\" >2352551.720000</td>\n",
              "      <td id=\"T_5f717_row2_col2\" class=\"data row2 col2\" >3513333.340000</td>\n",
              "      <td id=\"T_5f717_row2_col3\" class=\"data row2 col3\" >310000.000000</td>\n",
              "      <td id=\"T_5f717_row2_col4\" class=\"data row2 col4\" >0.000000</td>\n",
              "      <td id=\"T_5f717_row2_col5\" class=\"data row2 col5\" >1477600.000000</td>\n",
              "      <td id=\"T_5f717_row2_col6\" class=\"data row2 col6\" >1586888.880000</td>\n",
              "      <td id=\"T_5f717_row2_col7\" class=\"data row2 col7\" >75000.000000</td>\n",
              "      <td id=\"T_5f717_row2_col8\" class=\"data row2 col8\" >3147200.000000</td>\n",
              "      <td id=\"T_5f717_row2_col9\" class=\"data row2 col9\" >466461.540000</td>\n",
              "      <td id=\"T_5f717_row2_col10\" class=\"data row2 col10\" >1600000.000000</td>\n",
              "      <td id=\"T_5f717_row2_col11\" class=\"data row2 col11\" >0.000000</td>\n",
              "      <td id=\"T_5f717_row2_col12\" class=\"data row2 col12\" >440000.000000</td>\n",
              "      <td id=\"T_5f717_row2_col13\" class=\"data row2 col13\" >3076666.660000</td>\n",
              "      <td id=\"T_5f717_row2_col14\" class=\"data row2 col14\" >550000.000000</td>\n",
              "    </tr>\n",
              "    <tr>\n",
              "      <th id=\"T_5f717_level0_row3\" class=\"row_heading level0 row3\" >2971</th>\n",
              "      <td id=\"T_5f717_row3_col0\" class=\"data row3 col0\" >ad960f947</td>\n",
              "      <td id=\"T_5f717_row3_col1\" class=\"data row3 col1\" >280000.000000</td>\n",
              "      <td id=\"T_5f717_row3_col2\" class=\"data row3 col2\" >160000.000000</td>\n",
              "      <td id=\"T_5f717_row3_col3\" class=\"data row3 col3\" >3513333.340000</td>\n",
              "      <td id=\"T_5f717_row3_col4\" class=\"data row3 col4\" >310000.000000</td>\n",
              "      <td id=\"T_5f717_row3_col5\" class=\"data row3 col5\" >0.000000</td>\n",
              "      <td id=\"T_5f717_row3_col6\" class=\"data row3 col6\" >1477600.000000</td>\n",
              "      <td id=\"T_5f717_row3_col7\" class=\"data row3 col7\" >1586888.880000</td>\n",
              "      <td id=\"T_5f717_row3_col8\" class=\"data row3 col8\" >75000.000000</td>\n",
              "      <td id=\"T_5f717_row3_col9\" class=\"data row3 col9\" >3147200.000000</td>\n",
              "      <td id=\"T_5f717_row3_col10\" class=\"data row3 col10\" >466461.540000</td>\n",
              "      <td id=\"T_5f717_row3_col11\" class=\"data row3 col11\" >1600000.000000</td>\n",
              "      <td id=\"T_5f717_row3_col12\" class=\"data row3 col12\" >0.000000</td>\n",
              "      <td id=\"T_5f717_row3_col13\" class=\"data row3 col13\" >440000.000000</td>\n",
              "      <td id=\"T_5f717_row3_col14\" class=\"data row3 col14\" >3076666.660000</td>\n",
              "    </tr>\n",
              "    <tr>\n",
              "      <th id=\"T_5f717_level0_row4\" class=\"row_heading level0 row4\" >2366</th>\n",
              "      <td id=\"T_5f717_row4_col0\" class=\"data row4 col0\" >8adafbb52</td>\n",
              "      <td id=\"T_5f717_row4_col1\" class=\"data row4 col1\" >5450500.000000</td>\n",
              "      <td id=\"T_5f717_row4_col2\" class=\"data row4 col2\" >2352551.720000</td>\n",
              "      <td id=\"T_5f717_row4_col3\" class=\"data row4 col3\" >160000.000000</td>\n",
              "      <td id=\"T_5f717_row4_col4\" class=\"data row4 col4\" >3513333.340000</td>\n",
              "      <td id=\"T_5f717_row4_col5\" class=\"data row4 col5\" >310000.000000</td>\n",
              "      <td id=\"T_5f717_row4_col6\" class=\"data row4 col6\" >0.000000</td>\n",
              "      <td id=\"T_5f717_row4_col7\" class=\"data row4 col7\" >1477600.000000</td>\n",
              "      <td id=\"T_5f717_row4_col8\" class=\"data row4 col8\" >1586888.880000</td>\n",
              "      <td id=\"T_5f717_row4_col9\" class=\"data row4 col9\" >75000.000000</td>\n",
              "      <td id=\"T_5f717_row4_col10\" class=\"data row4 col10\" >3147200.000000</td>\n",
              "      <td id=\"T_5f717_row4_col11\" class=\"data row4 col11\" >466461.540000</td>\n",
              "      <td id=\"T_5f717_row4_col12\" class=\"data row4 col12\" >1600000.000000</td>\n",
              "      <td id=\"T_5f717_row4_col13\" class=\"data row4 col13\" >0.000000</td>\n",
              "      <td id=\"T_5f717_row4_col14\" class=\"data row4 col14\" >440000.000000</td>\n",
              "    </tr>\n",
              "    <tr>\n",
              "      <th id=\"T_5f717_level0_row5\" class=\"row_heading level0 row5\" >4414</th>\n",
              "      <td id=\"T_5f717_row5_col0\" class=\"data row5 col0\" >fd0c7cfc2</td>\n",
              "      <td id=\"T_5f717_row5_col1\" class=\"data row5 col1\" >1359000.000000</td>\n",
              "      <td id=\"T_5f717_row5_col2\" class=\"data row5 col2\" >280000.000000</td>\n",
              "      <td id=\"T_5f717_row5_col3\" class=\"data row5 col3\" >2352551.720000</td>\n",
              "      <td id=\"T_5f717_row5_col4\" class=\"data row5 col4\" >160000.000000</td>\n",
              "      <td id=\"T_5f717_row5_col5\" class=\"data row5 col5\" >3513333.340000</td>\n",
              "      <td id=\"T_5f717_row5_col6\" class=\"data row5 col6\" >310000.000000</td>\n",
              "      <td id=\"T_5f717_row5_col7\" class=\"data row5 col7\" >0.000000</td>\n",
              "      <td id=\"T_5f717_row5_col8\" class=\"data row5 col8\" >1477600.000000</td>\n",
              "      <td id=\"T_5f717_row5_col9\" class=\"data row5 col9\" >1586888.880000</td>\n",
              "      <td id=\"T_5f717_row5_col10\" class=\"data row5 col10\" >75000.000000</td>\n",
              "      <td id=\"T_5f717_row5_col11\" class=\"data row5 col11\" >3147200.000000</td>\n",
              "      <td id=\"T_5f717_row5_col12\" class=\"data row5 col12\" >466461.540000</td>\n",
              "      <td id=\"T_5f717_row5_col13\" class=\"data row5 col13\" >1600000.000000</td>\n",
              "      <td id=\"T_5f717_row5_col14\" class=\"data row5 col14\" >0.000000</td>\n",
              "    </tr>\n",
              "    <tr>\n",
              "      <th id=\"T_5f717_level0_row6\" class=\"row_heading level0 row6\" >2790</th>\n",
              "      <td id=\"T_5f717_row6_col0\" class=\"data row6 col0\" >a36b78ff7</td>\n",
              "      <td id=\"T_5f717_row6_col1\" class=\"data row6 col1\" >60000.000000</td>\n",
              "      <td id=\"T_5f717_row6_col2\" class=\"data row6 col2\" >5450500.000000</td>\n",
              "      <td id=\"T_5f717_row6_col3\" class=\"data row6 col3\" >280000.000000</td>\n",
              "      <td id=\"T_5f717_row6_col4\" class=\"data row6 col4\" >2352551.720000</td>\n",
              "      <td id=\"T_5f717_row6_col5\" class=\"data row6 col5\" >160000.000000</td>\n",
              "      <td id=\"T_5f717_row6_col6\" class=\"data row6 col6\" >3513333.340000</td>\n",
              "      <td id=\"T_5f717_row6_col7\" class=\"data row6 col7\" >310000.000000</td>\n",
              "      <td id=\"T_5f717_row6_col8\" class=\"data row6 col8\" >0.000000</td>\n",
              "      <td id=\"T_5f717_row6_col9\" class=\"data row6 col9\" >1477600.000000</td>\n",
              "      <td id=\"T_5f717_row6_col10\" class=\"data row6 col10\" >1586888.880000</td>\n",
              "      <td id=\"T_5f717_row6_col11\" class=\"data row6 col11\" >75000.000000</td>\n",
              "      <td id=\"T_5f717_row6_col12\" class=\"data row6 col12\" >3147200.000000</td>\n",
              "      <td id=\"T_5f717_row6_col13\" class=\"data row6 col13\" >466461.540000</td>\n",
              "      <td id=\"T_5f717_row6_col14\" class=\"data row6 col14\" >1600000.000000</td>\n",
              "    </tr>\n",
              "    <tr>\n",
              "      <th id=\"T_5f717_level0_row7\" class=\"row_heading level0 row7\" >3979</th>\n",
              "      <td id=\"T_5f717_row7_col0\" class=\"data row7 col0\" >e42aae1b8</td>\n",
              "      <td id=\"T_5f717_row7_col1\" class=\"data row7 col1\" >12000000.000000</td>\n",
              "      <td id=\"T_5f717_row7_col2\" class=\"data row7 col2\" >1359000.000000</td>\n",
              "      <td id=\"T_5f717_row7_col3\" class=\"data row7 col3\" >5450500.000000</td>\n",
              "      <td id=\"T_5f717_row7_col4\" class=\"data row7 col4\" >280000.000000</td>\n",
              "      <td id=\"T_5f717_row7_col5\" class=\"data row7 col5\" >2352551.720000</td>\n",
              "      <td id=\"T_5f717_row7_col6\" class=\"data row7 col6\" >160000.000000</td>\n",
              "      <td id=\"T_5f717_row7_col7\" class=\"data row7 col7\" >3513333.340000</td>\n",
              "      <td id=\"T_5f717_row7_col8\" class=\"data row7 col8\" >310000.000000</td>\n",
              "      <td id=\"T_5f717_row7_col9\" class=\"data row7 col9\" >0.000000</td>\n",
              "      <td id=\"T_5f717_row7_col10\" class=\"data row7 col10\" >1477600.000000</td>\n",
              "      <td id=\"T_5f717_row7_col11\" class=\"data row7 col11\" >1586888.880000</td>\n",
              "      <td id=\"T_5f717_row7_col12\" class=\"data row7 col12\" >75000.000000</td>\n",
              "      <td id=\"T_5f717_row7_col13\" class=\"data row7 col13\" >3147200.000000</td>\n",
              "      <td id=\"T_5f717_row7_col14\" class=\"data row7 col14\" >466461.540000</td>\n",
              "    </tr>\n",
              "    <tr>\n",
              "      <th id=\"T_5f717_level0_row8\" class=\"row_heading level0 row8\" >193</th>\n",
              "      <td id=\"T_5f717_row8_col0\" class=\"data row8 col0\" >0b132f2c6</td>\n",
              "      <td id=\"T_5f717_row8_col1\" class=\"data row8 col1\" >500000.000000</td>\n",
              "      <td id=\"T_5f717_row8_col2\" class=\"data row8 col2\" >60000.000000</td>\n",
              "      <td id=\"T_5f717_row8_col3\" class=\"data row8 col3\" >1359000.000000</td>\n",
              "      <td id=\"T_5f717_row8_col4\" class=\"data row8 col4\" >5450500.000000</td>\n",
              "      <td id=\"T_5f717_row8_col5\" class=\"data row8 col5\" >280000.000000</td>\n",
              "      <td id=\"T_5f717_row8_col6\" class=\"data row8 col6\" >2352551.720000</td>\n",
              "      <td id=\"T_5f717_row8_col7\" class=\"data row8 col7\" >160000.000000</td>\n",
              "      <td id=\"T_5f717_row8_col8\" class=\"data row8 col8\" >3513333.340000</td>\n",
              "      <td id=\"T_5f717_row8_col9\" class=\"data row8 col9\" >310000.000000</td>\n",
              "      <td id=\"T_5f717_row8_col10\" class=\"data row8 col10\" >0.000000</td>\n",
              "      <td id=\"T_5f717_row8_col11\" class=\"data row8 col11\" >1477600.000000</td>\n",
              "      <td id=\"T_5f717_row8_col12\" class=\"data row8 col12\" >1586888.880000</td>\n",
              "      <td id=\"T_5f717_row8_col13\" class=\"data row8 col13\" >75000.000000</td>\n",
              "      <td id=\"T_5f717_row8_col14\" class=\"data row8 col14\" >3147200.000000</td>\n",
              "    </tr>\n",
              "    <tr>\n",
              "      <th id=\"T_5f717_level0_row9\" class=\"row_heading level0 row9\" >1189</th>\n",
              "      <td id=\"T_5f717_row9_col0\" class=\"data row9 col0\" >448efbb28</td>\n",
              "      <td id=\"T_5f717_row9_col1\" class=\"data row9 col1\" >1878571.420000</td>\n",
              "      <td id=\"T_5f717_row9_col2\" class=\"data row9 col2\" >12000000.000000</td>\n",
              "      <td id=\"T_5f717_row9_col3\" class=\"data row9 col3\" >60000.000000</td>\n",
              "      <td id=\"T_5f717_row9_col4\" class=\"data row9 col4\" >1359000.000000</td>\n",
              "      <td id=\"T_5f717_row9_col5\" class=\"data row9 col5\" >5450500.000000</td>\n",
              "      <td id=\"T_5f717_row9_col6\" class=\"data row9 col6\" >280000.000000</td>\n",
              "      <td id=\"T_5f717_row9_col7\" class=\"data row9 col7\" >2352551.720000</td>\n",
              "      <td id=\"T_5f717_row9_col8\" class=\"data row9 col8\" >160000.000000</td>\n",
              "      <td id=\"T_5f717_row9_col9\" class=\"data row9 col9\" >3513333.340000</td>\n",
              "      <td id=\"T_5f717_row9_col10\" class=\"data row9 col10\" >310000.000000</td>\n",
              "      <td id=\"T_5f717_row9_col11\" class=\"data row9 col11\" >0.000000</td>\n",
              "      <td id=\"T_5f717_row9_col12\" class=\"data row9 col12\" >1477600.000000</td>\n",
              "      <td id=\"T_5f717_row9_col13\" class=\"data row9 col13\" >1586888.880000</td>\n",
              "      <td id=\"T_5f717_row9_col14\" class=\"data row9 col14\" >75000.000000</td>\n",
              "    </tr>\n",
              "    <tr>\n",
              "      <th id=\"T_5f717_level0_row10\" class=\"row_heading level0 row10\" >3516</th>\n",
              "      <td id=\"T_5f717_row10_col0\" class=\"data row10 col0\" >ca98b17ca</td>\n",
              "      <td id=\"T_5f717_row10_col1\" class=\"data row10 col1\" >814800.000000</td>\n",
              "      <td id=\"T_5f717_row10_col2\" class=\"data row10 col2\" >500000.000000</td>\n",
              "      <td id=\"T_5f717_row10_col3\" class=\"data row10 col3\" >12000000.000000</td>\n",
              "      <td id=\"T_5f717_row10_col4\" class=\"data row10 col4\" >60000.000000</td>\n",
              "      <td id=\"T_5f717_row10_col5\" class=\"data row10 col5\" >1359000.000000</td>\n",
              "      <td id=\"T_5f717_row10_col6\" class=\"data row10 col6\" >5450500.000000</td>\n",
              "      <td id=\"T_5f717_row10_col7\" class=\"data row10 col7\" >280000.000000</td>\n",
              "      <td id=\"T_5f717_row10_col8\" class=\"data row10 col8\" >2352551.720000</td>\n",
              "      <td id=\"T_5f717_row10_col9\" class=\"data row10 col9\" >160000.000000</td>\n",
              "      <td id=\"T_5f717_row10_col10\" class=\"data row10 col10\" >3513333.340000</td>\n",
              "      <td id=\"T_5f717_row10_col11\" class=\"data row10 col11\" >310000.000000</td>\n",
              "      <td id=\"T_5f717_row10_col12\" class=\"data row10 col12\" >0.000000</td>\n",
              "      <td id=\"T_5f717_row10_col13\" class=\"data row10 col13\" >1477600.000000</td>\n",
              "      <td id=\"T_5f717_row10_col14\" class=\"data row10 col14\" >1586888.880000</td>\n",
              "    </tr>\n",
              "    <tr>\n",
              "      <th id=\"T_5f717_level0_row11\" class=\"row_heading level0 row11\" >810</th>\n",
              "      <td id=\"T_5f717_row11_col0\" class=\"data row11 col0\" >2e57ec99f</td>\n",
              "      <td id=\"T_5f717_row11_col1\" class=\"data row11 col1\" >307000.000000</td>\n",
              "      <td id=\"T_5f717_row11_col2\" class=\"data row11 col2\" >1878571.420000</td>\n",
              "      <td id=\"T_5f717_row11_col3\" class=\"data row11 col3\" >500000.000000</td>\n",
              "      <td id=\"T_5f717_row11_col4\" class=\"data row11 col4\" >12000000.000000</td>\n",
              "      <td id=\"T_5f717_row11_col5\" class=\"data row11 col5\" >60000.000000</td>\n",
              "      <td id=\"T_5f717_row11_col6\" class=\"data row11 col6\" >1359000.000000</td>\n",
              "      <td id=\"T_5f717_row11_col7\" class=\"data row11 col7\" >5450500.000000</td>\n",
              "      <td id=\"T_5f717_row11_col8\" class=\"data row11 col8\" >280000.000000</td>\n",
              "      <td id=\"T_5f717_row11_col9\" class=\"data row11 col9\" >2352551.720000</td>\n",
              "      <td id=\"T_5f717_row11_col10\" class=\"data row11 col10\" >160000.000000</td>\n",
              "      <td id=\"T_5f717_row11_col11\" class=\"data row11 col11\" >3513333.340000</td>\n",
              "      <td id=\"T_5f717_row11_col12\" class=\"data row11 col12\" >310000.000000</td>\n",
              "      <td id=\"T_5f717_row11_col13\" class=\"data row11 col13\" >0.000000</td>\n",
              "      <td id=\"T_5f717_row11_col14\" class=\"data row11 col14\" >1477600.000000</td>\n",
              "    </tr>\n",
              "    <tr>\n",
              "      <th id=\"T_5f717_level0_row12\" class=\"row_heading level0 row12\" >4443</th>\n",
              "      <td id=\"T_5f717_row12_col0\" class=\"data row12 col0\" >fef33cb02</td>\n",
              "      <td id=\"T_5f717_row12_col1\" class=\"data row12 col1\" >528666.660000</td>\n",
              "      <td id=\"T_5f717_row12_col2\" class=\"data row12 col2\" >814800.000000</td>\n",
              "      <td id=\"T_5f717_row12_col3\" class=\"data row12 col3\" >1878571.420000</td>\n",
              "      <td id=\"T_5f717_row12_col4\" class=\"data row12 col4\" >500000.000000</td>\n",
              "      <td id=\"T_5f717_row12_col5\" class=\"data row12 col5\" >12000000.000000</td>\n",
              "      <td id=\"T_5f717_row12_col6\" class=\"data row12 col6\" >60000.000000</td>\n",
              "      <td id=\"T_5f717_row12_col7\" class=\"data row12 col7\" >1359000.000000</td>\n",
              "      <td id=\"T_5f717_row12_col8\" class=\"data row12 col8\" >5450500.000000</td>\n",
              "      <td id=\"T_5f717_row12_col9\" class=\"data row12 col9\" >280000.000000</td>\n",
              "      <td id=\"T_5f717_row12_col10\" class=\"data row12 col10\" >2352551.720000</td>\n",
              "      <td id=\"T_5f717_row12_col11\" class=\"data row12 col11\" >160000.000000</td>\n",
              "      <td id=\"T_5f717_row12_col12\" class=\"data row12 col12\" >3513333.340000</td>\n",
              "      <td id=\"T_5f717_row12_col13\" class=\"data row12 col13\" >310000.000000</td>\n",
              "      <td id=\"T_5f717_row12_col14\" class=\"data row12 col14\" >0.000000</td>\n",
              "    </tr>\n",
              "  </tbody>\n",
              "</table>\n"
            ],
            "text/plain": [
              "<pandas.io.formats.style.Styler at 0x1639d7910>"
            ]
          },
          "metadata": {},
          "output_type": "display_data"
        }
      ],
      "source": [
        "cols = [\n",
        "    \"f190486d6\",\n",
        "    \"58e2e02e6\",\n",
        "    \"eeb9cd3aa\",\n",
        "    \"9fd594eec\",\n",
        "    \"6eef030c1\",\n",
        "    \"15ace8c9f\",\n",
        "    \"fb0f5dbfe\",\n",
        "    \"58e056e12\",\n",
        "    \"20aa07010\",\n",
        "    \"024c577b9\",\n",
        "    \"d6bb78916\",\n",
        "    \"b43a7cfd5\",\n",
        "    \"58232a6fb\",\n",
        "]\n",
        "rows = (\n",
        "    np.array(\n",
        "        [2072, 3493, 379, 2972, 2367, 4415, 2791, 3980, 194, 1190, 3517, 811, 4444]\n",
        "    )\n",
        "    - 1\n",
        ")\n",
        "# Some ChatGPT code for drawing dataframe is good (nobody really knows how pandas table styles actually works lol)\n",
        "\n",
        "# Sample DataFrame with duplicate\n",
        "df = train.loc[rows, [\"ID\", \"target\"] + cols]\n",
        "\n",
        "# Step 1: Identify all duplicated values across the entire DataFrame\n",
        "# Stack the DataFrame, remove unique values, and get the unique duplicated values\n",
        "duplicate_values = df.stack()\n",
        "duplicate_values = duplicate_values[duplicate_values.duplicated(keep=False)].unique()\n",
        "\n",
        "# Step 2: Create a color map for each unique duplicate value\n",
        "# Use a colormap to generate distinct colors for each duplicated value\n",
        "colors = plt.get_cmap(\n",
        "    \"tab20\", len(duplicate_values)\n",
        ")  # 'tab20' provides up to 20 colors\n",
        "color_map = {val: colors(i) for i, val in enumerate(duplicate_values)}\n",
        "color_map = {\n",
        "    k: f\"#{int(v[0]*255):02x}{int(v[1]*255):02x}{int(v[2]*255):02x}\"\n",
        "    for k, v in color_map.items()\n",
        "}  # Convert to hex\n",
        "\n",
        "\n",
        "# Step 3: Function to highlight each duplicate value with its unique color\n",
        "def highlight_duplicates(val, color_map):\n",
        "    if val in color_map:\n",
        "        return f\"background-color: {color_map[val]}\"  # Apply the color for duplicates\n",
        "    return \"\"  # No styling for non-duplicates\n",
        "\n",
        "\n",
        "# Step 4: Apply the styling\n",
        "styled_df = df.style.map(lambda val: highlight_duplicates(val, color_map))\n",
        "\n",
        "# Show the styled DataFrame\n",
        "styled_df"
      ]
    },
    {
      "cell_type": "markdown",
      "metadata": {
        "id": "6kwbb2beDs1U"
      },
      "source": [
        "Значения таргета присутствуют в фичах, каждый раз на новом месте, много раз, строки как бы \"сдвигаются\". В чем может быть дело?\n",
        "\n",
        "Решая некоторые соревнования, мы сами создаем такие фичи. Что это за соревнования? Что за данные в них даются?\n",
        "\n",
        "...\n",
        "\n",
        "Это предыдущие значения таргета в time-series данных.\n",
        "\n",
        "Что можно сделать с этим? Связать одни time-series, сгруппировать, посчитать более сложные фичи, и тд, посмотреть нет ли лика между трейном и тестом, и тд."
      ]
    },
    {
      "cell_type": "markdown",
      "metadata": {
        "id": "U_xxywT_Ds1U"
      },
      "source": [
        "## EDA: Future sales"
      ]
    },
    {
      "cell_type": "markdown",
      "metadata": {
        "id": "GgBj5Si5Ds1U"
      },
      "source": [
        "https://www.kaggle.com/competitions/competitive-data-science-predict-future-sales"
      ]
    },
    {
      "cell_type": "code",
      "execution_count": null,
      "metadata": {
        "id": "CIqJMJDsDs1V",
        "outputId": "6af305e1-9956-457c-f558-1b06337c1496"
      },
      "outputs": [
        {
          "name": "stderr",
          "output_type": "stream",
          "text": [
            "/var/folders/g1/pqlz2v0n31qf11b5gjgjjcn00000gn/T/ipykernel_48333/2699862274.py:1: FutureWarning: The argument 'date_parser' is deprecated and will be removed in a future version. Please use 'date_format' instead, or read your data in as 'object' dtype and then call 'to_datetime'.\n",
            "  train_sales = pd.read_csv(\n"
          ]
        }
      ],
      "source": [
        "train_sales = pd.read_csv(\n",
        "    \"../data/future-sales/sales_train.csv\",\n",
        "    parse_dates=[\"date\"],\n",
        "    date_parser=lambda x: datetime.strptime(x, \"%d.%m.%Y\"),\n",
        ")\n",
        "\n",
        "test = pd.read_csv(\"../data/future-sales/test.csv\")\n",
        "\n",
        "sample_submission = pd.read_csv(\"../data/future-sales/sample_submission.csv\")"
      ]
    },
    {
      "cell_type": "code",
      "execution_count": null,
      "metadata": {
        "id": "BvQzQB3VDs1V",
        "outputId": "84664fb2-c5e1-49e4-a11c-eb3f695d498e"
      },
      "outputs": [
        {
          "data": {
            "text/html": [
              "<div>\n",
              "<style scoped>\n",
              "    .dataframe tbody tr th:only-of-type {\n",
              "        vertical-align: middle;\n",
              "    }\n",
              "\n",
              "    .dataframe tbody tr th {\n",
              "        vertical-align: top;\n",
              "    }\n",
              "\n",
              "    .dataframe thead th {\n",
              "        text-align: right;\n",
              "    }\n",
              "</style>\n",
              "<table border=\"1\" class=\"dataframe\">\n",
              "  <thead>\n",
              "    <tr style=\"text-align: right;\">\n",
              "      <th></th>\n",
              "      <th>date</th>\n",
              "      <th>date_block_num</th>\n",
              "      <th>shop_id</th>\n",
              "      <th>item_id</th>\n",
              "      <th>item_price</th>\n",
              "      <th>item_cnt_day</th>\n",
              "    </tr>\n",
              "  </thead>\n",
              "  <tbody>\n",
              "    <tr>\n",
              "      <th>0</th>\n",
              "      <td>2013-01-02</td>\n",
              "      <td>0</td>\n",
              "      <td>59</td>\n",
              "      <td>22154</td>\n",
              "      <td>999.00</td>\n",
              "      <td>1.0</td>\n",
              "    </tr>\n",
              "    <tr>\n",
              "      <th>1</th>\n",
              "      <td>2013-01-03</td>\n",
              "      <td>0</td>\n",
              "      <td>25</td>\n",
              "      <td>2552</td>\n",
              "      <td>899.00</td>\n",
              "      <td>1.0</td>\n",
              "    </tr>\n",
              "    <tr>\n",
              "      <th>2</th>\n",
              "      <td>2013-01-05</td>\n",
              "      <td>0</td>\n",
              "      <td>25</td>\n",
              "      <td>2552</td>\n",
              "      <td>899.00</td>\n",
              "      <td>-1.0</td>\n",
              "    </tr>\n",
              "    <tr>\n",
              "      <th>3</th>\n",
              "      <td>2013-01-06</td>\n",
              "      <td>0</td>\n",
              "      <td>25</td>\n",
              "      <td>2554</td>\n",
              "      <td>1709.05</td>\n",
              "      <td>1.0</td>\n",
              "    </tr>\n",
              "    <tr>\n",
              "      <th>4</th>\n",
              "      <td>2013-01-15</td>\n",
              "      <td>0</td>\n",
              "      <td>25</td>\n",
              "      <td>2555</td>\n",
              "      <td>1099.00</td>\n",
              "      <td>1.0</td>\n",
              "    </tr>\n",
              "  </tbody>\n",
              "</table>\n",
              "</div>"
            ],
            "text/plain": [
              "        date  date_block_num  shop_id  item_id  item_price  item_cnt_day\n",
              "0 2013-01-02               0       59    22154      999.00           1.0\n",
              "1 2013-01-03               0       25     2552      899.00           1.0\n",
              "2 2013-01-05               0       25     2552      899.00          -1.0\n",
              "3 2013-01-06               0       25     2554     1709.05           1.0\n",
              "4 2013-01-15               0       25     2555     1099.00           1.0"
            ]
          },
          "execution_count": 133,
          "metadata": {},
          "output_type": "execute_result"
        }
      ],
      "source": [
        "train_sales.head()"
      ]
    },
    {
      "cell_type": "code",
      "execution_count": null,
      "metadata": {
        "id": "NyHsrKFEDs1W",
        "outputId": "253135c4-4ccb-44a2-848a-64ef9d3bc8aa"
      },
      "outputs": [
        {
          "data": {
            "text/html": [
              "<div>\n",
              "<style scoped>\n",
              "    .dataframe tbody tr th:only-of-type {\n",
              "        vertical-align: middle;\n",
              "    }\n",
              "\n",
              "    .dataframe tbody tr th {\n",
              "        vertical-align: top;\n",
              "    }\n",
              "\n",
              "    .dataframe thead th {\n",
              "        text-align: right;\n",
              "    }\n",
              "</style>\n",
              "<table border=\"1\" class=\"dataframe\">\n",
              "  <thead>\n",
              "    <tr style=\"text-align: right;\">\n",
              "      <th></th>\n",
              "      <th>ID</th>\n",
              "      <th>shop_id</th>\n",
              "      <th>item_id</th>\n",
              "    </tr>\n",
              "  </thead>\n",
              "  <tbody>\n",
              "    <tr>\n",
              "      <th>0</th>\n",
              "      <td>0</td>\n",
              "      <td>5</td>\n",
              "      <td>5037</td>\n",
              "    </tr>\n",
              "    <tr>\n",
              "      <th>1</th>\n",
              "      <td>1</td>\n",
              "      <td>5</td>\n",
              "      <td>5320</td>\n",
              "    </tr>\n",
              "    <tr>\n",
              "      <th>2</th>\n",
              "      <td>2</td>\n",
              "      <td>5</td>\n",
              "      <td>5233</td>\n",
              "    </tr>\n",
              "    <tr>\n",
              "      <th>3</th>\n",
              "      <td>3</td>\n",
              "      <td>5</td>\n",
              "      <td>5232</td>\n",
              "    </tr>\n",
              "    <tr>\n",
              "      <th>4</th>\n",
              "      <td>4</td>\n",
              "      <td>5</td>\n",
              "      <td>5268</td>\n",
              "    </tr>\n",
              "  </tbody>\n",
              "</table>\n",
              "</div>"
            ],
            "text/plain": [
              "   ID  shop_id  item_id\n",
              "0   0        5     5037\n",
              "1   1        5     5320\n",
              "2   2        5     5233\n",
              "3   3        5     5232\n",
              "4   4        5     5268"
            ]
          },
          "execution_count": 134,
          "metadata": {},
          "output_type": "execute_result"
        }
      ],
      "source": [
        "test.head()"
      ]
    },
    {
      "cell_type": "code",
      "execution_count": null,
      "metadata": {
        "id": "VFuMsf1pDs1X",
        "outputId": "cd03d9e9-0fc2-4a48-dbc7-1ba3d1276d39"
      },
      "outputs": [
        {
          "data": {
            "text/html": [
              "<div>\n",
              "<style scoped>\n",
              "    .dataframe tbody tr th:only-of-type {\n",
              "        vertical-align: middle;\n",
              "    }\n",
              "\n",
              "    .dataframe tbody tr th {\n",
              "        vertical-align: top;\n",
              "    }\n",
              "\n",
              "    .dataframe thead th {\n",
              "        text-align: right;\n",
              "    }\n",
              "</style>\n",
              "<table border=\"1\" class=\"dataframe\">\n",
              "  <thead>\n",
              "    <tr style=\"text-align: right;\">\n",
              "      <th></th>\n",
              "      <th>ID</th>\n",
              "      <th>item_cnt_month</th>\n",
              "    </tr>\n",
              "  </thead>\n",
              "  <tbody>\n",
              "    <tr>\n",
              "      <th>0</th>\n",
              "      <td>0</td>\n",
              "      <td>0.5</td>\n",
              "    </tr>\n",
              "    <tr>\n",
              "      <th>1</th>\n",
              "      <td>1</td>\n",
              "      <td>0.5</td>\n",
              "    </tr>\n",
              "    <tr>\n",
              "      <th>2</th>\n",
              "      <td>2</td>\n",
              "      <td>0.5</td>\n",
              "    </tr>\n",
              "    <tr>\n",
              "      <th>3</th>\n",
              "      <td>3</td>\n",
              "      <td>0.5</td>\n",
              "    </tr>\n",
              "    <tr>\n",
              "      <th>4</th>\n",
              "      <td>4</td>\n",
              "      <td>0.5</td>\n",
              "    </tr>\n",
              "  </tbody>\n",
              "</table>\n",
              "</div>"
            ],
            "text/plain": [
              "   ID  item_cnt_month\n",
              "0   0             0.5\n",
              "1   1             0.5\n",
              "2   2             0.5\n",
              "3   3             0.5\n",
              "4   4             0.5"
            ]
          },
          "execution_count": 135,
          "metadata": {},
          "output_type": "execute_result"
        }
      ],
      "source": [
        "sample_submission.head()"
      ]
    },
    {
      "cell_type": "markdown",
      "metadata": {
        "id": "7n0xWQmVDs1X"
      },
      "source": [
        "in `train_sales` there are item_cnt_day, but we must predict for month\n",
        "\n",
        "let's aggregate"
      ]
    },
    {
      "cell_type": "code",
      "execution_count": null,
      "metadata": {
        "id": "oAyMgoPiDs1Y",
        "outputId": "47a3b12a-d90d-42c7-a729-bdc82fc4ba68"
      },
      "outputs": [
        {
          "data": {
            "text/html": [
              "<div>\n",
              "<style scoped>\n",
              "    .dataframe tbody tr th:only-of-type {\n",
              "        vertical-align: middle;\n",
              "    }\n",
              "\n",
              "    .dataframe tbody tr th {\n",
              "        vertical-align: top;\n",
              "    }\n",
              "\n",
              "    .dataframe thead th {\n",
              "        text-align: right;\n",
              "    }\n",
              "</style>\n",
              "<table border=\"1\" class=\"dataframe\">\n",
              "  <thead>\n",
              "    <tr style=\"text-align: right;\">\n",
              "      <th></th>\n",
              "      <th>date_block_num</th>\n",
              "      <th>shop_id</th>\n",
              "      <th>item_id</th>\n",
              "      <th>item_cnt_month</th>\n",
              "    </tr>\n",
              "  </thead>\n",
              "  <tbody>\n",
              "    <tr>\n",
              "      <th>0</th>\n",
              "      <td>0</td>\n",
              "      <td>0</td>\n",
              "      <td>32</td>\n",
              "      <td>6.0</td>\n",
              "    </tr>\n",
              "    <tr>\n",
              "      <th>1</th>\n",
              "      <td>0</td>\n",
              "      <td>0</td>\n",
              "      <td>33</td>\n",
              "      <td>3.0</td>\n",
              "    </tr>\n",
              "    <tr>\n",
              "      <th>2</th>\n",
              "      <td>0</td>\n",
              "      <td>0</td>\n",
              "      <td>35</td>\n",
              "      <td>1.0</td>\n",
              "    </tr>\n",
              "    <tr>\n",
              "      <th>3</th>\n",
              "      <td>0</td>\n",
              "      <td>0</td>\n",
              "      <td>43</td>\n",
              "      <td>1.0</td>\n",
              "    </tr>\n",
              "    <tr>\n",
              "      <th>4</th>\n",
              "      <td>0</td>\n",
              "      <td>0</td>\n",
              "      <td>51</td>\n",
              "      <td>2.0</td>\n",
              "    </tr>\n",
              "  </tbody>\n",
              "</table>\n",
              "</div>"
            ],
            "text/plain": [
              "   date_block_num  shop_id  item_id  item_cnt_month\n",
              "0               0        0       32             6.0\n",
              "1               0        0       33             3.0\n",
              "2               0        0       35             1.0\n",
              "3               0        0       43             1.0\n",
              "4               0        0       51             2.0"
            ]
          },
          "execution_count": 136,
          "metadata": {},
          "output_type": "execute_result"
        }
      ],
      "source": [
        "target_col = \"item_cnt_month\"\n",
        "\n",
        "train_sales_month = (\n",
        "    train_sales.groupby([\"date_block_num\", \"shop_id\", \"item_id\"])[\"item_cnt_day\"]\n",
        "    .sum()\n",
        "    .reset_index()\n",
        "    .rename(columns={\"item_cnt_day\": target_col})\n",
        ")\n",
        "train_sales_month[target_col] = train_sales_month[target_col].clip(0, 20)\n",
        "train_sales_month.head()"
      ]
    },
    {
      "cell_type": "code",
      "execution_count": null,
      "metadata": {
        "id": "7OdOR8cSDs1Z",
        "outputId": "7b7aa034-10dd-446c-fe2b-8c5521cfaeb1"
      },
      "outputs": [
        {
          "data": {
            "text/plain": [
              "shop_id\n",
              "0    3600\n",
              "1    2523\n",
              "2    4849\n",
              "3    5261\n",
              "4    7309\n",
              "Name: item_id, dtype: int64"
            ]
          },
          "execution_count": 137,
          "metadata": {},
          "output_type": "execute_result"
        }
      ],
      "source": [
        "train_sales.groupby([\"shop_id\"])[\"item_id\"].nunique().head()"
      ]
    },
    {
      "cell_type": "code",
      "execution_count": null,
      "metadata": {
        "id": "rKy0RiKLDs1Z",
        "outputId": "094b94dd-b32d-402a-adde-e8a18b7f8be3"
      },
      "outputs": [
        {
          "name": "stdout",
          "output_type": "stream",
          "text": [
            "Train shops in test (ratio): 0.7\n",
            "Test shops in train (ratio): 1.0\n"
          ]
        }
      ],
      "source": [
        "print(\"Train shops in test (ratio):\", pd.Series(train_sales[\"shop_id\"].unique()).isin(test[\"shop_id\"].unique()).mean())\n",
        "print(\"Test shops in train (ratio):\", pd.Series(test[\"shop_id\"].unique()).isin(train_sales[\"shop_id\"].unique()).mean())"
      ]
    },
    {
      "cell_type": "code",
      "execution_count": null,
      "metadata": {
        "id": "3BHw5oJBDs1a",
        "outputId": "6d8d4d8f-93d6-42ed-d5bb-1819655ed45d"
      },
      "outputs": [
        {
          "name": "stdout",
          "output_type": "stream",
          "text": [
            "Train items in test (ratio): 0.21722382721144587\n",
            "Test items in train (ratio): 0.9288235294117647\n"
          ]
        }
      ],
      "source": [
        "print(\"Train items in test (ratio):\", pd.Series(train_sales[\"item_id\"].unique()).isin(test[\"item_id\"].unique()).mean())\n",
        "print(\"Test items in train (ratio):\", pd.Series(test[\"item_id\"].unique()).isin(train_sales[\"item_id\"].unique()).mean())"
      ]
    },
    {
      "cell_type": "code",
      "execution_count": null,
      "metadata": {
        "id": "dyzpyVYIDs1a",
        "outputId": "5b7dd23d-6984-4457-cf47-ee30a35e6592"
      },
      "outputs": [
        {
          "data": {
            "text/plain": [
              "shop_id\n",
              "2    5100\n",
              "3    5100\n",
              "4    5100\n",
              "5    5100\n",
              "6    5100\n",
              "Name: item_id, dtype: int64"
            ]
          },
          "execution_count": 140,
          "metadata": {},
          "output_type": "execute_result"
        }
      ],
      "source": [
        "test.groupby([\"shop_id\"])[\"item_id\"].nunique().head()"
      ]
    },
    {
      "cell_type": "markdown",
      "metadata": {
        "id": "BeL3roE9Ds1b"
      },
      "source": [
        "how to be with local validation? At least not `train_test_split` (because of time structure)"
      ]
    },
    {
      "cell_type": "code",
      "execution_count": null,
      "metadata": {
        "id": "3_ngenjXDs1b"
      },
      "outputs": [],
      "source": [
        "train = train_sales_month[train_sales_month[\"date_block_num\"] < 33].copy()\n",
        "oos = train_sales_month[train_sales_month[\"date_block_num\"] == 33].copy()"
      ]
    },
    {
      "cell_type": "code",
      "execution_count": null,
      "metadata": {
        "id": "NVCzO3zBDs1b"
      },
      "outputs": [],
      "source": [
        "item_features = pd.read_csv(\"../data/future-sales/items.csv\")\n",
        "shop_features = pd.read_csv(\"../data/future-sales/shops.csv\")\n",
        "item_categories = pd.read_csv(\"../data/future-sales/item_categories.csv\")"
      ]
    },
    {
      "cell_type": "code",
      "execution_count": null,
      "metadata": {
        "id": "CXvtC01yDs1c",
        "outputId": "1c0a3ce0-3c20-4888-81d3-15594829cd0e"
      },
      "outputs": [
        {
          "data": {
            "text/html": [
              "<div>\n",
              "<style scoped>\n",
              "    .dataframe tbody tr th:only-of-type {\n",
              "        vertical-align: middle;\n",
              "    }\n",
              "\n",
              "    .dataframe tbody tr th {\n",
              "        vertical-align: top;\n",
              "    }\n",
              "\n",
              "    .dataframe thead th {\n",
              "        text-align: right;\n",
              "    }\n",
              "</style>\n",
              "<table border=\"1\" class=\"dataframe\">\n",
              "  <thead>\n",
              "    <tr style=\"text-align: right;\">\n",
              "      <th></th>\n",
              "      <th>item_name</th>\n",
              "      <th>item_id</th>\n",
              "      <th>item_category_id</th>\n",
              "    </tr>\n",
              "  </thead>\n",
              "  <tbody>\n",
              "    <tr>\n",
              "      <th>0</th>\n",
              "      <td>! ВО ВЛАСТИ НАВАЖДЕНИЯ (ПЛАСТ.)         D</td>\n",
              "      <td>0</td>\n",
              "      <td>40</td>\n",
              "    </tr>\n",
              "    <tr>\n",
              "      <th>1</th>\n",
              "      <td>!ABBYY FineReader 12 Professional Edition Full...</td>\n",
              "      <td>1</td>\n",
              "      <td>76</td>\n",
              "    </tr>\n",
              "    <tr>\n",
              "      <th>2</th>\n",
              "      <td>***В ЛУЧАХ СЛАВЫ   (UNV)                    D</td>\n",
              "      <td>2</td>\n",
              "      <td>40</td>\n",
              "    </tr>\n",
              "    <tr>\n",
              "      <th>3</th>\n",
              "      <td>***ГОЛУБАЯ ВОЛНА  (Univ)                      D</td>\n",
              "      <td>3</td>\n",
              "      <td>40</td>\n",
              "    </tr>\n",
              "    <tr>\n",
              "      <th>4</th>\n",
              "      <td>***КОРОБКА (СТЕКЛО)                       D</td>\n",
              "      <td>4</td>\n",
              "      <td>40</td>\n",
              "    </tr>\n",
              "  </tbody>\n",
              "</table>\n",
              "</div>"
            ],
            "text/plain": [
              "                                           item_name  item_id  \\\n",
              "0          ! ВО ВЛАСТИ НАВАЖДЕНИЯ (ПЛАСТ.)         D        0   \n",
              "1  !ABBYY FineReader 12 Professional Edition Full...        1   \n",
              "2      ***В ЛУЧАХ СЛАВЫ   (UNV)                    D        2   \n",
              "3    ***ГОЛУБАЯ ВОЛНА  (Univ)                      D        3   \n",
              "4        ***КОРОБКА (СТЕКЛО)                       D        4   \n",
              "\n",
              "   item_category_id  \n",
              "0                40  \n",
              "1                76  \n",
              "2                40  \n",
              "3                40  \n",
              "4                40  "
            ]
          },
          "execution_count": 143,
          "metadata": {},
          "output_type": "execute_result"
        }
      ],
      "source": [
        "item_features.head()"
      ]
    },
    {
      "cell_type": "code",
      "execution_count": null,
      "metadata": {
        "id": "dMEx5dVMDs1c",
        "outputId": "24cf4374-0024-4e53-b770-7e0907941e88"
      },
      "outputs": [
        {
          "data": {
            "text/html": [
              "<div>\n",
              "<style scoped>\n",
              "    .dataframe tbody tr th:only-of-type {\n",
              "        vertical-align: middle;\n",
              "    }\n",
              "\n",
              "    .dataframe tbody tr th {\n",
              "        vertical-align: top;\n",
              "    }\n",
              "\n",
              "    .dataframe thead th {\n",
              "        text-align: right;\n",
              "    }\n",
              "</style>\n",
              "<table border=\"1\" class=\"dataframe\">\n",
              "  <thead>\n",
              "    <tr style=\"text-align: right;\">\n",
              "      <th></th>\n",
              "      <th>shop_name</th>\n",
              "      <th>shop_id</th>\n",
              "    </tr>\n",
              "  </thead>\n",
              "  <tbody>\n",
              "    <tr>\n",
              "      <th>0</th>\n",
              "      <td>!Якутск Орджоникидзе, 56 фран</td>\n",
              "      <td>0</td>\n",
              "    </tr>\n",
              "    <tr>\n",
              "      <th>1</th>\n",
              "      <td>!Якутск ТЦ \"Центральный\" фран</td>\n",
              "      <td>1</td>\n",
              "    </tr>\n",
              "    <tr>\n",
              "      <th>2</th>\n",
              "      <td>Адыгея ТЦ \"Мега\"</td>\n",
              "      <td>2</td>\n",
              "    </tr>\n",
              "    <tr>\n",
              "      <th>3</th>\n",
              "      <td>Балашиха ТРК \"Октябрь-Киномир\"</td>\n",
              "      <td>3</td>\n",
              "    </tr>\n",
              "    <tr>\n",
              "      <th>4</th>\n",
              "      <td>Волжский ТЦ \"Волга Молл\"</td>\n",
              "      <td>4</td>\n",
              "    </tr>\n",
              "  </tbody>\n",
              "</table>\n",
              "</div>"
            ],
            "text/plain": [
              "                        shop_name  shop_id\n",
              "0   !Якутск Орджоникидзе, 56 фран        0\n",
              "1   !Якутск ТЦ \"Центральный\" фран        1\n",
              "2                Адыгея ТЦ \"Мега\"        2\n",
              "3  Балашиха ТРК \"Октябрь-Киномир\"        3\n",
              "4        Волжский ТЦ \"Волга Молл\"        4"
            ]
          },
          "execution_count": 144,
          "metadata": {},
          "output_type": "execute_result"
        }
      ],
      "source": [
        "shop_features.head()"
      ]
    },
    {
      "cell_type": "code",
      "execution_count": null,
      "metadata": {
        "id": "YtadWN2WDs1c",
        "outputId": "e02dc3cf-8923-475c-c116-547ba3cfd41f"
      },
      "outputs": [
        {
          "data": {
            "text/html": [
              "<div>\n",
              "<style scoped>\n",
              "    .dataframe tbody tr th:only-of-type {\n",
              "        vertical-align: middle;\n",
              "    }\n",
              "\n",
              "    .dataframe tbody tr th {\n",
              "        vertical-align: top;\n",
              "    }\n",
              "\n",
              "    .dataframe thead th {\n",
              "        text-align: right;\n",
              "    }\n",
              "</style>\n",
              "<table border=\"1\" class=\"dataframe\">\n",
              "  <thead>\n",
              "    <tr style=\"text-align: right;\">\n",
              "      <th></th>\n",
              "      <th>item_category_name</th>\n",
              "      <th>item_category_id</th>\n",
              "    </tr>\n",
              "  </thead>\n",
              "  <tbody>\n",
              "    <tr>\n",
              "      <th>0</th>\n",
              "      <td>PC - Гарнитуры/Наушники</td>\n",
              "      <td>0</td>\n",
              "    </tr>\n",
              "    <tr>\n",
              "      <th>1</th>\n",
              "      <td>Аксессуары - PS2</td>\n",
              "      <td>1</td>\n",
              "    </tr>\n",
              "    <tr>\n",
              "      <th>2</th>\n",
              "      <td>Аксессуары - PS3</td>\n",
              "      <td>2</td>\n",
              "    </tr>\n",
              "    <tr>\n",
              "      <th>3</th>\n",
              "      <td>Аксессуары - PS4</td>\n",
              "      <td>3</td>\n",
              "    </tr>\n",
              "    <tr>\n",
              "      <th>4</th>\n",
              "      <td>Аксессуары - PSP</td>\n",
              "      <td>4</td>\n",
              "    </tr>\n",
              "  </tbody>\n",
              "</table>\n",
              "</div>"
            ],
            "text/plain": [
              "        item_category_name  item_category_id\n",
              "0  PC - Гарнитуры/Наушники                 0\n",
              "1         Аксессуары - PS2                 1\n",
              "2         Аксессуары - PS3                 2\n",
              "3         Аксессуары - PS4                 3\n",
              "4         Аксессуары - PSP                 4"
            ]
          },
          "execution_count": 145,
          "metadata": {},
          "output_type": "execute_result"
        }
      ],
      "source": [
        "item_categories.head()"
      ]
    },
    {
      "cell_type": "markdown",
      "metadata": {
        "id": "9NBEBC6_Ds1d"
      },
      "source": [
        "simple features"
      ]
    },
    {
      "cell_type": "code",
      "execution_count": null,
      "metadata": {
        "id": "sAIb6UPuDs1d",
        "outputId": "bdf25c70-ed8c-42bf-90c3-f4f305df55be"
      },
      "outputs": [
        {
          "name": "stdout",
          "output_type": "stream",
          "text": [
            "Cities: ['Якутск' 'Адыгея' 'Балашиха' 'Волжский' 'Вологда' 'Воронеж' 'Выездная'\n",
            " 'Жуковский' 'Интернет-магазин' 'Казань' 'Калуга' 'Коломна' 'Красноярск'\n",
            " 'Курск' 'Москва' 'Мытищи' 'Н.Новгород' 'Новосибирск' 'Омск'\n",
            " 'РостовНаДону' 'СПб' 'Самара' 'Сергиев' 'Сургут' 'Томск' 'Тюмень' 'Уфа'\n",
            " 'Химки' 'Цифровой' 'Чехов' 'Ярославль']\n"
          ]
        }
      ],
      "source": [
        "print(\"Cities:\", shop_features[\"shop_name\"].str.split(\" \").str[0].str.strip(\"!\").unique())\n",
        "shop_features[\"shop_city\"] = (\n",
        "    shop_features[\"shop_name\"].str.split(\" \").str[0].str.strip(\"!\")\n",
        ")"
      ]
    },
    {
      "cell_type": "code",
      "execution_count": null,
      "metadata": {
        "id": "A1g3081vDs1d",
        "outputId": "b1f50222-7240-485b-fd26-0ccf3703404f"
      },
      "outputs": [
        {
          "data": {
            "text/html": [
              "<div>\n",
              "<style scoped>\n",
              "    .dataframe tbody tr th:only-of-type {\n",
              "        vertical-align: middle;\n",
              "    }\n",
              "\n",
              "    .dataframe tbody tr th {\n",
              "        vertical-align: top;\n",
              "    }\n",
              "\n",
              "    .dataframe thead th {\n",
              "        text-align: right;\n",
              "    }\n",
              "</style>\n",
              "<table border=\"1\" class=\"dataframe\">\n",
              "  <thead>\n",
              "    <tr style=\"text-align: right;\">\n",
              "      <th></th>\n",
              "      <th>item_category_id</th>\n",
              "      <th>shop_city</th>\n",
              "      <th>mean_item_price</th>\n",
              "      <th>item_cnt_month</th>\n",
              "    </tr>\n",
              "  </thead>\n",
              "  <tbody>\n",
              "    <tr>\n",
              "      <th>0</th>\n",
              "      <td>40</td>\n",
              "      <td>Якутск</td>\n",
              "      <td>249.629240</td>\n",
              "      <td>6.0</td>\n",
              "    </tr>\n",
              "    <tr>\n",
              "      <th>1</th>\n",
              "      <td>37</td>\n",
              "      <td>Якутск</td>\n",
              "      <td>252.831928</td>\n",
              "      <td>3.0</td>\n",
              "    </tr>\n",
              "    <tr>\n",
              "      <th>2</th>\n",
              "      <td>40</td>\n",
              "      <td>Якутск</td>\n",
              "      <td>375.828056</td>\n",
              "      <td>1.0</td>\n",
              "    </tr>\n",
              "    <tr>\n",
              "      <th>3</th>\n",
              "      <td>40</td>\n",
              "      <td>Якутск</td>\n",
              "      <td>167.222222</td>\n",
              "      <td>1.0</td>\n",
              "    </tr>\n",
              "    <tr>\n",
              "      <th>4</th>\n",
              "      <td>57</td>\n",
              "      <td>Якутск</td>\n",
              "      <td>265.708333</td>\n",
              "      <td>2.0</td>\n",
              "    </tr>\n",
              "  </tbody>\n",
              "</table>\n",
              "</div>"
            ],
            "text/plain": [
              "   item_category_id shop_city  mean_item_price  item_cnt_month\n",
              "0                40    Якутск       249.629240             6.0\n",
              "1                37    Якутск       252.831928             3.0\n",
              "2                40    Якутск       375.828056             1.0\n",
              "3                40    Якутск       167.222222             1.0\n",
              "4                57    Якутск       265.708333             2.0"
            ]
          },
          "execution_count": 147,
          "metadata": {},
          "output_type": "execute_result"
        }
      ],
      "source": [
        "mean_item_price = train_sales.groupby(\"item_id\")[\"item_price\"].mean()\n",
        "\n",
        "\n",
        "train_featured = train.merge(\n",
        "    item_features[[\"item_id\", \"item_category_id\"]], on=\"item_id\", how=\"left\"\n",
        ").merge(shop_features[[\"shop_id\", \"shop_city\"]], on=\"shop_id\")\n",
        "train_featured[\"mean_item_price\"] = train_featured[\"item_id\"].map(mean_item_price)\n",
        "\n",
        "oos_featured = oos.merge(\n",
        "    item_features[[\"item_id\", \"item_category_id\"]], on=\"item_id\", how=\"left\"\n",
        ").merge(shop_features[[\"shop_id\", \"shop_city\"]], on=\"shop_id\")\n",
        "oos_featured[\"mean_item_price\"] = oos_featured[\"item_id\"].map(mean_item_price)\n",
        "\n",
        "test_featured = test.merge(\n",
        "    item_features[[\"item_id\", \"item_category_id\"]], on=\"item_id\", how=\"left\"\n",
        ").merge(shop_features[[\"shop_id\", \"shop_city\"]], on=\"shop_id\")\n",
        "test_featured[\"mean_item_price\"] = test_featured[\"item_id\"].map(mean_item_price)\n",
        "\n",
        "\n",
        "simple_features = [\"item_category_id\", \"shop_city\", \"mean_item_price\"]\n",
        "simple_cat_features = [\"item_category_id\", \"shop_city\"]\n",
        "\n",
        "train_featured[simple_features + [target_col]].head()"
      ]
    },
    {
      "cell_type": "code",
      "execution_count": null,
      "metadata": {
        "id": "t1Wf-XY5Ds1f",
        "outputId": "12ecf506-6293-4b73-d479-9fdab13a2ffc"
      },
      "outputs": [
        {
          "data": {
            "text/html": [
              "<div>\n",
              "<style scoped>\n",
              "    .dataframe tbody tr th:only-of-type {\n",
              "        vertical-align: middle;\n",
              "    }\n",
              "\n",
              "    .dataframe tbody tr th {\n",
              "        vertical-align: top;\n",
              "    }\n",
              "\n",
              "    .dataframe thead th {\n",
              "        text-align: right;\n",
              "    }\n",
              "</style>\n",
              "<table border=\"1\" class=\"dataframe\">\n",
              "  <thead>\n",
              "    <tr style=\"text-align: right;\">\n",
              "      <th></th>\n",
              "      <th>item_category_id</th>\n",
              "      <th>shop_city</th>\n",
              "      <th>mean_item_price</th>\n",
              "      <th>item_cnt_month</th>\n",
              "    </tr>\n",
              "  </thead>\n",
              "  <tbody>\n",
              "    <tr>\n",
              "      <th>0</th>\n",
              "      <td>40</td>\n",
              "      <td>Якутск</td>\n",
              "      <td>250.818200</td>\n",
              "      <td>6.0</td>\n",
              "    </tr>\n",
              "    <tr>\n",
              "      <th>1</th>\n",
              "      <td>37</td>\n",
              "      <td>Якутск</td>\n",
              "      <td>253.939189</td>\n",
              "      <td>3.0</td>\n",
              "    </tr>\n",
              "    <tr>\n",
              "      <th>2</th>\n",
              "      <td>40</td>\n",
              "      <td>Якутск</td>\n",
              "      <td>375.828056</td>\n",
              "      <td>1.0</td>\n",
              "    </tr>\n",
              "    <tr>\n",
              "      <th>3</th>\n",
              "      <td>40</td>\n",
              "      <td>Якутск</td>\n",
              "      <td>167.222222</td>\n",
              "      <td>1.0</td>\n",
              "    </tr>\n",
              "    <tr>\n",
              "      <th>4</th>\n",
              "      <td>57</td>\n",
              "      <td>Якутск</td>\n",
              "      <td>265.413717</td>\n",
              "      <td>2.0</td>\n",
              "    </tr>\n",
              "  </tbody>\n",
              "</table>\n",
              "</div>"
            ],
            "text/plain": [
              "   item_category_id shop_city  mean_item_price  item_cnt_month\n",
              "0                40    Якутск       250.818200             6.0\n",
              "1                37    Якутск       253.939189             3.0\n",
              "2                40    Якутск       375.828056             1.0\n",
              "3                40    Якутск       167.222222             1.0\n",
              "4                57    Якутск       265.413717             2.0"
            ]
          },
          "execution_count": 148,
          "metadata": {},
          "output_type": "execute_result"
        }
      ],
      "source": [
        "# < 33 чтобы не допустить лика\n",
        "mean_item_price = train_sales[train_sales[\"date_block_num\"] < 33].groupby(\"item_id\")[\"item_price\"].mean()\n",
        "\n",
        "\n",
        "train_featured = train.merge(\n",
        "    item_features[[\"item_id\", \"item_category_id\"]], on=\"item_id\", how=\"left\"\n",
        ").merge(shop_features[[\"shop_id\", \"shop_city\"]], on=\"shop_id\")\n",
        "train_featured[\"mean_item_price\"] = train_featured[\"item_id\"].map(mean_item_price)\n",
        "\n",
        "oos_featured = oos.merge(\n",
        "    item_features[[\"item_id\", \"item_category_id\"]], on=\"item_id\", how=\"left\"\n",
        ").merge(shop_features[[\"shop_id\", \"shop_city\"]], on=\"shop_id\")\n",
        "oos_featured[\"mean_item_price\"] = oos_featured[\"item_id\"].map(mean_item_price)\n",
        "\n",
        "test_featured = test.merge(\n",
        "    item_features[[\"item_id\", \"item_category_id\"]], on=\"item_id\", how=\"left\"\n",
        ").merge(shop_features[[\"shop_id\", \"shop_city\"]], on=\"shop_id\")\n",
        "test_featured[\"mean_item_price\"] = test_featured[\"item_id\"].map(mean_item_price)\n",
        "\n",
        "\n",
        "simple_features = [\"item_category_id\", \"shop_city\", \"mean_item_price\"]\n",
        "simple_cat_features = [\"item_category_id\", \"shop_city\"]\n",
        "\n",
        "train_featured[simple_features + [target_col]].head()"
      ]
    },
    {
      "cell_type": "markdown",
      "metadata": {
        "id": "P6lJBkyiDs1h"
      },
      "source": [
        "Simple Catboost:"
      ]
    },
    {
      "cell_type": "code",
      "execution_count": null,
      "metadata": {
        "id": "FfnXDoxLDs1k"
      },
      "outputs": [],
      "source": [
        "ctb = CatBoostRegressor(\n",
        "    verbose=100,\n",
        "    iterations=500,\n",
        "    thread_count=6,\n",
        "    allow_writing_files=False,\n",
        "    cat_features=simple_cat_features,\n",
        ")"
      ]
    },
    {
      "cell_type": "code",
      "execution_count": null,
      "metadata": {
        "id": "yu2UpVdqDs1m",
        "outputId": "038cf598-6fef-4e25-ee3d-549e12bd147e"
      },
      "outputs": [
        {
          "name": "stdout",
          "output_type": "stream",
          "text": [
            "Learning rate set to 0.23025\n",
            "0:\tlearn: 2.5054775\ttotal: 160ms\tremaining: 1m 19s\n",
            "100:\tlearn: 2.2769185\ttotal: 10.1s\tremaining: 39.8s\n",
            "200:\tlearn: 2.2525670\ttotal: 21.1s\tremaining: 31.4s\n",
            "300:\tlearn: 2.2404197\ttotal: 31.9s\tremaining: 21.1s\n",
            "400:\tlearn: 2.2310718\ttotal: 43.1s\tremaining: 10.6s\n",
            "499:\tlearn: 2.2254983\ttotal: 54.7s\tremaining: 0us\n"
          ]
        },
        {
          "data": {
            "text/plain": [
              "<catboost.core.CatBoostRegressor at 0x12818b880>"
            ]
          },
          "execution_count": 150,
          "metadata": {},
          "output_type": "execute_result"
        }
      ],
      "source": [
        "ctb.fit(train_featured[simple_features], train[target_col])"
      ]
    },
    {
      "cell_type": "code",
      "execution_count": null,
      "metadata": {
        "id": "Laa-zc17Ds1n",
        "outputId": "5d70b6e7-2cbc-4b5f-eace-ae4d1ca29b6e"
      },
      "outputs": [
        {
          "data": {
            "text/plain": [
              "2.4254376290548953"
            ]
          },
          "execution_count": 151,
          "metadata": {},
          "output_type": "execute_result"
        }
      ],
      "source": [
        "mean_squared_error(\n",
        "    oos_featured[target_col], ctb.predict(oos_featured[simple_features])\n",
        ") ** 0.5"
      ]
    },
    {
      "cell_type": "code",
      "execution_count": null,
      "metadata": {
        "id": "6HFjhhg3Ds1o"
      },
      "outputs": [],
      "source": [
        "submission = pd.DataFrame(\n",
        "    {\n",
        "        \"ID\": test_featured[\"ID\"],\n",
        "        \"item_cnt_month\": ctb.predict(test_featured[simple_features]),\n",
        "    }\n",
        ")\n",
        "submission.to_csv(\"first_submission.csv\", index=False)"
      ]
    },
    {
      "cell_type": "markdown",
      "metadata": {
        "id": "-tE9xM0-Ds1p"
      },
      "source": [
        "![image.png](attachment:c548263f-7162-4b14-a51e-7e79d5fed8fe.png)"
      ]
    },
    {
      "cell_type": "markdown",
      "metadata": {
        "id": "L3SlUAGKDs1p"
      },
      "source": [
        "`train_sales` is huge, but not huge enough. Why?"
      ]
    },
    {
      "cell_type": "code",
      "execution_count": null,
      "metadata": {
        "id": "Otmu1gk8Ds1p",
        "outputId": "11235a10-6017-4c20-ac7e-a34a6fdf8304"
      },
      "outputs": [
        {
          "data": {
            "text/plain": [
              "(2935849, 6)"
            ]
          },
          "execution_count": 158,
          "metadata": {},
          "output_type": "execute_result"
        }
      ],
      "source": [
        "train_sales.shape"
      ]
    },
    {
      "cell_type": "code",
      "execution_count": null,
      "metadata": {
        "id": "v1qKXo41Ds1q",
        "outputId": "1042923f-309a-4f16-9266-0d65f12328f5"
      },
      "outputs": [
        {
          "data": {
            "text/plain": [
              "<Axes: >"
            ]
          },
          "execution_count": 163,
          "metadata": {},
          "output_type": "execute_result"
        },
        {
          "data": {
            "image/png": "[encoded data removed]",
            "text/plain": [
              "<Figure size 600x200 with 1 Axes>"
            ]
          },
          "metadata": {},
          "output_type": "display_data"
        }
      ],
      "source": [
        "train[target_col].hist(bins=train[target_col].nunique(), figsize=(6, 2))"
      ]
    },
    {
      "cell_type": "code",
      "execution_count": null,
      "metadata": {
        "id": "V4fFvf9RDs1q",
        "outputId": "e8c7599d-49b4-4036-b533-a31754cd3089"
      },
      "outputs": [
        {
          "data": {
            "text/plain": [
              "item_cnt_month\n",
              "0.0        3438\n",
              "1.0     1037474\n",
              "2.0      260432\n",
              "3.0      101320\n",
              "4.0       52368\n",
              "5.0       31392\n",
              "6.0       20390\n",
              "7.0       13834\n",
              "8.0       10272\n",
              "9.0        7402\n",
              "10.0       5910\n",
              "11.0       4418\n",
              "12.0       3651\n",
              "13.0       2997\n",
              "14.0       2402\n",
              "15.0       2026\n",
              "16.0       1716\n",
              "17.0       1556\n",
              "18.0       1272\n",
              "19.0       1092\n",
              "20.0      12231\n",
              "Name: count, dtype: int64"
            ]
          },
          "execution_count": 157,
          "metadata": {},
          "output_type": "execute_result"
        }
      ],
      "source": [
        "train[target_col].value_counts().sort_index()"
      ]
    },
    {
      "cell_type": "code",
      "execution_count": null,
      "metadata": {
        "id": "-LcjtCjfDs1q",
        "outputId": "f25a365a-950f-43d6-8384-dd0797302408"
      },
      "outputs": [
        {
          "data": {
            "text/html": [
              "<div>\n",
              "<style scoped>\n",
              "    .dataframe tbody tr th:only-of-type {\n",
              "        vertical-align: middle;\n",
              "    }\n",
              "\n",
              "    .dataframe tbody tr th {\n",
              "        vertical-align: top;\n",
              "    }\n",
              "\n",
              "    .dataframe thead th {\n",
              "        text-align: right;\n",
              "    }\n",
              "</style>\n",
              "<table border=\"1\" class=\"dataframe\">\n",
              "  <thead>\n",
              "    <tr style=\"text-align: right;\">\n",
              "      <th></th>\n",
              "      <th>shop_id</th>\n",
              "      <th>0</th>\n",
              "      <th>1</th>\n",
              "      <th>2</th>\n",
              "      <th>3</th>\n",
              "      <th>4</th>\n",
              "      <th>5</th>\n",
              "      <th>6</th>\n",
              "      <th>7</th>\n",
              "      <th>8</th>\n",
              "      <th>9</th>\n",
              "      <th>...</th>\n",
              "      <th>50</th>\n",
              "      <th>51</th>\n",
              "      <th>52</th>\n",
              "      <th>53</th>\n",
              "      <th>54</th>\n",
              "      <th>55</th>\n",
              "      <th>56</th>\n",
              "      <th>57</th>\n",
              "      <th>58</th>\n",
              "      <th>59</th>\n",
              "    </tr>\n",
              "    <tr>\n",
              "      <th>date_block_num</th>\n",
              "      <th>item_id</th>\n",
              "      <th></th>\n",
              "      <th></th>\n",
              "      <th></th>\n",
              "      <th></th>\n",
              "      <th></th>\n",
              "      <th></th>\n",
              "      <th></th>\n",
              "      <th></th>\n",
              "      <th></th>\n",
              "      <th></th>\n",
              "      <th></th>\n",
              "      <th></th>\n",
              "      <th></th>\n",
              "      <th></th>\n",
              "      <th></th>\n",
              "      <th></th>\n",
              "      <th></th>\n",
              "      <th></th>\n",
              "      <th></th>\n",
              "      <th></th>\n",
              "      <th></th>\n",
              "    </tr>\n",
              "  </thead>\n",
              "  <tbody>\n",
              "    <tr>\n",
              "      <th rowspan=\"5\" valign=\"top\">0</th>\n",
              "      <th>19</th>\n",
              "      <td>NaN</td>\n",
              "      <td>NaN</td>\n",
              "      <td>NaN</td>\n",
              "      <td>NaN</td>\n",
              "      <td>NaN</td>\n",
              "      <td>NaN</td>\n",
              "      <td>NaN</td>\n",
              "      <td>NaN</td>\n",
              "      <td>NaN</td>\n",
              "      <td>NaN</td>\n",
              "      <td>...</td>\n",
              "      <td>NaN</td>\n",
              "      <td>NaN</td>\n",
              "      <td>NaN</td>\n",
              "      <td>NaN</td>\n",
              "      <td>NaN</td>\n",
              "      <td>NaN</td>\n",
              "      <td>NaN</td>\n",
              "      <td>NaN</td>\n",
              "      <td>NaN</td>\n",
              "      <td>NaN</td>\n",
              "    </tr>\n",
              "    <tr>\n",
              "      <th>27</th>\n",
              "      <td>NaN</td>\n",
              "      <td>1.000000</td>\n",
              "      <td>1.0</td>\n",
              "      <td>NaN</td>\n",
              "      <td>NaN</td>\n",
              "      <td>NaN</td>\n",
              "      <td>NaN</td>\n",
              "      <td>NaN</td>\n",
              "      <td>NaN</td>\n",
              "      <td>NaN</td>\n",
              "      <td>...</td>\n",
              "      <td>NaN</td>\n",
              "      <td>NaN</td>\n",
              "      <td>NaN</td>\n",
              "      <td>NaN</td>\n",
              "      <td>NaN</td>\n",
              "      <td>NaN</td>\n",
              "      <td>NaN</td>\n",
              "      <td>NaN</td>\n",
              "      <td>NaN</td>\n",
              "      <td>NaN</td>\n",
              "    </tr>\n",
              "    <tr>\n",
              "      <th>28</th>\n",
              "      <td>NaN</td>\n",
              "      <td>NaN</td>\n",
              "      <td>NaN</td>\n",
              "      <td>NaN</td>\n",
              "      <td>NaN</td>\n",
              "      <td>NaN</td>\n",
              "      <td>NaN</td>\n",
              "      <td>NaN</td>\n",
              "      <td>NaN</td>\n",
              "      <td>NaN</td>\n",
              "      <td>...</td>\n",
              "      <td>NaN</td>\n",
              "      <td>NaN</td>\n",
              "      <td>NaN</td>\n",
              "      <td>NaN</td>\n",
              "      <td>NaN</td>\n",
              "      <td>NaN</td>\n",
              "      <td>NaN</td>\n",
              "      <td>NaN</td>\n",
              "      <td>NaN</td>\n",
              "      <td>NaN</td>\n",
              "    </tr>\n",
              "    <tr>\n",
              "      <th>29</th>\n",
              "      <td>NaN</td>\n",
              "      <td>1.000000</td>\n",
              "      <td>NaN</td>\n",
              "      <td>NaN</td>\n",
              "      <td>NaN</td>\n",
              "      <td>NaN</td>\n",
              "      <td>NaN</td>\n",
              "      <td>NaN</td>\n",
              "      <td>NaN</td>\n",
              "      <td>NaN</td>\n",
              "      <td>...</td>\n",
              "      <td>0.0</td>\n",
              "      <td>NaN</td>\n",
              "      <td>NaN</td>\n",
              "      <td>NaN</td>\n",
              "      <td>NaN</td>\n",
              "      <td>NaN</td>\n",
              "      <td>NaN</td>\n",
              "      <td>NaN</td>\n",
              "      <td>NaN</td>\n",
              "      <td>NaN</td>\n",
              "    </tr>\n",
              "    <tr>\n",
              "      <th>32</th>\n",
              "      <td>1.5</td>\n",
              "      <td>1.166667</td>\n",
              "      <td>NaN</td>\n",
              "      <td>1.0</td>\n",
              "      <td>1.0</td>\n",
              "      <td>NaN</td>\n",
              "      <td>1.333333</td>\n",
              "      <td>1.0</td>\n",
              "      <td>NaN</td>\n",
              "      <td>NaN</td>\n",
              "      <td>...</td>\n",
              "      <td>NaN</td>\n",
              "      <td>1.0</td>\n",
              "      <td>1.0</td>\n",
              "      <td>1.0</td>\n",
              "      <td>1.4</td>\n",
              "      <td>NaN</td>\n",
              "      <td>1.111111</td>\n",
              "      <td>NaN</td>\n",
              "      <td>NaN</td>\n",
              "      <td>1.0</td>\n",
              "    </tr>\n",
              "    <tr>\n",
              "      <th>...</th>\n",
              "      <th>...</th>\n",
              "      <td>...</td>\n",
              "      <td>...</td>\n",
              "      <td>...</td>\n",
              "      <td>...</td>\n",
              "      <td>...</td>\n",
              "      <td>...</td>\n",
              "      <td>...</td>\n",
              "      <td>...</td>\n",
              "      <td>...</td>\n",
              "      <td>...</td>\n",
              "      <td>...</td>\n",
              "      <td>...</td>\n",
              "      <td>...</td>\n",
              "      <td>...</td>\n",
              "      <td>...</td>\n",
              "      <td>...</td>\n",
              "      <td>...</td>\n",
              "      <td>...</td>\n",
              "      <td>...</td>\n",
              "      <td>...</td>\n",
              "      <td>...</td>\n",
              "    </tr>\n",
              "    <tr>\n",
              "      <th rowspan=\"5\" valign=\"top\">33</th>\n",
              "      <th>22162</th>\n",
              "      <td>NaN</td>\n",
              "      <td>NaN</td>\n",
              "      <td>NaN</td>\n",
              "      <td>NaN</td>\n",
              "      <td>NaN</td>\n",
              "      <td>NaN</td>\n",
              "      <td>NaN</td>\n",
              "      <td>NaN</td>\n",
              "      <td>NaN</td>\n",
              "      <td>NaN</td>\n",
              "      <td>...</td>\n",
              "      <td>NaN</td>\n",
              "      <td>NaN</td>\n",
              "      <td>NaN</td>\n",
              "      <td>NaN</td>\n",
              "      <td>NaN</td>\n",
              "      <td>NaN</td>\n",
              "      <td>NaN</td>\n",
              "      <td>NaN</td>\n",
              "      <td>1.0</td>\n",
              "      <td>NaN</td>\n",
              "    </tr>\n",
              "    <tr>\n",
              "      <th>22163</th>\n",
              "      <td>NaN</td>\n",
              "      <td>NaN</td>\n",
              "      <td>NaN</td>\n",
              "      <td>NaN</td>\n",
              "      <td>NaN</td>\n",
              "      <td>1.0</td>\n",
              "      <td>NaN</td>\n",
              "      <td>NaN</td>\n",
              "      <td>NaN</td>\n",
              "      <td>NaN</td>\n",
              "      <td>...</td>\n",
              "      <td>NaN</td>\n",
              "      <td>NaN</td>\n",
              "      <td>1.0</td>\n",
              "      <td>1.0</td>\n",
              "      <td>NaN</td>\n",
              "      <td>NaN</td>\n",
              "      <td>NaN</td>\n",
              "      <td>1.0</td>\n",
              "      <td>1.0</td>\n",
              "      <td>NaN</td>\n",
              "    </tr>\n",
              "    <tr>\n",
              "      <th>22164</th>\n",
              "      <td>NaN</td>\n",
              "      <td>NaN</td>\n",
              "      <td>NaN</td>\n",
              "      <td>1.0</td>\n",
              "      <td>NaN</td>\n",
              "      <td>1.0</td>\n",
              "      <td>NaN</td>\n",
              "      <td>NaN</td>\n",
              "      <td>NaN</td>\n",
              "      <td>NaN</td>\n",
              "      <td>...</td>\n",
              "      <td>NaN</td>\n",
              "      <td>NaN</td>\n",
              "      <td>1.0</td>\n",
              "      <td>NaN</td>\n",
              "      <td>NaN</td>\n",
              "      <td>NaN</td>\n",
              "      <td>NaN</td>\n",
              "      <td>NaN</td>\n",
              "      <td>NaN</td>\n",
              "      <td>NaN</td>\n",
              "    </tr>\n",
              "    <tr>\n",
              "      <th>22166</th>\n",
              "      <td>NaN</td>\n",
              "      <td>NaN</td>\n",
              "      <td>NaN</td>\n",
              "      <td>NaN</td>\n",
              "      <td>NaN</td>\n",
              "      <td>NaN</td>\n",
              "      <td>NaN</td>\n",
              "      <td>NaN</td>\n",
              "      <td>NaN</td>\n",
              "      <td>NaN</td>\n",
              "      <td>...</td>\n",
              "      <td>NaN</td>\n",
              "      <td>NaN</td>\n",
              "      <td>NaN</td>\n",
              "      <td>NaN</td>\n",
              "      <td>NaN</td>\n",
              "      <td>1.833333</td>\n",
              "      <td>NaN</td>\n",
              "      <td>NaN</td>\n",
              "      <td>NaN</td>\n",
              "      <td>NaN</td>\n",
              "    </tr>\n",
              "    <tr>\n",
              "      <th>22167</th>\n",
              "      <td>NaN</td>\n",
              "      <td>NaN</td>\n",
              "      <td>NaN</td>\n",
              "      <td>NaN</td>\n",
              "      <td>NaN</td>\n",
              "      <td>NaN</td>\n",
              "      <td>1.000000</td>\n",
              "      <td>NaN</td>\n",
              "      <td>NaN</td>\n",
              "      <td>NaN</td>\n",
              "      <td>...</td>\n",
              "      <td>1.0</td>\n",
              "      <td>NaN</td>\n",
              "      <td>NaN</td>\n",
              "      <td>NaN</td>\n",
              "      <td>NaN</td>\n",
              "      <td>NaN</td>\n",
              "      <td>NaN</td>\n",
              "      <td>NaN</td>\n",
              "      <td>NaN</td>\n",
              "      <td>NaN</td>\n",
              "    </tr>\n",
              "  </tbody>\n",
              "</table>\n",
              "<p>233912 rows × 60 columns</p>\n",
              "</div>"
            ],
            "text/plain": [
              "shop_id                  0         1    2    3    4    5         6    7   8   \\\n",
              "date_block_num item_id                                                         \n",
              "0              19       NaN       NaN  NaN  NaN  NaN  NaN       NaN  NaN NaN   \n",
              "               27       NaN  1.000000  1.0  NaN  NaN  NaN       NaN  NaN NaN   \n",
              "               28       NaN       NaN  NaN  NaN  NaN  NaN       NaN  NaN NaN   \n",
              "               29       NaN  1.000000  NaN  NaN  NaN  NaN       NaN  NaN NaN   \n",
              "               32       1.5  1.166667  NaN  1.0  1.0  NaN  1.333333  1.0 NaN   \n",
              "...                     ...       ...  ...  ...  ...  ...       ...  ...  ..   \n",
              "33             22162    NaN       NaN  NaN  NaN  NaN  NaN       NaN  NaN NaN   \n",
              "               22163    NaN       NaN  NaN  NaN  NaN  1.0       NaN  NaN NaN   \n",
              "               22164    NaN       NaN  NaN  1.0  NaN  1.0       NaN  NaN NaN   \n",
              "               22166    NaN       NaN  NaN  NaN  NaN  NaN       NaN  NaN NaN   \n",
              "               22167    NaN       NaN  NaN  NaN  NaN  NaN  1.000000  NaN NaN   \n",
              "\n",
              "shop_id                 9   ...   50   51   52   53   54        55        56  \\\n",
              "date_block_num item_id      ...                                                \n",
              "0              19      NaN  ...  NaN  NaN  NaN  NaN  NaN       NaN       NaN   \n",
              "               27      NaN  ...  NaN  NaN  NaN  NaN  NaN       NaN       NaN   \n",
              "               28      NaN  ...  NaN  NaN  NaN  NaN  NaN       NaN       NaN   \n",
              "               29      NaN  ...  0.0  NaN  NaN  NaN  NaN       NaN       NaN   \n",
              "               32      NaN  ...  NaN  1.0  1.0  1.0  1.4       NaN  1.111111   \n",
              "...                     ..  ...  ...  ...  ...  ...  ...       ...       ...   \n",
              "33             22162   NaN  ...  NaN  NaN  NaN  NaN  NaN       NaN       NaN   \n",
              "               22163   NaN  ...  NaN  NaN  1.0  1.0  NaN       NaN       NaN   \n",
              "               22164   NaN  ...  NaN  NaN  1.0  NaN  NaN       NaN       NaN   \n",
              "               22166   NaN  ...  NaN  NaN  NaN  NaN  NaN  1.833333       NaN   \n",
              "               22167   NaN  ...  1.0  NaN  NaN  NaN  NaN       NaN       NaN   \n",
              "\n",
              "shop_id                  57   58   59  \n",
              "date_block_num item_id                 \n",
              "0              19       NaN  NaN  NaN  \n",
              "               27       NaN  NaN  NaN  \n",
              "               28       NaN  NaN  NaN  \n",
              "               29       NaN  NaN  NaN  \n",
              "               32       NaN  NaN  1.0  \n",
              "...                     ...  ...  ...  \n",
              "33             22162    NaN  1.0  NaN  \n",
              "               22163    1.0  1.0  NaN  \n",
              "               22164    NaN  NaN  NaN  \n",
              "               22166    NaN  NaN  NaN  \n",
              "               22167    NaN  NaN  NaN  \n",
              "\n",
              "[233912 rows x 60 columns]"
            ]
          },
          "execution_count": 164,
          "metadata": {},
          "output_type": "execute_result"
        }
      ],
      "source": [
        "train_sales.pivot_table(\n",
        "    values=\"item_cnt_day\", columns=[\"shop_id\"], index=[\"date_block_num\", \"item_id\"]\n",
        ")"
      ]
    },
    {
      "cell_type": "markdown",
      "metadata": {
        "id": "-DGaNTYYDs1r"
      },
      "source": [
        "cartesian product trick (how to do this without `for` loop)"
      ]
    },
    {
      "cell_type": "code",
      "execution_count": null,
      "metadata": {
        "id": "fp2vpwLsDs1r"
      },
      "outputs": [],
      "source": [
        "cols = [\"date_block_num\", \"shop_id\", \"item_id\"]\n",
        "train_sales_cart = []\n",
        "for i in range(34):\n",
        "    sales = train_sales_month[train_sales_month.date_block_num == i]\n",
        "    train_sales_cart.append(\n",
        "        np.array(\n",
        "            list(product([i], sales.shop_id.unique(), sales.item_id.unique())),\n",
        "            dtype=\"int16\",\n",
        "        )\n",
        "    )\n",
        "\n",
        "train_sales_cart = pd.DataFrame(np.vstack(train_sales_cart), columns=cols)\n",
        "train_sales_cart[\"date_block_num\"] = train_sales_cart[\"date_block_num\"].astype(np.int8)\n",
        "train_sales_cart[\"shop_id\"] = train_sales_cart[\"shop_id\"].astype(np.int8)\n",
        "train_sales_cart[\"item_id\"] = train_sales_cart[\"item_id\"].astype(np.int16)\n",
        "train_sales_cart = train_sales_cart.sort_values(cols)\n",
        "\n",
        "train_sales_cart = pd.merge(train_sales_cart, train_sales_month, on=cols, how=\"left\")\n",
        "train_sales_cart[\"item_cnt_month\"] = (\n",
        "    train_sales_cart[\"item_cnt_month\"].fillna(0).clip(0, 20).astype(np.float16)\n",
        ")"
      ]
    },
    {
      "cell_type": "code",
      "execution_count": null,
      "metadata": {
        "id": "sVbfD9GrDs1s"
      },
      "outputs": [],
      "source": [
        "train_sales_cart[\"item_cnt_month\"] = (\n",
        "    train_sales_cart[\"item_cnt_month\"].fillna(0).clip(0, 20).astype(np.float16)\n",
        ")"
      ]
    },
    {
      "cell_type": "code",
      "execution_count": null,
      "metadata": {
        "id": "DlmgToKCDs1s"
      },
      "outputs": [],
      "source": [
        "train_cart = train_sales_cart[train_sales_cart[\"date_block_num\"] < 33].copy()\n",
        "oos_cart = train_sales_cart[train_sales_cart[\"date_block_num\"] == 33].copy()"
      ]
    },
    {
      "cell_type": "code",
      "execution_count": null,
      "metadata": {
        "id": "inwpMCSwDs1s",
        "outputId": "25626286-75fe-411c-de20-616d0c8e06df"
      },
      "outputs": [
        {
          "data": {
            "text/plain": [
              "<Axes: xlabel='item_cnt_month'>"
            ]
          },
          "execution_count": 191,
          "metadata": {},
          "output_type": "execute_result"
        },
        {
          "data": {
            "image/png": "[encoded data removed]",
            "text/plain": [
              "<Figure size 600x200 with 1 Axes>"
            ]
          },
          "metadata": {},
          "output_type": "display_data"
        }
      ],
      "source": [
        "train_cart[target_col].value_counts().sort_index().plot(figsize=(6, 2))\n",
        "train[target_col].value_counts().sort_index().plot()"
      ]
    },
    {
      "cell_type": "code",
      "execution_count": null,
      "metadata": {
        "id": "aFHbUws7Ds1t"
      },
      "outputs": [],
      "source": [
        "train_featured = train_cart.merge(\n",
        "    item_features[[\"item_id\", \"item_category_id\"]], on=\"item_id\", how=\"left\"\n",
        ").merge(shop_features[[\"shop_id\", \"shop_city\"]], on=\"shop_id\")\n",
        "train_featured[\"mean_item_price\"] = train_featured[\"item_id\"].map(mean_item_price)\n",
        "\n",
        "\n",
        "oos_featured = oos_cart.merge(\n",
        "    item_features[[\"item_id\", \"item_category_id\"]], on=\"item_id\", how=\"left\"\n",
        ").merge(shop_features[[\"shop_id\", \"shop_city\"]], on=\"shop_id\")\n",
        "oos_featured[\"mean_item_price\"] = oos_featured[\"item_id\"].map(mean_item_price)"
      ]
    },
    {
      "cell_type": "code",
      "execution_count": null,
      "metadata": {
        "id": "0Kwtv0_UDs1t"
      },
      "outputs": [],
      "source": [
        "ctb = CatBoostRegressor(\n",
        "    verbose=40,\n",
        "    iterations=200,\n",
        "    thread_count=6,\n",
        "    allow_writing_files=False,\n",
        "    cat_features=simple_cat_features,\n",
        ")"
      ]
    },
    {
      "cell_type": "code",
      "execution_count": null,
      "metadata": {
        "id": "13fW7SOuDs1u",
        "outputId": "bacbec1c-e6f1-4507-dc50-d835c4182d7b"
      },
      "outputs": [
        {
          "name": "stdout",
          "output_type": "stream",
          "text": [
            "Learning rate set to 0.5\n",
            "0:\tlearn: 1.1802732\ttotal: 1.08s\tremaining: 3m 35s\n",
            "40:\tlearn: 1.1189953\ttotal: 30.8s\tremaining: 1m 59s\n",
            "80:\tlearn: 1.1113898\ttotal: 1m 6s\tremaining: 1m 37s\n",
            "120:\tlearn: 1.1067322\ttotal: 1m 42s\tremaining: 1m 6s\n",
            "160:\tlearn: 1.1033079\ttotal: 2m 16s\tremaining: 33.1s\n",
            "199:\tlearn: 1.1004450\ttotal: 2m 50s\tremaining: 0us\n"
          ]
        },
        {
          "data": {
            "text/plain": [
              "<catboost.core.CatBoostRegressor at 0x178bed2a0>"
            ]
          },
          "execution_count": 170,
          "metadata": {},
          "output_type": "execute_result"
        }
      ],
      "source": [
        "ctb.fit(train_featured[simple_features], train_featured[target_col])"
      ]
    },
    {
      "cell_type": "code",
      "execution_count": null,
      "metadata": {
        "id": "Pn_nudQgDs1v",
        "outputId": "c40377e4-cdf2-47d4-8b15-ea0f730ecf32"
      },
      "outputs": [
        {
          "data": {
            "text/plain": [
              "1.1081334097428905"
            ]
          },
          "execution_count": 171,
          "metadata": {},
          "output_type": "execute_result"
        }
      ],
      "source": [
        "mean_squared_error(\n",
        "    oos_featured[target_col], ctb.predict(oos_featured[simple_features])\n",
        ") ** 0.5"
      ]
    },
    {
      "cell_type": "code",
      "execution_count": null,
      "metadata": {
        "id": "4gz7M7_nDs1w"
      },
      "outputs": [],
      "source": [
        "submission = pd.DataFrame(\n",
        "    {\n",
        "        \"ID\": test_featured[\"ID\"],\n",
        "        \"item_cnt_month\": ctb.predict(test_featured[simple_features]),\n",
        "    }\n",
        ")\n",
        "submission.to_csv(\"second_submission.csv\", index=False)"
      ]
    },
    {
      "cell_type": "markdown",
      "metadata": {
        "id": "0OVpY0u5Ds1y"
      },
      "source": [
        "![image.png](attachment:b589a75f-ae1d-47d0-b188-cfc6dff36b5a.png)"
      ]
    },
    {
      "cell_type": "markdown",
      "metadata": {
        "id": "kL8YfJ_oDs1z"
      },
      "source": [
        "what to do:\n",
        "* generate more cool features\n",
        "* fix target encoding overfitting\n",
        "* so on"
      ]
    },
    {
      "cell_type": "markdown",
      "metadata": {
        "id": "X177-LGRDs10"
      },
      "source": [
        "## EDA: Yet another fraud detection (IEEE-CIS)"
      ]
    },
    {
      "cell_type": "markdown",
      "metadata": {
        "id": "zgZ7VJ0JDs11"
      },
      "source": [
        "https://www.kaggle.com/competitions/ieee-fraud-detection\n",
        "\n",
        "Can you detect fraud from customer transactions?\n",
        "\n",
        "Пример хорошего EDA.\n",
        "\n",
        "Сэмпл в данных - транзакция по карте, нужно предсказать, фрод это или нет. Метрика снова ROC AUC."
      ]
    },
    {
      "cell_type": "code",
      "execution_count": null,
      "metadata": {
        "id": "mo_5RhVLDs12",
        "outputId": "5c6bcbe7-7184-452e-9609-6c3d6dfac29c"
      },
      "outputs": [
        {
          "data": {
            "text/html": [
              "<div>\n",
              "<style scoped>\n",
              "    .dataframe tbody tr th:only-of-type {\n",
              "        vertical-align: middle;\n",
              "    }\n",
              "\n",
              "    .dataframe tbody tr th {\n",
              "        vertical-align: top;\n",
              "    }\n",
              "\n",
              "    .dataframe thead th {\n",
              "        text-align: right;\n",
              "    }\n",
              "</style>\n",
              "<table border=\"1\" class=\"dataframe\">\n",
              "  <thead>\n",
              "    <tr style=\"text-align: right;\">\n",
              "      <th></th>\n",
              "      <th>TransactionID</th>\n",
              "      <th>isFraud</th>\n",
              "      <th>TransactionDT</th>\n",
              "      <th>TransactionAmt</th>\n",
              "      <th>ProductCD</th>\n",
              "      <th>card1</th>\n",
              "      <th>card2</th>\n",
              "      <th>card3</th>\n",
              "      <th>card4</th>\n",
              "      <th>card5</th>\n",
              "      <th>...</th>\n",
              "      <th>V330</th>\n",
              "      <th>V331</th>\n",
              "      <th>V332</th>\n",
              "      <th>V333</th>\n",
              "      <th>V334</th>\n",
              "      <th>V335</th>\n",
              "      <th>V336</th>\n",
              "      <th>V337</th>\n",
              "      <th>V338</th>\n",
              "      <th>V339</th>\n",
              "    </tr>\n",
              "  </thead>\n",
              "  <tbody>\n",
              "    <tr>\n",
              "      <th>0</th>\n",
              "      <td>2987000</td>\n",
              "      <td>0</td>\n",
              "      <td>86400</td>\n",
              "      <td>68.500</td>\n",
              "      <td>W</td>\n",
              "      <td>13926</td>\n",
              "      <td>NaN</td>\n",
              "      <td>150.0</td>\n",
              "      <td>discover</td>\n",
              "      <td>142.0</td>\n",
              "      <td>...</td>\n",
              "      <td>NaN</td>\n",
              "      <td>NaN</td>\n",
              "      <td>NaN</td>\n",
              "      <td>NaN</td>\n",
              "      <td>NaN</td>\n",
              "      <td>NaN</td>\n",
              "      <td>NaN</td>\n",
              "      <td>NaN</td>\n",
              "      <td>NaN</td>\n",
              "      <td>NaN</td>\n",
              "    </tr>\n",
              "    <tr>\n",
              "      <th>1</th>\n",
              "      <td>2987001</td>\n",
              "      <td>0</td>\n",
              "      <td>86401</td>\n",
              "      <td>29.000</td>\n",
              "      <td>W</td>\n",
              "      <td>2755</td>\n",
              "      <td>404.0</td>\n",
              "      <td>150.0</td>\n",
              "      <td>mastercard</td>\n",
              "      <td>102.0</td>\n",
              "      <td>...</td>\n",
              "      <td>NaN</td>\n",
              "      <td>NaN</td>\n",
              "      <td>NaN</td>\n",
              "      <td>NaN</td>\n",
              "      <td>NaN</td>\n",
              "      <td>NaN</td>\n",
              "      <td>NaN</td>\n",
              "      <td>NaN</td>\n",
              "      <td>NaN</td>\n",
              "      <td>NaN</td>\n",
              "    </tr>\n",
              "    <tr>\n",
              "      <th>2</th>\n",
              "      <td>2987002</td>\n",
              "      <td>0</td>\n",
              "      <td>86469</td>\n",
              "      <td>59.000</td>\n",
              "      <td>W</td>\n",
              "      <td>4663</td>\n",
              "      <td>490.0</td>\n",
              "      <td>150.0</td>\n",
              "      <td>visa</td>\n",
              "      <td>166.0</td>\n",
              "      <td>...</td>\n",
              "      <td>NaN</td>\n",
              "      <td>NaN</td>\n",
              "      <td>NaN</td>\n",
              "      <td>NaN</td>\n",
              "      <td>NaN</td>\n",
              "      <td>NaN</td>\n",
              "      <td>NaN</td>\n",
              "      <td>NaN</td>\n",
              "      <td>NaN</td>\n",
              "      <td>NaN</td>\n",
              "    </tr>\n",
              "    <tr>\n",
              "      <th>3</th>\n",
              "      <td>2987003</td>\n",
              "      <td>0</td>\n",
              "      <td>86499</td>\n",
              "      <td>50.000</td>\n",
              "      <td>W</td>\n",
              "      <td>18132</td>\n",
              "      <td>567.0</td>\n",
              "      <td>150.0</td>\n",
              "      <td>mastercard</td>\n",
              "      <td>117.0</td>\n",
              "      <td>...</td>\n",
              "      <td>NaN</td>\n",
              "      <td>NaN</td>\n",
              "      <td>NaN</td>\n",
              "      <td>NaN</td>\n",
              "      <td>NaN</td>\n",
              "      <td>NaN</td>\n",
              "      <td>NaN</td>\n",
              "      <td>NaN</td>\n",
              "      <td>NaN</td>\n",
              "      <td>NaN</td>\n",
              "    </tr>\n",
              "    <tr>\n",
              "      <th>4</th>\n",
              "      <td>2987004</td>\n",
              "      <td>0</td>\n",
              "      <td>86506</td>\n",
              "      <td>50.000</td>\n",
              "      <td>H</td>\n",
              "      <td>4497</td>\n",
              "      <td>514.0</td>\n",
              "      <td>150.0</td>\n",
              "      <td>mastercard</td>\n",
              "      <td>102.0</td>\n",
              "      <td>...</td>\n",
              "      <td>0.0</td>\n",
              "      <td>0.0</td>\n",
              "      <td>0.0</td>\n",
              "      <td>0.0</td>\n",
              "      <td>0.0</td>\n",
              "      <td>0.0</td>\n",
              "      <td>0.0</td>\n",
              "      <td>0.0</td>\n",
              "      <td>0.0</td>\n",
              "      <td>0.0</td>\n",
              "    </tr>\n",
              "    <tr>\n",
              "      <th>5</th>\n",
              "      <td>2987005</td>\n",
              "      <td>0</td>\n",
              "      <td>86510</td>\n",
              "      <td>49.000</td>\n",
              "      <td>W</td>\n",
              "      <td>5937</td>\n",
              "      <td>555.0</td>\n",
              "      <td>150.0</td>\n",
              "      <td>visa</td>\n",
              "      <td>226.0</td>\n",
              "      <td>...</td>\n",
              "      <td>NaN</td>\n",
              "      <td>NaN</td>\n",
              "      <td>NaN</td>\n",
              "      <td>NaN</td>\n",
              "      <td>NaN</td>\n",
              "      <td>NaN</td>\n",
              "      <td>NaN</td>\n",
              "      <td>NaN</td>\n",
              "      <td>NaN</td>\n",
              "      <td>NaN</td>\n",
              "    </tr>\n",
              "    <tr>\n",
              "      <th>6</th>\n",
              "      <td>2987006</td>\n",
              "      <td>0</td>\n",
              "      <td>86522</td>\n",
              "      <td>159.000</td>\n",
              "      <td>W</td>\n",
              "      <td>12308</td>\n",
              "      <td>360.0</td>\n",
              "      <td>150.0</td>\n",
              "      <td>visa</td>\n",
              "      <td>166.0</td>\n",
              "      <td>...</td>\n",
              "      <td>NaN</td>\n",
              "      <td>NaN</td>\n",
              "      <td>NaN</td>\n",
              "      <td>NaN</td>\n",
              "      <td>NaN</td>\n",
              "      <td>NaN</td>\n",
              "      <td>NaN</td>\n",
              "      <td>NaN</td>\n",
              "      <td>NaN</td>\n",
              "      <td>NaN</td>\n",
              "    </tr>\n",
              "    <tr>\n",
              "      <th>7</th>\n",
              "      <td>2987007</td>\n",
              "      <td>0</td>\n",
              "      <td>86529</td>\n",
              "      <td>422.500</td>\n",
              "      <td>W</td>\n",
              "      <td>12695</td>\n",
              "      <td>490.0</td>\n",
              "      <td>150.0</td>\n",
              "      <td>visa</td>\n",
              "      <td>226.0</td>\n",
              "      <td>...</td>\n",
              "      <td>NaN</td>\n",
              "      <td>NaN</td>\n",
              "      <td>NaN</td>\n",
              "      <td>NaN</td>\n",
              "      <td>NaN</td>\n",
              "      <td>NaN</td>\n",
              "      <td>NaN</td>\n",
              "      <td>NaN</td>\n",
              "      <td>NaN</td>\n",
              "      <td>NaN</td>\n",
              "    </tr>\n",
              "    <tr>\n",
              "      <th>8</th>\n",
              "      <td>2987008</td>\n",
              "      <td>0</td>\n",
              "      <td>86535</td>\n",
              "      <td>15.000</td>\n",
              "      <td>H</td>\n",
              "      <td>2803</td>\n",
              "      <td>100.0</td>\n",
              "      <td>150.0</td>\n",
              "      <td>visa</td>\n",
              "      <td>226.0</td>\n",
              "      <td>...</td>\n",
              "      <td>0.0</td>\n",
              "      <td>0.0</td>\n",
              "      <td>0.0</td>\n",
              "      <td>0.0</td>\n",
              "      <td>0.0</td>\n",
              "      <td>0.0</td>\n",
              "      <td>0.0</td>\n",
              "      <td>0.0</td>\n",
              "      <td>0.0</td>\n",
              "      <td>0.0</td>\n",
              "    </tr>\n",
              "    <tr>\n",
              "      <th>9</th>\n",
              "      <td>2987009</td>\n",
              "      <td>0</td>\n",
              "      <td>86536</td>\n",
              "      <td>117.000</td>\n",
              "      <td>W</td>\n",
              "      <td>17399</td>\n",
              "      <td>111.0</td>\n",
              "      <td>150.0</td>\n",
              "      <td>mastercard</td>\n",
              "      <td>224.0</td>\n",
              "      <td>...</td>\n",
              "      <td>NaN</td>\n",
              "      <td>NaN</td>\n",
              "      <td>NaN</td>\n",
              "      <td>NaN</td>\n",
              "      <td>NaN</td>\n",
              "      <td>NaN</td>\n",
              "      <td>NaN</td>\n",
              "      <td>NaN</td>\n",
              "      <td>NaN</td>\n",
              "      <td>NaN</td>\n",
              "    </tr>\n",
              "    <tr>\n",
              "      <th>10</th>\n",
              "      <td>2987010</td>\n",
              "      <td>0</td>\n",
              "      <td>86549</td>\n",
              "      <td>75.887</td>\n",
              "      <td>C</td>\n",
              "      <td>16496</td>\n",
              "      <td>352.0</td>\n",
              "      <td>117.0</td>\n",
              "      <td>mastercard</td>\n",
              "      <td>134.0</td>\n",
              "      <td>...</td>\n",
              "      <td>NaN</td>\n",
              "      <td>NaN</td>\n",
              "      <td>NaN</td>\n",
              "      <td>NaN</td>\n",
              "      <td>NaN</td>\n",
              "      <td>NaN</td>\n",
              "      <td>NaN</td>\n",
              "      <td>NaN</td>\n",
              "      <td>NaN</td>\n",
              "      <td>NaN</td>\n",
              "    </tr>\n",
              "    <tr>\n",
              "      <th>11</th>\n",
              "      <td>2987011</td>\n",
              "      <td>0</td>\n",
              "      <td>86555</td>\n",
              "      <td>16.495</td>\n",
              "      <td>C</td>\n",
              "      <td>4461</td>\n",
              "      <td>375.0</td>\n",
              "      <td>185.0</td>\n",
              "      <td>mastercard</td>\n",
              "      <td>224.0</td>\n",
              "      <td>...</td>\n",
              "      <td>NaN</td>\n",
              "      <td>NaN</td>\n",
              "      <td>NaN</td>\n",
              "      <td>NaN</td>\n",
              "      <td>NaN</td>\n",
              "      <td>NaN</td>\n",
              "      <td>NaN</td>\n",
              "      <td>NaN</td>\n",
              "      <td>NaN</td>\n",
              "      <td>NaN</td>\n",
              "    </tr>\n",
              "    <tr>\n",
              "      <th>12</th>\n",
              "      <td>2987012</td>\n",
              "      <td>0</td>\n",
              "      <td>86564</td>\n",
              "      <td>50.000</td>\n",
              "      <td>W</td>\n",
              "      <td>3786</td>\n",
              "      <td>418.0</td>\n",
              "      <td>150.0</td>\n",
              "      <td>visa</td>\n",
              "      <td>226.0</td>\n",
              "      <td>...</td>\n",
              "      <td>NaN</td>\n",
              "      <td>NaN</td>\n",
              "      <td>NaN</td>\n",
              "      <td>NaN</td>\n",
              "      <td>NaN</td>\n",
              "      <td>NaN</td>\n",
              "      <td>NaN</td>\n",
              "      <td>NaN</td>\n",
              "      <td>NaN</td>\n",
              "      <td>NaN</td>\n",
              "    </tr>\n",
              "    <tr>\n",
              "      <th>13</th>\n",
              "      <td>2987013</td>\n",
              "      <td>0</td>\n",
              "      <td>86585</td>\n",
              "      <td>40.000</td>\n",
              "      <td>W</td>\n",
              "      <td>12866</td>\n",
              "      <td>303.0</td>\n",
              "      <td>150.0</td>\n",
              "      <td>visa</td>\n",
              "      <td>226.0</td>\n",
              "      <td>...</td>\n",
              "      <td>NaN</td>\n",
              "      <td>NaN</td>\n",
              "      <td>NaN</td>\n",
              "      <td>NaN</td>\n",
              "      <td>NaN</td>\n",
              "      <td>NaN</td>\n",
              "      <td>NaN</td>\n",
              "      <td>NaN</td>\n",
              "      <td>NaN</td>\n",
              "      <td>NaN</td>\n",
              "    </tr>\n",
              "    <tr>\n",
              "      <th>14</th>\n",
              "      <td>2987014</td>\n",
              "      <td>0</td>\n",
              "      <td>86596</td>\n",
              "      <td>10.500</td>\n",
              "      <td>W</td>\n",
              "      <td>11839</td>\n",
              "      <td>490.0</td>\n",
              "      <td>150.0</td>\n",
              "      <td>visa</td>\n",
              "      <td>226.0</td>\n",
              "      <td>...</td>\n",
              "      <td>NaN</td>\n",
              "      <td>NaN</td>\n",
              "      <td>NaN</td>\n",
              "      <td>NaN</td>\n",
              "      <td>NaN</td>\n",
              "      <td>NaN</td>\n",
              "      <td>NaN</td>\n",
              "      <td>NaN</td>\n",
              "      <td>NaN</td>\n",
              "      <td>NaN</td>\n",
              "    </tr>\n",
              "  </tbody>\n",
              "</table>\n",
              "<p>15 rows × 394 columns</p>\n",
              "</div>"
            ],
            "text/plain": [
              "    TransactionID  isFraud  TransactionDT  TransactionAmt ProductCD  card1  \\\n",
              "0         2987000        0          86400          68.500         W  13926   \n",
              "1         2987001        0          86401          29.000         W   2755   \n",
              "2         2987002        0          86469          59.000         W   4663   \n",
              "3         2987003        0          86499          50.000         W  18132   \n",
              "4         2987004        0          86506          50.000         H   4497   \n",
              "5         2987005        0          86510          49.000         W   5937   \n",
              "6         2987006        0          86522         159.000         W  12308   \n",
              "7         2987007        0          86529         422.500         W  12695   \n",
              "8         2987008        0          86535          15.000         H   2803   \n",
              "9         2987009        0          86536         117.000         W  17399   \n",
              "10        2987010        0          86549          75.887         C  16496   \n",
              "11        2987011        0          86555          16.495         C   4461   \n",
              "12        2987012        0          86564          50.000         W   3786   \n",
              "13        2987013        0          86585          40.000         W  12866   \n",
              "14        2987014        0          86596          10.500         W  11839   \n",
              "\n",
              "    card2  card3       card4  card5  ... V330  V331  V332  V333  V334 V335  \\\n",
              "0     NaN  150.0    discover  142.0  ...  NaN   NaN   NaN   NaN   NaN  NaN   \n",
              "1   404.0  150.0  mastercard  102.0  ...  NaN   NaN   NaN   NaN   NaN  NaN   \n",
              "2   490.0  150.0        visa  166.0  ...  NaN   NaN   NaN   NaN   NaN  NaN   \n",
              "3   567.0  150.0  mastercard  117.0  ...  NaN   NaN   NaN   NaN   NaN  NaN   \n",
              "4   514.0  150.0  mastercard  102.0  ...  0.0   0.0   0.0   0.0   0.0  0.0   \n",
              "5   555.0  150.0        visa  226.0  ...  NaN   NaN   NaN   NaN   NaN  NaN   \n",
              "6   360.0  150.0        visa  166.0  ...  NaN   NaN   NaN   NaN   NaN  NaN   \n",
              "7   490.0  150.0        visa  226.0  ...  NaN   NaN   NaN   NaN   NaN  NaN   \n",
              "8   100.0  150.0        visa  226.0  ...  0.0   0.0   0.0   0.0   0.0  0.0   \n",
              "9   111.0  150.0  mastercard  224.0  ...  NaN   NaN   NaN   NaN   NaN  NaN   \n",
              "10  352.0  117.0  mastercard  134.0  ...  NaN   NaN   NaN   NaN   NaN  NaN   \n",
              "11  375.0  185.0  mastercard  224.0  ...  NaN   NaN   NaN   NaN   NaN  NaN   \n",
              "12  418.0  150.0        visa  226.0  ...  NaN   NaN   NaN   NaN   NaN  NaN   \n",
              "13  303.0  150.0        visa  226.0  ...  NaN   NaN   NaN   NaN   NaN  NaN   \n",
              "14  490.0  150.0        visa  226.0  ...  NaN   NaN   NaN   NaN   NaN  NaN   \n",
              "\n",
              "   V336  V337  V338  V339  \n",
              "0   NaN   NaN   NaN   NaN  \n",
              "1   NaN   NaN   NaN   NaN  \n",
              "2   NaN   NaN   NaN   NaN  \n",
              "3   NaN   NaN   NaN   NaN  \n",
              "4   0.0   0.0   0.0   0.0  \n",
              "5   NaN   NaN   NaN   NaN  \n",
              "6   NaN   NaN   NaN   NaN  \n",
              "7   NaN   NaN   NaN   NaN  \n",
              "8   0.0   0.0   0.0   0.0  \n",
              "9   NaN   NaN   NaN   NaN  \n",
              "10  NaN   NaN   NaN   NaN  \n",
              "11  NaN   NaN   NaN   NaN  \n",
              "12  NaN   NaN   NaN   NaN  \n",
              "13  NaN   NaN   NaN   NaN  \n",
              "14  NaN   NaN   NaN   NaN  \n",
              "\n",
              "[15 rows x 394 columns]"
            ]
          },
          "metadata": {},
          "output_type": "display_data"
        }
      ],
      "source": [
        "train = pd.read_csv(\"../data/ieee-cis-antifraud/train_transaction.csv\", nrows=5000)\n",
        "train.head(15)"
      ]
    },
    {
      "cell_type": "code",
      "execution_count": null,
      "metadata": {
        "id": "D_H5CoXUDs13",
        "outputId": "f53eee42-0adf-4dd2-8e32-9aa10b2e1e93"
      },
      "outputs": [
        {
          "data": {
            "text/plain": [
              "0.0218"
            ]
          },
          "metadata": {},
          "output_type": "display_data"
        }
      ],
      "source": [
        "train[\"isFraud\"].mean()"
      ]
    },
    {
      "cell_type": "markdown",
      "metadata": {
        "id": "N39BmZfODs14"
      },
      "source": [
        "Фичи:"
      ]
    },
    {
      "cell_type": "code",
      "execution_count": null,
      "metadata": {
        "id": "vA1E4hlDDs15",
        "outputId": "65e34d3e-747a-4cde-f2f5-82a83b8d5f73"
      },
      "outputs": [
        {
          "data": {
            "text/html": [
              "<div>\n",
              "<style scoped>\n",
              "    .dataframe tbody tr th:only-of-type {\n",
              "        vertical-align: middle;\n",
              "    }\n",
              "\n",
              "    .dataframe tbody tr th {\n",
              "        vertical-align: top;\n",
              "    }\n",
              "\n",
              "    .dataframe thead th {\n",
              "        text-align: right;\n",
              "    }\n",
              "</style>\n",
              "<table border=\"1\" class=\"dataframe\">\n",
              "  <thead>\n",
              "    <tr style=\"text-align: right;\">\n",
              "      <th></th>\n",
              "      <th>TransactionID</th>\n",
              "      <th>id_01</th>\n",
              "      <th>id_02</th>\n",
              "      <th>id_03</th>\n",
              "      <th>id_04</th>\n",
              "      <th>id_05</th>\n",
              "      <th>id_06</th>\n",
              "      <th>id_07</th>\n",
              "      <th>id_08</th>\n",
              "      <th>id_09</th>\n",
              "      <th>...</th>\n",
              "      <th>id_31</th>\n",
              "      <th>id_32</th>\n",
              "      <th>id_33</th>\n",
              "      <th>id_34</th>\n",
              "      <th>id_35</th>\n",
              "      <th>id_36</th>\n",
              "      <th>id_37</th>\n",
              "      <th>id_38</th>\n",
              "      <th>DeviceType</th>\n",
              "      <th>DeviceInfo</th>\n",
              "    </tr>\n",
              "  </thead>\n",
              "  <tbody>\n",
              "    <tr>\n",
              "      <th>0</th>\n",
              "      <td>2987004</td>\n",
              "      <td>0.0</td>\n",
              "      <td>70787.0</td>\n",
              "      <td>NaN</td>\n",
              "      <td>NaN</td>\n",
              "      <td>NaN</td>\n",
              "      <td>NaN</td>\n",
              "      <td>NaN</td>\n",
              "      <td>NaN</td>\n",
              "      <td>NaN</td>\n",
              "      <td>...</td>\n",
              "      <td>samsung browser 6.2</td>\n",
              "      <td>32.0</td>\n",
              "      <td>2220x1080</td>\n",
              "      <td>match_status:2</td>\n",
              "      <td>T</td>\n",
              "      <td>F</td>\n",
              "      <td>T</td>\n",
              "      <td>T</td>\n",
              "      <td>mobile</td>\n",
              "      <td>SAMSUNG SM-G892A Build/NRD90M</td>\n",
              "    </tr>\n",
              "    <tr>\n",
              "      <th>1</th>\n",
              "      <td>2987008</td>\n",
              "      <td>-5.0</td>\n",
              "      <td>98945.0</td>\n",
              "      <td>NaN</td>\n",
              "      <td>NaN</td>\n",
              "      <td>0.0</td>\n",
              "      <td>-5.0</td>\n",
              "      <td>NaN</td>\n",
              "      <td>NaN</td>\n",
              "      <td>NaN</td>\n",
              "      <td>...</td>\n",
              "      <td>mobile safari 11.0</td>\n",
              "      <td>32.0</td>\n",
              "      <td>1334x750</td>\n",
              "      <td>match_status:1</td>\n",
              "      <td>T</td>\n",
              "      <td>F</td>\n",
              "      <td>F</td>\n",
              "      <td>T</td>\n",
              "      <td>mobile</td>\n",
              "      <td>iOS Device</td>\n",
              "    </tr>\n",
              "    <tr>\n",
              "      <th>2</th>\n",
              "      <td>2987010</td>\n",
              "      <td>-5.0</td>\n",
              "      <td>191631.0</td>\n",
              "      <td>0.0</td>\n",
              "      <td>0.0</td>\n",
              "      <td>0.0</td>\n",
              "      <td>0.0</td>\n",
              "      <td>NaN</td>\n",
              "      <td>NaN</td>\n",
              "      <td>0.0</td>\n",
              "      <td>...</td>\n",
              "      <td>chrome 62.0</td>\n",
              "      <td>NaN</td>\n",
              "      <td>NaN</td>\n",
              "      <td>NaN</td>\n",
              "      <td>F</td>\n",
              "      <td>F</td>\n",
              "      <td>T</td>\n",
              "      <td>T</td>\n",
              "      <td>desktop</td>\n",
              "      <td>Windows</td>\n",
              "    </tr>\n",
              "    <tr>\n",
              "      <th>3</th>\n",
              "      <td>2987011</td>\n",
              "      <td>-5.0</td>\n",
              "      <td>221832.0</td>\n",
              "      <td>NaN</td>\n",
              "      <td>NaN</td>\n",
              "      <td>0.0</td>\n",
              "      <td>-6.0</td>\n",
              "      <td>NaN</td>\n",
              "      <td>NaN</td>\n",
              "      <td>NaN</td>\n",
              "      <td>...</td>\n",
              "      <td>chrome 62.0</td>\n",
              "      <td>NaN</td>\n",
              "      <td>NaN</td>\n",
              "      <td>NaN</td>\n",
              "      <td>F</td>\n",
              "      <td>F</td>\n",
              "      <td>T</td>\n",
              "      <td>T</td>\n",
              "      <td>desktop</td>\n",
              "      <td>NaN</td>\n",
              "    </tr>\n",
              "    <tr>\n",
              "      <th>4</th>\n",
              "      <td>2987016</td>\n",
              "      <td>0.0</td>\n",
              "      <td>7460.0</td>\n",
              "      <td>0.0</td>\n",
              "      <td>0.0</td>\n",
              "      <td>1.0</td>\n",
              "      <td>0.0</td>\n",
              "      <td>NaN</td>\n",
              "      <td>NaN</td>\n",
              "      <td>0.0</td>\n",
              "      <td>...</td>\n",
              "      <td>chrome 62.0</td>\n",
              "      <td>24.0</td>\n",
              "      <td>1280x800</td>\n",
              "      <td>match_status:2</td>\n",
              "      <td>T</td>\n",
              "      <td>F</td>\n",
              "      <td>T</td>\n",
              "      <td>T</td>\n",
              "      <td>desktop</td>\n",
              "      <td>MacOS</td>\n",
              "    </tr>\n",
              "  </tbody>\n",
              "</table>\n",
              "<p>5 rows × 41 columns</p>\n",
              "</div>"
            ],
            "text/plain": [
              "   TransactionID  id_01     id_02  id_03  id_04  id_05  id_06  id_07  id_08  \\\n",
              "0        2987004    0.0   70787.0    NaN    NaN    NaN    NaN    NaN    NaN   \n",
              "1        2987008   -5.0   98945.0    NaN    NaN    0.0   -5.0    NaN    NaN   \n",
              "2        2987010   -5.0  191631.0    0.0    0.0    0.0    0.0    NaN    NaN   \n",
              "3        2987011   -5.0  221832.0    NaN    NaN    0.0   -6.0    NaN    NaN   \n",
              "4        2987016    0.0    7460.0    0.0    0.0    1.0    0.0    NaN    NaN   \n",
              "\n",
              "   id_09  ...                id_31  id_32      id_33           id_34  id_35  \\\n",
              "0    NaN  ...  samsung browser 6.2   32.0  2220x1080  match_status:2      T   \n",
              "1    NaN  ...   mobile safari 11.0   32.0   1334x750  match_status:1      T   \n",
              "2    0.0  ...          chrome 62.0    NaN        NaN             NaN      F   \n",
              "3    NaN  ...          chrome 62.0    NaN        NaN             NaN      F   \n",
              "4    0.0  ...          chrome 62.0   24.0   1280x800  match_status:2      T   \n",
              "\n",
              "  id_36 id_37  id_38  DeviceType                     DeviceInfo  \n",
              "0     F     T      T      mobile  SAMSUNG SM-G892A Build/NRD90M  \n",
              "1     F     F      T      mobile                     iOS Device  \n",
              "2     F     T      T     desktop                        Windows  \n",
              "3     F     T      T     desktop                            NaN  \n",
              "4     F     T      T     desktop                          MacOS  \n",
              "\n",
              "[5 rows x 41 columns]"
            ]
          },
          "metadata": {},
          "output_type": "display_data"
        }
      ],
      "source": [
        "train_identity = pd.read_csv(\"../data/ieee-cis-antifraud/train_identity.csv\")\n",
        "train_identity.head()"
      ]
    },
    {
      "cell_type": "code",
      "execution_count": null,
      "metadata": {
        "id": "iNC-aXfdDs15",
        "outputId": "9f3477b9-cee6-4411-e798-0c8b46512e4d"
      },
      "outputs": [
        {
          "data": {
            "text/html": [
              "<div>\n",
              "<style scoped>\n",
              "    .dataframe tbody tr th:only-of-type {\n",
              "        vertical-align: middle;\n",
              "    }\n",
              "\n",
              "    .dataframe tbody tr th {\n",
              "        vertical-align: top;\n",
              "    }\n",
              "\n",
              "    .dataframe thead th {\n",
              "        text-align: right;\n",
              "    }\n",
              "</style>\n",
              "<table border=\"1\" class=\"dataframe\">\n",
              "  <thead>\n",
              "    <tr style=\"text-align: right;\">\n",
              "      <th></th>\n",
              "      <th>TransactionID</th>\n",
              "      <th>isFraud</th>\n",
              "      <th>TransactionDT</th>\n",
              "      <th>TransactionAmt</th>\n",
              "      <th>card1</th>\n",
              "      <th>card2</th>\n",
              "      <th>card3</th>\n",
              "      <th>card5</th>\n",
              "      <th>addr1</th>\n",
              "      <th>addr2</th>\n",
              "      <th>...</th>\n",
              "      <th>id_17</th>\n",
              "      <th>id_18</th>\n",
              "      <th>id_19</th>\n",
              "      <th>id_20</th>\n",
              "      <th>id_21</th>\n",
              "      <th>id_22</th>\n",
              "      <th>id_24</th>\n",
              "      <th>id_25</th>\n",
              "      <th>id_26</th>\n",
              "      <th>id_32</th>\n",
              "    </tr>\n",
              "  </thead>\n",
              "  <tbody>\n",
              "    <tr>\n",
              "      <th>count</th>\n",
              "      <td>5.000000e+03</td>\n",
              "      <td>5000.000000</td>\n",
              "      <td>5000.000000</td>\n",
              "      <td>5000.000000</td>\n",
              "      <td>5000.00000</td>\n",
              "      <td>4925.000000</td>\n",
              "      <td>5000.00000</td>\n",
              "      <td>4991.000000</td>\n",
              "      <td>4607.000000</td>\n",
              "      <td>4607.000000</td>\n",
              "      <td>...</td>\n",
              "      <td>929.000000</td>\n",
              "      <td>282.000000</td>\n",
              "      <td>929.000000</td>\n",
              "      <td>929.000000</td>\n",
              "      <td>33.000000</td>\n",
              "      <td>33.000000</td>\n",
              "      <td>32.000000</td>\n",
              "      <td>33.000000</td>\n",
              "      <td>33.000000</td>\n",
              "      <td>613.000000</td>\n",
              "    </tr>\n",
              "    <tr>\n",
              "      <th>mean</th>\n",
              "      <td>2.989500e+06</td>\n",
              "      <td>0.021800</td>\n",
              "      <td>139599.938800</td>\n",
              "      <td>145.453657</td>\n",
              "      <td>9737.22360</td>\n",
              "      <td>346.486701</td>\n",
              "      <td>152.33560</td>\n",
              "      <td>200.041875</td>\n",
              "      <td>293.029954</td>\n",
              "      <td>87.011721</td>\n",
              "      <td>...</td>\n",
              "      <td>183.486545</td>\n",
              "      <td>13.851064</td>\n",
              "      <td>357.878364</td>\n",
              "      <td>396.544672</td>\n",
              "      <td>397.939394</td>\n",
              "      <td>17.242424</td>\n",
              "      <td>12.375000</td>\n",
              "      <td>347.757576</td>\n",
              "      <td>148.696970</td>\n",
              "      <td>26.675367</td>\n",
              "    </tr>\n",
              "    <tr>\n",
              "      <th>std</th>\n",
              "      <td>1.443520e+03</td>\n",
              "      <td>0.146045</td>\n",
              "      <td>24886.671042</td>\n",
              "      <td>249.892398</td>\n",
              "      <td>4744.57947</td>\n",
              "      <td>158.139981</td>\n",
              "      <td>9.15116</td>\n",
              "      <td>38.570993</td>\n",
              "      <td>103.392233</td>\n",
              "      <td>0.324618</td>\n",
              "      <td>...</td>\n",
              "      <td>28.386762</td>\n",
              "      <td>1.473061</td>\n",
              "      <td>144.374854</td>\n",
              "      <td>150.939487</td>\n",
              "      <td>234.222776</td>\n",
              "      <td>8.385368</td>\n",
              "      <td>1.930235</td>\n",
              "      <td>104.727334</td>\n",
              "      <td>30.879286</td>\n",
              "      <td>3.777383</td>\n",
              "    </tr>\n",
              "    <tr>\n",
              "      <th>min</th>\n",
              "      <td>2.987000e+06</td>\n",
              "      <td>0.000000</td>\n",
              "      <td>86400.000000</td>\n",
              "      <td>1.896000</td>\n",
              "      <td>1033.00000</td>\n",
              "      <td>100.000000</td>\n",
              "      <td>100.00000</td>\n",
              "      <td>100.000000</td>\n",
              "      <td>110.000000</td>\n",
              "      <td>87.000000</td>\n",
              "      <td>...</td>\n",
              "      <td>102.000000</td>\n",
              "      <td>12.000000</td>\n",
              "      <td>100.000000</td>\n",
              "      <td>100.000000</td>\n",
              "      <td>228.000000</td>\n",
              "      <td>14.000000</td>\n",
              "      <td>11.000000</td>\n",
              "      <td>132.000000</td>\n",
              "      <td>100.000000</td>\n",
              "      <td>24.000000</td>\n",
              "    </tr>\n",
              "    <tr>\n",
              "      <th>25%</th>\n",
              "      <td>2.988250e+06</td>\n",
              "      <td>0.000000</td>\n",
              "      <td>129170.500000</td>\n",
              "      <td>47.950000</td>\n",
              "      <td>6459.00000</td>\n",
              "      <td>194.000000</td>\n",
              "      <td>150.00000</td>\n",
              "      <td>166.000000</td>\n",
              "      <td>204.000000</td>\n",
              "      <td>87.000000</td>\n",
              "      <td>...</td>\n",
              "      <td>166.000000</td>\n",
              "      <td>13.000000</td>\n",
              "      <td>254.000000</td>\n",
              "      <td>225.000000</td>\n",
              "      <td>252.000000</td>\n",
              "      <td>14.000000</td>\n",
              "      <td>11.000000</td>\n",
              "      <td>321.000000</td>\n",
              "      <td>121.000000</td>\n",
              "      <td>24.000000</td>\n",
              "    </tr>\n",
              "    <tr>\n",
              "      <th>50%</th>\n",
              "      <td>2.989500e+06</td>\n",
              "      <td>0.000000</td>\n",
              "      <td>146625.500000</td>\n",
              "      <td>78.950000</td>\n",
              "      <td>9335.00000</td>\n",
              "      <td>321.000000</td>\n",
              "      <td>150.00000</td>\n",
              "      <td>224.000000</td>\n",
              "      <td>299.000000</td>\n",
              "      <td>87.000000</td>\n",
              "      <td>...</td>\n",
              "      <td>166.000000</td>\n",
              "      <td>13.000000</td>\n",
              "      <td>352.000000</td>\n",
              "      <td>404.000000</td>\n",
              "      <td>252.000000</td>\n",
              "      <td>14.000000</td>\n",
              "      <td>11.000000</td>\n",
              "      <td>321.000000</td>\n",
              "      <td>147.000000</td>\n",
              "      <td>24.000000</td>\n",
              "    </tr>\n",
              "    <tr>\n",
              "      <th>75%</th>\n",
              "      <td>2.990749e+06</td>\n",
              "      <td>0.000000</td>\n",
              "      <td>158543.750000</td>\n",
              "      <td>150.000000</td>\n",
              "      <td>13481.00000</td>\n",
              "      <td>500.000000</td>\n",
              "      <td>150.00000</td>\n",
              "      <td>226.000000</td>\n",
              "      <td>330.000000</td>\n",
              "      <td>87.000000</td>\n",
              "      <td>...</td>\n",
              "      <td>225.000000</td>\n",
              "      <td>15.000000</td>\n",
              "      <td>427.000000</td>\n",
              "      <td>533.000000</td>\n",
              "      <td>657.000000</td>\n",
              "      <td>14.000000</td>\n",
              "      <td>15.000000</td>\n",
              "      <td>426.000000</td>\n",
              "      <td>184.000000</td>\n",
              "      <td>32.000000</td>\n",
              "    </tr>\n",
              "    <tr>\n",
              "      <th>max</th>\n",
              "      <td>2.991999e+06</td>\n",
              "      <td>1.000000</td>\n",
              "      <td>171642.000000</td>\n",
              "      <td>3247.910000</td>\n",
              "      <td>18390.00000</td>\n",
              "      <td>600.000000</td>\n",
              "      <td>191.00000</td>\n",
              "      <td>237.000000</td>\n",
              "      <td>536.000000</td>\n",
              "      <td>96.000000</td>\n",
              "      <td>...</td>\n",
              "      <td>225.000000</td>\n",
              "      <td>21.000000</td>\n",
              "      <td>669.000000</td>\n",
              "      <td>638.000000</td>\n",
              "      <td>849.000000</td>\n",
              "      <td>41.000000</td>\n",
              "      <td>15.000000</td>\n",
              "      <td>516.000000</td>\n",
              "      <td>216.000000</td>\n",
              "      <td>32.000000</td>\n",
              "    </tr>\n",
              "  </tbody>\n",
              "</table>\n",
              "<p>8 rows × 403 columns</p>\n",
              "</div>"
            ],
            "text/plain": [
              "       TransactionID      isFraud  TransactionDT  TransactionAmt        card1  \\\n",
              "count   5.000000e+03  5000.000000    5000.000000     5000.000000   5000.00000   \n",
              "mean    2.989500e+06     0.021800  139599.938800      145.453657   9737.22360   \n",
              "std     1.443520e+03     0.146045   24886.671042      249.892398   4744.57947   \n",
              "min     2.987000e+06     0.000000   86400.000000        1.896000   1033.00000   \n",
              "25%     2.988250e+06     0.000000  129170.500000       47.950000   6459.00000   \n",
              "50%     2.989500e+06     0.000000  146625.500000       78.950000   9335.00000   \n",
              "75%     2.990749e+06     0.000000  158543.750000      150.000000  13481.00000   \n",
              "max     2.991999e+06     1.000000  171642.000000     3247.910000  18390.00000   \n",
              "\n",
              "             card2       card3        card5        addr1        addr2  ...  \\\n",
              "count  4925.000000  5000.00000  4991.000000  4607.000000  4607.000000  ...   \n",
              "mean    346.486701   152.33560   200.041875   293.029954    87.011721  ...   \n",
              "std     158.139981     9.15116    38.570993   103.392233     0.324618  ...   \n",
              "min     100.000000   100.00000   100.000000   110.000000    87.000000  ...   \n",
              "25%     194.000000   150.00000   166.000000   204.000000    87.000000  ...   \n",
              "50%     321.000000   150.00000   224.000000   299.000000    87.000000  ...   \n",
              "75%     500.000000   150.00000   226.000000   330.000000    87.000000  ...   \n",
              "max     600.000000   191.00000   237.000000   536.000000    96.000000  ...   \n",
              "\n",
              "            id_17       id_18       id_19       id_20       id_21      id_22  \\\n",
              "count  929.000000  282.000000  929.000000  929.000000   33.000000  33.000000   \n",
              "mean   183.486545   13.851064  357.878364  396.544672  397.939394  17.242424   \n",
              "std     28.386762    1.473061  144.374854  150.939487  234.222776   8.385368   \n",
              "min    102.000000   12.000000  100.000000  100.000000  228.000000  14.000000   \n",
              "25%    166.000000   13.000000  254.000000  225.000000  252.000000  14.000000   \n",
              "50%    166.000000   13.000000  352.000000  404.000000  252.000000  14.000000   \n",
              "75%    225.000000   15.000000  427.000000  533.000000  657.000000  14.000000   \n",
              "max    225.000000   21.000000  669.000000  638.000000  849.000000  41.000000   \n",
              "\n",
              "           id_24       id_25       id_26       id_32  \n",
              "count  32.000000   33.000000   33.000000  613.000000  \n",
              "mean   12.375000  347.757576  148.696970   26.675367  \n",
              "std     1.930235  104.727334   30.879286    3.777383  \n",
              "min    11.000000  132.000000  100.000000   24.000000  \n",
              "25%    11.000000  321.000000  121.000000   24.000000  \n",
              "50%    11.000000  321.000000  147.000000   24.000000  \n",
              "75%    15.000000  426.000000  184.000000   32.000000  \n",
              "max    15.000000  516.000000  216.000000   32.000000  \n",
              "\n",
              "[8 rows x 403 columns]"
            ]
          },
          "metadata": {},
          "output_type": "display_data"
        }
      ],
      "source": [
        "train = train.merge(train_identity, how='left', left_on='TransactionID',right_on='TransactionID')\n",
        "train.describe()"
      ]
    },
    {
      "cell_type": "markdown",
      "metadata": {
        "id": "PFxJFsXjDs16"
      },
      "source": [
        "Нам известна TransactionID, но не известен айдишник карты, а это было бы действительно полезно знать. Можно ли как-то его восстановить?\n",
        "\n",
        "Можно было обратить внимание на колонку `D1` и заметить, что это похоже на количество дней с момента первой транзакции по карте.\n",
        "\n",
        "Если нарисовать эту фичу против таймстемпа для какого-нибудь продукта (то есть подмножества строк), получится:\n",
        "\n",
        "![image-2.png](attachment:image-2.png)\n",
        "\n",
        "Судя по тому, что max фичи растет линейно со временем, это какая-то временная фича. Может, это какая-то хакатеристика транзакции или карты?\n",
        "\n",
        "Давайте вычтем из нее день, посчитанный по TransactionDT:\n",
        "\n",
        "![image-3.png](attachment:image-3.png)\n",
        "\n",
        "Оранжевая горизонтальная линия намекает, что это могут быть транзакции с одной и той же фродовой карты. Это значит, что `D1` может быть количество дней с первой транзакции.\n",
        "\n",
        "![image.png](attachment:image.png)\n",
        "\n",
        "Как будто бы этого недостаточно, потому что 1к+ транзакций за 6 месяцев с одной карты это может быть многовато.\n",
        "\n",
        "Если теперь взять конкретный `cardID_D1` и внимательней посмотреть на транзакции для одного продукта, близкие по времени записи с похожих девайсов и близких величин транзакций, можно найти, что `V307` это кумулятивная сумма транзакций, которая как раз и может помочь нам разделить карты внутри одного пользователя.\n",
        "\n",
        "![image-4.png](attachment:image-4.png)\n",
        "\n",
        "https://www.kaggle.com/code/tuttifrutti/creating-features-from-d-columns-guessing-userid\n",
        "\n",
        "https://www.kaggle.com/code/tuttifrutti/isolating-a-cardid?scriptVersionId=21489147\n",
        "\n",
        "Теперь можно это закодить и получить что-то похожее на айдишник карты. При этом не надо забывать и про более \"общие\" айдишники.\n",
        "\n",
        "Как можно это использовать? Погенерировать фичи."
      ]
    },
    {
      "cell_type": "markdown",
      "metadata": {
        "id": "88rY2V6WDs17"
      },
      "source": [
        "## Leaks"
      ]
    },
    {
      "cell_type": "markdown",
      "metadata": {
        "id": "vXdaHeV7Ds17"
      },
      "source": [
        "Лики бывают двух типов:\n",
        "1. Те, которые допустили организаторы\n",
        "2. Те, которые допустили вы"
      ]
    },
    {
      "cell_type": "markdown",
      "metadata": {
        "id": "tKbvJaJQDs17"
      },
      "source": [
        "## Leak: Avito ad duplicates"
      ]
    },
    {
      "cell_type": "markdown",
      "metadata": {
        "id": "Gktj7BKCDs17"
      },
      "source": [
        "https://www.kaggle.com/competitions/avito-duplicate-ads-detection\n",
        "\n",
        "Ищем дубликаты объявлений\n",
        "\n",
        "Из описания данных:\n",
        "\n",
        "ItemPairs_train.csv – Pairs of ads that are duplicate and not duplicates on which to train.\n",
        "- itemID_1 – identifier of the first ad.\n",
        "- itemID_2 – identifier of the second ad.\n",
        "- isDuplicate – target field. If itemID_1 and itemID_2 are duplicates or not (0 = not duplicate, 1 = duplicate).\n",
        "- generationMethod – training data generation method. Different generation methods have different noise levels.\n",
        "    - 1 = targets produced by humans when they consider only pair of ads.\n",
        "    - 2 = targets produced by automatic algorithms.\n",
        "    - 3 = targets produced by humans during analyses of all ads for the same owner."
      ]
    },
    {
      "cell_type": "code",
      "execution_count": null,
      "metadata": {
        "id": "8SxGx4QFDs18"
      },
      "outputs": [],
      "source": [
        "train_pairs = pd.read_csv(\"../data/avito-pairs/ItemPairs_train.csv\")\n",
        "test_pairs = pd.read_csv(\"../data/avito-pairs/ItemPairs_test.csv\")"
      ]
    },
    {
      "cell_type": "code",
      "execution_count": null,
      "metadata": {
        "id": "CybrdpT4Ds18",
        "outputId": "f3878fc8-1c83-4bd3-cc56-e9d5392810cd"
      },
      "outputs": [
        {
          "data": {
            "text/html": [
              "<div>\n",
              "<style scoped>\n",
              "    .dataframe tbody tr th:only-of-type {\n",
              "        vertical-align: middle;\n",
              "    }\n",
              "\n",
              "    .dataframe tbody tr th {\n",
              "        vertical-align: top;\n",
              "    }\n",
              "\n",
              "    .dataframe thead th {\n",
              "        text-align: right;\n",
              "    }\n",
              "</style>\n",
              "<table border=\"1\" class=\"dataframe\">\n",
              "  <thead>\n",
              "    <tr style=\"text-align: right;\">\n",
              "      <th></th>\n",
              "      <th>itemID_1</th>\n",
              "      <th>itemID_2</th>\n",
              "      <th>isDuplicate</th>\n",
              "      <th>generationMethod</th>\n",
              "    </tr>\n",
              "  </thead>\n",
              "  <tbody>\n",
              "    <tr>\n",
              "      <th>0</th>\n",
              "      <td>1</td>\n",
              "      <td>4112648</td>\n",
              "      <td>1</td>\n",
              "      <td>1</td>\n",
              "    </tr>\n",
              "    <tr>\n",
              "      <th>1</th>\n",
              "      <td>3</td>\n",
              "      <td>1991275</td>\n",
              "      <td>1</td>\n",
              "      <td>1</td>\n",
              "    </tr>\n",
              "    <tr>\n",
              "      <th>2</th>\n",
              "      <td>4</td>\n",
              "      <td>1223296</td>\n",
              "      <td>0</td>\n",
              "      <td>1</td>\n",
              "    </tr>\n",
              "    <tr>\n",
              "      <th>3</th>\n",
              "      <td>7</td>\n",
              "      <td>1058851</td>\n",
              "      <td>1</td>\n",
              "      <td>1</td>\n",
              "    </tr>\n",
              "    <tr>\n",
              "      <th>4</th>\n",
              "      <td>8</td>\n",
              "      <td>2161930</td>\n",
              "      <td>1</td>\n",
              "      <td>1</td>\n",
              "    </tr>\n",
              "  </tbody>\n",
              "</table>\n",
              "</div>"
            ],
            "text/plain": [
              "   itemID_1  itemID_2  isDuplicate  generationMethod\n",
              "0         1   4112648            1                 1\n",
              "1         3   1991275            1                 1\n",
              "2         4   1223296            0                 1\n",
              "3         7   1058851            1                 1\n",
              "4         8   2161930            1                 1"
            ]
          },
          "execution_count": 193,
          "metadata": {},
          "output_type": "execute_result"
        }
      ],
      "source": [
        "train_pairs.head()"
      ]
    },
    {
      "cell_type": "code",
      "execution_count": null,
      "metadata": {
        "id": "BVVfzXTKDs18",
        "outputId": "20a73f6e-23f8-47c6-a93e-a4ba35838a46"
      },
      "outputs": [
        {
          "data": {
            "text/plain": [
              "(2991396, 4)"
            ]
          },
          "execution_count": 194,
          "metadata": {},
          "output_type": "execute_result"
        }
      ],
      "source": [
        "train_pairs.shape"
      ]
    },
    {
      "cell_type": "code",
      "execution_count": null,
      "metadata": {
        "id": "dFHPXUmGDs19",
        "outputId": "9c5dd024-697b-43b0-b31b-0db27d7b9f4a"
      },
      "outputs": [
        {
          "data": {
            "text/html": [
              "<div>\n",
              "<style scoped>\n",
              "    .dataframe tbody tr th:only-of-type {\n",
              "        vertical-align: middle;\n",
              "    }\n",
              "\n",
              "    .dataframe tbody tr th {\n",
              "        vertical-align: top;\n",
              "    }\n",
              "\n",
              "    .dataframe thead th {\n",
              "        text-align: right;\n",
              "    }\n",
              "</style>\n",
              "<table border=\"1\" class=\"dataframe\">\n",
              "  <thead>\n",
              "    <tr style=\"text-align: right;\">\n",
              "      <th></th>\n",
              "      <th>id</th>\n",
              "      <th>itemID_1</th>\n",
              "      <th>itemID_2</th>\n",
              "    </tr>\n",
              "  </thead>\n",
              "  <tbody>\n",
              "    <tr>\n",
              "      <th>0</th>\n",
              "      <td>0</td>\n",
              "      <td>5</td>\n",
              "      <td>4670875</td>\n",
              "    </tr>\n",
              "    <tr>\n",
              "      <th>1</th>\n",
              "      <td>1</td>\n",
              "      <td>5</td>\n",
              "      <td>787210</td>\n",
              "    </tr>\n",
              "    <tr>\n",
              "      <th>2</th>\n",
              "      <td>2</td>\n",
              "      <td>6</td>\n",
              "      <td>1705280</td>\n",
              "    </tr>\n",
              "    <tr>\n",
              "      <th>3</th>\n",
              "      <td>3</td>\n",
              "      <td>11</td>\n",
              "      <td>3020777</td>\n",
              "    </tr>\n",
              "    <tr>\n",
              "      <th>4</th>\n",
              "      <td>4</td>\n",
              "      <td>23</td>\n",
              "      <td>5316130</td>\n",
              "    </tr>\n",
              "  </tbody>\n",
              "</table>\n",
              "</div>"
            ],
            "text/plain": [
              "   id  itemID_1  itemID_2\n",
              "0   0         5   4670875\n",
              "1   1         5    787210\n",
              "2   2         6   1705280\n",
              "3   3        11   3020777\n",
              "4   4        23   5316130"
            ]
          },
          "execution_count": 195,
          "metadata": {},
          "output_type": "execute_result"
        }
      ],
      "source": [
        "test_pairs.head()"
      ]
    },
    {
      "cell_type": "code",
      "execution_count": null,
      "metadata": {
        "id": "jrFzXDOgDs19",
        "outputId": "89e14ebc-ee2b-41f9-9f24-5107db9f67a0"
      },
      "outputs": [
        {
          "data": {
            "text/plain": [
              "(1044196, 3)"
            ]
          },
          "execution_count": 196,
          "metadata": {},
          "output_type": "execute_result"
        }
      ],
      "source": [
        "test_pairs.shape"
      ]
    },
    {
      "cell_type": "code",
      "execution_count": null,
      "metadata": {
        "id": "s5W5s9qhDs1-",
        "outputId": "1c4481a5-f5ac-4c1b-e73e-5499b10a969e"
      },
      "outputs": [
        {
          "data": {
            "text/plain": [
              "0.4226384604378691"
            ]
          },
          "execution_count": 197,
          "metadata": {},
          "output_type": "execute_result"
        }
      ],
      "source": [
        "train_pairs[\"isDuplicate\"].mean()"
      ]
    },
    {
      "cell_type": "markdown",
      "metadata": {
        "id": "_bRQVIN2Ds1_"
      },
      "source": [
        "выглядит как будто набор пар совсем неслучаен, иначе таргет был бы гораздо ниже"
      ]
    },
    {
      "cell_type": "markdown",
      "metadata": {
        "id": "hhXO56tNDs1_"
      },
      "source": [
        "![image.png](attachment:4db09564-4482-43d5-bc88-453d74295891.png)"
      ]
    },
    {
      "cell_type": "markdown",
      "metadata": {
        "id": "55Tlq1r2Ds1_"
      },
      "source": [
        "we have also some features about ItemIDs, and even images from ads"
      ]
    },
    {
      "cell_type": "markdown",
      "metadata": {
        "id": "kN16GtNnDs1_"
      },
      "source": [
        "whats wrong here?"
      ]
    },
    {
      "cell_type": "code",
      "execution_count": null,
      "metadata": {
        "id": "taGYmi59Ds2A",
        "outputId": "5d7df2f7-86b8-4bbe-ea2c-bb5af1b69e0c"
      },
      "outputs": [
        {
          "name": "stdout",
          "output_type": "stream",
          "text": [
            "Items in train: 3344613\n",
            "Items in test: 1315205\n",
            "#Pairs/#Items for train: 0.8943922660110453\n",
            "#Pairs/#Items for test: 0.7939416288715447\n"
          ]
        }
      ],
      "source": [
        "print(\"Items in train:\", len(set(train_pairs[\"itemID_1\"]).union(train_pairs[\"itemID_2\"])))\n",
        "print(\"Items in test:\", len(set(test_pairs[\"itemID_1\"]).union(test_pairs[\"itemID_2\"])))\n",
        "\n",
        "print(\"#Pairs/#Items for train:\", len(train_pairs) / len(set(train_pairs[\"itemID_1\"]).union(train_pairs[\"itemID_2\"])))\n",
        "print(\"#Pairs/#Items for test:\", len(test_pairs) / len(set(test_pairs[\"itemID_1\"]).union(test_pairs[\"itemID_2\"])))"
      ]
    },
    {
      "cell_type": "markdown",
      "metadata": {
        "id": "bqd2w4oGDs2A"
      },
      "source": [
        "Сколько всего возможно пар объявлений для этого случая? Примерно `3e6 * 3e6 ~ 1e13`\n",
        "\n",
        "Если взять рандомную пару объявлений, то ее вероятность быть дубликатом должна быть очень низка, но в трейне таргет около 0.42 - мы видели это выше\n",
        "\n",
        "На основании чего отбирались пары? Если это неслучайный алгоритм, то из него можно вытащить информацию - что особенно интересно для теста.\n",
        "\n",
        "Как это можно сделать?"
      ]
    },
    {
      "cell_type": "markdown",
      "metadata": {
        "id": "y83dPdLODs2A"
      },
      "source": [
        "![image.png](attachment:533a0df7-5975-4564-8a47-4df121a93c0a.png)"
      ]
    },
    {
      "cell_type": "markdown",
      "metadata": {
        "id": "2sfJpB_cDs2A"
      },
      "source": [
        "Можно собрать матрицу item-item из 0 и 1, где 1 - если в тесте была такая пара, 0 - если ее не было\n",
        "\n",
        "Если теперь в качестве предикта использовать `cosine(vector_item1, vector_item2)`, то качество такого \"прогноза\" на ЛБ было уже 0.7-0.8 ROC AUC\n",
        "\n",
        "Могла ли быть ситуация, в которой это бы не сработало?\n",
        "\n",
        "Как еще можно было использовать эту особенность данных?\n",
        "\n",
        "Разбор этого лика: https://youtu.be/tAoO1iA6nsk?t=1630"
      ]
    },
    {
      "cell_type": "markdown",
      "metadata": {
        "id": "-9X1533iDs2B"
      },
      "source": [
        "## Leak: Yandex Cup 24"
      ]
    },
    {
      "cell_type": "markdown",
      "metadata": {
        "id": "cbmocQIbDs2B"
      },
      "source": [
        "Поиск каверов на песню"
      ]
    },
    {
      "cell_type": "markdown",
      "metadata": {
        "id": "Z-kDyJ4MDs2B"
      },
      "source": [
        "![image.png](attachment:d5d94483-3d95-4328-8f9f-a9f5b5ece84c.png)"
      ]
    },
    {
      "cell_type": "markdown",
      "metadata": {
        "id": "manZIWvtDs2B"
      },
      "source": [
        "Данные - CQT спектрограммы песен длиной 60с\n",
        "\n",
        "![image.png](attachment:e52aabba-0d15-44be-aaea-65efbf1d8f85.png)"
      ]
    },
    {
      "cell_type": "markdown",
      "metadata": {
        "id": "XuOABYTmDs2C"
      },
      "source": [
        "Количество клик (груп каверов) в трейне около 41к, количество песен - около 310к\n",
        "\n",
        "В тесте количество клик (груп каверов) около 7к, количество песен - около 55к\n",
        "\n",
        "Где тут мог быть лик?\n",
        "\n",
        "Если посмотреть на матрицу попарных косинусных расстояний между песнями в тесте, можно было увидеть:"
      ]
    },
    {
      "cell_type": "markdown",
      "metadata": {
        "id": "dXAgRoUHDs2C"
      },
      "source": [
        "![image.png](attachment:c33f2cb9-f13c-4798-b550-bc40e869b05b.png)"
      ]
    },
    {
      "cell_type": "markdown",
      "metadata": {
        "id": "sATQU9dQDs2D"
      },
      "source": [
        "Тестовые данные не были зашафлены, и клики (группы каверов) располагались друг за другом\n",
        "\n",
        "Как это можно было использовать?"
      ]
    },
    {
      "cell_type": "markdown",
      "metadata": {
        "id": "hBHt9_TSDs2D"
      },
      "source": [
        "## Leak: Truly Native"
      ]
    },
    {
      "cell_type": "markdown",
      "metadata": {
        "id": "8kjPQpNRDs2D"
      },
      "source": [
        "https://www.kaggle.com/competitions/dato-native/discussion/16485\n",
        "\n",
        "Predict which web pages served by StumbleUpon are sponsored\n",
        "\n",
        "![image-2.png](attachment:image-2.png)\n",
        "\n",
        "Где тут мог бы быть лик?\n",
        "\n",
        "...\n",
        "\n",
        "> the data provided in this dataset had a hidden \"feature\" which is in date stamp of the files\n",
        "\n",
        "![image.png](attachment:image.png)"
      ]
    },
    {
      "cell_type": "code",
      "execution_count": null,
      "metadata": {
        "id": "4kP_iiIuDs2E",
        "outputId": "04c2dd25-d6ad-463a-a815-25e5262c80d0"
      },
      "outputs": [
        {
          "data": {
            "text/plain": [
              "<Axes: xlabel='number'>"
            ]
          },
          "execution_count": 53,
          "metadata": {},
          "output_type": "execute_result"
        },
        {
          "data": {
            "image/png": "[encoded data removed]",
            "text/plain": [
              "<Figure size 640x480 with 1 Axes>"
            ]
          },
          "metadata": {},
          "output_type": "display_data"
        }
      ],
      "source": [
        "train = pd.read_csv(\"../data/truly-native/train.csv\")\n",
        "train[\"number\"] = train.file.map(lambda x: int(x.split('_')[0]))\n",
        "train.sort_values([\"number\"]).set_index(\"number\").head(100).sponsored.plot()"
      ]
    },
    {
      "cell_type": "code",
      "execution_count": null,
      "metadata": {
        "id": "_vRi-4HVDs2E"
      },
      "outputs": [],
      "source": [
        "import os\n",
        "import pandas as pd\n",
        "from datetime import datetime\n",
        "\n",
        "# Define the folder path\n",
        "folder_path = '/Users/aguschin/Downloads/4'\n",
        "\n",
        "# Get all files in the folder with their modification dates\n",
        "if os.path.exists(folder_path):\n",
        "    file_data = []\n",
        "    for file_name in os.listdir(folder_path):\n",
        "        file_path = os.path.join(folder_path, file_name)\n",
        "        if os.path.isfile(file_path):  # Ensure it's a file\n",
        "            mod_time = os.path.getmtime(file_path)  # Modification time in seconds since epoch\n",
        "            mod_time_readable = datetime.fromtimestamp(mod_time).strftime('%Y-%m-%d %H:%M:%S')  # Convert to readable format\n",
        "            file_data.append({'file': file_name, 'modification_date': mod_time_readable})\n",
        "\n",
        "    mod_dates = pd.DataFrame(file_data)\n",
        "    mod_dates.to_csv(\"../data/truly-native/modification_dates.csv\", index=False)"
      ]
    },
    {
      "cell_type": "code",
      "execution_count": null,
      "metadata": {
        "id": "k1xZEOS3Ds2F",
        "outputId": "e52497cb-216f-4a2e-fd93-5f4598e08723"
      },
      "outputs": [
        {
          "data": {
            "text/html": [
              "<div>\n",
              "<style scoped>\n",
              "    .dataframe tbody tr th:only-of-type {\n",
              "        vertical-align: middle;\n",
              "    }\n",
              "\n",
              "    .dataframe tbody tr th {\n",
              "        vertical-align: top;\n",
              "    }\n",
              "\n",
              "    .dataframe thead th {\n",
              "        text-align: right;\n",
              "    }\n",
              "</style>\n",
              "<table border=\"1\" class=\"dataframe\">\n",
              "  <thead>\n",
              "    <tr style=\"text-align: right;\">\n",
              "      <th></th>\n",
              "      <th>file</th>\n",
              "      <th>modification_date</th>\n",
              "    </tr>\n",
              "  </thead>\n",
              "  <tbody>\n",
              "    <tr>\n",
              "      <th>0</th>\n",
              "      <td>3162778_raw_html.txt</td>\n",
              "      <td>2015-07-15 03:33:13</td>\n",
              "    </tr>\n",
              "    <tr>\n",
              "      <th>1</th>\n",
              "      <td>3338896_raw_html.txt</td>\n",
              "      <td>2015-07-15 04:40:40</td>\n",
              "    </tr>\n",
              "    <tr>\n",
              "      <th>2</th>\n",
              "      <td>3140338_raw_html.txt</td>\n",
              "      <td>2015-07-15 03:09:35</td>\n",
              "    </tr>\n",
              "    <tr>\n",
              "      <th>3</th>\n",
              "      <td>3239176_raw_html.txt</td>\n",
              "      <td>2015-07-15 03:25:40</td>\n",
              "    </tr>\n",
              "    <tr>\n",
              "      <th>4</th>\n",
              "      <td>3569584_raw_html.txt</td>\n",
              "      <td>2015-07-15 03:28:18</td>\n",
              "    </tr>\n",
              "    <tr>\n",
              "      <th>...</th>\n",
              "      <td>...</td>\n",
              "      <td>...</td>\n",
              "    </tr>\n",
              "    <tr>\n",
              "      <th>67531</th>\n",
              "      <td>1206004_raw_html.txt</td>\n",
              "      <td>2015-07-15 04:20:31</td>\n",
              "    </tr>\n",
              "    <tr>\n",
              "      <th>67532</th>\n",
              "      <td>123268_raw_html.txt</td>\n",
              "      <td>2015-07-15 04:03:11</td>\n",
              "    </tr>\n",
              "    <tr>\n",
              "      <th>67533</th>\n",
              "      <td>1761868_raw_html.txt</td>\n",
              "      <td>2015-07-15 03:16:17</td>\n",
              "    </tr>\n",
              "    <tr>\n",
              "      <th>67534</th>\n",
              "      <td>800956_raw_html.txt</td>\n",
              "      <td>2015-07-15 03:02:09</td>\n",
              "    </tr>\n",
              "    <tr>\n",
              "      <th>67535</th>\n",
              "      <td>215716_raw_html.txt</td>\n",
              "      <td>2015-07-15 04:28:10</td>\n",
              "    </tr>\n",
              "  </tbody>\n",
              "</table>\n",
              "<p>67536 rows × 2 columns</p>\n",
              "</div>"
            ],
            "text/plain": [
              "                       file    modification_date\n",
              "0      3162778_raw_html.txt  2015-07-15 03:33:13\n",
              "1      3338896_raw_html.txt  2015-07-15 04:40:40\n",
              "2      3140338_raw_html.txt  2015-07-15 03:09:35\n",
              "3      3239176_raw_html.txt  2015-07-15 03:25:40\n",
              "4      3569584_raw_html.txt  2015-07-15 03:28:18\n",
              "...                     ...                  ...\n",
              "67531  1206004_raw_html.txt  2015-07-15 04:20:31\n",
              "67532   123268_raw_html.txt  2015-07-15 04:03:11\n",
              "67533  1761868_raw_html.txt  2015-07-15 03:16:17\n",
              "67534   800956_raw_html.txt  2015-07-15 03:02:09\n",
              "67535   215716_raw_html.txt  2015-07-15 04:28:10\n",
              "\n",
              "[67536 rows x 2 columns]"
            ]
          },
          "execution_count": 50,
          "metadata": {},
          "output_type": "execute_result"
        }
      ],
      "source": [
        "mod_dates = pd.read_csv(\"../data/truly-native/modification_dates.csv\")\n",
        "mod_dates"
      ]
    },
    {
      "cell_type": "code",
      "execution_count": null,
      "metadata": {
        "id": "_EbL5XNVDs2F",
        "outputId": "7400cba0-cd5f-4894-bef8-370f5efa01e2"
      },
      "outputs": [
        {
          "data": {
            "image/png": "[encoded data removed]",
            "text/plain": [
              "<Figure size 1600x400 with 1 Axes>"
            ]
          },
          "metadata": {},
          "output_type": "display_data"
        }
      ],
      "source": [
        "dfm = train.merge(mod_dates, how='left', on=[\"file\"])\n",
        "dfm.loc[dfm.modification_date.notnull()].sort_values('modification_date').set_index('modification_date').sponsored.plot(figsize=(16, 4))\n",
        "plt.xticks(rotation=10);"
      ]
    },
    {
      "cell_type": "markdown",
      "metadata": {
        "id": "6I12EzBADs2F"
      },
      "source": [
        "## Leak: LMSYS"
      ]
    },
    {
      "cell_type": "markdown",
      "metadata": {
        "id": "hJs0rDiTDs2F"
      },
      "source": [
        "https://www.kaggle.com/competitions/lmsys-chatbot-arena/overview\n",
        "\n",
        "LMSYS - Chatbot Arena Human Preference Predictions\n",
        "\n",
        "Predicting Human Preferences in the Wild\n",
        "\n",
        "![image.png](attachment:image.png)"
      ]
    },
    {
      "cell_type": "code",
      "execution_count": null,
      "metadata": {
        "id": "D7uOY7LYDs2G"
      },
      "outputs": [],
      "source": [
        "train = pd.read_csv(\"../data/lmsys/train.csv\", nrows=500)\n",
        "test = pd.read_csv(\"../data/lmsys/test.csv\", nrows=500)"
      ]
    },
    {
      "cell_type": "code",
      "execution_count": null,
      "metadata": {
        "id": "o0dN2pnsDs2G",
        "outputId": "aa00a695-ddba-457e-ec7b-d9e2f54f0e91"
      },
      "outputs": [
        {
          "data": {
            "text/html": [
              "<div>\n",
              "<style scoped>\n",
              "    .dataframe tbody tr th:only-of-type {\n",
              "        vertical-align: middle;\n",
              "    }\n",
              "\n",
              "    .dataframe tbody tr th {\n",
              "        vertical-align: top;\n",
              "    }\n",
              "\n",
              "    .dataframe thead th {\n",
              "        text-align: right;\n",
              "    }\n",
              "</style>\n",
              "<table border=\"1\" class=\"dataframe\">\n",
              "  <thead>\n",
              "    <tr style=\"text-align: right;\">\n",
              "      <th></th>\n",
              "      <th>id</th>\n",
              "      <th>model_a</th>\n",
              "      <th>model_b</th>\n",
              "      <th>prompt</th>\n",
              "      <th>response_a</th>\n",
              "      <th>response_b</th>\n",
              "      <th>winner_model_a</th>\n",
              "      <th>winner_model_b</th>\n",
              "      <th>winner_tie</th>\n",
              "    </tr>\n",
              "  </thead>\n",
              "  <tbody>\n",
              "    <tr>\n",
              "      <th>0</th>\n",
              "      <td>30192</td>\n",
              "      <td>gpt-4-1106-preview</td>\n",
              "      <td>gpt-4-0613</td>\n",
              "      <td>[\"Is it morally right to try to have a certain...</td>\n",
              "      <td>[\"The question of whether it is morally right ...</td>\n",
              "      <td>[\"As an AI, I don't have personal beliefs or o...</td>\n",
              "      <td>1</td>\n",
              "      <td>0</td>\n",
              "      <td>0</td>\n",
              "    </tr>\n",
              "    <tr>\n",
              "      <th>1</th>\n",
              "      <td>53567</td>\n",
              "      <td>koala-13b</td>\n",
              "      <td>gpt-4-0613</td>\n",
              "      <td>[\"What is the difference between marriage lice...</td>\n",
              "      <td>[\"A marriage license is a legal document that ...</td>\n",
              "      <td>[\"A marriage license and a marriage certificat...</td>\n",
              "      <td>0</td>\n",
              "      <td>1</td>\n",
              "      <td>0</td>\n",
              "    </tr>\n",
              "    <tr>\n",
              "      <th>2</th>\n",
              "      <td>65089</td>\n",
              "      <td>gpt-3.5-turbo-0613</td>\n",
              "      <td>mistral-medium</td>\n",
              "      <td>[\"explain function calling. how would you call...</td>\n",
              "      <td>[\"Function calling is the process of invoking ...</td>\n",
              "      <td>[\"Function calling is the process of invoking ...</td>\n",
              "      <td>0</td>\n",
              "      <td>0</td>\n",
              "      <td>1</td>\n",
              "    </tr>\n",
              "    <tr>\n",
              "      <th>3</th>\n",
              "      <td>96401</td>\n",
              "      <td>llama-2-13b-chat</td>\n",
              "      <td>mistral-7b-instruct</td>\n",
              "      <td>[\"How can I create a test set for a very rare ...</td>\n",
              "      <td>[\"Creating a test set for a very rare category...</td>\n",
              "      <td>[\"When building a classifier for a very rare c...</td>\n",
              "      <td>1</td>\n",
              "      <td>0</td>\n",
              "      <td>0</td>\n",
              "    </tr>\n",
              "    <tr>\n",
              "      <th>4</th>\n",
              "      <td>198779</td>\n",
              "      <td>koala-13b</td>\n",
              "      <td>gpt-3.5-turbo-0314</td>\n",
              "      <td>[\"What is the best way to travel from Tel-Aviv...</td>\n",
              "      <td>[\"The best way to travel from Tel Aviv to Jeru...</td>\n",
              "      <td>[\"The best way to travel from Tel-Aviv to Jeru...</td>\n",
              "      <td>0</td>\n",
              "      <td>1</td>\n",
              "      <td>0</td>\n",
              "    </tr>\n",
              "  </tbody>\n",
              "</table>\n",
              "</div>"
            ],
            "text/plain": [
              "       id             model_a              model_b  \\\n",
              "0   30192  gpt-4-1106-preview           gpt-4-0613   \n",
              "1   53567           koala-13b           gpt-4-0613   \n",
              "2   65089  gpt-3.5-turbo-0613       mistral-medium   \n",
              "3   96401    llama-2-13b-chat  mistral-7b-instruct   \n",
              "4  198779           koala-13b   gpt-3.5-turbo-0314   \n",
              "\n",
              "                                              prompt  \\\n",
              "0  [\"Is it morally right to try to have a certain...   \n",
              "1  [\"What is the difference between marriage lice...   \n",
              "2  [\"explain function calling. how would you call...   \n",
              "3  [\"How can I create a test set for a very rare ...   \n",
              "4  [\"What is the best way to travel from Tel-Aviv...   \n",
              "\n",
              "                                          response_a  \\\n",
              "0  [\"The question of whether it is morally right ...   \n",
              "1  [\"A marriage license is a legal document that ...   \n",
              "2  [\"Function calling is the process of invoking ...   \n",
              "3  [\"Creating a test set for a very rare category...   \n",
              "4  [\"The best way to travel from Tel Aviv to Jeru...   \n",
              "\n",
              "                                          response_b  winner_model_a  \\\n",
              "0  [\"As an AI, I don't have personal beliefs or o...               1   \n",
              "1  [\"A marriage license and a marriage certificat...               0   \n",
              "2  [\"Function calling is the process of invoking ...               0   \n",
              "3  [\"When building a classifier for a very rare c...               1   \n",
              "4  [\"The best way to travel from Tel-Aviv to Jeru...               0   \n",
              "\n",
              "   winner_model_b  winner_tie  \n",
              "0               0           0  \n",
              "1               1           0  \n",
              "2               0           1  \n",
              "3               0           0  \n",
              "4               1           0  "
            ]
          },
          "execution_count": 81,
          "metadata": {},
          "output_type": "execute_result"
        }
      ],
      "source": [
        "train.head()"
      ]
    },
    {
      "cell_type": "code",
      "execution_count": null,
      "metadata": {
        "id": "uESVGKEbDs2H",
        "outputId": "a25e785a-9b17-4d31-d847-7f1a2bffc8e7"
      },
      "outputs": [
        {
          "data": {
            "text/html": [
              "<div>\n",
              "<style scoped>\n",
              "    .dataframe tbody tr th:only-of-type {\n",
              "        vertical-align: middle;\n",
              "    }\n",
              "\n",
              "    .dataframe tbody tr th {\n",
              "        vertical-align: top;\n",
              "    }\n",
              "\n",
              "    .dataframe thead th {\n",
              "        text-align: right;\n",
              "    }\n",
              "</style>\n",
              "<table border=\"1\" class=\"dataframe\">\n",
              "  <thead>\n",
              "    <tr style=\"text-align: right;\">\n",
              "      <th></th>\n",
              "      <th>id</th>\n",
              "      <th>prompt</th>\n",
              "      <th>response_a</th>\n",
              "      <th>response_b</th>\n",
              "    </tr>\n",
              "  </thead>\n",
              "  <tbody>\n",
              "    <tr>\n",
              "      <th>0</th>\n",
              "      <td>136060</td>\n",
              "      <td>[\"I have three oranges today, I ate an orange ...</td>\n",
              "      <td>[\"You have two oranges today.\"]</td>\n",
              "      <td>[\"You still have three oranges. Eating an oran...</td>\n",
              "    </tr>\n",
              "    <tr>\n",
              "      <th>1</th>\n",
              "      <td>211333</td>\n",
              "      <td>[\"You are a mediator in a heated political deb...</td>\n",
              "      <td>[\"Thank you for sharing the details of the sit...</td>\n",
              "      <td>[\"Mr Reddy and Ms Blue both have valid points ...</td>\n",
              "    </tr>\n",
              "    <tr>\n",
              "      <th>2</th>\n",
              "      <td>1233961</td>\n",
              "      <td>[\"How to initialize the classification head wh...</td>\n",
              "      <td>[\"When you want to initialize the classificati...</td>\n",
              "      <td>[\"To initialize the classification head when p...</td>\n",
              "    </tr>\n",
              "  </tbody>\n",
              "</table>\n",
              "</div>"
            ],
            "text/plain": [
              "        id                                             prompt  \\\n",
              "0   136060  [\"I have three oranges today, I ate an orange ...   \n",
              "1   211333  [\"You are a mediator in a heated political deb...   \n",
              "2  1233961  [\"How to initialize the classification head wh...   \n",
              "\n",
              "                                          response_a  \\\n",
              "0                    [\"You have two oranges today.\"]   \n",
              "1  [\"Thank you for sharing the details of the sit...   \n",
              "2  [\"When you want to initialize the classificati...   \n",
              "\n",
              "                                          response_b  \n",
              "0  [\"You still have three oranges. Eating an oran...  \n",
              "1  [\"Mr Reddy and Ms Blue both have valid points ...  \n",
              "2  [\"To initialize the classification head when p...  "
            ]
          },
          "execution_count": 82,
          "metadata": {},
          "output_type": "execute_result"
        }
      ],
      "source": [
        "test.head()"
      ]
    },
    {
      "cell_type": "markdown",
      "metadata": {
        "id": "S4YQ-erNDs2H"
      },
      "source": [
        "В какой-то момент организаторы опубликовали ноутбук https://colab.research.google.com/drive/1KdwokPjirkTmpO_P1WByFNFiqxWQquwH\n",
        "\n",
        "> In this notebook, we present data analysis on Chatbot Arena data collected from https://arena.lmsys.org.\n",
        ">\n",
        "> We explain different Elo calculation methods (online Elo and Bradley-Terry model) for model ranking.\n",
        ">\n",
        "> To view the latest leaderboard, see https://huggingface.co/spaces/lmsys/chatbot-arena-leaderboard.\n",
        "\n",
        "![image-2.png](attachment:image-2.png)\n",
        "![image-3.png](attachment:image-3.png)"
      ]
    },
    {
      "cell_type": "markdown",
      "metadata": {
        "id": "Gvc4ZXRDDs2H"
      },
      "source": [
        "Вскоре после этого был найден лик:\n",
        "https://www.kaggle.com/competitions/lmsys-chatbot-arena/discussion/524079\n",
        "\n",
        "Возможно, что это и есть тестовый набор данных для соревнования. К сожалению промтов нет (а в соревновании нам даны промты и ответы обоих моделей). Можно ли обойтись без них?\n",
        "\n",
        "Можно ли как-то использовать `sum_user_tokens` в `conv_metadata`?\n",
        "\n",
        "Ключ к решению - найти правильный токенайзер. Организаторы LMSYS использовали `tiktoken` в других ноутбуках, может здесь используется он же?\n",
        "\n",
        "Человек, который нашел лик поделился с нами ноутбуком, где использовал лик, и сообщил:\n",
        "\n",
        "> In 'leaked' data was the only dialogue with `'sum_user_tokens' == 19`. By iterating `tiktoken` version, we can find proper version where this dialogue has len 19\n",
        "\n",
        "Даже если бы этого факта не было известно, что тут можно было бы сделать?"
      ]
    },
    {
      "cell_type": "code",
      "execution_count": null,
      "metadata": {
        "id": "uQHu4JdmDs2I"
      },
      "outputs": [],
      "source": [
        "# get leaked data\n",
        "\n",
        "with open(\"/kaggle/input/leak-find/battles.json\", \"r\") as file:\n",
        "    battles = pd.read_json(file).sort_values(ascending=True, by=[\"tstamp\"])\n",
        "\n",
        "# get needed tiktoken\n",
        "import tiktoken\n",
        "\n",
        "encoding = tiktoken.get_encoding(\"cl100k_base\")\n",
        "\n",
        "# use the leak\n",
        "result_df2 = pd.DataFrame(\n",
        "    columns=[\"id\", \"winner_model_a\", \"winner_model_b\", \"winner_tie\"]\n",
        ")\n",
        "\n",
        "for i in range(len(multiturn_df)):\n",
        "    prompt = multiturn_df.iloc[i][\"len_prompt\"]\n",
        "    response_a = multiturn_df.iloc[i][\"len_response_a\"]\n",
        "    response_b = multiturn_df.iloc[i][\"len_response_b\"]\n",
        "\n",
        "    matched_row = unique_rows[\n",
        "        (unique_rows[\"len_prompt\"] == prompt)\n",
        "        & (unique_rows[\"len_response_a\"] == response_a)\n",
        "        & (unique_rows[\"len_response_b\"] == response_b)\n",
        "    ]\n",
        "\n",
        "    matched_row2 = unique_rows[\n",
        "        (unique_rows[\"len_prompt\"] == prompt)\n",
        "        & (unique_rows[\"len_response_a\"] == response_b)\n",
        "        & (unique_rows[\"len_response_b\"] == response_a)\n",
        "    ]\n",
        "\n",
        "    if len(matched_row) > 0 & len(matched_row2) == 0:\n",
        "        winner = matched_row[\"winner\"].iloc[0]\n",
        "        winner_model_a = 0.95 if winner == \"model_a\" else 0.025\n",
        "        winner_model_b = 0.95 if winner == \"model_b\" else 0.025\n",
        "        winner_tie = 0.95 if winner == \"tie\" or winner == \"tie (bothbad)\" else 0.025\n",
        "\n",
        "        new_row = pd.DataFrame(\n",
        "            {\n",
        "                \"id\": [multiturn_df.iloc[i][\"id\"]],\n",
        "                \"winner_model_a\": [winner_model_a],\n",
        "                \"winner_model_b\": [winner_model_b],\n",
        "                \"winner_tie\": [winner_tie],\n",
        "            }\n",
        "        )\n",
        "\n",
        "    if len(matched_row2) > 0 & len(matched_row) == 0:\n",
        "        winner = matched_row2[\"winner\"].iloc[0]\n",
        "        winner_model_a = 0.95 if winner == \"model_a\" else 0.025\n",
        "        winner_model_b = 0.95 if winner == \"model_b\" else 0.025\n",
        "        winner_tie = 0.95 if winner == \"tie\" or winner == \"tie (bothbad)\" else 0.025\n",
        "\n",
        "        new_row = pd.DataFrame(\n",
        "            {\n",
        "                \"id\": [multiturn_df.iloc[i][\"id\"]],\n",
        "                \"winner_model_a\": [winner_model_b],\n",
        "                \"winner_model_b\": [winner_model_a],\n",
        "                \"winner_tie\": [winner_tie],\n",
        "            }\n",
        "        )\n",
        "\n",
        "        result_df2 = pd.concat([result_df2, new_row], ignore_index=True)"
      ]
    },
    {
      "cell_type": "markdown",
      "metadata": {
        "id": "-KxD97y5Ds2I"
      },
      "source": [
        "^ это был сабмит на первое место на ЛБ"
      ]
    },
    {
      "cell_type": "markdown",
      "metadata": {
        "id": "FFRFDbBBDs2J"
      },
      "source": [
        "## Possible leak: GSM 8k"
      ]
    },
    {
      "cell_type": "markdown",
      "metadata": {
        "id": "fnsuEniPDs2J"
      },
      "source": [
        "Иногда тестовые данные ликаются в обучающие датасеты для LLM.\n",
        "\n",
        "Например, GSM 8k бенчмарк (Grade School Math https://github.com/openai/grade-school-math/tree/master)\n",
        "\n",
        "Задача LLM-ки решать математические задачи и выдавать точный ответ (обычно одно число).\n",
        "\n",
        "Примеры из трейна:"
      ]
    },
    {
      "cell_type": "code",
      "execution_count": null,
      "metadata": {
        "id": "iXs_xrE2Ds2J"
      },
      "outputs": [],
      "source": [
        "{\n",
        "    \"question\": \"Tim rides his bike back and forth to work for each of his 5 workdays.  His work is 20 miles away.  He also goes for a weekend bike ride of 200 miles.    If he can bike at 25 mph how much time does he spend biking a week?\",\n",
        "    \"answer\": \"He bikes 20*2=<<20*2=40>>40 miles each day for work\\nSo he bikes 40*5=<<40*5=200>>200 miles for work\\nThat means he bikes a total of 200+200=<<200+200=400>>400 miles for work\\nSo he bikes a total of 400/25=<<400/25=16>>16 hours\\n#### 16\",\n",
        "}\n",
        "{\n",
        "    \"question\": \"Bella bought stamps at the post office. Some of the stamps had a snowflake design, some had a truck design, and some had a rose design. Bella bought 11 snowflake stamps. She bought 9 more truck stamps than snowflake stamps, and 13 fewer rose stamps than truck stamps. How many stamps did Bella buy in all?\",\n",
        "    \"answer\": \"The number of truck stamps is 11 + 9 = <<11+9=20>>20.\\nThe number of rose stamps is 20 \\u2212 13 = <<20-13=7>>7.\\nBella bought 11 + 20 + 7 = <<11+20+7=38>>38 stamps in all.\\n#### 38\",\n",
        "}\n",
        "{\n",
        "    \"question\": \"Each bird eats 12 beetles per day, each snake eats 3 birds per day, and each jaguar eats 5 snakes per day. If there are 6 jaguars in a forest, how many beetles are eaten each day?\",\n",
        "    \"answer\": \"First find the total number of snakes eaten: 5 snakes/jaguar * 6 jaguars = <<5*6=30>>30 snakes\\nThen find the total number of birds eaten per day: 30 snakes * 3 birds/snake = <<30*3=90>>90 snakes\\nThen multiply the number of snakes by the number of beetles per snake to find the total number of beetles eaten per day: 90 snakes * 12 beetles/snake = <<90*12=1080>>1080 beetles\\n#### 1080\",\n",
        "}\n",
        "{\n",
        "    \"question\": \"Samantha\\u2019s last name has three fewer letters than Bobbie\\u2019s last name. If Bobbie took two letters off her last name, she would have a last name twice the length of Jamie\\u2019s. Jamie\\u2019s full name is Jamie Grey. How many letters are in Samantha\\u2019s last name?\",\n",
        "    \"answer\": \"There are 4 letters in Jamie\\u2019s last name, so Bobbie\\u2019s name is 4*2 +2 = <<4*2+2=10>>10 letters long.\\nSamantha\\u2019s last name is 3 letters shorter than Bobbie\\u2019s, so there are 10 - 3 = <<10-3=7>>7 letters in Samantha\\u2019s last name.\\n#### 7\",\n",
        "}"
      ]
    },
    {
      "cell_type": "markdown",
      "metadata": {
        "id": "B8dhrj-gDs2J"
      },
      "source": [
        "Правильный ответ находится после `####`. Если хочется забенчмаркать LLM на таком датасете, можно вначале дать несколько примеров в промпте (Few-Shot prompting).\n",
        "\n",
        "Однако, некоторые языковые модели уже могут иметь это как часть своей обучающей выборки, например llama 3.1. Это можно заметить если модель выдает ответ в правильном формате в zero-shot (https://github.com/EleutherAI/lm-evaluation-harness/blob/main/examples/lm-eval-overview.ipynb):"
      ]
    },
    {
      "cell_type": "code",
      "execution_count": null,
      "metadata": {
        "id": "q-r9de3jDs2K"
      },
      "outputs": [],
      "source": [
        "{\n",
        "    \"doc_id\": 123,\n",
        "    \"doc\": {\n",
        "        \"question\": \"Rosie can run 10 miles per hour for 3 hours. After that, she runs 5 miles per hour. How many miles can she run in 7 hours?\",\n",
        "        \"answer\": \"For the first 3 hours, Rosie runs 10 miles per hour, so she runs 10*3=<<10*3=30>>30 miles.\\nHowever, she still has 7-3=<<7-3=4>>4 hours left to room.\\nFor the next 4 hours, she runs 5 miles per hour, so she runs 5*4=<<5*4=20>>20 miles.\\nIn total she runs 30+20=<<30+20=50>>50 miles.\\n#### 50\",\n",
        "    },\n",
        "    \"target\": \"For the first 3 hours, Rosie runs 10 miles per hour, so she runs 10*3=<<10*3=30>>30 miles.\\nHowever, she still has 7-3=<<7-3=4>>4 hours left to room.\\nFor the next 4 hours, she runs 5 miles per hour, so she runs 5*4=<<5*4=20>>20 miles.\\nIn total she runs 30+20=<<30+20=50>>50 miles.\\n#### 50\",\n",
        "    \"arguments\": {\n",
        "        \"gen_args_0\": {\n",
        "            \"arg_0\": \"<|begin_of_text|><|start_header_id|>user<|end_header_id|>\\n\\nQuestion: Rosie can run 10 miles per hour for 3 hours. After that, she runs 5 miles per hour. How many miles can she run in 7 hours?\\nAnswer:<|eot_id|><|start_header_id|>assistant<|end_header_id|>\\n\\n\",\n",
        "            \"arg_1\": {\n",
        "                \"until\": [\"Question:\", \"</s>\", \"<|im_end|>\"],\n",
        "                \"do_sample\": False,\n",
        "                \"temperature\": 0.0,\n",
        "            },\n",
        "        }\n",
        "    },\n",
        "    \"resps\": [\n",
        "        [\n",
        "            \"Rosie can run 10 miles per hour for 3 hours. So she can run 10 * 3 = 30 miles. After that, she runs 5 miles per hour. So in 7 hours, she can run 30 + 5 * 4 = 30 + 20 = 50 miles.\\n#### 50\"\n",
        "        ]\n",
        "    ],\n",
        "    \"filtered_resps\": [\"50\"],\n",
        "    \"doc_hash\": \"3878b31a0e4251e376dd1a691a757ad2013126910f529e39ad655370044ad966\",\n",
        "    \"prompt_hash\": \"3579168e57e339465de0625a3358623a83578d0ac487934756f2b6bb3e576243\",\n",
        "    \"target_hash\": \"de3d896a77bfc7451960b811f998ee11f17de586da33d8258d5a5ecc207daf56\",\n",
        "    \"exact_match\": 1.0,\n",
        "};"
      ]
    },
    {
      "cell_type": "markdown",
      "metadata": {
        "id": "laLANVYsDs2K"
      },
      "source": [
        "Лик может заключаться не только в текстах, но и в картинках или метаданных файлов (и тд), которые видела мультимодальная LLM-ка."
      ]
    },
    {
      "cell_type": "markdown",
      "metadata": {
        "id": "XdVF-qr2Ds2K"
      },
      "source": [
        "## Leak: Utashuda leak in pictures metadata"
      ]
    },
    {
      "cell_type": "markdown",
      "metadata": {
        "id": "SFXhUPZ0Ds2L"
      },
      "source": [
        "https://cups.online/ru/contests/hackathon_ai_arrow\n",
        "\n",
        "Задача - посчитать количество чаек на картинках"
      ]
    },
    {
      "cell_type": "markdown",
      "metadata": {
        "id": "Q6nDaynRDs2L"
      },
      "source": [
        "![image.png](attachment:3d07294e-8a0f-46aa-9525-4571f0e7f623.png)"
      ]
    },
    {
      "cell_type": "markdown",
      "metadata": {
        "id": "98fqgGtDDs2L"
      },
      "source": [
        "Какой здесь мог бы быть лик?"
      ]
    },
    {
      "cell_type": "markdown",
      "metadata": {
        "id": "8qhRUWfnDs2M"
      },
      "source": [
        "Картинки в трейне и тесте:\n",
        "\n",
        "![image.png](attachment:3aaf2382-31fa-4262-94fd-e2af35e44ced.png)"
      ]
    },
    {
      "cell_type": "markdown",
      "metadata": {
        "id": "VkhLM2hMDs2M"
      },
      "source": [
        "Ошибка в случайном сплите данных между трейном и тестом.\n",
        "\n",
        "Если две картинки были сделаны в близкое время, количество чаек на них было похожим.\n",
        "\n",
        "Как это использовать? Искать ближайших соседей."
      ]
    },
    {
      "cell_type": "markdown",
      "metadata": {
        "id": "teUxxo5rDs2M"
      },
      "source": [
        "## Leak: TGS Salt Identification Challenge"
      ]
    },
    {
      "cell_type": "markdown",
      "metadata": {
        "id": "toqkG-qcDs2O"
      },
      "source": [
        "https://www.kaggle.com/competitions/tgs-salt-identification-challenge\n",
        "\n",
        "Segment salt deposits beneath the Earth's surface\n",
        "\n",
        "Фотографии из трейна + маски с залежами соли (картинки из теста не имели масок - их мы и предказываем):\n",
        "\n",
        "![image.png](attachment:23357777-da8c-4e6d-8b3d-2e1edf70a406.png)"
      ]
    },
    {
      "cell_type": "markdown",
      "metadata": {
        "id": "KHMJvTenDs2O"
      },
      "source": [
        "Как такие картинки можно было бы получить? Как организаторы могли их сделать?\n",
        "\n",
        "Обрезая одну большую картинку на множество маленьких.\n",
        "\n",
        "Участники решили собрать пазл обратно:"
      ]
    },
    {
      "cell_type": "markdown",
      "metadata": {
        "id": "AxL75V6jDs2U"
      },
      "source": [
        "![image.png](attachment:bec828c0-7805-40ee-a0b6-c8853b5b8704.png)"
      ]
    },
    {
      "cell_type": "markdown",
      "metadata": {
        "id": "zXw42RGnDs2U"
      },
      "source": [
        "Что такое дырки на этой картинке?\n",
        "\n",
        "...\n",
        "\n",
        "Это тестовые данные.\n",
        "\n",
        "Как это можно было использовать?"
      ]
    },
    {
      "cell_type": "markdown",
      "metadata": {
        "id": "edkW4b7jDs2U"
      },
      "source": [
        "## Leak: TalkingData AdTracking Fraud Detection Challenge"
      ]
    },
    {
      "cell_type": "markdown",
      "metadata": {
        "id": "AsVD_NQuDs2V"
      },
      "source": [
        "https://www.kaggle.com/competitions/talkingdata-adtracking-fraud-detection/overview\n",
        "\n",
        "Can you detect fraudulent click traffic for mobile app ads?"
      ]
    },
    {
      "cell_type": "code",
      "execution_count": null,
      "metadata": {
        "id": "cZ208Z26Ds2V"
      },
      "outputs": [],
      "source": [
        "train_sample = pd.read_csv(\"../data/talking-data-adfraud/train_sample.csv\")"
      ]
    },
    {
      "cell_type": "code",
      "execution_count": null,
      "metadata": {
        "id": "XUcZ9CsSDs2V",
        "outputId": "27a4431f-b6c2-4768-965e-75e9a26b8ba5"
      },
      "outputs": [
        {
          "data": {
            "text/html": [
              "<div>\n",
              "<style scoped>\n",
              "    .dataframe tbody tr th:only-of-type {\n",
              "        vertical-align: middle;\n",
              "    }\n",
              "\n",
              "    .dataframe tbody tr th {\n",
              "        vertical-align: top;\n",
              "    }\n",
              "\n",
              "    .dataframe thead th {\n",
              "        text-align: right;\n",
              "    }\n",
              "</style>\n",
              "<table border=\"1\" class=\"dataframe\">\n",
              "  <thead>\n",
              "    <tr style=\"text-align: right;\">\n",
              "      <th></th>\n",
              "      <th>ip</th>\n",
              "      <th>app</th>\n",
              "      <th>device</th>\n",
              "      <th>os</th>\n",
              "      <th>channel</th>\n",
              "      <th>click_time</th>\n",
              "      <th>attributed_time</th>\n",
              "      <th>is_attributed</th>\n",
              "    </tr>\n",
              "  </thead>\n",
              "  <tbody>\n",
              "    <tr>\n",
              "      <th>0</th>\n",
              "      <td>87540</td>\n",
              "      <td>12</td>\n",
              "      <td>1</td>\n",
              "      <td>13</td>\n",
              "      <td>497</td>\n",
              "      <td>2017-11-07 09:30:38</td>\n",
              "      <td>NaN</td>\n",
              "      <td>0</td>\n",
              "    </tr>\n",
              "    <tr>\n",
              "      <th>1</th>\n",
              "      <td>105560</td>\n",
              "      <td>25</td>\n",
              "      <td>1</td>\n",
              "      <td>17</td>\n",
              "      <td>259</td>\n",
              "      <td>2017-11-07 13:40:27</td>\n",
              "      <td>NaN</td>\n",
              "      <td>0</td>\n",
              "    </tr>\n",
              "    <tr>\n",
              "      <th>2</th>\n",
              "      <td>101424</td>\n",
              "      <td>12</td>\n",
              "      <td>1</td>\n",
              "      <td>19</td>\n",
              "      <td>212</td>\n",
              "      <td>2017-11-07 18:05:24</td>\n",
              "      <td>NaN</td>\n",
              "      <td>0</td>\n",
              "    </tr>\n",
              "    <tr>\n",
              "      <th>3</th>\n",
              "      <td>94584</td>\n",
              "      <td>13</td>\n",
              "      <td>1</td>\n",
              "      <td>13</td>\n",
              "      <td>477</td>\n",
              "      <td>2017-11-07 04:58:08</td>\n",
              "      <td>NaN</td>\n",
              "      <td>0</td>\n",
              "    </tr>\n",
              "    <tr>\n",
              "      <th>4</th>\n",
              "      <td>68413</td>\n",
              "      <td>12</td>\n",
              "      <td>1</td>\n",
              "      <td>1</td>\n",
              "      <td>178</td>\n",
              "      <td>2017-11-09 09:00:09</td>\n",
              "      <td>NaN</td>\n",
              "      <td>0</td>\n",
              "    </tr>\n",
              "    <tr>\n",
              "      <th>5</th>\n",
              "      <td>93663</td>\n",
              "      <td>3</td>\n",
              "      <td>1</td>\n",
              "      <td>17</td>\n",
              "      <td>115</td>\n",
              "      <td>2017-11-09 01:22:13</td>\n",
              "      <td>NaN</td>\n",
              "      <td>0</td>\n",
              "    </tr>\n",
              "    <tr>\n",
              "      <th>6</th>\n",
              "      <td>17059</td>\n",
              "      <td>1</td>\n",
              "      <td>1</td>\n",
              "      <td>17</td>\n",
              "      <td>135</td>\n",
              "      <td>2017-11-09 01:17:58</td>\n",
              "      <td>NaN</td>\n",
              "      <td>0</td>\n",
              "    </tr>\n",
              "    <tr>\n",
              "      <th>7</th>\n",
              "      <td>121505</td>\n",
              "      <td>9</td>\n",
              "      <td>1</td>\n",
              "      <td>25</td>\n",
              "      <td>442</td>\n",
              "      <td>2017-11-07 10:01:53</td>\n",
              "      <td>NaN</td>\n",
              "      <td>0</td>\n",
              "    </tr>\n",
              "    <tr>\n",
              "      <th>8</th>\n",
              "      <td>192967</td>\n",
              "      <td>2</td>\n",
              "      <td>2</td>\n",
              "      <td>22</td>\n",
              "      <td>364</td>\n",
              "      <td>2017-11-08 09:35:17</td>\n",
              "      <td>NaN</td>\n",
              "      <td>0</td>\n",
              "    </tr>\n",
              "    <tr>\n",
              "      <th>9</th>\n",
              "      <td>143636</td>\n",
              "      <td>3</td>\n",
              "      <td>1</td>\n",
              "      <td>19</td>\n",
              "      <td>135</td>\n",
              "      <td>2017-11-08 12:35:26</td>\n",
              "      <td>NaN</td>\n",
              "      <td>0</td>\n",
              "    </tr>\n",
              "    <tr>\n",
              "      <th>10</th>\n",
              "      <td>73839</td>\n",
              "      <td>3</td>\n",
              "      <td>1</td>\n",
              "      <td>22</td>\n",
              "      <td>489</td>\n",
              "      <td>2017-11-08 08:14:37</td>\n",
              "      <td>NaN</td>\n",
              "      <td>0</td>\n",
              "    </tr>\n",
              "    <tr>\n",
              "      <th>11</th>\n",
              "      <td>34812</td>\n",
              "      <td>3</td>\n",
              "      <td>1</td>\n",
              "      <td>13</td>\n",
              "      <td>489</td>\n",
              "      <td>2017-11-07 05:03:14</td>\n",
              "      <td>NaN</td>\n",
              "      <td>0</td>\n",
              "    </tr>\n",
              "    <tr>\n",
              "      <th>12</th>\n",
              "      <td>114809</td>\n",
              "      <td>3</td>\n",
              "      <td>1</td>\n",
              "      <td>22</td>\n",
              "      <td>205</td>\n",
              "      <td>2017-11-09 10:24:23</td>\n",
              "      <td>NaN</td>\n",
              "      <td>0</td>\n",
              "    </tr>\n",
              "    <tr>\n",
              "      <th>13</th>\n",
              "      <td>114220</td>\n",
              "      <td>6</td>\n",
              "      <td>1</td>\n",
              "      <td>20</td>\n",
              "      <td>125</td>\n",
              "      <td>2017-11-08 14:46:16</td>\n",
              "      <td>NaN</td>\n",
              "      <td>0</td>\n",
              "    </tr>\n",
              "    <tr>\n",
              "      <th>14</th>\n",
              "      <td>36150</td>\n",
              "      <td>2</td>\n",
              "      <td>1</td>\n",
              "      <td>13</td>\n",
              "      <td>205</td>\n",
              "      <td>2017-11-07 00:54:09</td>\n",
              "      <td>NaN</td>\n",
              "      <td>0</td>\n",
              "    </tr>\n",
              "  </tbody>\n",
              "</table>\n",
              "</div>"
            ],
            "text/plain": [
              "        ip  app  device  os  channel           click_time attributed_time  \\\n",
              "0    87540   12       1  13      497  2017-11-07 09:30:38             NaN   \n",
              "1   105560   25       1  17      259  2017-11-07 13:40:27             NaN   \n",
              "2   101424   12       1  19      212  2017-11-07 18:05:24             NaN   \n",
              "3    94584   13       1  13      477  2017-11-07 04:58:08             NaN   \n",
              "4    68413   12       1   1      178  2017-11-09 09:00:09             NaN   \n",
              "5    93663    3       1  17      115  2017-11-09 01:22:13             NaN   \n",
              "6    17059    1       1  17      135  2017-11-09 01:17:58             NaN   \n",
              "7   121505    9       1  25      442  2017-11-07 10:01:53             NaN   \n",
              "8   192967    2       2  22      364  2017-11-08 09:35:17             NaN   \n",
              "9   143636    3       1  19      135  2017-11-08 12:35:26             NaN   \n",
              "10   73839    3       1  22      489  2017-11-08 08:14:37             NaN   \n",
              "11   34812    3       1  13      489  2017-11-07 05:03:14             NaN   \n",
              "12  114809    3       1  22      205  2017-11-09 10:24:23             NaN   \n",
              "13  114220    6       1  20      125  2017-11-08 14:46:16             NaN   \n",
              "14   36150    2       1  13      205  2017-11-07 00:54:09             NaN   \n",
              "\n",
              "    is_attributed  \n",
              "0               0  \n",
              "1               0  \n",
              "2               0  \n",
              "3               0  \n",
              "4               0  \n",
              "5               0  \n",
              "6               0  \n",
              "7               0  \n",
              "8               0  \n",
              "9               0  \n",
              "10              0  \n",
              "11              0  \n",
              "12              0  \n",
              "13              0  \n",
              "14              0  "
            ]
          },
          "execution_count": 63,
          "metadata": {},
          "output_type": "execute_result"
        }
      ],
      "source": [
        "train_sample.head(15)"
      ]
    },
    {
      "cell_type": "code",
      "execution_count": null,
      "metadata": {
        "id": "jhE2wlkxDs2W",
        "outputId": "f4235f9f-d5df-4d8c-e4e3-1283e1f9b7ad"
      },
      "outputs": [
        {
          "data": {
            "text/plain": [
              "0.00227"
            ]
          },
          "execution_count": 64,
          "metadata": {},
          "output_type": "execute_result"
        }
      ],
      "source": [
        "train_sample[\"is_attributed\"].mean()"
      ]
    },
    {
      "cell_type": "markdown",
      "metadata": {
        "id": "DxNN154sDs2W"
      },
      "source": [
        "Какой здесь возможен лик?\n",
        "\n",
        "Давайте посмотрим на колонку `click_time` и обратим внимание, что время у нас в секундах. Есть ли дубликаты по времени в `train_sample`?"
      ]
    },
    {
      "cell_type": "code",
      "execution_count": null,
      "metadata": {
        "id": "_i5bm9HuDs2X",
        "outputId": "b559792e-0861-4c72-bb7f-42db5c3c07e4"
      },
      "outputs": [
        {
          "data": {
            "text/plain": [
              "click_time\n",
              "2017-11-08 12:01:02    7\n",
              "2017-11-07 05:00:11    6\n",
              "2017-11-09 14:46:23    6\n",
              "2017-11-07 04:36:16    6\n",
              "2017-11-08 13:32:05    6\n",
              "                      ..\n",
              "2017-11-07 08:31:55    1\n",
              "2017-11-08 23:35:15    1\n",
              "2017-11-08 10:01:33    1\n",
              "2017-11-09 11:01:52    1\n",
              "2017-11-09 13:25:41    1\n",
              "Name: count, Length: 80350, dtype: int64"
            ]
          },
          "execution_count": 65,
          "metadata": {},
          "output_type": "execute_result"
        }
      ],
      "source": [
        "train_sample[\"click_time\"].value_counts()"
      ]
    },
    {
      "cell_type": "code",
      "execution_count": null,
      "metadata": {
        "id": "Mb9ss5KqDs2X",
        "outputId": "21692aa1-1bcd-47ad-ae47-a8091c551486"
      },
      "outputs": [
        {
          "data": {
            "text/html": [
              "<div>\n",
              "<style scoped>\n",
              "    .dataframe tbody tr th:only-of-type {\n",
              "        vertical-align: middle;\n",
              "    }\n",
              "\n",
              "    .dataframe tbody tr th {\n",
              "        vertical-align: top;\n",
              "    }\n",
              "\n",
              "    .dataframe thead th {\n",
              "        text-align: right;\n",
              "    }\n",
              "</style>\n",
              "<table border=\"1\" class=\"dataframe\">\n",
              "  <thead>\n",
              "    <tr style=\"text-align: right;\">\n",
              "      <th></th>\n",
              "      <th>ip</th>\n",
              "      <th>app</th>\n",
              "      <th>device</th>\n",
              "      <th>os</th>\n",
              "      <th>channel</th>\n",
              "      <th>click_time</th>\n",
              "      <th>attributed_time</th>\n",
              "      <th>is_attributed</th>\n",
              "    </tr>\n",
              "  </thead>\n",
              "  <tbody>\n",
              "    <tr>\n",
              "      <th>4318</th>\n",
              "      <td>42956</td>\n",
              "      <td>3</td>\n",
              "      <td>1</td>\n",
              "      <td>13</td>\n",
              "      <td>280</td>\n",
              "      <td>2017-11-07 00:38:43</td>\n",
              "      <td>NaN</td>\n",
              "      <td>0</td>\n",
              "    </tr>\n",
              "    <tr>\n",
              "      <th>48670</th>\n",
              "      <td>139024</td>\n",
              "      <td>12</td>\n",
              "      <td>1</td>\n",
              "      <td>13</td>\n",
              "      <td>259</td>\n",
              "      <td>2017-11-07 00:38:43</td>\n",
              "      <td>NaN</td>\n",
              "      <td>0</td>\n",
              "    </tr>\n",
              "    <tr>\n",
              "      <th>58852</th>\n",
              "      <td>22957</td>\n",
              "      <td>3</td>\n",
              "      <td>1</td>\n",
              "      <td>13</td>\n",
              "      <td>173</td>\n",
              "      <td>2017-11-07 00:38:43</td>\n",
              "      <td>NaN</td>\n",
              "      <td>0</td>\n",
              "    </tr>\n",
              "    <tr>\n",
              "      <th>69193</th>\n",
              "      <td>85364</td>\n",
              "      <td>35</td>\n",
              "      <td>1</td>\n",
              "      <td>13</td>\n",
              "      <td>21</td>\n",
              "      <td>2017-11-07 00:38:43</td>\n",
              "      <td>2017-11-07 09:07:51</td>\n",
              "      <td>1</td>\n",
              "    </tr>\n",
              "  </tbody>\n",
              "</table>\n",
              "</div>"
            ],
            "text/plain": [
              "           ip  app  device  os  channel           click_time  \\\n",
              "4318    42956    3       1  13      280  2017-11-07 00:38:43   \n",
              "48670  139024   12       1  13      259  2017-11-07 00:38:43   \n",
              "58852   22957    3       1  13      173  2017-11-07 00:38:43   \n",
              "69193   85364   35       1  13       21  2017-11-07 00:38:43   \n",
              "\n",
              "           attributed_time  is_attributed  \n",
              "4318                   NaN              0  \n",
              "48670                  NaN              0  \n",
              "58852                  NaN              0  \n",
              "69193  2017-11-07 09:07:51              1  "
            ]
          },
          "execution_count": 13,
          "metadata": {},
          "output_type": "execute_result"
        }
      ],
      "source": [
        "for i in train_sample[\"click_time\"].value_counts().index:\n",
        "    subs = train_sample[train_sample[\"click_time\"] == i]\n",
        "    if (subs[\"is_attributed\"] == 1).any():\n",
        "        break\n",
        "subs"
      ]
    },
    {
      "cell_type": "markdown",
      "metadata": {
        "id": "Zz6BxUWyDs2Y"
      },
      "source": [
        "Данные отсортированы по `click_time` и затем по `target`\n",
        "\n",
        "Как это можно использовать?"
      ]
    },
    {
      "cell_type": "markdown",
      "metadata": {
        "id": "ZYHMqCCwDs2Y"
      },
      "source": [
        "## Итоги"
      ]
    },
    {
      "cell_type": "markdown",
      "metadata": {
        "id": "KFpUVgyQDs2Z"
      },
      "source": [
        "Давайте попробуем обобщить, в каких местах нам стоит искать лики.\n",
        "\n",
        "1. Если в соревновании есть файлы, то в метадате этих файлов - их названиях, датах создания и модификации, авторах и тд\n",
        "2. Если в соревновании есть время, проверить, по времени ли данные разбиты на трейн и тест\n",
        "3. Если в соревновании нет времени, попробовать его поискать - вдруг оно где-нибудь отыщется:)\n",
        "4. Если в соревновании есть более крупные айдишники (например, айдишник юзера когда сэмпл - это транзакция) - посмотреть не пересекаются ли они между трейном и тестом\n",
        "5. Посмотреть внимательно, как упорядочены данные в трейне и тесте.\n",
        "6. Если в данных есть пары сэмплов, посмотреть на них внимательно\n",
        "7. При обработке признаков не откидывайте доп.информацию, а лучше создавайте дополнительную фичу."
      ]
    }
  ],
  "metadata": {
    "kernelspec": {
      "display_name": ".venv",
      "language": "python",
      "name": "python3"
    },
    "language_info": {
      "codemirror_mode": {
        "name": "ipython",
        "version": 3
      },
      "file_extension": ".py",
      "mimetype": "text/x-python",
      "name": "python",
      "nbconvert_exporter": "python",
      "pygments_lexer": "ipython3",
      "version": "3.10.12"
    },
    "colab": {
      "provenance": []
    }
  },
  "nbformat": 4,
  "nbformat_minor": 0
}