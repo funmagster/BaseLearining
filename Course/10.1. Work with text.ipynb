{
  "cells": [
    {
      "cell_type": "markdown",
      "metadata": {
        "id": "DUotKHRULVPD"
      },
      "source": [
        "# Работа с текстом: мешок слов, tf-idf, предобработка текста."
      ]
    },
    {
      "cell_type": "markdown",
      "metadata": {
        "id": "Trg6nPUoLVPH"
      },
      "source": [
        "... или зачем нужна предобработка. Источник: Высшая школа экономики.\n",
        "[![Open In Colab](https://colab.research.google.com/assets/colab-badge.svg)](https://colab.research.google.com/drive/10_Aehfbxgr3fxXPgI1gM5BTU8yOy-Z4U)"
      ]
    },
    {
      "cell_type": "markdown",
      "metadata": {
        "id": "8ba5Z02VLVPK"
      },
      "source": [
        "## Задача: классификация твитов по тональности\n",
        "\n",
        "У нас есть датасет из твитов, про каждый указано, как он эмоционально окрашен: положительно или отрицательно. Задача: предсказывать эмоциональную окраску.\n",
        "\n",
        "Классификацию по тональности используют в рекомендательных системах, чтобы понять, понравилось ли людям кафе, кино, etc.\n",
        "\n",
        "Скачиваем куски датасета ([источник](http://study.mokoron.com/)): [положительные](https://www.dropbox.com/s/fnpq3z4bcnoktiv/positive.csv?dl=0), [отрицательные](https://www.dropbox.com/s/r6u59ljhhjdg6j0/negative.csv)."
      ]
    },
    {
      "cell_type": "code",
      "execution_count": null,
      "metadata": {
        "colab": {
          "base_uri": "https://localhost:8080/"
        },
        "collapsed": true,
        "id": "2zHB70n5LVPN",
        "outputId": "d8358846-634c-40c0-80d5-4fb935938499"
      },
      "outputs": [
        {
          "output_type": "stream",
          "name": "stdout",
          "text": [
            "--2025-03-11 12:38:52--  https://www.dropbox.com/s/fnpq3z4bcnoktiv/positive.csv\n",
            "Resolving www.dropbox.com (www.dropbox.com)... 162.125.5.18, 2620:100:601d:18::a27d:512\n",
            "Connecting to www.dropbox.com (www.dropbox.com)|162.125.5.18|:443... connected.\n",
            "HTTP request sent, awaiting response... 302 Found\n",
            "Location: https://www.dropbox.com/scl/fi/6mg7rw3wltux83q2o4ah4/positive.csv?rlkey=cvruhzofza9kkfxwzyp2vskfd [following]\n",
            "--2025-03-11 12:38:52--  https://www.dropbox.com/scl/fi/6mg7rw3wltux83q2o4ah4/positive.csv?rlkey=cvruhzofza9kkfxwzyp2vskfd\n",
            "Reusing existing connection to www.dropbox.com:443.\n",
            "HTTP request sent, awaiting response... 302 Found\n",
            "Location: https://uc2bbe31e0fd614db1fadb619b81.dl.dropboxusercontent.com/cd/0/inline/Clo0mVzWqhHGX4Y8GogeY6F4M6ro2Ls3dT9oStUK6gGzO4JpAetKfS4_KSJzGxrlae3DNCpr0Wtehiap1xDcEPTQGYwLwBwDVO4TK3OmVR3FnT2yx6XZzL7Z8xcdFTxCrBQ/file# [following]\n",
            "--2025-03-11 12:38:53--  https://uc2bbe31e0fd614db1fadb619b81.dl.dropboxusercontent.com/cd/0/inline/Clo0mVzWqhHGX4Y8GogeY6F4M6ro2Ls3dT9oStUK6gGzO4JpAetKfS4_KSJzGxrlae3DNCpr0Wtehiap1xDcEPTQGYwLwBwDVO4TK3OmVR3FnT2yx6XZzL7Z8xcdFTxCrBQ/file\n",
            "Resolving uc2bbe31e0fd614db1fadb619b81.dl.dropboxusercontent.com (uc2bbe31e0fd614db1fadb619b81.dl.dropboxusercontent.com)... 162.125.5.15, 2620:100:601d:15::a27d:50f\n",
            "Connecting to uc2bbe31e0fd614db1fadb619b81.dl.dropboxusercontent.com (uc2bbe31e0fd614db1fadb619b81.dl.dropboxusercontent.com)|162.125.5.15|:443... connected.\n",
            "HTTP request sent, awaiting response... 200 OK\n",
            "Length: 26233379 (25M) [text/plain]\n",
            "Saving to: ‘positive.csv.5’\n",
            "\n",
            "positive.csv.5      100%[===================>]  25.02M  54.7MB/s    in 0.5s    \n",
            "\n",
            "2025-03-11 12:38:54 (54.7 MB/s) - ‘positive.csv.5’ saved [26233379/26233379]\n",
            "\n",
            "--2025-03-11 12:38:54--  https://www.dropbox.com/s/r6u59ljhhjdg6j0/negative.csv\n",
            "Resolving www.dropbox.com (www.dropbox.com)... 162.125.5.18, 2620:100:601d:18::a27d:512\n",
            "Connecting to www.dropbox.com (www.dropbox.com)|162.125.5.18|:443... connected.\n",
            "HTTP request sent, awaiting response... 302 Found\n",
            "Location: https://www.dropbox.com/scl/fi/wui0xz78kpna56690uej4/negative.csv?rlkey=309xeou9u3rtbejw9stb13wfr [following]\n",
            "--2025-03-11 12:38:54--  https://www.dropbox.com/scl/fi/wui0xz78kpna56690uej4/negative.csv?rlkey=309xeou9u3rtbejw9stb13wfr\n",
            "Reusing existing connection to www.dropbox.com:443.\n",
            "HTTP request sent, awaiting response... 302 Found\n",
            "Location: https://uc4ea8650b4bb908b554cd79be1c.dl.dropboxusercontent.com/cd/0/inline/ClpR5H5bI2kwXVMmm7dEvx4yHsEwKM0j9FFqGLRRUZyny-BFSoPbl7sgqy8mtJ-I8vf66-xaHw3xEXk1piJ_oJdInGf0nXhKPta-qfJrornKGuNkt4OF84x1O4I1cq9QmWc/file# [following]\n",
            "--2025-03-11 12:38:55--  https://uc4ea8650b4bb908b554cd79be1c.dl.dropboxusercontent.com/cd/0/inline/ClpR5H5bI2kwXVMmm7dEvx4yHsEwKM0j9FFqGLRRUZyny-BFSoPbl7sgqy8mtJ-I8vf66-xaHw3xEXk1piJ_oJdInGf0nXhKPta-qfJrornKGuNkt4OF84x1O4I1cq9QmWc/file\n",
            "Resolving uc4ea8650b4bb908b554cd79be1c.dl.dropboxusercontent.com (uc4ea8650b4bb908b554cd79be1c.dl.dropboxusercontent.com)... 162.125.5.15, 2620:100:601d:15::a27d:50f\n",
            "Connecting to uc4ea8650b4bb908b554cd79be1c.dl.dropboxusercontent.com (uc4ea8650b4bb908b554cd79be1c.dl.dropboxusercontent.com)|162.125.5.15|:443... connected.\n",
            "HTTP request sent, awaiting response... 200 OK\n",
            "Length: 24450101 (23M) [text/plain]\n",
            "Saving to: ‘negative.csv.5’\n",
            "\n",
            "negative.csv.5      100%[===================>]  23.32M  63.4MB/s    in 0.4s    \n",
            "\n",
            "2025-03-11 12:38:56 (63.4 MB/s) - ‘negative.csv.5’ saved [24450101/24450101]\n",
            "\n"
          ]
        }
      ],
      "source": [
        "# если у вас линукс / мак / collab или ещё какая-то среда, в которой работает wget, можно так:\n",
        "!wget https://www.dropbox.com/s/fnpq3z4bcnoktiv/positive.csv\n",
        "!wget https://www.dropbox.com/s/r6u59ljhhjdg6j0/negative.csv"
      ]
    },
    {
      "cell_type": "code",
      "execution_count": null,
      "metadata": {
        "id": "J5YiZNCPLVPe"
      },
      "outputs": [],
      "source": [
        "import pandas as pd\n",
        "import numpy as np\n",
        "from sklearn.metrics import *\n",
        "from sklearn.model_selection import train_test_split\n",
        "from sklearn.pipeline import Pipeline"
      ]
    },
    {
      "cell_type": "code",
      "execution_count": null,
      "metadata": {
        "id": "DFLtXAZ-LVPq"
      },
      "outputs": [],
      "source": [
        "# считываем данные и заполняем общий датасет\n",
        "positive = pd.read_csv('positive.csv', sep=';', usecols=[3], names=['text'])\n",
        "positive['label'] = ['positive'] * len(positive)\n",
        "negative = pd.read_csv('negative.csv', sep=';', usecols=[3], names=['text'])\n",
        "negative['label'] = ['negative'] * len(negative)\n",
        "df = pd.concat([positive, negative])"
      ]
    },
    {
      "cell_type": "code",
      "execution_count": null,
      "metadata": {
        "colab": {
          "base_uri": "https://localhost:8080/",
          "height": 247
        },
        "id": "j1AEISlBLVP0",
        "outputId": "54bbb692-1e5f-44ad-c067-0eb4e7a59cda"
      },
      "outputs": [
        {
          "output_type": "execute_result",
          "data": {
            "text/plain": [
              "                                                     text     label\n",
              "111918  Но не каждый хочет что то исправлять:( http://...  negative\n",
              "111919  скучаю так :-( только @taaannyaaa вправляет мо...  negative\n",
              "111920          Вот и в школу, в говно это идти уже надо(  negative\n",
              "111921  RT @_Them__: @LisaBeroud Тауриэль, не грусти :...  negative\n",
              "111922  Такси везет меня на работу. Раздумываю приплат...  negative"
            ],
            "text/html": [
              "\n",
              "  <div id=\"df-f786aeb8-37a2-44f2-8c09-3de2d7f85b31\" class=\"colab-df-container\">\n",
              "    <div>\n",
              "<style scoped>\n",
              "    .dataframe tbody tr th:only-of-type {\n",
              "        vertical-align: middle;\n",
              "    }\n",
              "\n",
              "    .dataframe tbody tr th {\n",
              "        vertical-align: top;\n",
              "    }\n",
              "\n",
              "    .dataframe thead th {\n",
              "        text-align: right;\n",
              "    }\n",
              "</style>\n",
              "<table border=\"1\" class=\"dataframe\">\n",
              "  <thead>\n",
              "    <tr style=\"text-align: right;\">\n",
              "      <th></th>\n",
              "      <th>text</th>\n",
              "      <th>label</th>\n",
              "    </tr>\n",
              "  </thead>\n",
              "  <tbody>\n",
              "    <tr>\n",
              "      <th>111918</th>\n",
              "      <td>Но не каждый хочет что то исправлять:( http://...</td>\n",
              "      <td>negative</td>\n",
              "    </tr>\n",
              "    <tr>\n",
              "      <th>111919</th>\n",
              "      <td>скучаю так :-( только @taaannyaaa вправляет мо...</td>\n",
              "      <td>negative</td>\n",
              "    </tr>\n",
              "    <tr>\n",
              "      <th>111920</th>\n",
              "      <td>Вот и в школу, в говно это идти уже надо(</td>\n",
              "      <td>negative</td>\n",
              "    </tr>\n",
              "    <tr>\n",
              "      <th>111921</th>\n",
              "      <td>RT @_Them__: @LisaBeroud Тауриэль, не грусти :...</td>\n",
              "      <td>negative</td>\n",
              "    </tr>\n",
              "    <tr>\n",
              "      <th>111922</th>\n",
              "      <td>Такси везет меня на работу. Раздумываю приплат...</td>\n",
              "      <td>negative</td>\n",
              "    </tr>\n",
              "  </tbody>\n",
              "</table>\n",
              "</div>\n",
              "    <div class=\"colab-df-buttons\">\n",
              "\n",
              "  <div class=\"colab-df-container\">\n",
              "    <button class=\"colab-df-convert\" onclick=\"convertToInteractive('df-f786aeb8-37a2-44f2-8c09-3de2d7f85b31')\"\n",
              "            title=\"Convert this dataframe to an interactive table.\"\n",
              "            style=\"display:none;\">\n",
              "\n",
              "  <svg xmlns=\"http://www.w3.org/2000/svg\" height=\"24px\" viewBox=\"0 -960 960 960\">\n",
              "    <path d=\"M120-120v-720h720v720H120Zm60-500h600v-160H180v160Zm220 220h160v-160H400v160Zm0 220h160v-160H400v160ZM180-400h160v-160H180v160Zm440 0h160v-160H620v160ZM180-180h160v-160H180v160Zm440 0h160v-160H620v160Z\"/>\n",
              "  </svg>\n",
              "    </button>\n",
              "\n",
              "  <style>\n",
              "    .colab-df-container {\n",
              "      display:flex;\n",
              "      gap: 12px;\n",
              "    }\n",
              "\n",
              "    .colab-df-convert {\n",
              "      background-color: #E8F0FE;\n",
              "      border: none;\n",
              "      border-radius: 50%;\n",
              "      cursor: pointer;\n",
              "      display: none;\n",
              "      fill: #1967D2;\n",
              "      height: 32px;\n",
              "      padding: 0 0 0 0;\n",
              "      width: 32px;\n",
              "    }\n",
              "\n",
              "    .colab-df-convert:hover {\n",
              "      background-color: #E2EBFA;\n",
              "      box-shadow: 0px 1px 2px rgba(60, 64, 67, 0.3), 0px 1px 3px 1px rgba(60, 64, 67, 0.15);\n",
              "      fill: #174EA6;\n",
              "    }\n",
              "\n",
              "    .colab-df-buttons div {\n",
              "      margin-bottom: 4px;\n",
              "    }\n",
              "\n",
              "    [theme=dark] .colab-df-convert {\n",
              "      background-color: #3B4455;\n",
              "      fill: #D2E3FC;\n",
              "    }\n",
              "\n",
              "    [theme=dark] .colab-df-convert:hover {\n",
              "      background-color: #434B5C;\n",
              "      box-shadow: 0px 1px 3px 1px rgba(0, 0, 0, 0.15);\n",
              "      filter: drop-shadow(0px 1px 2px rgba(0, 0, 0, 0.3));\n",
              "      fill: #FFFFFF;\n",
              "    }\n",
              "  </style>\n",
              "\n",
              "    <script>\n",
              "      const buttonEl =\n",
              "        document.querySelector('#df-f786aeb8-37a2-44f2-8c09-3de2d7f85b31 button.colab-df-convert');\n",
              "      buttonEl.style.display =\n",
              "        google.colab.kernel.accessAllowed ? 'block' : 'none';\n",
              "\n",
              "      async function convertToInteractive(key) {\n",
              "        const element = document.querySelector('#df-f786aeb8-37a2-44f2-8c09-3de2d7f85b31');\n",
              "        const dataTable =\n",
              "          await google.colab.kernel.invokeFunction('convertToInteractive',\n",
              "                                                    [key], {});\n",
              "        if (!dataTable) return;\n",
              "\n",
              "        const docLinkHtml = 'Like what you see? Visit the ' +\n",
              "          '<a target=\"_blank\" href=https://colab.research.google.com/notebooks/data_table.ipynb>data table notebook</a>'\n",
              "          + ' to learn more about interactive tables.';\n",
              "        element.innerHTML = '';\n",
              "        dataTable['output_type'] = 'display_data';\n",
              "        await google.colab.output.renderOutput(dataTable, element);\n",
              "        const docLink = document.createElement('div');\n",
              "        docLink.innerHTML = docLinkHtml;\n",
              "        element.appendChild(docLink);\n",
              "      }\n",
              "    </script>\n",
              "  </div>\n",
              "\n",
              "\n",
              "<div id=\"df-561efef1-fc7e-4b9d-b154-7a06a896419b\">\n",
              "  <button class=\"colab-df-quickchart\" onclick=\"quickchart('df-561efef1-fc7e-4b9d-b154-7a06a896419b')\"\n",
              "            title=\"Suggest charts\"\n",
              "            style=\"display:none;\">\n",
              "\n",
              "<svg xmlns=\"http://www.w3.org/2000/svg\" height=\"24px\"viewBox=\"0 0 24 24\"\n",
              "     width=\"24px\">\n",
              "    <g>\n",
              "        <path d=\"M19 3H5c-1.1 0-2 .9-2 2v14c0 1.1.9 2 2 2h14c1.1 0 2-.9 2-2V5c0-1.1-.9-2-2-2zM9 17H7v-7h2v7zm4 0h-2V7h2v10zm4 0h-2v-4h2v4z\"/>\n",
              "    </g>\n",
              "</svg>\n",
              "  </button>\n",
              "\n",
              "<style>\n",
              "  .colab-df-quickchart {\n",
              "      --bg-color: #E8F0FE;\n",
              "      --fill-color: #1967D2;\n",
              "      --hover-bg-color: #E2EBFA;\n",
              "      --hover-fill-color: #174EA6;\n",
              "      --disabled-fill-color: #AAA;\n",
              "      --disabled-bg-color: #DDD;\n",
              "  }\n",
              "\n",
              "  [theme=dark] .colab-df-quickchart {\n",
              "      --bg-color: #3B4455;\n",
              "      --fill-color: #D2E3FC;\n",
              "      --hover-bg-color: #434B5C;\n",
              "      --hover-fill-color: #FFFFFF;\n",
              "      --disabled-bg-color: #3B4455;\n",
              "      --disabled-fill-color: #666;\n",
              "  }\n",
              "\n",
              "  .colab-df-quickchart {\n",
              "    background-color: var(--bg-color);\n",
              "    border: none;\n",
              "    border-radius: 50%;\n",
              "    cursor: pointer;\n",
              "    display: none;\n",
              "    fill: var(--fill-color);\n",
              "    height: 32px;\n",
              "    padding: 0;\n",
              "    width: 32px;\n",
              "  }\n",
              "\n",
              "  .colab-df-quickchart:hover {\n",
              "    background-color: var(--hover-bg-color);\n",
              "    box-shadow: 0 1px 2px rgba(60, 64, 67, 0.3), 0 1px 3px 1px rgba(60, 64, 67, 0.15);\n",
              "    fill: var(--button-hover-fill-color);\n",
              "  }\n",
              "\n",
              "  .colab-df-quickchart-complete:disabled,\n",
              "  .colab-df-quickchart-complete:disabled:hover {\n",
              "    background-color: var(--disabled-bg-color);\n",
              "    fill: var(--disabled-fill-color);\n",
              "    box-shadow: none;\n",
              "  }\n",
              "\n",
              "  .colab-df-spinner {\n",
              "    border: 2px solid var(--fill-color);\n",
              "    border-color: transparent;\n",
              "    border-bottom-color: var(--fill-color);\n",
              "    animation:\n",
              "      spin 1s steps(1) infinite;\n",
              "  }\n",
              "\n",
              "  @keyframes spin {\n",
              "    0% {\n",
              "      border-color: transparent;\n",
              "      border-bottom-color: var(--fill-color);\n",
              "      border-left-color: var(--fill-color);\n",
              "    }\n",
              "    20% {\n",
              "      border-color: transparent;\n",
              "      border-left-color: var(--fill-color);\n",
              "      border-top-color: var(--fill-color);\n",
              "    }\n",
              "    30% {\n",
              "      border-color: transparent;\n",
              "      border-left-color: var(--fill-color);\n",
              "      border-top-color: var(--fill-color);\n",
              "      border-right-color: var(--fill-color);\n",
              "    }\n",
              "    40% {\n",
              "      border-color: transparent;\n",
              "      border-right-color: var(--fill-color);\n",
              "      border-top-color: var(--fill-color);\n",
              "    }\n",
              "    60% {\n",
              "      border-color: transparent;\n",
              "      border-right-color: var(--fill-color);\n",
              "    }\n",
              "    80% {\n",
              "      border-color: transparent;\n",
              "      border-right-color: var(--fill-color);\n",
              "      border-bottom-color: var(--fill-color);\n",
              "    }\n",
              "    90% {\n",
              "      border-color: transparent;\n",
              "      border-bottom-color: var(--fill-color);\n",
              "    }\n",
              "  }\n",
              "</style>\n",
              "\n",
              "  <script>\n",
              "    async function quickchart(key) {\n",
              "      const quickchartButtonEl =\n",
              "        document.querySelector('#' + key + ' button');\n",
              "      quickchartButtonEl.disabled = true;  // To prevent multiple clicks.\n",
              "      quickchartButtonEl.classList.add('colab-df-spinner');\n",
              "      try {\n",
              "        const charts = await google.colab.kernel.invokeFunction(\n",
              "            'suggestCharts', [key], {});\n",
              "      } catch (error) {\n",
              "        console.error('Error during call to suggestCharts:', error);\n",
              "      }\n",
              "      quickchartButtonEl.classList.remove('colab-df-spinner');\n",
              "      quickchartButtonEl.classList.add('colab-df-quickchart-complete');\n",
              "    }\n",
              "    (() => {\n",
              "      let quickchartButtonEl =\n",
              "        document.querySelector('#df-561efef1-fc7e-4b9d-b154-7a06a896419b button');\n",
              "      quickchartButtonEl.style.display =\n",
              "        google.colab.kernel.accessAllowed ? 'block' : 'none';\n",
              "    })();\n",
              "  </script>\n",
              "</div>\n",
              "    </div>\n",
              "  </div>\n"
            ],
            "application/vnd.google.colaboratory.intrinsic+json": {
              "type": "dataframe",
              "summary": "{\n  \"name\": \"df\",\n  \"rows\": 5,\n  \"fields\": [\n    {\n      \"column\": \"text\",\n      \"properties\": {\n        \"dtype\": \"string\",\n        \"num_unique_values\": 5,\n        \"samples\": [\n          \"\\u0441\\u043a\\u0443\\u0447\\u0430\\u044e \\u0442\\u0430\\u043a :-( \\u0442\\u043e\\u043b\\u044c\\u043a\\u043e @taaannyaaa \\u0432\\u043f\\u0440\\u0430\\u0432\\u043b\\u044f\\u0435\\u0442 \\u043c\\u043e\\u0437\\u0433\\u0438, \\u043d\\u043e \\u044f \\u0432\\u0441\\u0435 \\u0440\\u0430\\u0432\\u043d\\u043e \\u0441\\u043a\\u0443\\u0447\\u0430\\u044e\",\n          \"\\u0422\\u0430\\u043a\\u0441\\u0438 \\u0432\\u0435\\u0437\\u0435\\u0442 \\u043c\\u0435\\u043d\\u044f \\u043d\\u0430 \\u0440\\u0430\\u0431\\u043e\\u0442\\u0443. \\u0420\\u0430\\u0437\\u0434\\u0443\\u043c\\u044b\\u0432\\u0430\\u044e \\u043f\\u0440\\u0438\\u043f\\u043b\\u0430\\u0442\\u0438\\u0442\\u044c, \\u0447\\u0442\\u043e\\u0431\\u044b \\u043c\\u0435\\u043d\\u044f \\u0432\\u0442\\u0430\\u0449\\u0438\\u043b\\u0438 \\u043d\\u0430 \\u043f\\u044f\\u0442\\u044b\\u0439 \\u044d\\u0442\\u0430\\u0436. \\u041b\\u0438\\u0444\\u0442\\u0430 \\u0442\\u043e \\u043d\\u0435\\u0442 :(\",\n          \"\\u0412\\u043e\\u0442 \\u0438 \\u0432 \\u0448\\u043a\\u043e\\u043b\\u0443, \\u0432 \\u0433\\u043e\\u0432\\u043d\\u043e \\u044d\\u0442\\u043e \\u0438\\u0434\\u0442\\u0438 \\u0443\\u0436\\u0435 \\u043d\\u0430\\u0434\\u043e(\"\n        ],\n        \"semantic_type\": \"\",\n        \"description\": \"\"\n      }\n    },\n    {\n      \"column\": \"label\",\n      \"properties\": {\n        \"dtype\": \"category\",\n        \"num_unique_values\": 1,\n        \"samples\": [\n          \"negative\"\n        ],\n        \"semantic_type\": \"\",\n        \"description\": \"\"\n      }\n    }\n  ]\n}"
            }
          },
          "metadata": {},
          "execution_count": 21
        }
      ],
      "source": [
        "df.tail()"
      ]
    },
    {
      "cell_type": "code",
      "execution_count": null,
      "metadata": {
        "id": "ZWta7oDgLVP8"
      },
      "outputs": [],
      "source": [
        "x_train, x_test, y_train, y_test = train_test_split(df.text, df.label)"
      ]
    },
    {
      "cell_type": "markdown",
      "metadata": {
        "id": "tAapBC7VLVQC"
      },
      "source": [
        "## Baseline: классификация необработанных n-грамм\n",
        "\n",
        "### Векторизаторы"
      ]
    },
    {
      "cell_type": "code",
      "execution_count": null,
      "metadata": {
        "id": "M-AvVt8XLVQD"
      },
      "outputs": [],
      "source": [
        "from sklearn.linear_model import LogisticRegression # можно заменить на любимый классификатор\n",
        "from sklearn.feature_extraction.text import CountVectorizer"
      ]
    },
    {
      "cell_type": "markdown",
      "metadata": {
        "id": "GSuoVoxcLVQI"
      },
      "source": [
        "Что такое n-граммы?\n",
        "\n",
        "N-грамма — последовательность из `n` элементов. С семантической точки зрения это может быть последовательность звуков, слогов, слов или букв. На практике чаще встречается N-грамма как ряд слов, устойчивые словосочетания называют коллокацией. Последовательность из двух последовательных элементов часто называют биграмма, последовательность из трёх элементов называется - триграмма. Не менее четырёх и выше элементов обозначается как N-грамма, N заменяется на количество последовательных элементов."
      ]
    },
    {
      "cell_type": "code",
      "execution_count": null,
      "metadata": {
        "id": "zeNA7732LVQJ"
      },
      "outputs": [],
      "source": [
        "from nltk import ngrams"
      ]
    },
    {
      "cell_type": "code",
      "execution_count": null,
      "metadata": {
        "colab": {
          "base_uri": "https://localhost:8080/"
        },
        "id": "NeApDOmrLVQN",
        "outputId": "a0482436-b352-4b03-85b2-19809c78b775"
      },
      "outputs": [
        {
          "output_type": "execute_result",
          "data": {
            "text/plain": [
              "[('я',), ('знаю',), ('точно',), ('невозможное',), ('возможно',)]"
            ]
          },
          "metadata": {},
          "execution_count": 26
        }
      ],
      "source": [
        "sent = 'я знаю точно невозможное возможно'.split()\n",
        "list(ngrams(sent, 1)) # униграммы"
      ]
    },
    {
      "cell_type": "code",
      "execution_count": null,
      "metadata": {
        "colab": {
          "base_uri": "https://localhost:8080/"
        },
        "id": "OPAS0fS-LVQQ",
        "outputId": "ba4a39fe-1c83-419f-ea55-850622f20e1f"
      },
      "outputs": [
        {
          "output_type": "execute_result",
          "data": {
            "text/plain": [
              "[('я', 'знаю'),\n",
              " ('знаю', 'точно'),\n",
              " ('точно', 'невозможное'),\n",
              " ('невозможное', 'возможно')]"
            ]
          },
          "metadata": {},
          "execution_count": 27
        }
      ],
      "source": [
        "list(ngrams(sent, 2)) # биграммы"
      ]
    },
    {
      "cell_type": "code",
      "execution_count": null,
      "metadata": {
        "colab": {
          "base_uri": "https://localhost:8080/"
        },
        "id": "d77jmVPhLVQU",
        "outputId": "434d7e63-77cb-4dac-c1d0-74818a91efaa"
      },
      "outputs": [
        {
          "output_type": "execute_result",
          "data": {
            "text/plain": [
              "[('я', 'знаю', 'точно'),\n",
              " ('знаю', 'точно', 'невозможное'),\n",
              " ('точно', 'невозможное', 'возможно')]"
            ]
          },
          "metadata": {},
          "execution_count": 28
        }
      ],
      "source": [
        "list(ngrams(sent, 3)) # триграммы"
      ]
    },
    {
      "cell_type": "code",
      "execution_count": null,
      "metadata": {
        "colab": {
          "base_uri": "https://localhost:8080/"
        },
        "id": "5xXTBrGELVQX",
        "outputId": "bb181512-dbc7-4ec6-eda7-87b07c2bac43"
      },
      "outputs": [
        {
          "output_type": "execute_result",
          "data": {
            "text/plain": [
              "[('я', 'знаю', 'точно', 'невозможное', 'возможно')]"
            ]
          },
          "metadata": {},
          "execution_count": 29
        }
      ],
      "source": [
        "list(ngrams(sent, 5)) # ... пентаграммы?"
      ]
    },
    {
      "cell_type": "markdown",
      "metadata": {
        "id": "eHGJBEm-LVQb"
      },
      "source": [
        "Самый простой способ извлечь признаки из текстовых данных -- векторизаторы: `CountVectorizer` и `TfidfVectorizer`\n",
        "\n",
        "Объект `CountVectorizer` делает простую вещь:\n",
        "* строит для каждого документа (каждой пришедшей ему строки) вектор размерности `n`, где `n` -- количество слов или n-грам во всём корпусе\n",
        "* заполняет каждый i-тый элемент количеством вхождений слова в данный документ\n",
        "\n",
        "По другому эта модель называется **мешок слов** (bag of words)."
      ]
    },
    {
      "cell_type": "markdown",
      "metadata": {
        "id": "r7OlicAAQJru"
      },
      "source": [
        "![image.png](data:image/png;base64,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)"
      ]
    },
    {
      "cell_type": "markdown",
      "metadata": {
        "id": "Bc6Qu77YQOFX"
      },
      "source": [
        "[Источник картинки](https://habr.com/ru/companies/oleg-bunin/articles/352614/)"
      ]
    },
    {
      "cell_type": "code",
      "execution_count": null,
      "metadata": {
        "id": "eMqZFBTgLVQb"
      },
      "outputs": [],
      "source": [
        "vec = CountVectorizer(ngram_range=(1, 1))\n",
        "bow = vec.fit_transform(x_train) # bow -- bag of words (мешок слов)"
      ]
    },
    {
      "cell_type": "markdown",
      "metadata": {
        "id": "AZkpqVtILVQe"
      },
      "source": [
        "ngram_range отвечает за то, какие n-граммы мы используем в качестве признаков:<br/>\n",
        "ngram_range=(1, 1) -- униграммы<br/>\n",
        "ngram_range=(3, 3) -- триграммы<br/>\n",
        "ngram_range=(1, 3) -- униграммы, биграммы и триграммы.\n",
        "\n",
        "В vec.vocabulary_ лежит отображение слов к их индексам:"
      ]
    },
    {
      "cell_type": "code",
      "execution_count": null,
      "metadata": {
        "colab": {
          "base_uri": "https://localhost:8080/"
        },
        "id": "hWRtOSzKLVQf",
        "outputId": "ca011007-5ed1-4fdf-ab51-dc9e22f7bcd8"
      },
      "outputs": [
        {
          "output_type": "execute_result",
          "data": {
            "text/plain": [
              "[('включила', 112998),\n",
              " ('грустную', 122280),\n",
              " ('музыку', 160907),\n",
              " ('настроения', 164651),\n",
              " ('нет', 167738),\n",
              " ('пусть', 198694),\n",
              " ('на', 161842),\n",
              " ('улице', 227094),\n",
              " ('снег', 212104),\n",
              " ('душе', 129182)]"
            ]
          },
          "metadata": {},
          "execution_count": 31
        }
      ],
      "source": [
        "list(vec.vocabulary_.items())[:10]"
      ]
    },
    {
      "cell_type": "code",
      "execution_count": null,
      "metadata": {
        "colab": {
          "base_uri": "https://localhost:8080/"
        },
        "id": "E6dtU7TpdGee",
        "outputId": "03d924bb-1df3-455c-9a4e-eec431e7ff5f"
      },
      "outputs": [
        {
          "output_type": "execute_result",
          "data": {
            "text/plain": [
              "[('tyteas_laal', 85713),\n",
              " ('нейтральная', 166502),\n",
              " ('warmer', 91217),\n",
              " ('darsergeevna', 23562),\n",
              " ('чырвонымі', 238002),\n",
              " ('шчакамі', 239931),\n",
              " ('бадзерая', 103040),\n",
              " ('сцвярджае', 218557),\n",
              " ('праверым', 191927),\n",
              " ('абароне', 97819)]"
            ]
          },
          "metadata": {},
          "execution_count": 32
        }
      ],
      "source": [
        "list(vec.vocabulary_.items())[-10:]"
      ]
    },
    {
      "cell_type": "code",
      "execution_count": null,
      "metadata": {
        "colab": {
          "base_uri": "https://localhost:8080/"
        },
        "id": "QExa1eb5-hco",
        "outputId": "5c2e72d3-dcff-4cf2-fefc-9e1e14dec6bb"
      },
      "outputs": [
        {
          "output_type": "execute_result",
          "data": {
            "text/plain": [
              "243745"
            ]
          },
          "metadata": {},
          "execution_count": 33
        }
      ],
      "source": [
        "len(vec.vocabulary_.items())"
      ]
    },
    {
      "cell_type": "markdown",
      "metadata": {
        "id": "aBrZpT1uSgem"
      },
      "source": [
        "Для оптимизации памяти матрица мешка слов хранится в формате csr_matrix. это класс в библиотеке SciPy, который представляет собой разреженную матрицу в формате Compressed Sparse Row (CSR). В этом типе данных сохраняются только ненулевые элеменгты матрицы в формате: (строка, столбец) значение."
      ]
    },
    {
      "cell_type": "code",
      "execution_count": null,
      "metadata": {
        "colab": {
          "base_uri": "https://localhost:8080/",
          "height": 187
        },
        "id": "H0SX0aofdpb_",
        "outputId": "62b7023e-8ed7-4cb9-d9bb-61e8e1945984"
      },
      "outputs": [
        {
          "output_type": "execute_result",
          "data": {
            "text/plain": [
              "scipy.sparse._csr.csr_matrix"
            ],
            "text/html": [
              "<div style=\"max-width:800px; border: 1px solid var(--colab-border-color);\"><style>\n",
              "      pre.function-repr-contents {\n",
              "        overflow-x: auto;\n",
              "        padding: 8px 12px;\n",
              "        max-height: 500px;\n",
              "      }\n",
              "\n",
              "      pre.function-repr-contents.function-repr-contents-collapsed {\n",
              "        cursor: pointer;\n",
              "        max-height: 100px;\n",
              "      }\n",
              "    </style>\n",
              "    <pre style=\"white-space: initial; background:\n",
              "         var(--colab-secondary-surface-color); padding: 8px 12px;\n",
              "         border-bottom: 1px solid var(--colab-border-color);\"><b>scipy.sparse._csr.csr_matrix</b><br/>def __init__(arg1, shape=None, dtype=None, copy=False)</pre><pre class=\"function-repr-contents function-repr-contents-collapsed\" style=\"\"><a class=\"filepath\" style=\"display:none\" href=\"#\">/usr/local/lib/python3.11/dist-packages/scipy/sparse/_csr.py</a>Compressed Sparse Row matrix.\n",
              "\n",
              "This can be instantiated in several ways:\n",
              "    csr_matrix(D)\n",
              "        where D is a 2-D ndarray\n",
              "\n",
              "    csr_matrix(S)\n",
              "        with another sparse array or matrix S (equivalent to S.tocsr())\n",
              "\n",
              "    csr_matrix((M, N), [dtype])\n",
              "        to construct an empty matrix with shape (M, N)\n",
              "        dtype is optional, defaulting to dtype=&#x27;d&#x27;.\n",
              "\n",
              "    csr_matrix((data, (row_ind, col_ind)), [shape=(M, N)])\n",
              "        where ``data``, ``row_ind`` and ``col_ind`` satisfy the\n",
              "        relationship ``a[row_ind[k], col_ind[k]] = data[k]``.\n",
              "\n",
              "    csr_matrix((data, indices, indptr), [shape=(M, N)])\n",
              "        is the standard CSR representation where the column indices for\n",
              "        row i are stored in ``indices[indptr[i]:indptr[i+1]]`` and their\n",
              "        corresponding values are stored in ``data[indptr[i]:indptr[i+1]]``.\n",
              "        If the shape parameter is not supplied, the matrix dimensions\n",
              "        are inferred from the index arrays.\n",
              "\n",
              "Attributes\n",
              "----------\n",
              "dtype : dtype\n",
              "    Data type of the matrix\n",
              "shape : 2-tuple\n",
              "    Shape of the matrix\n",
              "ndim : int\n",
              "    Number of dimensions (this is always 2)\n",
              "nnz\n",
              "size\n",
              "data\n",
              "    CSR format data array of the matrix\n",
              "indices\n",
              "    CSR format index array of the matrix\n",
              "indptr\n",
              "    CSR format index pointer array of the matrix\n",
              "has_sorted_indices\n",
              "has_canonical_format\n",
              "T\n",
              "\n",
              "Notes\n",
              "-----\n",
              "\n",
              "Sparse matrices can be used in arithmetic operations: they support\n",
              "addition, subtraction, multiplication, division, and matrix power.\n",
              "\n",
              "Advantages of the CSR format\n",
              "  - efficient arithmetic operations CSR + CSR, CSR * CSR, etc.\n",
              "  - efficient row slicing\n",
              "  - fast matrix vector products\n",
              "\n",
              "Disadvantages of the CSR format\n",
              "  - slow column slicing operations (consider CSC)\n",
              "  - changes to the sparsity structure are expensive (consider LIL or DOK)\n",
              "\n",
              "Canonical Format\n",
              "    - Within each row, indices are sorted by column.\n",
              "    - There are no duplicate entries.\n",
              "\n",
              "Examples\n",
              "--------\n",
              "\n",
              "&gt;&gt;&gt; import numpy as np\n",
              "&gt;&gt;&gt; from scipy.sparse import csr_matrix\n",
              "&gt;&gt;&gt; csr_matrix((3, 4), dtype=np.int8).toarray()\n",
              "array([[0, 0, 0, 0],\n",
              "       [0, 0, 0, 0],\n",
              "       [0, 0, 0, 0]], dtype=int8)\n",
              "\n",
              "&gt;&gt;&gt; row = np.array([0, 0, 1, 2, 2, 2])\n",
              "&gt;&gt;&gt; col = np.array([0, 2, 2, 0, 1, 2])\n",
              "&gt;&gt;&gt; data = np.array([1, 2, 3, 4, 5, 6])\n",
              "&gt;&gt;&gt; csr_matrix((data, (row, col)), shape=(3, 3)).toarray()\n",
              "array([[1, 0, 2],\n",
              "       [0, 0, 3],\n",
              "       [4, 5, 6]])\n",
              "\n",
              "&gt;&gt;&gt; indptr = np.array([0, 2, 3, 6])\n",
              "&gt;&gt;&gt; indices = np.array([0, 2, 2, 0, 1, 2])\n",
              "&gt;&gt;&gt; data = np.array([1, 2, 3, 4, 5, 6])\n",
              "&gt;&gt;&gt; csr_matrix((data, indices, indptr), shape=(3, 3)).toarray()\n",
              "array([[1, 0, 2],\n",
              "       [0, 0, 3],\n",
              "       [4, 5, 6]])\n",
              "\n",
              "Duplicate entries are summed together:\n",
              "\n",
              "&gt;&gt;&gt; row = np.array([0, 1, 2, 0])\n",
              "&gt;&gt;&gt; col = np.array([0, 1, 1, 0])\n",
              "&gt;&gt;&gt; data = np.array([1, 2, 4, 8])\n",
              "&gt;&gt;&gt; csr_matrix((data, (row, col)), shape=(3, 3)).toarray()\n",
              "array([[9, 0, 0],\n",
              "       [0, 2, 0],\n",
              "       [0, 4, 0]])\n",
              "\n",
              "As an example of how to construct a CSR matrix incrementally,\n",
              "the following snippet builds a term-document matrix from texts:\n",
              "\n",
              "&gt;&gt;&gt; docs = [[&quot;hello&quot;, &quot;world&quot;, &quot;hello&quot;], [&quot;goodbye&quot;, &quot;cruel&quot;, &quot;world&quot;]]\n",
              "&gt;&gt;&gt; indptr = [0]\n",
              "&gt;&gt;&gt; indices = []\n",
              "&gt;&gt;&gt; data = []\n",
              "&gt;&gt;&gt; vocabulary = {}\n",
              "&gt;&gt;&gt; for d in docs:\n",
              "...     for term in d:\n",
              "...         index = vocabulary.setdefault(term, len(vocabulary))\n",
              "...         indices.append(index)\n",
              "...         data.append(1)\n",
              "...     indptr.append(len(indices))\n",
              "...\n",
              "&gt;&gt;&gt; csr_matrix((data, indices, indptr), dtype=int).toarray()\n",
              "array([[2, 1, 0, 0],\n",
              "       [0, 1, 1, 1]])</pre>\n",
              "      <script>\n",
              "      if (google.colab.kernel.accessAllowed && google.colab.files && google.colab.files.view) {\n",
              "        for (const element of document.querySelectorAll('.filepath')) {\n",
              "          element.style.display = 'block'\n",
              "          element.onclick = (event) => {\n",
              "            event.preventDefault();\n",
              "            event.stopPropagation();\n",
              "            google.colab.files.view(element.textContent, 370);\n",
              "          };\n",
              "        }\n",
              "      }\n",
              "      for (const element of document.querySelectorAll('.function-repr-contents')) {\n",
              "        element.onclick = (event) => {\n",
              "          event.preventDefault();\n",
              "          event.stopPropagation();\n",
              "          element.classList.toggle('function-repr-contents-collapsed');\n",
              "        };\n",
              "      }\n",
              "      </script>\n",
              "      </div>"
            ]
          },
          "metadata": {},
          "execution_count": 34
        }
      ],
      "source": [
        "type(bow)"
      ]
    },
    {
      "cell_type": "markdown",
      "metadata": {
        "id": "Xz-gMjDkTbh1"
      },
      "source": [
        "Рассмотрим строку полученной матрицф мешка слов:"
      ]
    },
    {
      "cell_type": "code",
      "execution_count": null,
      "metadata": {
        "colab": {
          "base_uri": "https://localhost:8080/"
        },
        "id": "9sie8j1DRGYn",
        "outputId": "043d824f-018d-4c43-dba6-0a8a59c8b51d"
      },
      "outputs": [
        {
          "output_type": "stream",
          "name": "stdout",
          "text": [
            "  (0, 219815)\t1\n",
            "  (0, 74658)\t1\n",
            "  (0, 84185)\t1\n",
            "  (0, 67828)\t1\n",
            "  (0, 102151)\t1\n",
            "  (0, 111646)\t1\n",
            "  (0, 146154)\t1\n",
            "  (0, 204289)\t1\n",
            "  (0, 222096)\t1\n",
            "  (0, 241059)\t1\n",
            "  (0, 226547)\t1\n"
          ]
        }
      ],
      "source": [
        "row = bow[10, :]\n",
        "print(row)"
      ]
    },
    {
      "cell_type": "code",
      "execution_count": null,
      "metadata": {
        "colab": {
          "base_uri": "https://localhost:8080/"
        },
        "id": "EWqbSn21SaC4",
        "outputId": "5a4aec52-9606-4c8d-a992-e82e3aa99841"
      },
      "outputs": [
        {
          "output_type": "execute_result",
          "data": {
            "text/plain": [
              "(1, 243745)"
            ]
          },
          "metadata": {},
          "execution_count": 36
        }
      ],
      "source": [
        "row.shape"
      ]
    },
    {
      "cell_type": "markdown",
      "metadata": {
        "id": "iOtUBaGGTmFm"
      },
      "source": [
        "### Обучение модели:"
      ]
    },
    {
      "cell_type": "code",
      "execution_count": null,
      "metadata": {
        "colab": {
          "base_uri": "https://localhost:8080/",
          "height": 80
        },
        "id": "hkmX3iBbLVQi",
        "outputId": "5264e459-68ce-4459-e50a-39dcb7fa1144"
      },
      "outputs": [
        {
          "output_type": "execute_result",
          "data": {
            "text/plain": [
              "LogisticRegression(max_iter=10000, random_state=42)"
            ],
            "text/html": [
              "<style>#sk-container-id-1 {\n",
              "  /* Definition of color scheme common for light and dark mode */\n",
              "  --sklearn-color-text: #000;\n",
              "  --sklearn-color-text-muted: #666;\n",
              "  --sklearn-color-line: gray;\n",
              "  /* Definition of color scheme for unfitted estimators */\n",
              "  --sklearn-color-unfitted-level-0: #fff5e6;\n",
              "  --sklearn-color-unfitted-level-1: #f6e4d2;\n",
              "  --sklearn-color-unfitted-level-2: #ffe0b3;\n",
              "  --sklearn-color-unfitted-level-3: chocolate;\n",
              "  /* Definition of color scheme for fitted estimators */\n",
              "  --sklearn-color-fitted-level-0: #f0f8ff;\n",
              "  --sklearn-color-fitted-level-1: #d4ebff;\n",
              "  --sklearn-color-fitted-level-2: #b3dbfd;\n",
              "  --sklearn-color-fitted-level-3: cornflowerblue;\n",
              "\n",
              "  /* Specific color for light theme */\n",
              "  --sklearn-color-text-on-default-background: var(--sg-text-color, var(--theme-code-foreground, var(--jp-content-font-color1, black)));\n",
              "  --sklearn-color-background: var(--sg-background-color, var(--theme-background, var(--jp-layout-color0, white)));\n",
              "  --sklearn-color-border-box: var(--sg-text-color, var(--theme-code-foreground, var(--jp-content-font-color1, black)));\n",
              "  --sklearn-color-icon: #696969;\n",
              "\n",
              "  @media (prefers-color-scheme: dark) {\n",
              "    /* Redefinition of color scheme for dark theme */\n",
              "    --sklearn-color-text-on-default-background: var(--sg-text-color, var(--theme-code-foreground, var(--jp-content-font-color1, white)));\n",
              "    --sklearn-color-background: var(--sg-background-color, var(--theme-background, var(--jp-layout-color0, #111)));\n",
              "    --sklearn-color-border-box: var(--sg-text-color, var(--theme-code-foreground, var(--jp-content-font-color1, white)));\n",
              "    --sklearn-color-icon: #878787;\n",
              "  }\n",
              "}\n",
              "\n",
              "#sk-container-id-1 {\n",
              "  color: var(--sklearn-color-text);\n",
              "}\n",
              "\n",
              "#sk-container-id-1 pre {\n",
              "  padding: 0;\n",
              "}\n",
              "\n",
              "#sk-container-id-1 input.sk-hidden--visually {\n",
              "  border: 0;\n",
              "  clip: rect(1px 1px 1px 1px);\n",
              "  clip: rect(1px, 1px, 1px, 1px);\n",
              "  height: 1px;\n",
              "  margin: -1px;\n",
              "  overflow: hidden;\n",
              "  padding: 0;\n",
              "  position: absolute;\n",
              "  width: 1px;\n",
              "}\n",
              "\n",
              "#sk-container-id-1 div.sk-dashed-wrapped {\n",
              "  border: 1px dashed var(--sklearn-color-line);\n",
              "  margin: 0 0.4em 0.5em 0.4em;\n",
              "  box-sizing: border-box;\n",
              "  padding-bottom: 0.4em;\n",
              "  background-color: var(--sklearn-color-background);\n",
              "}\n",
              "\n",
              "#sk-container-id-1 div.sk-container {\n",
              "  /* jupyter's `normalize.less` sets `[hidden] { display: none; }`\n",
              "     but bootstrap.min.css set `[hidden] { display: none !important; }`\n",
              "     so we also need the `!important` here to be able to override the\n",
              "     default hidden behavior on the sphinx rendered scikit-learn.org.\n",
              "     See: https://github.com/scikit-learn/scikit-learn/issues/21755 */\n",
              "  display: inline-block !important;\n",
              "  position: relative;\n",
              "}\n",
              "\n",
              "#sk-container-id-1 div.sk-text-repr-fallback {\n",
              "  display: none;\n",
              "}\n",
              "\n",
              "div.sk-parallel-item,\n",
              "div.sk-serial,\n",
              "div.sk-item {\n",
              "  /* draw centered vertical line to link estimators */\n",
              "  background-image: linear-gradient(var(--sklearn-color-text-on-default-background), var(--sklearn-color-text-on-default-background));\n",
              "  background-size: 2px 100%;\n",
              "  background-repeat: no-repeat;\n",
              "  background-position: center center;\n",
              "}\n",
              "\n",
              "/* Parallel-specific style estimator block */\n",
              "\n",
              "#sk-container-id-1 div.sk-parallel-item::after {\n",
              "  content: \"\";\n",
              "  width: 100%;\n",
              "  border-bottom: 2px solid var(--sklearn-color-text-on-default-background);\n",
              "  flex-grow: 1;\n",
              "}\n",
              "\n",
              "#sk-container-id-1 div.sk-parallel {\n",
              "  display: flex;\n",
              "  align-items: stretch;\n",
              "  justify-content: center;\n",
              "  background-color: var(--sklearn-color-background);\n",
              "  position: relative;\n",
              "}\n",
              "\n",
              "#sk-container-id-1 div.sk-parallel-item {\n",
              "  display: flex;\n",
              "  flex-direction: column;\n",
              "}\n",
              "\n",
              "#sk-container-id-1 div.sk-parallel-item:first-child::after {\n",
              "  align-self: flex-end;\n",
              "  width: 50%;\n",
              "}\n",
              "\n",
              "#sk-container-id-1 div.sk-parallel-item:last-child::after {\n",
              "  align-self: flex-start;\n",
              "  width: 50%;\n",
              "}\n",
              "\n",
              "#sk-container-id-1 div.sk-parallel-item:only-child::after {\n",
              "  width: 0;\n",
              "}\n",
              "\n",
              "/* Serial-specific style estimator block */\n",
              "\n",
              "#sk-container-id-1 div.sk-serial {\n",
              "  display: flex;\n",
              "  flex-direction: column;\n",
              "  align-items: center;\n",
              "  background-color: var(--sklearn-color-background);\n",
              "  padding-right: 1em;\n",
              "  padding-left: 1em;\n",
              "}\n",
              "\n",
              "\n",
              "/* Toggleable style: style used for estimator/Pipeline/ColumnTransformer box that is\n",
              "clickable and can be expanded/collapsed.\n",
              "- Pipeline and ColumnTransformer use this feature and define the default style\n",
              "- Estimators will overwrite some part of the style using the `sk-estimator` class\n",
              "*/\n",
              "\n",
              "/* Pipeline and ColumnTransformer style (default) */\n",
              "\n",
              "#sk-container-id-1 div.sk-toggleable {\n",
              "  /* Default theme specific background. It is overwritten whether we have a\n",
              "  specific estimator or a Pipeline/ColumnTransformer */\n",
              "  background-color: var(--sklearn-color-background);\n",
              "}\n",
              "\n",
              "/* Toggleable label */\n",
              "#sk-container-id-1 label.sk-toggleable__label {\n",
              "  cursor: pointer;\n",
              "  display: flex;\n",
              "  width: 100%;\n",
              "  margin-bottom: 0;\n",
              "  padding: 0.5em;\n",
              "  box-sizing: border-box;\n",
              "  text-align: center;\n",
              "  align-items: start;\n",
              "  justify-content: space-between;\n",
              "  gap: 0.5em;\n",
              "}\n",
              "\n",
              "#sk-container-id-1 label.sk-toggleable__label .caption {\n",
              "  font-size: 0.6rem;\n",
              "  font-weight: lighter;\n",
              "  color: var(--sklearn-color-text-muted);\n",
              "}\n",
              "\n",
              "#sk-container-id-1 label.sk-toggleable__label-arrow:before {\n",
              "  /* Arrow on the left of the label */\n",
              "  content: \"▸\";\n",
              "  float: left;\n",
              "  margin-right: 0.25em;\n",
              "  color: var(--sklearn-color-icon);\n",
              "}\n",
              "\n",
              "#sk-container-id-1 label.sk-toggleable__label-arrow:hover:before {\n",
              "  color: var(--sklearn-color-text);\n",
              "}\n",
              "\n",
              "/* Toggleable content - dropdown */\n",
              "\n",
              "#sk-container-id-1 div.sk-toggleable__content {\n",
              "  max-height: 0;\n",
              "  max-width: 0;\n",
              "  overflow: hidden;\n",
              "  text-align: left;\n",
              "  /* unfitted */\n",
              "  background-color: var(--sklearn-color-unfitted-level-0);\n",
              "}\n",
              "\n",
              "#sk-container-id-1 div.sk-toggleable__content.fitted {\n",
              "  /* fitted */\n",
              "  background-color: var(--sklearn-color-fitted-level-0);\n",
              "}\n",
              "\n",
              "#sk-container-id-1 div.sk-toggleable__content pre {\n",
              "  margin: 0.2em;\n",
              "  border-radius: 0.25em;\n",
              "  color: var(--sklearn-color-text);\n",
              "  /* unfitted */\n",
              "  background-color: var(--sklearn-color-unfitted-level-0);\n",
              "}\n",
              "\n",
              "#sk-container-id-1 div.sk-toggleable__content.fitted pre {\n",
              "  /* unfitted */\n",
              "  background-color: var(--sklearn-color-fitted-level-0);\n",
              "}\n",
              "\n",
              "#sk-container-id-1 input.sk-toggleable__control:checked~div.sk-toggleable__content {\n",
              "  /* Expand drop-down */\n",
              "  max-height: 200px;\n",
              "  max-width: 100%;\n",
              "  overflow: auto;\n",
              "}\n",
              "\n",
              "#sk-container-id-1 input.sk-toggleable__control:checked~label.sk-toggleable__label-arrow:before {\n",
              "  content: \"▾\";\n",
              "}\n",
              "\n",
              "/* Pipeline/ColumnTransformer-specific style */\n",
              "\n",
              "#sk-container-id-1 div.sk-label input.sk-toggleable__control:checked~label.sk-toggleable__label {\n",
              "  color: var(--sklearn-color-text);\n",
              "  background-color: var(--sklearn-color-unfitted-level-2);\n",
              "}\n",
              "\n",
              "#sk-container-id-1 div.sk-label.fitted input.sk-toggleable__control:checked~label.sk-toggleable__label {\n",
              "  background-color: var(--sklearn-color-fitted-level-2);\n",
              "}\n",
              "\n",
              "/* Estimator-specific style */\n",
              "\n",
              "/* Colorize estimator box */\n",
              "#sk-container-id-1 div.sk-estimator input.sk-toggleable__control:checked~label.sk-toggleable__label {\n",
              "  /* unfitted */\n",
              "  background-color: var(--sklearn-color-unfitted-level-2);\n",
              "}\n",
              "\n",
              "#sk-container-id-1 div.sk-estimator.fitted input.sk-toggleable__control:checked~label.sk-toggleable__label {\n",
              "  /* fitted */\n",
              "  background-color: var(--sklearn-color-fitted-level-2);\n",
              "}\n",
              "\n",
              "#sk-container-id-1 div.sk-label label.sk-toggleable__label,\n",
              "#sk-container-id-1 div.sk-label label {\n",
              "  /* The background is the default theme color */\n",
              "  color: var(--sklearn-color-text-on-default-background);\n",
              "}\n",
              "\n",
              "/* On hover, darken the color of the background */\n",
              "#sk-container-id-1 div.sk-label:hover label.sk-toggleable__label {\n",
              "  color: var(--sklearn-color-text);\n",
              "  background-color: var(--sklearn-color-unfitted-level-2);\n",
              "}\n",
              "\n",
              "/* Label box, darken color on hover, fitted */\n",
              "#sk-container-id-1 div.sk-label.fitted:hover label.sk-toggleable__label.fitted {\n",
              "  color: var(--sklearn-color-text);\n",
              "  background-color: var(--sklearn-color-fitted-level-2);\n",
              "}\n",
              "\n",
              "/* Estimator label */\n",
              "\n",
              "#sk-container-id-1 div.sk-label label {\n",
              "  font-family: monospace;\n",
              "  font-weight: bold;\n",
              "  display: inline-block;\n",
              "  line-height: 1.2em;\n",
              "}\n",
              "\n",
              "#sk-container-id-1 div.sk-label-container {\n",
              "  text-align: center;\n",
              "}\n",
              "\n",
              "/* Estimator-specific */\n",
              "#sk-container-id-1 div.sk-estimator {\n",
              "  font-family: monospace;\n",
              "  border: 1px dotted var(--sklearn-color-border-box);\n",
              "  border-radius: 0.25em;\n",
              "  box-sizing: border-box;\n",
              "  margin-bottom: 0.5em;\n",
              "  /* unfitted */\n",
              "  background-color: var(--sklearn-color-unfitted-level-0);\n",
              "}\n",
              "\n",
              "#sk-container-id-1 div.sk-estimator.fitted {\n",
              "  /* fitted */\n",
              "  background-color: var(--sklearn-color-fitted-level-0);\n",
              "}\n",
              "\n",
              "/* on hover */\n",
              "#sk-container-id-1 div.sk-estimator:hover {\n",
              "  /* unfitted */\n",
              "  background-color: var(--sklearn-color-unfitted-level-2);\n",
              "}\n",
              "\n",
              "#sk-container-id-1 div.sk-estimator.fitted:hover {\n",
              "  /* fitted */\n",
              "  background-color: var(--sklearn-color-fitted-level-2);\n",
              "}\n",
              "\n",
              "/* Specification for estimator info (e.g. \"i\" and \"?\") */\n",
              "\n",
              "/* Common style for \"i\" and \"?\" */\n",
              "\n",
              ".sk-estimator-doc-link,\n",
              "a:link.sk-estimator-doc-link,\n",
              "a:visited.sk-estimator-doc-link {\n",
              "  float: right;\n",
              "  font-size: smaller;\n",
              "  line-height: 1em;\n",
              "  font-family: monospace;\n",
              "  background-color: var(--sklearn-color-background);\n",
              "  border-radius: 1em;\n",
              "  height: 1em;\n",
              "  width: 1em;\n",
              "  text-decoration: none !important;\n",
              "  margin-left: 0.5em;\n",
              "  text-align: center;\n",
              "  /* unfitted */\n",
              "  border: var(--sklearn-color-unfitted-level-1) 1pt solid;\n",
              "  color: var(--sklearn-color-unfitted-level-1);\n",
              "}\n",
              "\n",
              ".sk-estimator-doc-link.fitted,\n",
              "a:link.sk-estimator-doc-link.fitted,\n",
              "a:visited.sk-estimator-doc-link.fitted {\n",
              "  /* fitted */\n",
              "  border: var(--sklearn-color-fitted-level-1) 1pt solid;\n",
              "  color: var(--sklearn-color-fitted-level-1);\n",
              "}\n",
              "\n",
              "/* On hover */\n",
              "div.sk-estimator:hover .sk-estimator-doc-link:hover,\n",
              ".sk-estimator-doc-link:hover,\n",
              "div.sk-label-container:hover .sk-estimator-doc-link:hover,\n",
              ".sk-estimator-doc-link:hover {\n",
              "  /* unfitted */\n",
              "  background-color: var(--sklearn-color-unfitted-level-3);\n",
              "  color: var(--sklearn-color-background);\n",
              "  text-decoration: none;\n",
              "}\n",
              "\n",
              "div.sk-estimator.fitted:hover .sk-estimator-doc-link.fitted:hover,\n",
              ".sk-estimator-doc-link.fitted:hover,\n",
              "div.sk-label-container:hover .sk-estimator-doc-link.fitted:hover,\n",
              ".sk-estimator-doc-link.fitted:hover {\n",
              "  /* fitted */\n",
              "  background-color: var(--sklearn-color-fitted-level-3);\n",
              "  color: var(--sklearn-color-background);\n",
              "  text-decoration: none;\n",
              "}\n",
              "\n",
              "/* Span, style for the box shown on hovering the info icon */\n",
              ".sk-estimator-doc-link span {\n",
              "  display: none;\n",
              "  z-index: 9999;\n",
              "  position: relative;\n",
              "  font-weight: normal;\n",
              "  right: .2ex;\n",
              "  padding: .5ex;\n",
              "  margin: .5ex;\n",
              "  width: min-content;\n",
              "  min-width: 20ex;\n",
              "  max-width: 50ex;\n",
              "  color: var(--sklearn-color-text);\n",
              "  box-shadow: 2pt 2pt 4pt #999;\n",
              "  /* unfitted */\n",
              "  background: var(--sklearn-color-unfitted-level-0);\n",
              "  border: .5pt solid var(--sklearn-color-unfitted-level-3);\n",
              "}\n",
              "\n",
              ".sk-estimator-doc-link.fitted span {\n",
              "  /* fitted */\n",
              "  background: var(--sklearn-color-fitted-level-0);\n",
              "  border: var(--sklearn-color-fitted-level-3);\n",
              "}\n",
              "\n",
              ".sk-estimator-doc-link:hover span {\n",
              "  display: block;\n",
              "}\n",
              "\n",
              "/* \"?\"-specific style due to the `<a>` HTML tag */\n",
              "\n",
              "#sk-container-id-1 a.estimator_doc_link {\n",
              "  float: right;\n",
              "  font-size: 1rem;\n",
              "  line-height: 1em;\n",
              "  font-family: monospace;\n",
              "  background-color: var(--sklearn-color-background);\n",
              "  border-radius: 1rem;\n",
              "  height: 1rem;\n",
              "  width: 1rem;\n",
              "  text-decoration: none;\n",
              "  /* unfitted */\n",
              "  color: var(--sklearn-color-unfitted-level-1);\n",
              "  border: var(--sklearn-color-unfitted-level-1) 1pt solid;\n",
              "}\n",
              "\n",
              "#sk-container-id-1 a.estimator_doc_link.fitted {\n",
              "  /* fitted */\n",
              "  border: var(--sklearn-color-fitted-level-1) 1pt solid;\n",
              "  color: var(--sklearn-color-fitted-level-1);\n",
              "}\n",
              "\n",
              "/* On hover */\n",
              "#sk-container-id-1 a.estimator_doc_link:hover {\n",
              "  /* unfitted */\n",
              "  background-color: var(--sklearn-color-unfitted-level-3);\n",
              "  color: var(--sklearn-color-background);\n",
              "  text-decoration: none;\n",
              "}\n",
              "\n",
              "#sk-container-id-1 a.estimator_doc_link.fitted:hover {\n",
              "  /* fitted */\n",
              "  background-color: var(--sklearn-color-fitted-level-3);\n",
              "}\n",
              "</style><div id=\"sk-container-id-1\" class=\"sk-top-container\"><div class=\"sk-text-repr-fallback\"><pre>LogisticRegression(max_iter=10000, random_state=42)</pre><b>In a Jupyter environment, please rerun this cell to show the HTML representation or trust the notebook. <br />On GitHub, the HTML representation is unable to render, please try loading this page with nbviewer.org.</b></div><div class=\"sk-container\" hidden><div class=\"sk-item\"><div class=\"sk-estimator fitted sk-toggleable\"><input class=\"sk-toggleable__control sk-hidden--visually\" id=\"sk-estimator-id-1\" type=\"checkbox\" checked><label for=\"sk-estimator-id-1\" class=\"sk-toggleable__label fitted sk-toggleable__label-arrow\"><div><div>LogisticRegression</div></div><div><a class=\"sk-estimator-doc-link fitted\" rel=\"noreferrer\" target=\"_blank\" href=\"https://scikit-learn.org/1.6/modules/generated/sklearn.linear_model.LogisticRegression.html\">?<span>Documentation for LogisticRegression</span></a><span class=\"sk-estimator-doc-link fitted\">i<span>Fitted</span></span></div></label><div class=\"sk-toggleable__content fitted\"><pre>LogisticRegression(max_iter=10000, random_state=42)</pre></div> </div></div></div></div>"
            ]
          },
          "metadata": {},
          "execution_count": 37
        }
      ],
      "source": [
        "clf = LogisticRegression(random_state=42, max_iter=10000)\n",
        "clf.fit(bow, y_train)"
      ]
    },
    {
      "cell_type": "code",
      "execution_count": null,
      "metadata": {
        "colab": {
          "base_uri": "https://localhost:8080/"
        },
        "id": "bJ8q5_59LVQm",
        "outputId": "8516617b-bad1-4f5e-df6f-edbcc325f18e"
      },
      "outputs": [
        {
          "output_type": "stream",
          "name": "stdout",
          "text": [
            "              precision    recall  f1-score   support\n",
            "\n",
            "    negative       0.76      0.77      0.76     28183\n",
            "    positive       0.77      0.76      0.77     28526\n",
            "\n",
            "    accuracy                           0.77     56709\n",
            "   macro avg       0.77      0.77      0.77     56709\n",
            "weighted avg       0.77      0.77      0.77     56709\n",
            "\n"
          ]
        }
      ],
      "source": [
        "pred = clf.predict(vec.transform(x_test))\n",
        "print(classification_report(pred, y_test))"
      ]
    },
    {
      "cell_type": "markdown",
      "metadata": {
        "id": "QAhgaYgqLVQp"
      },
      "source": [
        "Попробуем сделать то же самое для триграмм:"
      ]
    },
    {
      "cell_type": "code",
      "execution_count": null,
      "metadata": {
        "colab": {
          "base_uri": "https://localhost:8080/"
        },
        "id": "GPWXlh6ALVQq",
        "outputId": "6c0f1859-f8fc-4770-8b5d-c49eebfb48ff"
      },
      "outputs": [
        {
          "output_type": "stream",
          "name": "stdout",
          "text": [
            "              precision    recall  f1-score   support\n",
            "\n",
            "    negative       0.47      0.72      0.57     18233\n",
            "    positive       0.82      0.61      0.70     38476\n",
            "\n",
            "    accuracy                           0.64     56709\n",
            "   macro avg       0.64      0.67      0.63     56709\n",
            "weighted avg       0.71      0.64      0.66     56709\n",
            "\n"
          ]
        }
      ],
      "source": [
        "vec = CountVectorizer(ngram_range=(3, 3))\n",
        "bow = vec.fit_transform(x_train)\n",
        "clf = LogisticRegression(random_state=42, max_iter=1000)\n",
        "clf.fit(bow, y_train)\n",
        "pred = clf.predict(vec.transform(x_test))\n",
        "print(classification_report(pred, y_test))"
      ]
    },
    {
      "cell_type": "markdown",
      "metadata": {
        "id": "dnfyJkzTLVQu"
      },
      "source": [
        "(как вы думаете, почему в результатах теперь такой разброс по сравнению с униграммами?)"
      ]
    },
    {
      "cell_type": "markdown",
      "metadata": {
        "id": "gJABxhalLVQu"
      },
      "source": [
        "## TF-IDF векторизация"
      ]
    },
    {
      "cell_type": "markdown",
      "metadata": {
        "id": "-LJES2s-LVQv"
      },
      "source": [
        "`TfidfVectorizer` делает то же, что и `CountVectorizer`, но в качестве значений – tf-idf каждого слова.\n",
        "\n",
        "Как считается tf-idf:\n",
        "\n",
        "TF (term frequency) – относительная частотность слова в документе:\n",
        "$$ TF(t,d) = \\frac{n_t}{\\sum_k n_k} $$\n",
        "\n",
        "`t` -- слово (term), `d` -- документ, $n_t$ -- количество вхождений слова, $n_k$ -- количество вхождений остальных слов\n",
        "\n",
        "IDF (inverse document frequency) – обратная частота документов, в которых есть это слово:\n",
        "$$ IDF(t, D) = \\mbox{log} \\frac{|D|}{|{d : t \\in d}|} $$\n",
        "\n",
        "`t` -- слово (term), `D` -- коллекция документов\n",
        "\n",
        "Перемножаем их:\n",
        "$$TFIDF_(t,d,D) = TF(t,d) \\times IDF(i, D)$$\n",
        "\n",
        "Сакральный смысл – если слово часто встречается в одном документе, но в целом по корпусу встречается в небольшом\n",
        "количестве документов, у него высокий TF-IDF."
      ]
    },
    {
      "cell_type": "code",
      "execution_count": null,
      "metadata": {
        "id": "FmEcRD28LVQ0"
      },
      "outputs": [],
      "source": [
        "from sklearn.feature_extraction.text import TfidfVectorizer"
      ]
    },
    {
      "cell_type": "code",
      "execution_count": null,
      "metadata": {
        "colab": {
          "base_uri": "https://localhost:8080/"
        },
        "id": "AWLhMl9xLVQ3",
        "outputId": "73d84a95-1f03-4976-ba77-5d90ae76f793"
      },
      "outputs": [
        {
          "output_type": "stream",
          "name": "stdout",
          "text": [
            "              precision    recall  f1-score   support\n",
            "\n",
            "    negative       0.73      0.78      0.75     26608\n",
            "    positive       0.79      0.75      0.77     30101\n",
            "\n",
            "    accuracy                           0.76     56709\n",
            "   macro avg       0.76      0.76      0.76     56709\n",
            "weighted avg       0.76      0.76      0.76     56709\n",
            "\n"
          ]
        }
      ],
      "source": [
        "vec = TfidfVectorizer(ngram_range=(1, 1))\n",
        "bow = vec.fit_transform(x_train)\n",
        "clf = LogisticRegression(random_state=42, max_iter=1000)\n",
        "clf.fit(bow, y_train)\n",
        "pred = clf.predict(vec.transform(x_test))\n",
        "print(classification_report(pred, y_test))"
      ]
    },
    {
      "cell_type": "markdown",
      "metadata": {
        "id": "IaQMCGHFLVQ6"
      },
      "source": [
        "## Токенизация\n",
        "\n",
        "Токенизировать -- значит, поделить текст на слова, или *токены*.\n",
        "\n",
        "Самый наивный способ токенизировать текст -- разделить с помощью `split`. Но `split` упускает очень много всего, например, банально не отделяет пунктуацию от слов. Кроме этого, есть ещё много менее тривиальных проблем. Поэтому лучше использовать готовые токенизаторы."
      ]
    },
    {
      "cell_type": "code",
      "execution_count": null,
      "metadata": {
        "colab": {
          "base_uri": "https://localhost:8080/"
        },
        "id": "ixptdo0GLVQ7",
        "outputId": "996d6b97-295e-4c3c-c008-84e99bcd5d56"
      },
      "outputs": [
        {
          "output_type": "stream",
          "name": "stderr",
          "text": [
            "[nltk_data] Downloading package punkt to /root/nltk_data...\n",
            "[nltk_data]   Unzipping tokenizers/punkt.zip.\n",
            "[nltk_data] Downloading package punkt_tab to /root/nltk_data...\n",
            "[nltk_data]   Unzipping tokenizers/punkt_tab.zip.\n"
          ]
        },
        {
          "output_type": "execute_result",
          "data": {
            "text/plain": [
              "True"
            ]
          },
          "metadata": {},
          "execution_count": 42
        }
      ],
      "source": [
        "import nltk\n",
        "from nltk.tokenize import word_tokenize\n",
        "nltk.download('punkt')\n",
        "nltk.download('punkt_tab')"
      ]
    },
    {
      "cell_type": "code",
      "execution_count": null,
      "metadata": {
        "colab": {
          "base_uri": "https://localhost:8080/"
        },
        "id": "VGwSqwUWLVQ-",
        "outputId": "7d65a749-1363-4147-cccb-2052180380f7"
      },
      "outputs": [
        {
          "output_type": "execute_result",
          "data": {
            "text/plain": [
              "['Но', 'не', 'каждый', 'хочет', 'что-то', 'исправлять', ':', '(']"
            ]
          },
          "metadata": {},
          "execution_count": 43
        }
      ],
      "source": [
        "example = 'Но не каждый хочет что-то исправлять:('\n",
        "word_tokenize(example)"
      ]
    },
    {
      "cell_type": "markdown",
      "metadata": {
        "id": "cFcccsyHLVRB"
      },
      "source": [
        "В nltk вообще есть довольно много токенизаторов:"
      ]
    },
    {
      "cell_type": "code",
      "execution_count": null,
      "metadata": {
        "colab": {
          "base_uri": "https://localhost:8080/"
        },
        "id": "ttw7Pk5tLVRB",
        "outputId": "728d6803-8d7a-4053-ff2e-65111f058b18"
      },
      "outputs": [
        {
          "output_type": "execute_result",
          "data": {
            "text/plain": [
              "['BlanklineTokenizer',\n",
              " 'LegalitySyllableTokenizer',\n",
              " 'LineTokenizer',\n",
              " 'MWETokenizer',\n",
              " 'NLTKWordTokenizer',\n",
              " 'PunktSentenceTokenizer',\n",
              " 'PunktTokenizer',\n",
              " 'RegexpTokenizer',\n",
              " 'ReppTokenizer',\n",
              " 'SExprTokenizer',\n",
              " 'SpaceTokenizer',\n",
              " 'StanfordSegmenter',\n",
              " 'SyllableTokenizer',\n",
              " 'TabTokenizer',\n",
              " 'TextTilingTokenizer',\n",
              " 'ToktokTokenizer']"
            ]
          },
          "metadata": {},
          "execution_count": 44
        }
      ],
      "source": [
        "from nltk import tokenize\n",
        "\n",
        "dir(tokenize)[:16]"
      ]
    },
    {
      "cell_type": "markdown",
      "metadata": {
        "id": "PnvY9SWfLVRE"
      },
      "source": [
        "Они умеют выдавать индексы начала и конца каждого токена:"
      ]
    },
    {
      "cell_type": "code",
      "execution_count": null,
      "metadata": {
        "colab": {
          "base_uri": "https://localhost:8080/"
        },
        "id": "I9-juNkcLVRF",
        "outputId": "9f26585c-af70-4f43-f723-8567f80c9fd4"
      },
      "outputs": [
        {
          "output_type": "execute_result",
          "data": {
            "text/plain": [
              "[(0, 2), (3, 5), (6, 12), (13, 18), (19, 25), (26, 38)]"
            ]
          },
          "metadata": {},
          "execution_count": 45
        }
      ],
      "source": [
        "wh_tok = tokenize.WhitespaceTokenizer()\n",
        "list(wh_tok.span_tokenize(example))"
      ]
    },
    {
      "cell_type": "markdown",
      "metadata": {
        "id": "ZcvtGptsLVRI"
      },
      "source": [
        "(если вам было интересно, зачем вообще включать в модуль токенизатор, который работает как `.split()` :))\n",
        "\n",
        "Некторые токенизаторы ведут себя специфично:"
      ]
    },
    {
      "cell_type": "code",
      "execution_count": null,
      "metadata": {
        "colab": {
          "base_uri": "https://localhost:8080/"
        },
        "id": "dkzFZTLiLVRI",
        "outputId": "653b8a58-6bfe-4895-a35d-4dde17ff3f8f"
      },
      "outputs": [
        {
          "output_type": "execute_result",
          "data": {
            "text/plain": [
              "['do', \"n't\", 'stop', 'me']"
            ]
          },
          "metadata": {},
          "execution_count": 46
        }
      ],
      "source": [
        "tokenize.TreebankWordTokenizer().tokenize(\"don't stop me\")"
      ]
    },
    {
      "cell_type": "markdown",
      "metadata": {
        "id": "2VtH05SALVRL"
      },
      "source": [
        "Для некоторых задач это может быть полезно.\n",
        "\n",
        "А некоторые -- вообще не для текста на естественном языке (не очень понятно, зачем это в nltk :)):"
      ]
    },
    {
      "cell_type": "code",
      "execution_count": null,
      "metadata": {
        "colab": {
          "base_uri": "https://localhost:8080/"
        },
        "id": "VYvA9yEFLVRM",
        "outputId": "a49f4af6-285b-40b1-b777-ba22ff29753c"
      },
      "outputs": [
        {
          "output_type": "execute_result",
          "data": {
            "text/plain": [
              "['(a (b c))', 'd', 'e', '(f)']"
            ]
          },
          "metadata": {},
          "execution_count": 47
        }
      ],
      "source": [
        "tokenize.SExprTokenizer().tokenize(\"(a (b c)) d e (f)\")"
      ]
    },
    {
      "cell_type": "markdown",
      "metadata": {
        "id": "T8OsSKO7w9uE"
      },
      "source": [
        "Самым быстрым токенизатором является TokTokTokenizer, оцените, на сколько он быстрее обработает обучающие данные по сравнению со стандартным TreebankWordTokenizer:"
      ]
    },
    {
      "cell_type": "code",
      "execution_count": null,
      "metadata": {
        "colab": {
          "base_uri": "https://localhost:8080/"
        },
        "id": "938VNoUhvZfN",
        "outputId": "1ae17742-2896-429c-e749-a46ab8c45668"
      },
      "outputs": [
        {
          "output_type": "stream",
          "name": "stdout",
          "text": [
            "12.68336033821106\n"
          ]
        }
      ],
      "source": [
        "import time\n",
        "\n",
        "start = time.time();\n",
        "[tokenize.ToktokTokenizer().tokenize(tweet) for tweet in x_train]\n",
        "end = time.time() - start\n",
        "print(end)"
      ]
    },
    {
      "cell_type": "code",
      "execution_count": null,
      "metadata": {
        "colab": {
          "base_uri": "https://localhost:8080/"
        },
        "id": "NHaCsH18wTvk",
        "outputId": "c630f03f-4259-42e5-b51b-d98b0035445f"
      },
      "outputs": [
        {
          "output_type": "stream",
          "name": "stdout",
          "text": [
            "18.345330715179443\n"
          ]
        }
      ],
      "source": [
        "import time\n",
        "\n",
        "start = time.time();\n",
        "tokenized_x_train = [tokenize.TreebankWordTokenizer().tokenize(tweet) for tweet in x_train]\n",
        "end = time.time() - start\n",
        "print(end)"
      ]
    },
    {
      "cell_type": "markdown",
      "metadata": {
        "id": "xXHdXPD6xUel"
      },
      "source": [
        "ToktokTokenizer почти в 2 раза быстрее!"
      ]
    },
    {
      "cell_type": "markdown",
      "metadata": {
        "id": "5AJk1B39LVRP"
      },
      "source": [
        "## Стоп-слова и пунктуация\n",
        "\n",
        "*Стоп-слова* -- это слова, которые часто встречаются практически в любом тексте и ничего интересного не говорят о конретном документе, то есть играют роль шума. Поэтому их принято убирать. По той же причине убирают и пунктуацию."
      ]
    },
    {
      "cell_type": "code",
      "execution_count": null,
      "metadata": {
        "colab": {
          "base_uri": "https://localhost:8080/"
        },
        "id": "fpWhsTuRLVRP",
        "outputId": "8b3995cf-223d-4691-9187-cb46979c22cb"
      },
      "outputs": [
        {
          "output_type": "stream",
          "name": "stdout",
          "text": [
            "['и', 'в', 'во', 'не', 'что', 'он', 'на', 'я', 'с', 'со', 'как', 'а', 'то', 'все', 'она', 'так', 'его', 'но', 'да', 'ты', 'к', 'у', 'же', 'вы', 'за', 'бы', 'по', 'только', 'ее', 'мне', 'было', 'вот', 'от', 'меня', 'еще', 'нет', 'о', 'из', 'ему', 'теперь', 'когда', 'даже', 'ну', 'вдруг', 'ли', 'если', 'уже', 'или', 'ни', 'быть', 'был', 'него', 'до', 'вас', 'нибудь', 'опять', 'уж', 'вам', 'ведь', 'там', 'потом', 'себя', 'ничего', 'ей', 'может', 'они', 'тут', 'где', 'есть', 'надо', 'ней', 'для', 'мы', 'тебя', 'их', 'чем', 'была', 'сам', 'чтоб', 'без', 'будто', 'чего', 'раз', 'тоже', 'себе', 'под', 'будет', 'ж', 'тогда', 'кто', 'этот', 'того', 'потому', 'этого', 'какой', 'совсем', 'ним', 'здесь', 'этом', 'один', 'почти', 'мой', 'тем', 'чтобы', 'нее', 'сейчас', 'были', 'куда', 'зачем', 'всех', 'никогда', 'можно', 'при', 'наконец', 'два', 'об', 'другой', 'хоть', 'после', 'над', 'больше', 'тот', 'через', 'эти', 'нас', 'про', 'всего', 'них', 'какая', 'много', 'разве', 'три', 'эту', 'моя', 'впрочем', 'хорошо', 'свою', 'этой', 'перед', 'иногда', 'лучше', 'чуть', 'том', 'нельзя', 'такой', 'им', 'более', 'всегда', 'конечно', 'всю', 'между']\n"
          ]
        },
        {
          "output_type": "stream",
          "name": "stderr",
          "text": [
            "[nltk_data] Downloading package stopwords to /root/nltk_data...\n",
            "[nltk_data]   Unzipping corpora/stopwords.zip.\n"
          ]
        }
      ],
      "source": [
        "from nltk.corpus import stopwords\n",
        "\n",
        "nltk.download('stopwords')\n",
        "print(stopwords.words('russian'))"
      ]
    },
    {
      "cell_type": "code",
      "execution_count": null,
      "metadata": {
        "colab": {
          "base_uri": "https://localhost:8080/",
          "height": 35
        },
        "id": "OdRF7rlyLVRS",
        "outputId": "0b8cb8d4-df83-41ff-ab50-9ef340e6cb8b"
      },
      "outputs": [
        {
          "output_type": "execute_result",
          "data": {
            "text/plain": [
              "'!\"#$%&\\'()*+,-./:;<=>?@[\\\\]^_`{|}~'"
            ],
            "application/vnd.google.colaboratory.intrinsic+json": {
              "type": "string"
            }
          },
          "metadata": {},
          "execution_count": 49
        }
      ],
      "source": [
        "from string import punctuation\n",
        "\n",
        "\n",
        "punctuation"
      ]
    },
    {
      "cell_type": "code",
      "execution_count": null,
      "metadata": {
        "id": "OfXiH98XLVRV"
      },
      "outputs": [],
      "source": [
        "noise = stopwords.words('russian') + list(punctuation)"
      ]
    },
    {
      "cell_type": "markdown",
      "metadata": {
        "id": "KtiIhHDMLVRY"
      },
      "source": [
        "В векторизаторах за стоп-слова, логичным образом, отвечает аргумент `stop_words`."
      ]
    },
    {
      "cell_type": "code",
      "execution_count": null,
      "metadata": {
        "colab": {
          "base_uri": "https://localhost:8080/"
        },
        "id": "IZnbarm_LVRY",
        "outputId": "a5c24958-67b0-4c17-d173-a655f0bcbf3f"
      },
      "outputs": [
        {
          "output_type": "stream",
          "name": "stderr",
          "text": [
            "/usr/local/lib/python3.11/dist-packages/sklearn/feature_extraction/text.py:517: UserWarning: The parameter 'token_pattern' will not be used since 'tokenizer' is not None'\n",
            "  warnings.warn(\n",
            "/usr/local/lib/python3.11/dist-packages/sklearn/feature_extraction/text.py:402: UserWarning: Your stop_words may be inconsistent with your preprocessing. Tokenizing the stop words generated tokens ['``'] not in stop_words.\n",
            "  warnings.warn(\n"
          ]
        },
        {
          "output_type": "stream",
          "name": "stdout",
          "text": [
            "              precision    recall  f1-score   support\n",
            "\n",
            "    negative       0.80      0.77      0.78     29311\n",
            "    positive       0.76      0.79      0.78     27398\n",
            "\n",
            "    accuracy                           0.78     56709\n",
            "   macro avg       0.78      0.78      0.78     56709\n",
            "weighted avg       0.78      0.78      0.78     56709\n",
            "\n"
          ]
        }
      ],
      "source": [
        "vec = CountVectorizer(ngram_range=(1, 1), tokenizer=word_tokenize, stop_words=noise)\n",
        "bow = vec.fit_transform(x_train)\n",
        "clf = LogisticRegression(random_state=42, max_iter=1000)\n",
        "clf.fit(bow, y_train)\n",
        "pred = clf.predict(vec.transform(x_test))\n",
        "print(classification_report(pred, y_test))"
      ]
    },
    {
      "cell_type": "code",
      "execution_count": null,
      "metadata": {
        "colab": {
          "base_uri": "https://localhost:8080/"
        },
        "id": "3F7QpLHGLo6e",
        "outputId": "315a2404-baec-410b-e9f6-14352fc896fe"
      },
      "outputs": [
        {
          "output_type": "execute_result",
          "data": {
            "text/plain": [
              "259704"
            ]
          },
          "metadata": {},
          "execution_count": 52
        }
      ],
      "source": [
        "len(vec.vocabulary_.items())"
      ]
    },
    {
      "cell_type": "markdown",
      "metadata": {
        "id": "wr934O7yLVRb"
      },
      "source": [
        "Получилось чууть лучше. Что ещё можно сделать?"
      ]
    },
    {
      "cell_type": "markdown",
      "metadata": {
        "id": "D7O_oD1fLVRc"
      },
      "source": [
        "## Лемматизация\n",
        "\n",
        "Лемматизация – это сведение разных форм одного слова к начальной форме – *лемме*. Почему это хорошо?\n",
        "* Во-первых, мы хотим рассматривать как отдельную фичу каждое *слово*, а не каждую его отдельную форму.\n",
        "* Во-вторых, некоторые стоп-слова стоят только в начальной форме, и без лематизации выкидываем мы только её.\n",
        "\n",
        "Для русского есть три хороших лемматизатора: mystem, pymorphy и natasha. Мы рассмотрим 2 наиболее современных: pymorphy и natasha."
      ]
    },
    {
      "cell_type": "markdown",
      "metadata": {
        "id": "RJlvqWuALVRs"
      },
      "source": [
        "### [Pymorphy](http://pymorphy2.readthedocs.io/en/latest/)\n",
        "Это модуль на питоне, довольно быстрый и с кучей функций."
      ]
    },
    {
      "cell_type": "code",
      "execution_count": null,
      "metadata": {
        "colab": {
          "base_uri": "https://localhost:8080/"
        },
        "id": "PPc3Wy-samMl",
        "outputId": "fedece78-80e0-4eef-d2d5-680d87026a39"
      },
      "outputs": [
        {
          "output_type": "stream",
          "name": "stdout",
          "text": [
            "Collecting pymorphy3\n",
            "  Downloading pymorphy3-2.0.3-py3-none-any.whl.metadata (1.9 kB)\n",
            "Collecting dawg2-python>=0.8.0 (from pymorphy3)\n",
            "  Downloading dawg2_python-0.9.0-py3-none-any.whl.metadata (7.5 kB)\n",
            "Collecting pymorphy3-dicts-ru (from pymorphy3)\n",
            "  Downloading pymorphy3_dicts_ru-2.4.417150.4580142-py2.py3-none-any.whl.metadata (2.0 kB)\n",
            "Downloading pymorphy3-2.0.3-py3-none-any.whl (53 kB)\n",
            "\u001b[2K   \u001b[90m━━━━━━━━━━━━━━━━━━━━━━━━━━━━━━━━━━━━━━━━\u001b[0m \u001b[32m53.8/53.8 kB\u001b[0m \u001b[31m2.0 MB/s\u001b[0m eta \u001b[36m0:00:00\u001b[0m\n",
            "\u001b[?25hDownloading dawg2_python-0.9.0-py3-none-any.whl (9.3 kB)\n",
            "Downloading pymorphy3_dicts_ru-2.4.417150.4580142-py2.py3-none-any.whl (8.4 MB)\n",
            "\u001b[2K   \u001b[90m━━━━━━━━━━━━━━━━━━━━━━━━━━━━━━━━━━━━━━━━\u001b[0m \u001b[32m8.4/8.4 MB\u001b[0m \u001b[31m59.2 MB/s\u001b[0m eta \u001b[36m0:00:00\u001b[0m\n",
            "\u001b[?25hInstalling collected packages: pymorphy3-dicts-ru, dawg2-python, pymorphy3\n",
            "Successfully installed dawg2-python-0.9.0 pymorphy3-2.0.3 pymorphy3-dicts-ru-2.4.417150.4580142\n"
          ]
        }
      ],
      "source": [
        "!pip install pymorphy3"
      ]
    },
    {
      "cell_type": "code",
      "execution_count": null,
      "metadata": {
        "colab": {
          "base_uri": "https://localhost:8080/"
        },
        "id": "pDMbM-f_qSHV",
        "outputId": "41ead314-8520-47e5-c3cd-ff14eab6025e"
      },
      "outputs": [
        {
          "output_type": "stream",
          "name": "stdout",
          "text": [
            "Requirement already satisfied: pymorphy3-dicts-ru in /usr/local/lib/python3.11/dist-packages (2.4.417150.4580142)\n"
          ]
        }
      ],
      "source": [
        "!pip install pymorphy3-dicts-ru"
      ]
    },
    {
      "cell_type": "code",
      "execution_count": null,
      "metadata": {
        "id": "7SlwsLU7LVRt"
      },
      "outputs": [],
      "source": [
        "from pymorphy3 import MorphAnalyzer\n",
        "pymorphy3_analyzer = MorphAnalyzer()"
      ]
    },
    {
      "cell_type": "markdown",
      "metadata": {
        "id": "Qaz0x7frLVRw"
      },
      "source": [
        "pymorphy3 работает с отдельными словами. Если дать ему на вход предложение - он его просто не лемматизирует, т.к. не понимает"
      ]
    },
    {
      "cell_type": "code",
      "execution_count": null,
      "metadata": {
        "colab": {
          "base_uri": "https://localhost:8080/"
        },
        "id": "9iFkx0giCaDu",
        "outputId": "d0ced73e-0a7f-4748-a037-f47982a4a334"
      },
      "outputs": [
        {
          "output_type": "execute_result",
          "data": {
            "text/plain": [
              "['я', 'знаю', 'точно', 'невозможное', 'возможно']"
            ]
          },
          "metadata": {},
          "execution_count": 56
        }
      ],
      "source": [
        "sent"
      ]
    },
    {
      "cell_type": "code",
      "execution_count": null,
      "metadata": {
        "colab": {
          "base_uri": "https://localhost:8080/"
        },
        "id": "jdf6XoEbLVRw",
        "outputId": "3eca45e1-1bba-4f6b-b51c-c3281db9ad5e"
      },
      "outputs": [
        {
          "output_type": "execute_result",
          "data": {
            "text/plain": [
              "[Parse(word='невозможное', tag=OpencorporaTag('ADJF,Qual neut,sing,nomn'), normal_form='невозможный', score=0.5, methods_stack=((DictionaryAnalyzer(), 'невозможное', 12, 14),)),\n",
              " Parse(word='невозможное', tag=OpencorporaTag('ADJF,Qual neut,sing,accs'), normal_form='невозможный', score=0.5, methods_stack=((DictionaryAnalyzer(), 'невозможное', 12, 17),))]"
            ]
          },
          "metadata": {},
          "execution_count": 57
        }
      ],
      "source": [
        "ana = pymorphy3_analyzer.parse(sent[3])\n",
        "ana"
      ]
    },
    {
      "cell_type": "code",
      "execution_count": null,
      "metadata": {
        "colab": {
          "base_uri": "https://localhost:8080/",
          "height": 35
        },
        "id": "0KuHQGPgLVRz",
        "outputId": "0360f628-0caa-43a8-88d0-9e7d840aa51f"
      },
      "outputs": [
        {
          "output_type": "execute_result",
          "data": {
            "text/plain": [
              "'невозможный'"
            ],
            "application/vnd.google.colaboratory.intrinsic+json": {
              "type": "string"
            }
          },
          "metadata": {},
          "execution_count": 58
        }
      ],
      "source": [
        "ana[0].normal_form"
      ]
    },
    {
      "cell_type": "markdown",
      "metadata": {
        "id": "hj230qakLVR3"
      },
      "source": [
        "А теперь напишем функцию для лемматизации с pymorphy2:"
      ]
    },
    {
      "cell_type": "code",
      "execution_count": null,
      "metadata": {
        "id": "nIwGJrVkXAda"
      },
      "outputs": [],
      "source": [
        "import re\n",
        "\n",
        "punct = '[{}]'.format(punctuation)\n",
        "\n",
        "def my_preproc(text):\n",
        "    text = re.sub(punct, ' ', text)\n",
        "    text = text.split()\n",
        "    return [pymorphy3_analyzer.parse(word)[0].normal_form for word in text]"
      ]
    },
    {
      "cell_type": "code",
      "execution_count": null,
      "metadata": {
        "colab": {
          "base_uri": "https://localhost:8080/"
        },
        "id": "RjeaoVQ7--86",
        "outputId": "78c3902e-160f-49e6-9ff5-7056fb5c80bd"
      },
      "outputs": [
        {
          "output_type": "execute_result",
          "data": {
            "text/plain": [
              "['но', 'не', 'каждый', 'хотеть', 'что', 'то', 'исправлять']"
            ]
          },
          "metadata": {},
          "execution_count": 60
        }
      ],
      "source": [
        "example = 'Но не каждый хочет что-то исправлять:('\n",
        "\n",
        "my_preproc(example)"
      ]
    },
    {
      "cell_type": "code",
      "execution_count": null,
      "metadata": {
        "id": "Mz12OEe8W8Jk"
      },
      "outputs": [],
      "source": [
        "ru_stop_words = stopwords.words('russian') + [' ', '\\n']"
      ]
    },
    {
      "cell_type": "markdown",
      "metadata": {
        "id": "cB2dVDqoLVR7"
      },
      "source": [
        "Что будет, если использовать её в качестве препроцессора?"
      ]
    },
    {
      "cell_type": "code",
      "execution_count": null,
      "metadata": {
        "colab": {
          "base_uri": "https://localhost:8080/"
        },
        "id": "GrJ-HrBsTNc8",
        "outputId": "6ccf3246-f591-4ea2-f9e2-f5d59164733c"
      },
      "outputs": [
        {
          "output_type": "stream",
          "name": "stderr",
          "text": [
            "/usr/local/lib/python3.11/dist-packages/sklearn/feature_extraction/text.py:517: UserWarning: The parameter 'token_pattern' will not be used since 'tokenizer' is not None'\n",
            "  warnings.warn(\n",
            "/usr/local/lib/python3.11/dist-packages/sklearn/feature_extraction/text.py:402: UserWarning: Your stop_words may be inconsistent with your preprocessing. Tokenizing the stop words generated tokens ['большой', 'весь', 'всё', 'ещё', 'мочь', 'нибыть', 'свой', 'хороший', 'это'] not in stop_words.\n",
            "  warnings.warn(\n"
          ]
        },
        {
          "output_type": "stream",
          "name": "stdout",
          "text": [
            "              precision    recall  f1-score   support\n",
            "\n",
            "    negative       0.79      0.76      0.77     29317\n",
            "    positive       0.75      0.78      0.77     27392\n",
            "\n",
            "    accuracy                           0.77     56709\n",
            "   macro avg       0.77      0.77      0.77     56709\n",
            "weighted avg       0.77      0.77      0.77     56709\n",
            "\n"
          ]
        }
      ],
      "source": [
        "vec = CountVectorizer(ngram_range=(1, 1), tokenizer=my_preproc, stop_words=ru_stop_words)\n",
        "bow = vec.fit_transform(x_train)\n",
        "clf = LogisticRegression(random_state=42, max_iter=1000)\n",
        "clf.fit(bow, y_train)\n",
        "pred = clf.predict(vec.transform(x_test))\n",
        "print(classification_report(pred, y_test))"
      ]
    },
    {
      "cell_type": "code",
      "execution_count": null,
      "metadata": {
        "colab": {
          "base_uri": "https://localhost:8080/"
        },
        "id": "EH0VBOvcVonW",
        "outputId": "e0f0cfe7-85ec-46ff-e7b1-6741d0133b54"
      },
      "outputs": [
        {
          "output_type": "execute_result",
          "data": {
            "text/plain": [
              "177919"
            ]
          },
          "metadata": {},
          "execution_count": 63
        }
      ],
      "source": [
        "len(list(vec.vocabulary_.items()))"
      ]
    },
    {
      "cell_type": "markdown",
      "metadata": {
        "id": "gFTkF8xUARlS"
      },
      "source": [
        "### [Natasha](https://github.com/natasha/)\n",
        "\n",
        "В библиотеке natasha реализовано множество полезных библиотек для русского языка: разбиение на токены и предложения, русскоязычные word embeddings, морфологический, синтаксический анализ, лемматизация, извлечение именованных сущностей и т.д. Модуль библиотеки Razdel, основанный на правилах, предназначен для разбиения текста на токены и предложения."
      ]
    },
    {
      "cell_type": "code",
      "execution_count": null,
      "metadata": {
        "colab": {
          "base_uri": "https://localhost:8080/"
        },
        "id": "-CVeDxeIA6rg",
        "outputId": "f955eab0-2c4d-48cb-afa1-f2ca3b932a46"
      },
      "outputs": [
        {
          "output_type": "stream",
          "name": "stdout",
          "text": [
            "Collecting razdel\n",
            "  Downloading razdel-0.5.0-py3-none-any.whl.metadata (10.0 kB)\n",
            "Downloading razdel-0.5.0-py3-none-any.whl (21 kB)\n",
            "Installing collected packages: razdel\n",
            "Successfully installed razdel-0.5.0\n"
          ]
        }
      ],
      "source": [
        "!pip install razdel"
      ]
    },
    {
      "cell_type": "code",
      "execution_count": null,
      "metadata": {
        "colab": {
          "base_uri": "https://localhost:8080/"
        },
        "id": "MOTkw9MpAnNN",
        "outputId": "4939a2fb-4b80-4197-bf0d-328660f571d9"
      },
      "outputs": [
        {
          "output_type": "execute_result",
          "data": {
            "text/plain": [
              "[Substring(0, 13, 'Кружка-термос'),\n",
              " Substring(14, 16, 'на'),\n",
              " Substring(17, 20, '0.5'),\n",
              " Substring(20, 21, 'л'),\n",
              " Substring(22, 23, '('),\n",
              " Substring(23, 28, '50/64'),\n",
              " Substring(29, 32, 'см³'),\n",
              " Substring(32, 33, ','),\n",
              " Substring(34, 37, '516'),\n",
              " Substring(37, 38, ';'),\n",
              " Substring(38, 41, '...'),\n",
              " Substring(41, 42, ')')]"
            ]
          },
          "metadata": {},
          "execution_count": 65
        }
      ],
      "source": [
        "from razdel import tokenize\n",
        "\n",
        "tokens = list(tokenize('Кружка-термос на 0.5л (50/64 см³, 516;...)'))\n",
        "tokens"
      ]
    },
    {
      "cell_type": "code",
      "execution_count": null,
      "metadata": {
        "colab": {
          "base_uri": "https://localhost:8080/"
        },
        "id": "Ftx-WzUbBCpO",
        "outputId": "2fc96e9f-5ba9-4055-d761-0532fe258bff"
      },
      "outputs": [
        {
          "output_type": "execute_result",
          "data": {
            "text/plain": [
              "['Кружка-термос',\n",
              " 'на',\n",
              " '0.5',\n",
              " 'л',\n",
              " '(',\n",
              " '50/64',\n",
              " 'см³',\n",
              " ',',\n",
              " '516',\n",
              " ';',\n",
              " '...',\n",
              " ')']"
            ]
          },
          "metadata": {},
          "execution_count": 66
        }
      ],
      "source": [
        "[_.text for _ in tokens]"
      ]
    },
    {
      "cell_type": "code",
      "execution_count": null,
      "metadata": {
        "colab": {
          "base_uri": "https://localhost:8080/",
          "height": 949
        },
        "id": "uyhsQp4MGbW8",
        "outputId": "502b0818-2e2c-45e1-e2be-89982c2799e7"
      },
      "outputs": [
        {
          "output_type": "stream",
          "name": "stdout",
          "text": [
            "Collecting natasha\n",
            "  Downloading natasha-1.6.0-py3-none-any.whl.metadata (23 kB)\n",
            "Collecting pymorphy2 (from natasha)\n",
            "  Downloading pymorphy2-0.9.1-py3-none-any.whl.metadata (3.6 kB)\n",
            "Requirement already satisfied: razdel>=0.5.0 in /usr/local/lib/python3.11/dist-packages (from natasha) (0.5.0)\n",
            "Collecting navec>=0.9.0 (from natasha)\n",
            "  Downloading navec-0.10.0-py3-none-any.whl.metadata (21 kB)\n",
            "Collecting slovnet>=0.6.0 (from natasha)\n",
            "  Downloading slovnet-0.6.0-py3-none-any.whl.metadata (34 kB)\n",
            "Collecting yargy>=0.16.0 (from natasha)\n",
            "  Downloading yargy-0.16.0-py3-none-any.whl.metadata (3.5 kB)\n",
            "Collecting ipymarkup>=0.8.0 (from natasha)\n",
            "  Downloading ipymarkup-0.9.0-py3-none-any.whl.metadata (5.6 kB)\n",
            "Collecting intervaltree>=3 (from ipymarkup>=0.8.0->natasha)\n",
            "  Downloading intervaltree-3.1.0.tar.gz (32 kB)\n",
            "  Preparing metadata (setup.py) ... \u001b[?25l\u001b[?25hdone\n",
            "Requirement already satisfied: numpy in /usr/local/lib/python3.11/dist-packages (from navec>=0.9.0->natasha) (1.26.4)\n",
            "Collecting dawg-python>=0.7.1 (from pymorphy2->natasha)\n",
            "  Downloading DAWG_Python-0.7.2-py2.py3-none-any.whl.metadata (7.0 kB)\n",
            "Collecting pymorphy2-dicts-ru<3.0,>=2.4 (from pymorphy2->natasha)\n",
            "  Downloading pymorphy2_dicts_ru-2.4.417127.4579844-py2.py3-none-any.whl.metadata (2.1 kB)\n",
            "Collecting docopt>=0.6 (from pymorphy2->natasha)\n",
            "  Downloading docopt-0.6.2.tar.gz (25 kB)\n",
            "  Preparing metadata (setup.py) ... \u001b[?25l\u001b[?25hdone\n",
            "Requirement already satisfied: sortedcontainers<3.0,>=2.0 in /usr/local/lib/python3.11/dist-packages (from intervaltree>=3->ipymarkup>=0.8.0->natasha) (2.4.0)\n",
            "Downloading natasha-1.6.0-py3-none-any.whl (34.4 MB)\n",
            "\u001b[2K   \u001b[90m━━━━━━━━━━━━━━━━━━━━━━━━━━━━━━━━━━━━━━━━\u001b[0m \u001b[32m34.4/34.4 MB\u001b[0m \u001b[31m23.4 MB/s\u001b[0m eta \u001b[36m0:00:00\u001b[0m\n",
            "\u001b[?25hDownloading ipymarkup-0.9.0-py3-none-any.whl (14 kB)\n",
            "Downloading navec-0.10.0-py3-none-any.whl (23 kB)\n",
            "Downloading slovnet-0.6.0-py3-none-any.whl (46 kB)\n",
            "\u001b[2K   \u001b[90m━━━━━━━━━━━━━━━━━━━━━━━━━━━━━━━━━━━━━━━━\u001b[0m \u001b[32m46.7/46.7 kB\u001b[0m \u001b[31m3.5 MB/s\u001b[0m eta \u001b[36m0:00:00\u001b[0m\n",
            "\u001b[?25hDownloading yargy-0.16.0-py3-none-any.whl (33 kB)\n",
            "Downloading pymorphy2-0.9.1-py3-none-any.whl (55 kB)\n",
            "\u001b[2K   \u001b[90m━━━━━━━━━━━━━━━━━━━━━━━━━━━━━━━━━━━━━━━━\u001b[0m \u001b[32m55.5/55.5 kB\u001b[0m \u001b[31m4.1 MB/s\u001b[0m eta \u001b[36m0:00:00\u001b[0m\n",
            "\u001b[?25hDownloading DAWG_Python-0.7.2-py2.py3-none-any.whl (11 kB)\n",
            "Downloading pymorphy2_dicts_ru-2.4.417127.4579844-py2.py3-none-any.whl (8.2 MB)\n",
            "\u001b[2K   \u001b[90m━━━━━━━━━━━━━━━━━━━━━━━━━━━━━━━━━━━━━━━━\u001b[0m \u001b[32m8.2/8.2 MB\u001b[0m \u001b[31m79.5 MB/s\u001b[0m eta \u001b[36m0:00:00\u001b[0m\n",
            "\u001b[?25hBuilding wheels for collected packages: docopt, intervaltree\n",
            "  Building wheel for docopt (setup.py) ... \u001b[?25l\u001b[?25hdone\n",
            "  Created wheel for docopt: filename=docopt-0.6.2-py2.py3-none-any.whl size=13706 sha256=260a4ccc3f9b5bdefcdbb70f9cdf44e3ca1071ddbc9bb4c13f4a2ee8c671dd8a\n",
            "  Stored in directory: /root/.cache/pip/wheels/1a/b0/8c/4b75c4116c31f83c8f9f047231251e13cc74481cca4a78a9ce\n",
            "  Building wheel for intervaltree (setup.py) ... \u001b[?25l\u001b[?25hdone\n",
            "  Created wheel for intervaltree: filename=intervaltree-3.1.0-py2.py3-none-any.whl size=26097 sha256=30527d769fd9d1949ffa3bd89d337522f93f05af58693d04a68df211581a5705\n",
            "  Stored in directory: /root/.cache/pip/wheels/31/d7/d9/eec6891f78cac19a693bd40ecb8365d2f4613318c145ec9816\n",
            "Successfully built docopt intervaltree\n",
            "Installing collected packages: pymorphy2-dicts-ru, docopt, dawg-python, pymorphy2, navec, intervaltree, yargy, slovnet, ipymarkup, natasha\n",
            "Successfully installed dawg-python-0.7.2 docopt-0.6.2 intervaltree-3.1.0 ipymarkup-0.9.0 natasha-1.6.0 navec-0.10.0 pymorphy2-0.9.1 pymorphy2-dicts-ru-2.4.417127.4579844 slovnet-0.6.0 yargy-0.16.0\n"
          ]
        },
        {
          "output_type": "display_data",
          "data": {
            "application/vnd.colab-display-data+json": {
              "pip_warning": {
                "packages": [
                  "dawg_python"
                ]
              },
              "id": "31addca5a37145a6be2ffd9e46cd7351"
            }
          },
          "metadata": {}
        }
      ],
      "source": [
        "!pip install natasha"
      ]
    },
    {
      "cell_type": "markdown",
      "metadata": {
        "id": "jMO3jsqLKSIV"
      },
      "source": [
        "С помощью библиотеки natasaha можно также лемматизировать тексты."
      ]
    },
    {
      "cell_type": "code",
      "execution_count": null,
      "metadata": {
        "id": "vJZgfRnvIS2q"
      },
      "outputs": [],
      "source": [
        "from natasha import Doc, MorphVocab, Segmenter, NewsEmbedding, NewsMorphTagger\n",
        "\n",
        "segmenter = Segmenter()\n",
        "morph_vocab = MorphVocab()\n",
        "emb = NewsEmbedding()\n",
        "morph_tagger = NewsMorphTagger(emb)\n",
        "\n",
        "def natasha_lemmatize(text):\n",
        "  doc = Doc(text)\n",
        "  doc.segment(segmenter)\n",
        "  doc.tag_morph(morph_tagger)\n",
        "  for token in doc.tokens:\n",
        "    token.lemmatize(morph_vocab)\n",
        "  return {_.text: _.lemma for _ in doc.tokens}"
      ]
    },
    {
      "cell_type": "code",
      "execution_count": null,
      "metadata": {
        "colab": {
          "base_uri": "https://localhost:8080/"
        },
        "id": "iBtlnYlFBOKv",
        "outputId": "6772583e-d9aa-4792-ab4d-adeecf1708af"
      },
      "outputs": [
        {
          "output_type": "execute_result",
          "data": {
            "text/plain": [
              "{'Банковская': 'банковский',\n",
              " 'гарантия': 'гарантия',\n",
              " 'подтверждает': 'подтверждать',\n",
              " 'обязательства': 'обязательство',\n",
              " 'банка': 'банк',\n",
              " 'по': 'по',\n",
              " 'погашению': 'погашение',\n",
              " 'долга': 'долг',\n",
              " 'клиента': 'клиент',\n",
              " 'перед': 'перед',\n",
              " 'третьей': 'третий',\n",
              " 'стороной': 'сторона',\n",
              " '.': '.',\n",
              " 'Документ': 'документ',\n",
              " ',': ',',\n",
              " 'сути': 'суть',\n",
              " 'является': 'являться',\n",
              " 'обеспечением': 'обеспечение',\n",
              " 'контракта': 'контракт',\n",
              " 'и': 'и',\n",
              " 'позволяет': 'позволять',\n",
              " 'совершить': 'совершить',\n",
              " 'сделку': 'сделка',\n",
              " 'без': 'без',\n",
              " 'привлечения': 'привлечение',\n",
              " 'оборотных': 'оборотный',\n",
              " 'или': 'или',\n",
              " 'заемных': 'заемный',\n",
              " 'средств': 'средство',\n",
              " 'Предоставление': 'предоставление',\n",
              " 'гарантии': 'гарантия',\n",
              " '—': '—',\n",
              " 'это': 'это',\n",
              " 'платная': 'платный',\n",
              " 'услуга': 'услуга',\n",
              " 'Клиент': 'клиент',\n",
              " 'выплачивает': 'выплачивать',\n",
              " 'банку': 'банк',\n",
              " 'определенную': 'определенный',\n",
              " 'комиссию': 'комиссия'}"
            ]
          },
          "metadata": {},
          "execution_count": 69
        }
      ],
      "source": [
        "text = 'Банковская гарантия подтверждает обязательства банка по погашению долга клиента перед третьей стороной. Документ, по сути, является обеспечением контракта и позволяет совершить сделку без привлечения оборотных или заемных средств. Предоставление гарантии — это платная услуга. Клиент выплачивает банку определенную комиссию.'\n",
        "\n",
        "natasha_lemmatize(text)"
      ]
    },
    {
      "cell_type": "markdown",
      "metadata": {
        "id": "rck5OVqhLVSA"
      },
      "source": [
        "### Снятие омонимии:\n",
        "\n",
        " *Снятие омонимии*. Natasha умеет снимать омонимию по контексту (хотя не всегда преуспевает), pymorphy2 берет на вход одно слово и соответственно вообще не умеет дизамбигуировать по контексту:"
      ]
    },
    {
      "cell_type": "code",
      "execution_count": null,
      "metadata": {
        "id": "kH2GQ4ddLVSB"
      },
      "outputs": [],
      "source": [
        "homonym1 = 'За время обучения я прослушал больше сорока курсов.'\n",
        "homonym2 = 'Сорока своровала блестящее украшение со стола.'"
      ]
    },
    {
      "cell_type": "code",
      "execution_count": null,
      "metadata": {
        "colab": {
          "base_uri": "https://localhost:8080/"
        },
        "id": "t9jezRVlFmDo",
        "outputId": "4bf6cb89-8fe8-457a-c10e-c875dc2e0235"
      },
      "outputs": [
        {
          "output_type": "stream",
          "name": "stdout",
          "text": [
            "{'За': 'за', 'время': 'время', 'обучения': 'обучение', 'я': 'я', 'прослушал': 'прослушать', 'больше': 'большой', 'сорока': 'сорок', 'курсов': 'курс', '.': '.'}\n",
            "{'Сорока': 'сорок', 'своровала': 'своровать', 'блестящее': 'блестящий', 'украшение': 'украшение', 'со': 'с', 'стола': 'стол', '.': '.'}\n"
          ]
        }
      ],
      "source": [
        "print(natasha_lemmatize(homonym1))\n",
        "print(natasha_lemmatize(homonym2))"
      ]
    },
    {
      "cell_type": "code",
      "execution_count": null,
      "metadata": {
        "colab": {
          "base_uri": "https://localhost:8080/"
        },
        "id": "b2GCkBk4A_cO",
        "outputId": "8a4c703c-d14b-4ee3-d028-e44b9db09677"
      },
      "outputs": [
        {
          "output_type": "stream",
          "name": "stdout",
          "text": [
            "['за', 'время', 'обучение', 'я', 'прослушать', 'большой', 'сорок', 'курс']\n",
            "['сорок', 'своровать', 'блестящий', 'украшение', 'с', 'стол']\n"
          ]
        }
      ],
      "source": [
        "print(my_preproc(homonym1))\n",
        "print(my_preproc(homonym2))"
      ]
    },
    {
      "cell_type": "code",
      "execution_count": null,
      "metadata": {
        "id": "A-PFZbMfATCA"
      },
      "outputs": [],
      "source": [
        "homonym1 = 'В этом году лето жаркое.'\n",
        "homonym2 = 'На обед подали жаркое в горшочках.'"
      ]
    },
    {
      "cell_type": "code",
      "execution_count": null,
      "metadata": {
        "colab": {
          "base_uri": "https://localhost:8080/"
        },
        "id": "SXjGBQPoI9gl",
        "outputId": "d8c37d4f-6af2-4ce3-9431-d9cab5225d85"
      },
      "outputs": [
        {
          "output_type": "stream",
          "name": "stdout",
          "text": [
            "{'В': 'в', 'этом': 'этот', 'году': 'год', 'лето': 'лето', 'жаркое': 'жаркий', '.': '.'}\n",
            "{'На': 'на', 'обед': 'обед', 'подали': 'подать', 'жаркое': 'жаркое', 'в': 'в', 'горшочках': 'горшочек', '.': '.'}\n"
          ]
        }
      ],
      "source": [
        "print(natasha_lemmatize(homonym1))\n",
        "print(natasha_lemmatize(homonym2))"
      ]
    },
    {
      "cell_type": "code",
      "execution_count": null,
      "metadata": {
        "colab": {
          "base_uri": "https://localhost:8080/"
        },
        "id": "KKFMc-X6BfQo",
        "outputId": "980eac2c-7ca4-42c1-b8c4-7bdedef805c4"
      },
      "outputs": [
        {
          "output_type": "stream",
          "name": "stdout",
          "text": [
            "['в', 'это', 'год', 'лето', 'жаркое']\n",
            "['на', 'обед', 'подать', 'жаркое', 'в', 'горшочек']\n"
          ]
        }
      ],
      "source": [
        "print(my_preproc(homonym1))\n",
        "print(my_preproc(homonym2))"
      ]
    },
    {
      "cell_type": "markdown",
      "metadata": {
        "id": "mV3fmzp-LVSU"
      },
      "source": [
        "## О важности эксплоративного анализа\n",
        "\n",
        "Но иногда пунктуация бывает и не шумом -- главное отталкиваться от задачи. Что будет если вообще не убирать пунктуацию?"
      ]
    },
    {
      "cell_type": "code",
      "execution_count": null,
      "metadata": {
        "colab": {
          "base_uri": "https://localhost:8080/"
        },
        "id": "qjkMxK9VLVSV",
        "outputId": "a3d290b0-5a94-49e0-a3bd-64bd7ad41d72"
      },
      "outputs": [
        {
          "output_type": "stream",
          "name": "stderr",
          "text": [
            "/usr/local/lib/python3.11/dist-packages/sklearn/feature_extraction/text.py:517: UserWarning: The parameter 'token_pattern' will not be used since 'tokenizer' is not None'\n",
            "  warnings.warn(\n"
          ]
        },
        {
          "output_type": "stream",
          "name": "stdout",
          "text": [
            "              precision    recall  f1-score   support\n",
            "\n",
            "    negative       1.00      1.00      1.00     28205\n",
            "    positive       1.00      1.00      1.00     28504\n",
            "\n",
            "    accuracy                           1.00     56709\n",
            "   macro avg       1.00      1.00      1.00     56709\n",
            "weighted avg       1.00      1.00      1.00     56709\n",
            "\n"
          ]
        }
      ],
      "source": [
        "vec = TfidfVectorizer(ngram_range=(1, 1), tokenizer=word_tokenize)\n",
        "bow = vec.fit_transform(x_train)\n",
        "clf = LogisticRegression(random_state=42)\n",
        "clf.fit(bow, y_train)\n",
        "pred = clf.predict(vec.transform(x_test))\n",
        "print(classification_report(pred, y_test))"
      ]
    },
    {
      "cell_type": "markdown",
      "metadata": {
        "id": "w2fRbUAvLVSX"
      },
      "source": [
        "Шок! Стоило оставить пунктуацию -- и все метрики равны 1. Как это получилось? Среди неё были очень значимые токены (как вы думаете, какие?). Найдите фичи с самыми большими коэффициэнтами:"
      ]
    },
    {
      "cell_type": "code",
      "execution_count": null,
      "metadata": {
        "colab": {
          "base_uri": "https://localhost:8080/"
        },
        "id": "b_JRuyuRLVSY",
        "outputId": "d1295513-6f25-4216-f345-90637783ab82"
      },
      "outputs": [
        {
          "output_type": "execute_result",
          "data": {
            "text/plain": [
              "array([[')', 'd', 'dd', '^_^', '*', '-d', 'ddd', ':', 'dddd', 'ddddd',\n",
              "        'люблю', 'ахах', 'ахахах', 'спасибо', 'мы', 'ахаха', 'х',\n",
              "        'приятно', 'okirilyuk', 'dtoropova']], dtype=object)"
            ]
          },
          "metadata": {},
          "execution_count": 77
        }
      ],
      "source": [
        "sorted_weights = clf.coef_.argsort()\n",
        "sorted_weights = np.flip(sorted_weights)\n",
        "\n",
        "vec.get_feature_names_out()[sorted_weights[:, 0:20]]"
      ]
    },
    {
      "cell_type": "markdown",
      "metadata": {
        "id": "8vtAyItvLVSb"
      },
      "source": [
        "Посмотрим, как один из супер-значительных токенов справится с классификацией безо всякого машинного обучения:"
      ]
    },
    {
      "cell_type": "code",
      "execution_count": null,
      "metadata": {
        "colab": {
          "base_uri": "https://localhost:8080/"
        },
        "id": "uqH07o-7LVSc",
        "outputId": "89719a46-193f-4a58-d3da-db50bc98747f"
      },
      "outputs": [
        {
          "output_type": "stream",
          "name": "stdout",
          "text": [
            "              precision    recall  f1-score   support\n",
            "\n",
            "    negative       1.00      0.86      0.92     33099\n",
            "    positive       0.83      1.00      0.91     23610\n",
            "\n",
            "    accuracy                           0.92     56709\n",
            "   macro avg       0.92      0.93      0.91     56709\n",
            "weighted avg       0.93      0.92      0.92     56709\n",
            "\n"
          ]
        }
      ],
      "source": [
        "cool_token = ')'\n",
        "pred = ['positive' if cool_token in tweet else 'negative' for tweet in x_test]\n",
        "print(classification_report(pred, y_test))"
      ]
    },
    {
      "cell_type": "markdown",
      "metadata": {
        "id": "H5THCOjMLVSg"
      },
      "source": [
        "## Символьные n-граммы\n",
        "\n",
        "Теперь в качестве фичей используем, например, униграммы символов:"
      ]
    },
    {
      "cell_type": "code",
      "execution_count": null,
      "metadata": {
        "colab": {
          "base_uri": "https://localhost:8080/"
        },
        "id": "AIUwDOabLVSh",
        "outputId": "9dfafb24-7fad-477a-dac5-0d11f57bd134"
      },
      "outputs": [
        {
          "output_type": "stream",
          "name": "stdout",
          "text": [
            "              precision    recall  f1-score   support\n",
            "\n",
            "    negative       0.99      1.00      1.00     28216\n",
            "    positive       1.00      0.99      1.00     28493\n",
            "\n",
            "    accuracy                           1.00     56709\n",
            "   macro avg       1.00      1.00      1.00     56709\n",
            "weighted avg       1.00      1.00      1.00     56709\n",
            "\n"
          ]
        }
      ],
      "source": [
        "vec = CountVectorizer(analyzer='char', ngram_range=(1, 1))\n",
        "bow = vec.fit_transform(x_train)\n",
        "clf = LogisticRegression(random_state=42, max_iter=1000)\n",
        "clf.fit(bow, y_train)\n",
        "pred = clf.predict(vec.transform(x_test))\n",
        "print(classification_report(pred, y_test))"
      ]
    },
    {
      "cell_type": "markdown",
      "metadata": {
        "id": "Z_E0uPpgLVSj"
      },
      "source": [
        "В общем-то, теперь уже понятно, почему на этих данных здесь 1. Так или инчае, на символах классифицировать тоже можно: для некторых задач (например, для определения языка) фичи-символьные n-граммы решительно рулят.\n",
        "\n",
        "Ещё одна замечательная особенность фичей-символов: токенизация и лемматизация не нужна, можно использовать такой подход для языков, у которых нет готвых анализаторов."
      ]
    }
  ],
  "metadata": {
    "colab": {
      "provenance": []
    },
    "kernelspec": {
      "display_name": "Python 3",
      "language": "python",
      "name": "python3"
    },
    "language_info": {
      "codemirror_mode": {
        "name": "ipython",
        "version": 3
      },
      "file_extension": ".py",
      "mimetype": "text/x-python",
      "name": "python",
      "nbconvert_exporter": "python",
      "pygments_lexer": "ipython3",
      "version": "3.5.2"
    }
  },
  "nbformat": 4,
  "nbformat_minor": 0
}